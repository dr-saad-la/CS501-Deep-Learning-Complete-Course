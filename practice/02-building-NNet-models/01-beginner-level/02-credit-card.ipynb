{
 "cells": [
  {
   "cell_type": "code",
   "execution_count": 329,
   "id": "f25c724c-e3e7-494a-9358-6fb8a745e952",
   "metadata": {},
   "outputs": [
    {
     "name": "stdout",
     "output_type": "stream",
     "text": [
      "========================================================================\n",
      "Author: Nabil\n",
      "\n",
      "Last updated: 2024-12-16\n",
      "\n",
      "Compiler    : MSC v.1929 64 bit (AMD64)\n",
      "OS          : Windows\n",
      "Release     : 10\n",
      "Machine     : AMD64\n",
      "Processor   : Intel64 Family 6 Model 142 Stepping 12, GenuineIntel\n",
      "CPU cores   : 8\n",
      "Architecture: 64bit\n",
      "\n",
      "========================================================================\n",
      "Imported Packages and Their Versions:\n",
      "========================================================================\n",
      "pandas    : 2.2.3\n",
      "sys       : 3.12.7 | packaged by Anaconda, Inc. | (main, Oct  4 2024, 13:17:27) [MSC v.1929 64 bit (AMD64)]\n",
      "sklearn   : 1.5.2\n",
      "keras     : 3.6.0\n",
      "matplotlib: 3.9.2\n",
      "seaborn   : 0.13.2\n",
      "numpy     : 2.0.2\n",
      "tensorflow: 2.18.0\n",
      "\n",
      "========================================================================\n"
     ]
    }
   ],
   "source": [
    "# Environment Setup\n",
    "import os\n",
    "import sys\n",
    "import pandas as pd\n",
    "import numpy as np\n",
    "import sklearn\n",
    "from sklearn.model_selection import train_test_split\n",
    "import tensorflow as tf\n",
    "from tensorflow.keras.layers import Input, Dense\n",
    "from tensorflow.keras.models import Sequential\n",
    "from tensorflow.keras.optimizers import Adam, SGD\n",
    "from tensorflow.keras.utils import to_categorical\n",
    "import matplotlib.pyplot as plt\n",
    "import seaborn as sns\n",
    "print(\"=\"*72)\n",
    "\n",
    "%reload_ext watermark\n",
    "%watermark -a \"Nabil\" -u -d -m\n",
    "\n",
    "print(\"=\"*72)\n",
    "print(\"Imported Packages and Their Versions:\")\n",
    "print(\"=\"*72)\n",
    "\n",
    "%watermark -iv\n",
    "print(\"=\"*72)"
   ]
  },
  {
   "cell_type": "code",
   "execution_count": 330,
   "id": "d722466d-0677-4a7e-87f8-e1c3f22aab4c",
   "metadata": {},
   "outputs": [],
   "source": [
    "# load the data\n",
    "data=pd.read_csv(\"https://raw.githubusercontent.com/DrSaadLa/PythonTuts/refs/heads/main/Data/credit.csv\")"
   ]
  },
  {
   "cell_type": "code",
   "execution_count": 331,
   "id": "6a56e88f-eefc-4543-91e3-0aa7d76ae7b6",
   "metadata": {},
   "outputs": [
    {
     "name": "stdout",
     "output_type": "stream",
     "text": [
      "<class 'pandas.core.frame.DataFrame'>\n",
      "RangeIndex: 1319 entries, 0 to 1318\n",
      "Data columns (total 12 columns):\n",
      " #   Column       Non-Null Count  Dtype  \n",
      "---  ------       --------------  -----  \n",
      " 0   card         1319 non-null   object \n",
      " 1   reports      1319 non-null   int64  \n",
      " 2   age          1319 non-null   float64\n",
      " 3   income       1319 non-null   float64\n",
      " 4   share        1319 non-null   float64\n",
      " 5   expenditure  1319 non-null   float64\n",
      " 6   owner        1319 non-null   object \n",
      " 7   selfemp      1319 non-null   object \n",
      " 8   dependents   1319 non-null   int64  \n",
      " 9   months       1319 non-null   int64  \n",
      " 10  majorcards   1319 non-null   int64  \n",
      " 11  active       1319 non-null   int64  \n",
      "dtypes: float64(4), int64(5), object(3)\n",
      "memory usage: 123.8+ KB\n"
     ]
    }
   ],
   "source": [
    "# Check the data info\n",
    "data.info()"
   ]
  },
  {
   "cell_type": "code",
   "execution_count": 332,
   "id": "71c68929-6bf6-425f-bb57-5436b3866c49",
   "metadata": {},
   "outputs": [
    {
     "data": {
      "text/html": [
       "<div>\n",
       "<style scoped>\n",
       "    .dataframe tbody tr th:only-of-type {\n",
       "        vertical-align: middle;\n",
       "    }\n",
       "\n",
       "    .dataframe tbody tr th {\n",
       "        vertical-align: top;\n",
       "    }\n",
       "\n",
       "    .dataframe thead th {\n",
       "        text-align: right;\n",
       "    }\n",
       "</style>\n",
       "<table border=\"1\" class=\"dataframe\">\n",
       "  <thead>\n",
       "    <tr style=\"text-align: right;\">\n",
       "      <th></th>\n",
       "      <th>count</th>\n",
       "      <th>unique</th>\n",
       "      <th>top</th>\n",
       "      <th>freq</th>\n",
       "      <th>mean</th>\n",
       "      <th>std</th>\n",
       "      <th>min</th>\n",
       "      <th>25%</th>\n",
       "      <th>50%</th>\n",
       "      <th>75%</th>\n",
       "      <th>max</th>\n",
       "    </tr>\n",
       "  </thead>\n",
       "  <tbody>\n",
       "    <tr>\n",
       "      <th>card</th>\n",
       "      <td>1319</td>\n",
       "      <td>2</td>\n",
       "      <td>yes</td>\n",
       "      <td>1023</td>\n",
       "      <td>NaN</td>\n",
       "      <td>NaN</td>\n",
       "      <td>NaN</td>\n",
       "      <td>NaN</td>\n",
       "      <td>NaN</td>\n",
       "      <td>NaN</td>\n",
       "      <td>NaN</td>\n",
       "    </tr>\n",
       "    <tr>\n",
       "      <th>reports</th>\n",
       "      <td>1319.0</td>\n",
       "      <td>NaN</td>\n",
       "      <td>NaN</td>\n",
       "      <td>NaN</td>\n",
       "      <td>0.456406</td>\n",
       "      <td>1.345267</td>\n",
       "      <td>0.0</td>\n",
       "      <td>0.0</td>\n",
       "      <td>0.0</td>\n",
       "      <td>0.0</td>\n",
       "      <td>14.0</td>\n",
       "    </tr>\n",
       "    <tr>\n",
       "      <th>age</th>\n",
       "      <td>1319.0</td>\n",
       "      <td>NaN</td>\n",
       "      <td>NaN</td>\n",
       "      <td>NaN</td>\n",
       "      <td>33.213103</td>\n",
       "      <td>10.142783</td>\n",
       "      <td>0.166667</td>\n",
       "      <td>25.41667</td>\n",
       "      <td>31.25</td>\n",
       "      <td>39.41667</td>\n",
       "      <td>83.5</td>\n",
       "    </tr>\n",
       "    <tr>\n",
       "      <th>income</th>\n",
       "      <td>1319.0</td>\n",
       "      <td>NaN</td>\n",
       "      <td>NaN</td>\n",
       "      <td>NaN</td>\n",
       "      <td>3.365376</td>\n",
       "      <td>1.693902</td>\n",
       "      <td>0.21</td>\n",
       "      <td>2.24375</td>\n",
       "      <td>2.9</td>\n",
       "      <td>4.0</td>\n",
       "      <td>13.5</td>\n",
       "    </tr>\n",
       "    <tr>\n",
       "      <th>share</th>\n",
       "      <td>1319.0</td>\n",
       "      <td>NaN</td>\n",
       "      <td>NaN</td>\n",
       "      <td>NaN</td>\n",
       "      <td>0.068732</td>\n",
       "      <td>0.094656</td>\n",
       "      <td>0.000109</td>\n",
       "      <td>0.002316</td>\n",
       "      <td>0.038827</td>\n",
       "      <td>0.093617</td>\n",
       "      <td>0.90632</td>\n",
       "    </tr>\n",
       "    <tr>\n",
       "      <th>expenditure</th>\n",
       "      <td>1319.0</td>\n",
       "      <td>NaN</td>\n",
       "      <td>NaN</td>\n",
       "      <td>NaN</td>\n",
       "      <td>185.057071</td>\n",
       "      <td>272.218917</td>\n",
       "      <td>0.0</td>\n",
       "      <td>4.583333</td>\n",
       "      <td>101.2983</td>\n",
       "      <td>249.0358</td>\n",
       "      <td>3099.505</td>\n",
       "    </tr>\n",
       "    <tr>\n",
       "      <th>owner</th>\n",
       "      <td>1319</td>\n",
       "      <td>2</td>\n",
       "      <td>no</td>\n",
       "      <td>738</td>\n",
       "      <td>NaN</td>\n",
       "      <td>NaN</td>\n",
       "      <td>NaN</td>\n",
       "      <td>NaN</td>\n",
       "      <td>NaN</td>\n",
       "      <td>NaN</td>\n",
       "      <td>NaN</td>\n",
       "    </tr>\n",
       "    <tr>\n",
       "      <th>selfemp</th>\n",
       "      <td>1319</td>\n",
       "      <td>2</td>\n",
       "      <td>no</td>\n",
       "      <td>1228</td>\n",
       "      <td>NaN</td>\n",
       "      <td>NaN</td>\n",
       "      <td>NaN</td>\n",
       "      <td>NaN</td>\n",
       "      <td>NaN</td>\n",
       "      <td>NaN</td>\n",
       "      <td>NaN</td>\n",
       "    </tr>\n",
       "    <tr>\n",
       "      <th>dependents</th>\n",
       "      <td>1319.0</td>\n",
       "      <td>NaN</td>\n",
       "      <td>NaN</td>\n",
       "      <td>NaN</td>\n",
       "      <td>0.993935</td>\n",
       "      <td>1.247745</td>\n",
       "      <td>0.0</td>\n",
       "      <td>0.0</td>\n",
       "      <td>1.0</td>\n",
       "      <td>2.0</td>\n",
       "      <td>6.0</td>\n",
       "    </tr>\n",
       "    <tr>\n",
       "      <th>months</th>\n",
       "      <td>1319.0</td>\n",
       "      <td>NaN</td>\n",
       "      <td>NaN</td>\n",
       "      <td>NaN</td>\n",
       "      <td>55.267627</td>\n",
       "      <td>66.271746</td>\n",
       "      <td>0.0</td>\n",
       "      <td>12.0</td>\n",
       "      <td>30.0</td>\n",
       "      <td>72.0</td>\n",
       "      <td>540.0</td>\n",
       "    </tr>\n",
       "    <tr>\n",
       "      <th>majorcards</th>\n",
       "      <td>1319.0</td>\n",
       "      <td>NaN</td>\n",
       "      <td>NaN</td>\n",
       "      <td>NaN</td>\n",
       "      <td>0.817286</td>\n",
       "      <td>0.386579</td>\n",
       "      <td>0.0</td>\n",
       "      <td>1.0</td>\n",
       "      <td>1.0</td>\n",
       "      <td>1.0</td>\n",
       "      <td>1.0</td>\n",
       "    </tr>\n",
       "    <tr>\n",
       "      <th>active</th>\n",
       "      <td>1319.0</td>\n",
       "      <td>NaN</td>\n",
       "      <td>NaN</td>\n",
       "      <td>NaN</td>\n",
       "      <td>6.996967</td>\n",
       "      <td>6.305812</td>\n",
       "      <td>0.0</td>\n",
       "      <td>2.0</td>\n",
       "      <td>6.0</td>\n",
       "      <td>11.0</td>\n",
       "      <td>46.0</td>\n",
       "    </tr>\n",
       "  </tbody>\n",
       "</table>\n",
       "</div>"
      ],
      "text/plain": [
       "              count unique  top  freq        mean         std       min  \\\n",
       "card           1319      2  yes  1023         NaN         NaN       NaN   \n",
       "reports      1319.0    NaN  NaN   NaN    0.456406    1.345267       0.0   \n",
       "age          1319.0    NaN  NaN   NaN   33.213103   10.142783  0.166667   \n",
       "income       1319.0    NaN  NaN   NaN    3.365376    1.693902      0.21   \n",
       "share        1319.0    NaN  NaN   NaN    0.068732    0.094656  0.000109   \n",
       "expenditure  1319.0    NaN  NaN   NaN  185.057071  272.218917       0.0   \n",
       "owner          1319      2   no   738         NaN         NaN       NaN   \n",
       "selfemp        1319      2   no  1228         NaN         NaN       NaN   \n",
       "dependents   1319.0    NaN  NaN   NaN    0.993935    1.247745       0.0   \n",
       "months       1319.0    NaN  NaN   NaN   55.267627   66.271746       0.0   \n",
       "majorcards   1319.0    NaN  NaN   NaN    0.817286    0.386579       0.0   \n",
       "active       1319.0    NaN  NaN   NaN    6.996967    6.305812       0.0   \n",
       "\n",
       "                  25%       50%       75%       max  \n",
       "card              NaN       NaN       NaN       NaN  \n",
       "reports           0.0       0.0       0.0      14.0  \n",
       "age          25.41667     31.25  39.41667      83.5  \n",
       "income        2.24375       2.9       4.0      13.5  \n",
       "share        0.002316  0.038827  0.093617   0.90632  \n",
       "expenditure  4.583333  101.2983  249.0358  3099.505  \n",
       "owner             NaN       NaN       NaN       NaN  \n",
       "selfemp           NaN       NaN       NaN       NaN  \n",
       "dependents        0.0       1.0       2.0       6.0  \n",
       "months           12.0      30.0      72.0     540.0  \n",
       "majorcards        1.0       1.0       1.0       1.0  \n",
       "active            2.0       6.0      11.0      46.0  "
      ]
     },
     "execution_count": 332,
     "metadata": {},
     "output_type": "execute_result"
    }
   ],
   "source": [
    "# Check the data description\n",
    "data.describe(include='all').T"
   ]
  },
  {
   "cell_type": "code",
   "execution_count": 333,
   "id": "3443b8db-9b5d-46de-bcb6-df9881693727",
   "metadata": {},
   "outputs": [
    {
     "name": "stdout",
     "output_type": "stream",
     "text": [
      "Index(['card', 'reports', 'age', 'income', 'share', 'expenditure', 'owner',\n",
      "       'selfemp', 'dependents', 'months', 'majorcards', 'active'],\n",
      "      dtype='object')\n"
     ]
    }
   ],
   "source": [
    "print(data.columns)"
   ]
  },
  {
   "cell_type": "code",
   "execution_count": 334,
   "id": "87019999-7037-4afa-87a3-841c18fc8281",
   "metadata": {},
   "outputs": [
    {
     "name": "stdout",
     "output_type": "stream",
     "text": [
      "card           0\n",
      "reports        0\n",
      "age            0\n",
      "income         0\n",
      "share          0\n",
      "expenditure    0\n",
      "owner          0\n",
      "selfemp        0\n",
      "dependents     0\n",
      "months         0\n",
      "majorcards     0\n",
      "active         0\n",
      "dtype: int64\n"
     ]
    }
   ],
   "source": [
    "# Checking the missing data\n",
    "num_miss_vals = data.isnull().sum()\n",
    "print(num_miss_vals)"
   ]
  },
  {
   "cell_type": "code",
   "execution_count": null,
   "id": "0cedf77b-73d8-4635-b84b-0b1a5ac8a4d6",
   "metadata": {},
   "outputs": [],
   "source": []
  },
  {
   "cell_type": "code",
   "execution_count": 335,
   "id": "59e43f67-fcd8-44f1-a17b-c76f4d3ce4cc",
   "metadata": {},
   "outputs": [
    {
     "name": "stdout",
     "output_type": "stream",
     "text": [
      "reports        1060\n",
      "age               0\n",
      "income            0\n",
      "share             0\n",
      "expenditure     317\n",
      "dependents      659\n",
      "months            3\n",
      "majorcards      241\n",
      "active          219\n",
      "dtype: int64\n"
     ]
    }
   ],
   "source": [
    "vars=['reports', 'age', 'income', 'share', 'expenditure', 'dependents', 'months', 'majorcards', 'active']\n",
    "data_1=data[vars].replace(0,np.nan)\n",
    "print(data_1.isnull().sum())"
   ]
  },
  {
   "cell_type": "code",
   "execution_count": 336,
   "id": "fc73f241-3207-4a59-b12e-e570dedf9c27",
   "metadata": {},
   "outputs": [
    {
     "data": {
      "text/plain": [
       "Index(['card', 'reports', 'age', 'income', 'share', 'expenditure', 'owner',\n",
       "       'selfemp', 'dependents', 'months', 'majorcards', 'active'],\n",
       "      dtype='object')"
      ]
     },
     "execution_count": 336,
     "metadata": {},
     "output_type": "execute_result"
    }
   ],
   "source": [
    "data.columns"
   ]
  },
  {
   "cell_type": "code",
   "execution_count": 337,
   "id": "0f13d2ea-0a6e-49a1-adf9-fd578eab8c3a",
   "metadata": {},
   "outputs": [
    {
     "data": {
      "text/plain": [
       "<Axes: >"
      ]
     },
     "execution_count": 337,
     "metadata": {},
     "output_type": "execute_result"
    },
    {
     "data": {
      "image/png": "[encoded data removed]",
      "text/plain": [
       "<Figure size 640x480 with 1 Axes>"
      ]
     },
     "metadata": {},
     "output_type": "display_data"
    }
   ],
   "source": [
    "sns.heatmap(data_1.isnull(), cbar = False)"
   ]
  },
  {
   "cell_type": "code",
   "execution_count": 338,
   "id": "2713cdae-f98c-4edc-8092-ecbd65d0ee50",
   "metadata": {},
   "outputs": [],
   "source": [
    "# Missing Data Imputation\n",
    "data_1=data[vars].replace({'no': 0, 'yes': 1})\n",
    "data_1=data[vars].fillna(data[vars].mean())"
   ]
  },
  {
   "cell_type": "code",
   "execution_count": 339,
   "id": "1a508cf1-537c-46c6-84dd-c7e6b2087b4c",
   "metadata": {},
   "outputs": [
    {
     "data": {
      "text/plain": [
       "<Axes: >"
      ]
     },
     "execution_count": 339,
     "metadata": {},
     "output_type": "execute_result"
    },
    {
     "data": {
      "image/png": "[encoded data removed]",
      "text/plain": [
       "<Figure size 640x480 with 1 Axes>"
      ]
     },
     "metadata": {},
     "output_type": "display_data"
    }
   ],
   "source": [
    "sns.heatmap(data_1.isnull(), cbar = False)"
   ]
  },
  {
   "cell_type": "code",
   "execution_count": 340,
   "id": "c462e201-1f2b-4529-b279-7a358e3ddfdd",
   "metadata": {},
   "outputs": [
    {
     "name": "stdout",
     "output_type": "stream",
     "text": [
      "(1319, 12)\n"
     ]
    }
   ],
   "source": [
    "# Check the data shape\n",
    "print(data.shape)"
   ]
  },
  {
   "cell_type": "code",
   "execution_count": 341,
   "id": "591483bf-ccc7-443b-8836-6a872f21763f",
   "metadata": {},
   "outputs": [
    {
     "data": {
      "text/plain": [
       "Index(['card', 'reports', 'age', 'income', 'share', 'expenditure', 'owner',\n",
       "       'selfemp', 'dependents', 'months', 'majorcards', 'active'],\n",
       "      dtype='object')"
      ]
     },
     "execution_count": 341,
     "metadata": {},
     "output_type": "execute_result"
    }
   ],
   "source": [
    "data.columns"
   ]
  },
  {
   "cell_type": "code",
   "execution_count": 342,
   "id": "9f97b680-16f0-4975-8a24-30fb069836ca",
   "metadata": {},
   "outputs": [
    {
     "data": {
      "text/plain": [
       "count     1319\n",
       "unique       2\n",
       "top        yes\n",
       "freq      1023\n",
       "Name: card, dtype: object"
      ]
     },
     "execution_count": 342,
     "metadata": {},
     "output_type": "execute_result"
    }
   ],
   "source": [
    "data[\"card\"].describe()"
   ]
  },
  {
   "cell_type": "code",
   "execution_count": 343,
   "id": "7ed31099-69f2-415d-a209-b0a739355960",
   "metadata": {},
   "outputs": [
    {
     "data": {
      "text/plain": [
       "array(['yes', 'no'], dtype=object)"
      ]
     },
     "execution_count": 343,
     "metadata": {},
     "output_type": "execute_result"
    }
   ],
   "source": [
    "data[\"card\"].unique()"
   ]
  },
  {
   "cell_type": "code",
   "execution_count": 344,
   "id": "9ca43c90-7df1-492b-9c04-cb11b8b14f63",
   "metadata": {},
   "outputs": [],
   "source": [
    "# Separate features (predictors) from the target variable\n",
    "predictors = data_1.values\n",
    "predictors = predictors.astype('int64')         # Convert to float64 for numerical stability\n",
    "\n",
    "# Prepare the target variable\n",
    "target = data['card'].values\n",
    "# target=pd.Categorical(target)\n",
    "\n",
    "# Reshape the target to be 2d array\n",
    "# target = target.reshape(-1, 1)\n",
    "\n",
    "# Convert categorical data into int Numerical vlue\n",
    "from sklearn.preprocessing import LabelEncoder\n",
    "lb=LabelEncoder()\n",
    "target=lb.fit_transform(target)\n",
    "X=predictors\n",
    "y=target\n",
    "# Split the data into train-test set\n",
    "# ----------------------------------\n",
    "X_train, X_test, y_train, y_test = train_test_split(X, y,\n",
    "                                                    train_size = 0.75,\n",
    "                                                    test_size = 0.25, \n",
    "                                                    random_state = 10123)\n",
    "# Importing StandardScaler\n",
    "from sklearn.preprocessing import StandardScaler\n",
    "ss=StandardScaler()\n",
    "X_train=ss.fit_transform(X_train)\n",
    "X_test=ss.transform(X_test)\n"
   ]
  },
  {
   "cell_type": "code",
   "execution_count": 345,
   "id": "911b8c9d-c909-4aa3-bf6c-64b74f657452",
   "metadata": {},
   "outputs": [
    {
     "name": "stdout",
     "output_type": "stream",
     "text": [
      "Features shape: (1319, 9)\n",
      "Target shape: (1319,)\n",
      "Sample of target data:\n",
      "[array([1, 1, 1, 1, 1, 1, 0, 0, 1, 1])]\n",
      "Number of input features: 9\n"
     ]
    }
   ],
   "source": [
    "# Print shapes to verify the data structure\n",
    "print(f\"Features shape: {predictors.shape}\")\n",
    "print(f\"Target shape: {target.shape}\")\n",
    "print(f\"Sample of target data:\\n{[target[5:15]]}\")\n",
    "\n",
    "# Get the number of input features\n",
    "n_cols = predictors.shape[1]\n",
    "print(f\"Number of input features: {n_cols}\")"
   ]
  },
  {
   "cell_type": "markdown",
   "id": "d1f95103-762b-40ce-a098-b95d89349fc7",
   "metadata": {},
   "source": [
    "## Build the Model"
   ]
  },
  {
   "cell_type": "code",
   "execution_count": 346,
   "id": "547c563f-fce1-4083-8ea9-ac230f126be8",
   "metadata": {},
   "outputs": [
    {
     "data": {
      "text/html": [
       "<pre style=\"white-space:pre;overflow-x:auto;line-height:normal;font-family:Menlo,'DejaVu Sans Mono',consolas,'Courier New',monospace\"><span style=\"font-weight: bold\">Model: \"sequential_15\"</span>\n",
       "</pre>\n"
      ],
      "text/plain": [
       "\u001b[1mModel: \"sequential_15\"\u001b[0m\n"
      ]
     },
     "metadata": {},
     "output_type": "display_data"
    },
    {
     "data": {
      "text/html": [
       "<pre style=\"white-space:pre;overflow-x:auto;line-height:normal;font-family:Menlo,'DejaVu Sans Mono',consolas,'Courier New',monospace\">┏━━━━━━━━━━━━━━━━━━━━━━━━━━━━━━━━━━━━━━┳━━━━━━━━━━━━━━━━━━━━━━━━━━━━━┳━━━━━━━━━━━━━━━━━┓\n",
       "┃<span style=\"font-weight: bold\"> Layer (type)                         </span>┃<span style=\"font-weight: bold\"> Output Shape                </span>┃<span style=\"font-weight: bold\">         Param # </span>┃\n",
       "┡━━━━━━━━━━━━━━━━━━━━━━━━━━━━━━━━━━━━━━╇━━━━━━━━━━━━━━━━━━━━━━━━━━━━━╇━━━━━━━━━━━━━━━━━┩\n",
       "│ dense_34 (<span style=\"color: #0087ff; text-decoration-color: #0087ff\">Dense</span>)                     │ (<span style=\"color: #00d7ff; text-decoration-color: #00d7ff\">None</span>, <span style=\"color: #00af00; text-decoration-color: #00af00\">64</span>)                  │             <span style=\"color: #00af00; text-decoration-color: #00af00\">640</span> │\n",
       "├──────────────────────────────────────┼─────────────────────────────┼─────────────────┤\n",
       "│ dense_35 (<span style=\"color: #0087ff; text-decoration-color: #0087ff\">Dense</span>)                     │ (<span style=\"color: #00d7ff; text-decoration-color: #00d7ff\">None</span>, <span style=\"color: #00af00; text-decoration-color: #00af00\">32</span>)                  │           <span style=\"color: #00af00; text-decoration-color: #00af00\">2,080</span> │\n",
       "├──────────────────────────────────────┼─────────────────────────────┼─────────────────┤\n",
       "│ dense_36 (<span style=\"color: #0087ff; text-decoration-color: #0087ff\">Dense</span>)                     │ (<span style=\"color: #00d7ff; text-decoration-color: #00d7ff\">None</span>, <span style=\"color: #00af00; text-decoration-color: #00af00\">1</span>)                   │              <span style=\"color: #00af00; text-decoration-color: #00af00\">33</span> │\n",
       "└──────────────────────────────────────┴─────────────────────────────┴─────────────────┘\n",
       "</pre>\n"
      ],
      "text/plain": [
       "┏━━━━━━━━━━━━━━━━━━━━━━━━━━━━━━━━━━━━━━┳━━━━━━━━━━━━━━━━━━━━━━━━━━━━━┳━━━━━━━━━━━━━━━━━┓\n",
       "┃\u001b[1m \u001b[0m\u001b[1mLayer (type)                        \u001b[0m\u001b[1m \u001b[0m┃\u001b[1m \u001b[0m\u001b[1mOutput Shape               \u001b[0m\u001b[1m \u001b[0m┃\u001b[1m \u001b[0m\u001b[1m        Param #\u001b[0m\u001b[1m \u001b[0m┃\n",
       "┡━━━━━━━━━━━━━━━━━━━━━━━━━━━━━━━━━━━━━━╇━━━━━━━━━━━━━━━━━━━━━━━━━━━━━╇━━━━━━━━━━━━━━━━━┩\n",
       "│ dense_34 (\u001b[38;5;33mDense\u001b[0m)                     │ (\u001b[38;5;45mNone\u001b[0m, \u001b[38;5;34m64\u001b[0m)                  │             \u001b[38;5;34m640\u001b[0m │\n",
       "├──────────────────────────────────────┼─────────────────────────────┼─────────────────┤\n",
       "│ dense_35 (\u001b[38;5;33mDense\u001b[0m)                     │ (\u001b[38;5;45mNone\u001b[0m, \u001b[38;5;34m32\u001b[0m)                  │           \u001b[38;5;34m2,080\u001b[0m │\n",
       "├──────────────────────────────────────┼─────────────────────────────┼─────────────────┤\n",
       "│ dense_36 (\u001b[38;5;33mDense\u001b[0m)                     │ (\u001b[38;5;45mNone\u001b[0m, \u001b[38;5;34m1\u001b[0m)                   │              \u001b[38;5;34m33\u001b[0m │\n",
       "└──────────────────────────────────────┴─────────────────────────────┴─────────────────┘\n"
      ]
     },
     "metadata": {},
     "output_type": "display_data"
    },
    {
     "data": {
      "text/html": [
       "<pre style=\"white-space:pre;overflow-x:auto;line-height:normal;font-family:Menlo,'DejaVu Sans Mono',consolas,'Courier New',monospace\"><span style=\"font-weight: bold\"> Total params: </span><span style=\"color: #00af00; text-decoration-color: #00af00\">2,753</span> (10.75 KB)\n",
       "</pre>\n"
      ],
      "text/plain": [
       "\u001b[1m Total params: \u001b[0m\u001b[38;5;34m2,753\u001b[0m (10.75 KB)\n"
      ]
     },
     "metadata": {},
     "output_type": "display_data"
    },
    {
     "data": {
      "text/html": [
       "<pre style=\"white-space:pre;overflow-x:auto;line-height:normal;font-family:Menlo,'DejaVu Sans Mono',consolas,'Courier New',monospace\"><span style=\"font-weight: bold\"> Trainable params: </span><span style=\"color: #00af00; text-decoration-color: #00af00\">2,753</span> (10.75 KB)\n",
       "</pre>\n"
      ],
      "text/plain": [
       "\u001b[1m Trainable params: \u001b[0m\u001b[38;5;34m2,753\u001b[0m (10.75 KB)\n"
      ]
     },
     "metadata": {},
     "output_type": "display_data"
    },
    {
     "data": {
      "text/html": [
       "<pre style=\"white-space:pre;overflow-x:auto;line-height:normal;font-family:Menlo,'DejaVu Sans Mono',consolas,'Courier New',monospace\"><span style=\"font-weight: bold\"> Non-trainable params: </span><span style=\"color: #00af00; text-decoration-color: #00af00\">0</span> (0.00 B)\n",
       "</pre>\n"
      ],
      "text/plain": [
       "\u001b[1m Non-trainable params: \u001b[0m\u001b[38;5;34m0\u001b[0m (0.00 B)\n"
      ]
     },
     "metadata": {},
     "output_type": "display_data"
    }
   ],
   "source": [
    "# Initialize the sequential model\n",
    "model = Sequential()\n",
    "\n",
    "# Add the input layer with shape matching our features\n",
    "model.add(Input(shape=(n_cols,)))\n",
    "\n",
    "# Add hidden layer with 64 neurons and ReLU activation\n",
    "model.add(Dense(64, activation='relu'))\n",
    "\n",
    "# Add hidden layer with 32 neurons and ReLU activation\n",
    "model.add(Dense(32, activation='tanh'))\n",
    "\n",
    "# Add output layer with 2 neurons (binary classification) \n",
    "model.add(Dense(1, activation='sigmoid'))\n",
    "\n",
    "# Display model architecture\n",
    "model.summary()"
   ]
  },
  {
   "cell_type": "markdown",
   "id": "12af704d-1ecb-4a53-b601-9f9de45cbbe8",
   "metadata": {},
   "source": [
    "## Train the model"
   ]
  },
  {
   "cell_type": "code",
   "execution_count": 347,
   "id": "0e773121-8897-4232-a9d9-ca18e36127ab",
   "metadata": {},
   "outputs": [],
   "source": [
    "# Configure the model with optimizer, loss function, and metrics\n",
    "model.compile(\n",
    "    optimizer=SGD(learning_rate=0.02),                       # Stochastic Gradient Descent optimizer\n",
    "    loss='binary_crossentropy',            \n",
    "    metrics=['Accuracy', 'Precision', 'Recall']                   # Track both accuracy,Precision, and Recall during training\n",
    ")\n",
    "\n",
    "# Train the model\n"
   ]
  },
  {
   "cell_type": "code",
   "execution_count": 351,
   "id": "86abcf8e-d024-4cb7-b6ab-b9792520135b",
   "metadata": {},
   "outputs": [
    {
     "name": "stdout",
     "output_type": "stream",
     "text": [
      "Epoch 1/10\n",
      "\u001b[1m53/53\u001b[0m \u001b[32m━━━━━━━━━━━━━━━━━━━━\u001b[0m\u001b[37m\u001b[0m \u001b[1m0s\u001b[0m 3ms/step - Accuracy: 0.8992 - Precision: 0.9033 - Recall: 0.9757 - loss: 0.2445 - val_Accuracy: 0.8990 - val_Precision: 0.8922 - val_Recall: 0.9868 - val_loss: 0.2618\n",
      "Epoch 2/10\n",
      "\u001b[1m53/53\u001b[0m \u001b[32m━━━━━━━━━━━━━━━━━━━━\u001b[0m\u001b[37m\u001b[0m \u001b[1m0s\u001b[0m 2ms/step - Accuracy: 0.9052 - Precision: 0.9009 - Recall: 0.9869 - loss: 0.2332 - val_Accuracy: 0.9091 - val_Precision: 0.9030 - val_Recall: 0.9868 - val_loss: 0.2541\n",
      "Epoch 3/10\n",
      "\u001b[1m53/53\u001b[0m \u001b[32m━━━━━━━━━━━━━━━━━━━━\u001b[0m\u001b[37m\u001b[0m \u001b[1m0s\u001b[0m 2ms/step - Accuracy: 0.9029 - Precision: 0.9016 - Recall: 0.9801 - loss: 0.2497 - val_Accuracy: 0.9040 - val_Precision: 0.8976 - val_Recall: 0.9868 - val_loss: 0.2467\n",
      "Epoch 4/10\n",
      "\u001b[1m53/53\u001b[0m \u001b[32m━━━━━━━━━━━━━━━━━━━━\u001b[0m\u001b[37m\u001b[0m \u001b[1m0s\u001b[0m 3ms/step - Accuracy: 0.9107 - Precision: 0.9152 - Recall: 0.9742 - loss: 0.2300 - val_Accuracy: 0.9242 - val_Precision: 0.9250 - val_Recall: 0.9801 - val_loss: 0.2391\n",
      "Epoch 5/10\n",
      "\u001b[1m53/53\u001b[0m \u001b[32m━━━━━━━━━━━━━━━━━━━━\u001b[0m\u001b[37m\u001b[0m \u001b[1m0s\u001b[0m 2ms/step - Accuracy: 0.9268 - Precision: 0.9323 - Recall: 0.9825 - loss: 0.2009 - val_Accuracy: 0.9192 - val_Precision: 0.9245 - val_Recall: 0.9735 - val_loss: 0.2310\n",
      "Epoch 6/10\n",
      "\u001b[1m53/53\u001b[0m \u001b[32m━━━━━━━━━━━━━━━━━━━━\u001b[0m\u001b[37m\u001b[0m \u001b[1m0s\u001b[0m 2ms/step - Accuracy: 0.9141 - Precision: 0.9209 - Recall: 0.9754 - loss: 0.2015 - val_Accuracy: 0.9242 - val_Precision: 0.9250 - val_Recall: 0.9801 - val_loss: 0.2249\n",
      "Epoch 7/10\n",
      "\u001b[1m53/53\u001b[0m \u001b[32m━━━━━━━━━━━━━━━━━━━━\u001b[0m\u001b[37m\u001b[0m \u001b[1m0s\u001b[0m 3ms/step - Accuracy: 0.9172 - Precision: 0.9182 - Recall: 0.9842 - loss: 0.2079 - val_Accuracy: 0.9293 - val_Precision: 0.9419 - val_Recall: 0.9669 - val_loss: 0.2196\n",
      "Epoch 8/10\n",
      "\u001b[1m53/53\u001b[0m \u001b[32m━━━━━━━━━━━━━━━━━━━━\u001b[0m\u001b[37m\u001b[0m \u001b[1m0s\u001b[0m 2ms/step - Accuracy: 0.9054 - Precision: 0.9227 - Recall: 0.9554 - loss: 0.2189 - val_Accuracy: 0.9293 - val_Precision: 0.9308 - val_Recall: 0.9801 - val_loss: 0.2133\n",
      "Epoch 9/10\n",
      "\u001b[1m53/53\u001b[0m \u001b[32m━━━━━━━━━━━━━━━━━━━━\u001b[0m\u001b[37m\u001b[0m \u001b[1m0s\u001b[0m 2ms/step - Accuracy: 0.9158 - Precision: 0.9207 - Recall: 0.9762 - loss: 0.1993 - val_Accuracy: 0.9293 - val_Precision: 0.9363 - val_Recall: 0.9735 - val_loss: 0.2094\n",
      "Epoch 10/10\n",
      "\u001b[1m53/53\u001b[0m \u001b[32m━━━━━━━━━━━━━━━━━━━━\u001b[0m\u001b[37m\u001b[0m \u001b[1m0s\u001b[0m 2ms/step - Accuracy: 0.9205 - Precision: 0.9358 - Recall: 0.9655 - loss: 0.2023 - val_Accuracy: 0.9192 - val_Precision: 0.9193 - val_Recall: 0.9801 - val_loss: 0.2084\n"
     ]
    },
    {
     "data": {
      "text/plain": [
       "<keras.src.callbacks.history.History at 0x222dbbf8710>"
      ]
     },
     "execution_count": 351,
     "metadata": {},
     "output_type": "execute_result"
    }
   ],
   "source": [
    "model.fit(\n",
    "    X_train,                            # Input features\n",
    "    y_train,                                # Target variable\n",
    "    epochs=10,                             # Number of training cycles\n",
    "    batch_size=15,                         # Number of samples per gradient update\n",
    "    validation_split=0.2                   # Use 20% of data for validation\n",
    ")"
   ]
  },
  {
   "cell_type": "code",
   "execution_count": 365,
   "id": "edc29d57-450d-408f-9704-70f032ba0bf4",
   "metadata": {},
   "outputs": [
    {
     "name": "stdout",
     "output_type": "stream",
     "text": [
      "\u001b[1m11/11\u001b[0m \u001b[32m━━━━━━━━━━━━━━━━━━━━\u001b[0m\u001b[37m\u001b[0m \u001b[1m0s\u001b[0m 1ms/step \n"
     ]
    }
   ],
   "source": [
    "# Evaluate the model on the testing set\n",
    "y_pred = model.predict(X_test)\n",
    "y_pred_class = np.argmax(y_pred, axis=1)"
   ]
  },
  {
   "cell_type": "code",
   "execution_count": 373,
   "id": "fc1fce22-1129-43fd-9ff3-8bbee50b98c1",
   "metadata": {},
   "outputs": [
    {
     "name": "stdout",
     "output_type": "stream",
     "text": [
      "[[9.9922431e-01]\n",
      " [2.6564810e-01]\n",
      " [9.2684555e-01]\n",
      " [4.3258574e-02]\n",
      " [3.7485309e-02]\n",
      " [5.0939274e-01]\n",
      " [9.9800432e-01]\n",
      " [9.8878360e-01]\n",
      " [9.3416512e-02]\n",
      " [9.3854117e-01]\n",
      " [9.6330994e-01]\n",
      " [3.9224002e-01]\n",
      " [1.5432897e-02]\n",
      " [9.8590326e-01]\n",
      " [5.1544166e-01]\n",
      " [6.1364090e-01]\n",
      " [8.4440190e-01]\n",
      " [9.9800420e-01]\n",
      " [9.9995852e-01]\n",
      " [9.9625874e-01]\n",
      " [9.6610087e-01]\n",
      " [9.9633014e-01]\n",
      " [9.9925756e-01]\n",
      " [5.4518735e-01]\n",
      " [9.9316919e-01]\n",
      " [9.6410739e-01]\n",
      " [9.3157005e-01]\n",
      " [9.2600489e-01]\n",
      " [9.7754622e-01]\n",
      " [9.9840391e-01]\n",
      " [4.6377555e-01]\n",
      " [9.1900539e-01]\n",
      " [9.6988469e-01]\n",
      " [3.5641050e-01]\n",
      " [9.8782986e-01]\n",
      " [9.9987161e-01]\n",
      " [6.6001439e-01]\n",
      " [8.3708483e-01]\n",
      " [9.7355479e-01]\n",
      " [9.9887317e-01]\n",
      " [3.3897945e-01]\n",
      " [9.9909061e-01]\n",
      " [8.4578979e-01]\n",
      " [9.9939662e-01]\n",
      " [9.6848601e-01]\n",
      " [1.3262041e-01]\n",
      " [9.1561764e-01]\n",
      " [9.7716165e-01]\n",
      " [9.5425838e-01]\n",
      " [9.3968087e-01]\n",
      " [4.7053009e-02]\n",
      " [6.5125287e-01]\n",
      " [7.7858156e-01]\n",
      " [9.9949145e-01]\n",
      " [9.9789721e-01]\n",
      " [5.7701308e-01]\n",
      " [9.6673316e-01]\n",
      " [9.9420929e-01]\n",
      " [9.9933183e-01]\n",
      " [9.8898733e-01]\n",
      " [9.5351684e-01]\n",
      " [9.9173057e-01]\n",
      " [9.9291313e-01]\n",
      " [9.9994689e-01]\n",
      " [9.1636539e-01]\n",
      " [9.9714595e-01]\n",
      " [4.3573219e-01]\n",
      " [9.9338222e-01]\n",
      " [9.9721885e-01]\n",
      " [9.8770458e-01]\n",
      " [9.8619789e-01]\n",
      " [9.9892277e-01]\n",
      " [8.0004983e-02]\n",
      " [1.1868270e-03]\n",
      " [9.8947799e-01]\n",
      " [1.5867397e-01]\n",
      " [9.0874344e-01]\n",
      " [4.1382572e-01]\n",
      " [4.8314181e-01]\n",
      " [6.1513623e-04]\n",
      " [9.8170960e-01]\n",
      " [2.7862608e-01]\n",
      " [8.3554184e-01]\n",
      " [9.1431499e-01]\n",
      " [7.8438848e-01]\n",
      " [9.9713719e-01]\n",
      " [9.9281931e-01]\n",
      " [6.9234216e-01]\n",
      " [8.6743051e-01]\n",
      " [9.9869210e-01]\n",
      " [7.1747196e-01]\n",
      " [9.6182090e-01]\n",
      " [5.0255346e-01]\n",
      " [9.9797821e-01]\n",
      " [9.7756344e-01]\n",
      " [9.2605543e-01]\n",
      " [8.7367380e-01]\n",
      " [8.5247684e-01]\n",
      " [9.9989718e-01]\n",
      " [9.8498172e-01]\n",
      " [9.7481227e-01]\n",
      " [2.8415853e-01]\n",
      " [8.5499144e-01]\n",
      " [8.5782748e-01]\n",
      " [9.9301916e-01]\n",
      " [5.0259459e-01]\n",
      " [4.2091370e-02]\n",
      " [9.9092907e-01]\n",
      " [9.5423836e-01]\n",
      " [9.9966735e-01]\n",
      " [9.9987513e-01]\n",
      " [9.9547219e-01]\n",
      " [7.1607518e-01]\n",
      " [9.9885368e-01]\n",
      " [8.7913108e-01]\n",
      " [9.8966420e-01]\n",
      " [9.6893698e-01]\n",
      " [3.1120470e-01]\n",
      " [9.9663180e-01]\n",
      " [1.1222997e-01]\n",
      " [9.5683956e-01]\n",
      " [9.8380315e-01]\n",
      " [8.5607171e-01]\n",
      " [9.6864980e-01]\n",
      " [9.8132348e-01]\n",
      " [9.9963117e-01]\n",
      " [9.3871939e-01]\n",
      " [9.9979156e-01]\n",
      " [2.9119183e-03]\n",
      " [5.8155823e-01]\n",
      " [8.5226691e-01]\n",
      " [8.5546780e-01]\n",
      " [9.7652607e-02]\n",
      " [9.9841547e-01]\n",
      " [7.2186232e-02]\n",
      " [9.1152775e-01]\n",
      " [9.4217873e-01]\n",
      " [9.9995553e-01]\n",
      " [9.8819304e-01]\n",
      " [9.8852599e-01]\n",
      " [8.0229539e-01]\n",
      " [9.7736365e-01]\n",
      " [5.3069407e-01]\n",
      " [4.6241584e-01]\n",
      " [9.9778491e-01]\n",
      " [8.9657259e-01]\n",
      " [9.9988711e-01]\n",
      " [9.9540031e-01]\n",
      " [9.9356014e-01]\n",
      " [8.4196526e-01]\n",
      " [8.8112527e-01]\n",
      " [9.8635221e-01]\n",
      " [9.9887604e-01]\n",
      " [9.8453802e-01]\n",
      " [8.2303965e-01]\n",
      " [3.4995809e-01]\n",
      " [9.9671775e-01]\n",
      " [9.4480538e-01]\n",
      " [9.2713773e-01]\n",
      " [9.8400122e-01]\n",
      " [6.6765893e-01]\n",
      " [9.9078643e-01]\n",
      " [9.6331614e-01]\n",
      " [9.1195476e-01]\n",
      " [8.2379633e-01]\n",
      " [8.5779488e-01]\n",
      " [7.9628646e-01]\n",
      " [6.3097721e-01]\n",
      " [9.9491185e-01]\n",
      " [7.8732729e-01]\n",
      " [4.9753478e-01]\n",
      " [9.6630096e-01]\n",
      " [9.9959737e-01]\n",
      " [8.1297374e-01]\n",
      " [4.1538382e-01]\n",
      " [4.0330806e-01]\n",
      " [9.6237302e-01]\n",
      " [3.0719170e-03]\n",
      " [6.1873138e-01]\n",
      " [9.9680614e-01]\n",
      " [7.9950452e-01]\n",
      " [8.5856622e-01]\n",
      " [9.8627913e-01]\n",
      " [9.9421936e-01]\n",
      " [9.5599860e-01]\n",
      " [9.2582268e-01]\n",
      " [9.7411293e-01]\n",
      " [5.3385406e-04]\n",
      " [9.9528319e-01]\n",
      " [9.9338484e-01]\n",
      " [9.9628592e-01]\n",
      " [1.0402207e-01]\n",
      " [7.3984981e-01]\n",
      " [9.4379134e-02]\n",
      " [8.0465126e-01]\n",
      " [9.7794914e-01]\n",
      " [8.9869010e-01]\n",
      " [9.9951321e-01]\n",
      " [6.0113072e-01]\n",
      " [9.0316659e-01]\n",
      " [9.9333739e-01]\n",
      " [9.9535578e-01]\n",
      " [8.9152658e-01]\n",
      " [9.7987455e-01]\n",
      " [9.9368215e-01]\n",
      " [9.8757553e-01]\n",
      " [9.8845577e-01]\n",
      " [9.9628383e-01]\n",
      " [8.5864466e-01]\n",
      " [1.2295664e-01]\n",
      " [8.4762877e-01]\n",
      " [9.6136457e-01]\n",
      " [9.9992973e-01]\n",
      " [9.6095574e-01]\n",
      " [9.8533869e-01]\n",
      " [8.9312720e-01]\n",
      " [8.6558163e-01]\n",
      " [5.2673137e-01]\n",
      " [3.1608173e-01]\n",
      " [9.0079939e-01]\n",
      " [9.3331361e-01]\n",
      " [9.9833918e-01]\n",
      " [9.8014748e-01]\n",
      " [9.1502750e-01]\n",
      " [2.6427901e-01]\n",
      " [9.9897563e-01]\n",
      " [8.0122274e-01]\n",
      " [1.1759044e-02]\n",
      " [9.3950820e-01]\n",
      " [9.9980390e-01]\n",
      " [5.2808857e-01]\n",
      " [9.9736923e-01]\n",
      " [9.8031813e-01]\n",
      " [6.1973363e-01]\n",
      " [1.4209303e-01]\n",
      " [8.7516618e-01]\n",
      " [7.0048571e-01]\n",
      " [3.5447869e-01]\n",
      " [9.3785572e-01]\n",
      " [9.9059826e-01]\n",
      " [5.0033188e-01]\n",
      " [9.6254587e-01]\n",
      " [9.8915631e-01]\n",
      " [9.9956530e-01]\n",
      " [9.9252045e-01]\n",
      " [2.3865795e-01]\n",
      " [9.3845093e-01]\n",
      " [8.2489628e-01]\n",
      " [6.4064550e-01]\n",
      " [9.9939984e-01]\n",
      " [6.1966145e-01]\n",
      " [9.2759907e-01]\n",
      " [7.3406553e-01]\n",
      " [6.8493682e-01]\n",
      " [8.2875729e-01]\n",
      " [9.9385023e-01]\n",
      " [3.5197428e-01]\n",
      " [9.4342923e-01]\n",
      " [1.0659084e-01]\n",
      " [2.5222930e-01]\n",
      " [8.0971247e-01]\n",
      " [9.9933690e-01]\n",
      " [9.4912255e-01]\n",
      " [9.9965328e-01]\n",
      " [8.9410377e-01]\n",
      " [9.0832824e-01]\n",
      " [9.6559900e-01]\n",
      " [9.9761260e-01]\n",
      " [9.8928010e-01]\n",
      " [9.0047300e-01]\n",
      " [9.8375511e-01]\n",
      " [9.8138773e-01]\n",
      " [2.2434136e-01]\n",
      " [9.8628902e-01]\n",
      " [5.8479309e-01]\n",
      " [2.5299484e-02]\n",
      " [9.9916506e-01]\n",
      " [8.5844499e-01]\n",
      " [6.2717789e-01]\n",
      " [9.9383807e-01]\n",
      " [4.6577281e-01]\n",
      " [7.8364462e-03]\n",
      " [9.9898559e-01]\n",
      " [9.6225280e-01]\n",
      " [9.1827232e-01]\n",
      " [4.1049796e-01]\n",
      " [5.2615780e-01]\n",
      " [9.9635309e-01]\n",
      " [9.8966527e-01]\n",
      " [9.9557161e-01]\n",
      " [9.7725445e-01]\n",
      " [9.9701953e-01]\n",
      " [9.9186170e-01]\n",
      " [9.5550156e-01]\n",
      " [9.9911481e-01]\n",
      " [8.8213710e-03]\n",
      " [6.4200819e-01]\n",
      " [6.1892688e-01]\n",
      " [9.9996549e-01]\n",
      " [8.6030793e-01]\n",
      " [9.9788052e-01]\n",
      " [1.2937699e-01]\n",
      " [9.4641489e-01]\n",
      " [8.1662309e-01]\n",
      " [9.9950391e-01]\n",
      " [5.6858790e-01]\n",
      " [7.5566792e-01]\n",
      " [9.9949098e-01]\n",
      " [9.9918127e-01]\n",
      " [4.4186250e-03]\n",
      " [9.9987775e-01]\n",
      " [9.9728823e-01]\n",
      " [9.4620430e-01]\n",
      " [4.7127944e-01]\n",
      " [7.0506014e-02]\n",
      " [9.9054247e-01]\n",
      " [9.9715054e-01]\n",
      " [4.5622519e-01]\n",
      " [6.4012736e-01]\n",
      " [9.8760903e-01]\n",
      " [8.4281361e-01]\n",
      " [9.7103530e-01]\n",
      " [9.7718149e-01]\n",
      " [8.7309623e-01]\n",
      " [8.0356658e-01]\n",
      " [3.7199572e-01]\n",
      " [5.4703459e-02]\n",
      " [9.9948579e-01]\n",
      " [6.6147840e-01]\n",
      " [9.8931801e-01]]\n"
     ]
    }
   ],
   "source": [
    "print(y_pred)"
   ]
  },
  {
   "cell_type": "code",
   "execution_count": 367,
   "id": "33cf3aea-f4c9-4ff0-b0cb-9c0d7f6eb520",
   "metadata": {},
   "outputs": [],
   "source": [
    "# Import Evaluation Metrics\n",
    "from sklearn.metrics import accuracy_score"
   ]
  },
  {
   "cell_type": "code",
   "execution_count": 370,
   "id": "3f7642c4-7c48-4724-97c6-8c40d59eb0e4",
   "metadata": {},
   "outputs": [
    {
     "name": "stdout",
     "output_type": "stream",
     "text": [
      "Accuracy: 0.239\n",
      "Classification Report:\n",
      "              precision    recall  f1-score   support\n",
      "\n",
      "           0       0.24      1.00      0.39        79\n",
      "           1       0.00      0.00      0.00       251\n",
      "\n",
      "    accuracy                           0.24       330\n",
      "   macro avg       0.12      0.50      0.19       330\n",
      "weighted avg       0.06      0.24      0.09       330\n",
      "\n",
      "\n",
      "Confusion Matrix:\n",
      "[[ 79   0]\n",
      " [251   0]]\n"
     ]
    },
    {
     "name": "stderr",
     "output_type": "stream",
     "text": [
      "C:\\Miniconda\\envs\\mlenv\\Lib\\site-packages\\sklearn\\metrics\\_classification.py:1531: UndefinedMetricWarning: Precision is ill-defined and being set to 0.0 in labels with no predicted samples. Use `zero_division` parameter to control this behavior.\n",
      "  _warn_prf(average, modifier, f\"{metric.capitalize()} is\", len(result))\n",
      "C:\\Miniconda\\envs\\mlenv\\Lib\\site-packages\\sklearn\\metrics\\_classification.py:1531: UndefinedMetricWarning: Precision is ill-defined and being set to 0.0 in labels with no predicted samples. Use `zero_division` parameter to control this behavior.\n",
      "  _warn_prf(average, modifier, f\"{metric.capitalize()} is\", len(result))\n",
      "C:\\Miniconda\\envs\\mlenv\\Lib\\site-packages\\sklearn\\metrics\\_classification.py:1531: UndefinedMetricWarning: Precision is ill-defined and being set to 0.0 in labels with no predicted samples. Use `zero_division` parameter to control this behavior.\n",
      "  _warn_prf(average, modifier, f\"{metric.capitalize()} is\", len(result))\n"
     ]
    }
   ],
   "source": [
    "accuracy = accuracy_score(y_test, y_pred_class)\n",
    "print(f'Accuracy: {accuracy:.3f}')\n",
    "\n",
    "# Print classification report and confusion matrix\n",
    "print('Classification Report:')\n",
    "print(classification_report(y_test, y_pred_class))\n",
    "\n",
    "print('\\nConfusion Matrix:')\n",
    "print(confusion_matrix(y_test, y_pred_class))"
   ]
  },
  {
   "cell_type": "code",
   "execution_count": null,
   "id": "4c8ed3bb-a7bf-4073-8392-8a2c2604e7e1",
   "metadata": {},
   "outputs": [],
   "source": []
  },
  {
   "cell_type": "code",
   "execution_count": null,
   "id": "8c3a4d1e-c04a-489a-934b-8ff3988bf566",
   "metadata": {},
   "outputs": [],
   "source": []
  }
 ],
 "metadata": {
  "kernelspec": {
   "display_name": "ML-ENV:Py3.13",
   "language": "python",
   "name": "mlenv"
  },
  "language_info": {
   "codemirror_mode": {
    "name": "ipython",
    "version": 3
   },
   "file_extension": ".py",
   "mimetype": "text/x-python",
   "name": "python",
   "nbconvert_exporter": "python",
   "pygments_lexer": "ipython3",
   "version": "3.13.0"
  }
 },
 "nbformat": 4,
 "nbformat_minor": 5
}
