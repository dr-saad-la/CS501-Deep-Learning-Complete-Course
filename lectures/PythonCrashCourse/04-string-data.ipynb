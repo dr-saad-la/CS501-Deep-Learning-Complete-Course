{
 "cells": [
  {
   "cell_type": "code",
   "execution_count": 1,
   "id": "47171b96-0ce3-47cd-8ff6-30cdbd7e9e57",
   "metadata": {},
   "outputs": [],
   "source": [
    "# =======================================================================\n",
    "# Course: Deep Learning Complete Course (CS-501)\n",
    "# Author: Dr. Saad Laouadi\n",
    "# Lesson: Character String Data in Python\n",
    "#\n",
    "# Description: This program introduces character and string data in Python.\n",
    "#              It covers single-character strings, multi-line strings,\n",
    "#              and various string operations, including concatenation,\n",
    "#              slicing, and formatting.\n",
    "#\n",
    "# =======================================================================\n",
    "#.          Copyright © Dr. Saad Laouadi\n",
    "# ======================================================================="
   ]
  },
  {
   "cell_type": "code",
   "execution_count": 2,
   "id": "8c34d4cd-b76a-4d76-a9b9-48256ad3ef5b",
   "metadata": {},
   "outputs": [
    {
     "name": "stdout",
     "output_type": "stream",
     "text": [
      "Type of char_a: <class 'str'>\n"
     ]
    }
   ],
   "source": [
    "# Character String Data\n",
    "# ---------------------\n",
    "# In Python, characters are represented as single-character strings.\n",
    "# There is no separate data type for characters.\n",
    "\n",
    "# 1. Characters\n",
    "# -------------\n",
    "# Characters are treated as single-character strings in Python.\n",
    "char_a = 'a'  # A single character\n",
    "char_Z = 'Z'  # Another single character\n",
    "\n",
    "# Checking the type of a character\n",
    "print(\"Type of char_a:\", type(char_a))  # Output: <class 'str'>"
   ]
  },
  {
   "cell_type": "code",
   "execution_count": 3,
   "id": "f2fe407c-94ab-4c5e-bb06-db79c0a5064c",
   "metadata": {},
   "outputs": [],
   "source": [
    "# 2. Strings\n",
    "# ----------\n",
    "# Strings are sequences of characters and can be created using single,\n",
    "# double, or triple quotes.\n",
    "string_example = \"hello world\"          # Using double quotes\n",
    "another_string = 'Python is fun!'       # Using single quotes\n",
    "multiline_string = \"\"\"This is\n",
    "a multiline\n",
    "string\"\"\"                              # Using triple quotes for multi-line strings"
   ]
  },
  {
   "cell_type": "code",
   "execution_count": 4,
   "id": "77743db3-96e6-4480-ac3e-6a4ea392b8a1",
   "metadata": {},
   "outputs": [
    {
     "name": "stdout",
     "output_type": "stream",
     "text": [
      "Uppercase: HELLO WORLD\n",
      "Lowercase: python is fun!\n",
      "Length of multiline_string: 26\n"
     ]
    }
   ],
   "source": [
    "# String Operations\n",
    "# -----------------\n",
    "# Convert to uppercase and lowercase\n",
    "print(\"Uppercase:\", string_example.upper())  # \"HELLO WORLD\"\n",
    "print(\"Lowercase:\", another_string.lower())  # \"python is fun!\"\n",
    "print(\"Length of multiline_string:\", len(multiline_string))  # Length of the string"
   ]
  },
  {
   "cell_type": "code",
   "execution_count": 5,
   "id": "747ae0ce-89fc-4eb0-9300-063a143ab952",
   "metadata": {},
   "outputs": [
    {
     "name": "stdout",
     "output_type": "stream",
     "text": [
      "Full Greeting: Hello Alice\n",
      "Repeated Greeting: Hello! Hello! Hello! \n"
     ]
    }
   ],
   "source": [
    "# Concatenation and Repetition\n",
    "# ----------------------------\n",
    "greeting = \"Hello\"\n",
    "name = \"Alice\"\n",
    "full_greeting = greeting + \" \" + name   # Concatenates strings\n",
    "print(\"Full Greeting:\", full_greeting)  # Output: \"Hello Alice\"\n",
    "\n",
    "repeat_hello = \"Hello! \" * 3            # Repeats the string 3 times\n",
    "print(\"Repeated Greeting:\", repeat_hello)  # Output: \"Hello! Hello! Hello!\""
   ]
  },
  {
   "cell_type": "code",
   "execution_count": 6,
   "id": "2caeaf52-143b-4aa3-96e2-1ba0db62d568",
   "metadata": {},
   "outputs": [
    {
     "name": "stdout",
     "output_type": "stream",
     "text": [
      "First character: P\n",
      "Last character: n\n",
      "Sliced string (1:4): yth\n",
      "'fun' in another_string: True\n"
     ]
    }
   ],
   "source": [
    "# Accessing Characters and Slicing Strings\n",
    "# ----------------------------------------\n",
    "word = \"Python\"\n",
    "print(\"First character:\", word[0])      # Accesses the first character: 'P'\n",
    "print(\"Last character:\", word[-1])      # Accesses the last character: 'n'\n",
    "print(\"Sliced string (1:4):\", word[1:4])  # Slices the string: 'yth'\n",
    "\n",
    "# Checking if a Substring Exists\n",
    "# ------------------------------\n",
    "print(\"'fun' in another_string:\", \"fun\" in another_string)  # True"
   ]
  },
  {
   "cell_type": "code",
   "execution_count": 7,
   "id": "313fe78a-a922-4d52-b104-cbea70e46d0b",
   "metadata": {},
   "outputs": [
    {
     "name": "stdout",
     "output_type": "stream",
     "text": [
      "Formatted String: My age is 25\n"
     ]
    }
   ],
   "source": [
    "# String Formatting\n",
    "# -----------------\n",
    "age = 25\n",
    "formatted_string = f\"My age is {age}\"   # Using f-strings for formatting\n",
    "print(\"Formatted String:\", formatted_string)  # Output: \"My age is 25\""
   ]
  },
  {
   "cell_type": "code",
   "execution_count": 8,
   "id": "49b29819-fe92-4133-a76a-a971423b9021",
   "metadata": {},
   "outputs": [
    {
     "name": "stdout",
     "output_type": "stream",
     "text": [
      "This is a line.\n",
      "This is a new line.\n",
      "This is\ta tabbed space.\n"
     ]
    }
   ],
   "source": [
    "# Escape Characters\n",
    "# -----------------\n",
    "# Use escape characters to include special characters in strings.\n",
    "new_line_example = \"This is a line.\\nThis is a new line.\"\n",
    "tab_example = \"This is\\ta tabbed space.\"\n",
    "print(new_line_example)\n",
    "print(tab_example)"
   ]
  },
  {
   "cell_type": "code",
   "execution_count": 9,
   "id": "cbb2fbce-e9ef-4241-a3d8-7e4d1e1a4f2d",
   "metadata": {},
   "outputs": [
    {
     "name": "stdout",
     "output_type": "stream",
     "text": [
      "\n",
      "# Notes:\n",
      "# ------\n",
      "# - Strings in Python are immutable, meaning they cannot be modified in place.\n",
      "# - Common escape characters:\n",
      "#   - `\n",
      "`: New line\n",
      "#   - `\t`: Tab\n",
      "#   - `\\`: Backslash\n",
      "#   - `'`: Single quote\n",
      "#   - `\"`: Double quote\n",
      "\n",
      "# Summary\n",
      "# -------\n",
      "# - Use single, double, or triple quotes to define strings.\n",
      "# - Strings can be concatenated using `+` and repeated using `*`.\n",
      "# - Use slicing and indexing to access parts of a string.\n",
      "# - Use `in` to check for the existence of a substring.\n",
      "# - Format strings using f-strings for better readability.\n",
      "\n"
     ]
    }
   ],
   "source": [
    "print(\"\"\"\n",
    "# Notes:\n",
    "# ------\n",
    "# - Strings in Python are immutable, meaning they cannot be modified in place.\n",
    "# - Common escape characters:\n",
    "#   - `\\n`: New line\n",
    "#   - `\\t`: Tab\n",
    "#   - `\\\\`: Backslash\n",
    "#   - `\\'`: Single quote\n",
    "#   - `\\\"`: Double quote\n",
    "\n",
    "# Summary\n",
    "# -------\n",
    "# - Use single, double, or triple quotes to define strings.\n",
    "# - Strings can be concatenated using `+` and repeated using `*`.\n",
    "# - Use slicing and indexing to access parts of a string.\n",
    "# - Use `in` to check for the existence of a substring.\n",
    "# - Format strings using f-strings for better readability.\n",
    "\"\"\")"
   ]
  },
  {
   "cell_type": "code",
   "execution_count": null,
   "id": "c494d726-2305-4068-9c66-0d0f47a8a22a",
   "metadata": {},
   "outputs": [],
   "source": []
  }
 ],
 "metadata": {
  "kernelspec": {
   "display_name": "Python 3 (ipykernel)",
   "language": "python",
   "name": "python3"
  },
  "language_info": {
   "codemirror_mode": {
    "name": "ipython",
    "version": 3
   },
   "file_extension": ".py",
   "mimetype": "text/x-python",
   "name": "python",
   "nbconvert_exporter": "python",
   "pygments_lexer": "ipython3",
   "version": "3.10.14"
  }
 },
 "nbformat": 4,
 "nbformat_minor": 5
}
