{
 "cells": [
  {
   "cell_type": "code",
   "execution_count": 1,
   "id": "d6cfa9e4-77e6-4d90-95ff-345fc93b6642",
   "metadata": {},
   "outputs": [],
   "source": [
    "# ======================================================================= #\n",
    "# Course: Deep Learning Complete Course (CS-501)\n",
    "# Author: Dr. Saad Laouadi\n",
    "# Lesson: Using the map() Function in Python\n",
    "#\n",
    "# Description: This lesson explores the `map()` function in Python, which\n",
    "#              applies a given function to all items in an iterable, such\n",
    "#              as a list or tuple. It demonstrates various use cases, from\n",
    "#              numerical operations to string transformations.\n",
    "#\n",
    "# =======================================================================\n",
    "# Copyright© Dr. Saad Laouadi\n",
    "# ======================================================================= #"
   ]
  },
  {
   "cell_type": "code",
   "execution_count": 6,
   "id": "624ac186-5967-4860-8d08-c42319d34623",
   "metadata": {},
   "outputs": [
    {
     "name": "stdout",
     "output_type": "stream",
     "text": [
      "\n",
      "# Using the map() Function\n",
      "# ------------------------\n",
      "# `map()` is a built-in Python function that applies a specified function to each\n",
      "# item in an iterable (like a list) and returns a map object. The map object can\n",
      "# be converted to a list, tuple, or another data type.\n",
      "\n"
     ]
    }
   ],
   "source": [
    "print(\"\"\"\n",
    "# Using the map() Function\n",
    "# ------------------------\n",
    "# `map()` is a built-in Python function that applies a specified function to each\n",
    "# item in an iterable (like a list) and returns a map object. The map object can\n",
    "# be converted to a list, tuple, or another data type.\n",
    "\"\"\")"
   ]
  },
  {
   "cell_type": "code",
   "execution_count": 7,
   "id": "2e6328b1-b2ee-4be5-bee1-71da48fc6bbd",
   "metadata": {},
   "outputs": [
    {
     "name": "stdout",
     "output_type": "stream",
     "text": [
      "Using map() to double each number in a list:\n",
      "Doubled Numbers: [2, 4, 6, 8, 10]\n",
      "\n"
     ]
    }
   ],
   "source": [
    "# 1. Basic Use of map()\n",
    "# ---------------------\n",
    "# Example: Doubling each number in a list\n",
    "print(\"Using map() to double each number in a list:\")\n",
    "numbers = [1, 2, 3, 4, 5]\n",
    "doubled_numbers = list(map(lambda x: x * 2, numbers))  # Doubles each number\n",
    "print(\"Doubled Numbers:\", doubled_numbers)  \n",
    "\n",
    "print()  "
   ]
  },
  {
   "cell_type": "code",
   "execution_count": 8,
   "id": "f5c3befc-b31c-4ab5-8f31-979996583ccd",
   "metadata": {},
   "outputs": [
    {
     "name": "stdout",
     "output_type": "stream",
     "text": [
      "Using map() to convert a list of strings to uppercase:\n",
      "Uppercase Words: ['JAVA', 'PYTHON', 'JULIA']\n",
      "\n"
     ]
    }
   ],
   "source": [
    "# 2. Using map() for String Manipulation\n",
    "# --------------------------------------\n",
    "# Example: Converting a list of strings to uppercase\n",
    "print(\"Using map() to convert a list of strings to uppercase:\")\n",
    "p_langs = [\"java\", \"python\", \"julia\"]\n",
    "uppercase_words = list(map(str.upper, p_langs))  # Converts each string to uppercase\n",
    "print(\"Uppercase Words:\", uppercase_words) \n",
    "\n",
    "print()  "
   ]
  },
  {
   "cell_type": "code",
   "execution_count": 9,
   "id": "4284d4d0-1a87-44c0-912f-09d637875048",
   "metadata": {},
   "outputs": [
    {
     "name": "stdout",
     "output_type": "stream",
     "text": [
      "Using map() with a custom function to square each number:\n",
      "Squared Numbers: [1, 4, 9, 16, 25]\n",
      "\n"
     ]
    }
   ],
   "source": [
    "# 3. Using map() with Custom Functions\n",
    "# ------------------------------------\n",
    "# Example: Applying a custom function to calculate the square of each number\n",
    "def square(num):\n",
    "    return num ** 2\n",
    "\n",
    "print(\"Using map() with a custom function to square each number:\")\n",
    "numbers = [1, 2, 3, 4, 5]\n",
    "squared_numbers = list(map(square, numbers))  # Applies the `square` function\n",
    "print(\"Squared Numbers:\", squared_numbers)  \n",
    "print() "
   ]
  },
  {
   "cell_type": "code",
   "execution_count": 2,
   "id": "8756a563-ba05-4ef0-ba21-983f8e3872d3",
   "metadata": {},
   "outputs": [],
   "source": [
    "# 4. Using map() with Multiple Iterables\n",
    "# --------------------------------------\n",
    "# Example: Adding corresponding elements from two lists\n",
    "print(\"Using map() with two lists to add corresponding elements:\")\n",
    "list_a = [1, 2, 3]\n",
    "list_b = [4, 5, 6]\n",
    "sum_of_lists = list(map(lambda x, y: x + y, list_a, list_b))  # Adds corresponding elements\n",
    "print(\"Sum of Lists:\", sum_of_lists)  # Output: [5, 7, 9]\n",
    "\n",
    "print()  # Blank line for readability\n",
    "\n",
    "# 5. Using map() for Type Conversion\n",
    "# ----------------------------------\n",
    "# Example: Converting a list of strings to integers\n",
    "print(\"Using map() to convert a list of strings to integers:\")\n",
    "string_numbers = [\"1\", \"2\", \"3\", \"4\", \"5\"]\n",
    "integer_numbers = list(map(int, string_numbers))  # Converts strings to integers\n",
    "print(\"Integer Numbers:\", integer_numbers)  # Output: [1, 2, 3, 4, 5]\n",
    "\n",
    "print() "
   ]
  },
  {
   "cell_type": "code",
   "execution_count": 11,
   "id": "57c57298-0b1f-4f9d-9703-0c9538bc52d3",
   "metadata": {},
   "outputs": [
    {
     "name": "stdout",
     "output_type": "stream",
     "text": [
      "Using map() with two lists to add corresponding elements:\n",
      "Sum of Lists: [5, 7, 9]\n",
      "\n"
     ]
    }
   ],
   "source": [
    "# Using map() with multiple iterables\n",
    "print(\"Using map() with two lists to add corresponding elements:\")\n",
    "list_a = [1, 2, 3]\n",
    "list_b = [4, 5, 6]\n",
    "sum_of_lists = list(map(lambda x, y: x + y, list_a, list_b))  # Adds corresponding elements\n",
    "print(\"Sum of Lists:\", sum_of_lists) \n",
    "print()"
   ]
  },
  {
   "cell_type": "code",
   "execution_count": 10,
   "id": "94159802-66d0-4aa1-86ad-e0ab50b86274",
   "metadata": {},
   "outputs": [
    {
     "name": "stdout",
     "output_type": "stream",
     "text": [
      "\n",
      "# Note:\n",
      "# -----\n",
      "# - **map()** is useful for transforming data efficiently.\n",
      "# - It is more concise and often faster than using traditional `for` loops.\n",
      "# - The `map()` function is commonly used for data preprocessing and applying\n",
      "#   simple transformations to large datasets.\n",
      "\n",
      "# Practice:\n",
      "# ---------\n",
      "# - Experiment with `map()` and different types of functions, including lambdas.\n",
      "# - Try using `map()` with multiple iterables to see how it can combine data.\n",
      "\n"
     ]
    }
   ],
   "source": [
    "print(\"\"\"\n",
    "# Note:\n",
    "# -----\n",
    "# - **map()** is useful for transforming data efficiently.\n",
    "# - It is more concise and often faster than using traditional `for` loops.\n",
    "# - The `map()` function is commonly used for data preprocessing and applying\n",
    "#   simple transformations to large datasets.\n",
    "\n",
    "# Practice:\n",
    "# ---------\n",
    "# - Experiment with `map()` and different types of functions, including lambdas.\n",
    "# - Try using `map()` with multiple iterables to see how it can combine data.\n",
    "\"\"\")"
   ]
  }
 ],
 "metadata": {
  "kernelspec": {
   "display_name": "Mamba Base",
   "language": "python",
   "name": "base"
  },
  "language_info": {
   "codemirror_mode": {
    "name": "ipython",
    "version": 3
   },
   "file_extension": ".py",
   "mimetype": "text/x-python",
   "name": "python",
   "nbconvert_exporter": "python",
   "pygments_lexer": "ipython3",
   "version": "3.10.14"
  }
 },
 "nbformat": 4,
 "nbformat_minor": 5
}
