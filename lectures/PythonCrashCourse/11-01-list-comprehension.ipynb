{
 "cells": [
  {
   "cell_type": "code",
   "execution_count": 13,
   "id": "857d6d61-703a-4b53-9f72-732d5459a8d9",
   "metadata": {},
   "outputs": [],
   "source": [
    "# ======================================================================= #\n",
    "# Course: Deep Learning Complete Course (CS-501)\n",
    "# Author: Dr. Saad Laouadi\n",
    "# Lesson: Advanced List Comprehensions in Python\n",
    "#\n",
    "# Description: This program explores various use cases of list comprehensions,\n",
    "#              demonstrating how to efficiently create, filter, and transform lists\n",
    "# =======================================================================\n",
    "#.          Copyright © Dr. Saad Laouadi\n",
    "# ======================================================================="
   ]
  },
  {
   "cell_type": "code",
   "execution_count": 2,
   "id": "c275531d-a186-497d-a74f-6f5d09b05aca",
   "metadata": {},
   "outputs": [
    {
     "name": "stdout",
     "output_type": "stream",
     "text": [
      "List of Squares: [0, 1, 4, 9, 16, 25, 36, 49, 64, 81]\n",
      "Even Numbers: [0, 2, 4, 6, 8, 10, 12, 14, 16, 18]\n",
      "Flattened Matrix: [1, 2, 3, 4, 5, 6, 7, 8, 9]\n",
      "\n"
     ]
    }
   ],
   "source": [
    "# 1. List Comprehensions\n",
    "# ----------------------\n",
    "# List comprehensions provide a concise way to create lists.\n",
    "\n",
    "# Example: Generating a list of squares\n",
    "squares = [x**2 for x in range(10)]  # Creates a list of squares from 0 to 9\n",
    "print(\"List of Squares:\", squares) \n",
    "\n",
    "# Example: Filtering even numbers\n",
    "even_numbers = [x for x in range(20) if x % 2 == 0]  # Filters out even numbers from 0 to 19\n",
    "print(\"Even Numbers:\", even_numbers)  \n",
    "\n",
    "# Example: Using nested comprehensions to flatten a 2D list\n",
    "matrix = [[1, 2, 3], [4, 5, 6], [7, 8, 9]]\n",
    "flattened = [num for row in matrix for num in row]\n",
    "print(\"Flattened Matrix:\", flattened)  \n",
    "\n",
    "print() "
   ]
  },
  {
   "cell_type": "code",
   "execution_count": 3,
   "id": "36ba4668-c68e-4b9d-98ec-10469bc5594e",
   "metadata": {},
   "outputs": [
    {
     "name": "stdout",
     "output_type": "stream",
     "text": [
      "Flattened Matrix: [1, 2, 3, 4, 5, 6, 7, 8, 9]\n",
      "\n"
     ]
    }
   ],
   "source": [
    "# The previous example is the result of nested for loop\n",
    "# Equivalent code using nested for loops\n",
    "matrix = [[1, 2, 3], [4, 5, 6], [7, 8, 9]]\n",
    "\n",
    "# Initialize an empty list to store the flattened elements\n",
    "flattened = []\n",
    "\n",
    "# Outer loop: Iterate over each row in the matrix\n",
    "for row in matrix:\n",
    "    # Inner loop: Iterate over each number in the current row\n",
    "    for num in row:\n",
    "        # Append the number to the flattened list\n",
    "        flattened.append(num)\n",
    "\n",
    "print(\"Flattened Matrix:\", flattened)  \n",
    "\n",
    "print() "
   ]
  },
  {
   "cell_type": "code",
   "execution_count": 4,
   "id": "8be63c01-6530-4e93-b9fe-0647096ee002",
   "metadata": {},
   "outputs": [],
   "source": [
    "# More Use Cases for List Comprehensions\n",
    "# --------------------------------------"
   ]
  },
  {
   "cell_type": "code",
   "execution_count": 5,
   "id": "46a8dfbd-a8e1-40c6-913d-20c1def7c54a",
   "metadata": {},
   "outputs": [
    {
     "name": "stdout",
     "output_type": "stream",
     "text": [
      "********************************************************************************\n",
      "Odd Numbers: [1, 3, 5, 7, 9, 11, 13, 15, 17, 19]\n",
      "\n",
      "********************************************************************************\n"
     ]
    }
   ],
   "source": [
    "# Example: Filtering odd numbers\n",
    "odd_numbers = [x for x in range(20) if x % 2 != 0]  # Filters out odd numbers from 0 to 19\n",
    "print(\"*\"*80)\n",
    "print(\"Odd Numbers:\", odd_numbers)  \n",
    "\n",
    "print()\n",
    "print(\"*\"*80)"
   ]
  },
  {
   "cell_type": "code",
   "execution_count": 6,
   "id": "ab9f521e-194d-4f8c-a992-0d80d0bb854d",
   "metadata": {},
   "outputs": [
    {
     "name": "stdout",
     "output_type": "stream",
     "text": [
      "Temperatures in Fahrenheit: [32.0, 50.0, 68.0, 86.0, 104.0]\n",
      "\n"
     ]
    }
   ],
   "source": [
    "# Example: Converting a list of temperatures from Celsius to Fahrenheit\n",
    "celsius = [0, 10, 20, 30, 40]\n",
    "fahrenheit = [(temp * 9/5) + 32 for temp in celsius]\n",
    "print(\"Temperatures in Fahrenheit:\", fahrenheit)  \n",
    "\n",
    "print()"
   ]
  },
  {
   "cell_type": "code",
   "execution_count": 7,
   "id": "654a6634-9fc0-4147-8d24-c994eec27e8f",
   "metadata": {},
   "outputs": [
    {
     "name": "stdout",
     "output_type": "stream",
     "text": [
      "Vowels in the Sentence: ['i', 'i', 'a', 'e', 'a', 'e', 'e', 'e', 'e']\n",
      "\n"
     ]
    }
   ],
   "source": [
    "# Example: Extracting vowels from a string\n",
    "sentence = \"This is an example sentence\"\n",
    "vowels = [char for char in sentence if char.lower() in 'aeiou']\n",
    "print(\"Vowels in the Sentence:\", vowels)  \n",
    "\n",
    "print()"
   ]
  },
  {
   "cell_type": "code",
   "execution_count": 8,
   "id": "b6ce2ccf-5339-49a4-a22e-a60a0d9a58bd",
   "metadata": {},
   "outputs": [
    {
     "name": "stdout",
     "output_type": "stream",
     "text": [
      "List of Tuples (Number, Square): [(1, 1), (2, 4), (3, 9), (4, 16), (5, 25)]\n",
      "\n"
     ]
    }
   ],
   "source": [
    "# Example: Creating a list of tuples (number, square)\n",
    "number_square_tuples = [(x, x**2) for x in range(1, 6)]\n",
    "print(\"List of Tuples (Number, Square):\", number_square_tuples)  \n",
    "\n",
    "print()"
   ]
  },
  {
   "cell_type": "code",
   "execution_count": 9,
   "id": "6070dec0-45d5-4f27-a191-f75238bfb988",
   "metadata": {},
   "outputs": [
    {
     "name": "stdout",
     "output_type": "stream",
     "text": [
      "Grade Status: ['Pass', 'Fail', 'Pass', 'Fail', 'Pass']\n",
      "\n"
     ]
    }
   ],
   "source": [
    "# Example: Using an if-else condition in a list comprehension\n",
    "grades = [85, 72, 90, 60, 78]\n",
    "grade_status = [\"Pass\" if grade >= 75 else \"Fail\" for grade in grades]\n",
    "print(\"Grade Status:\", grade_status)  # Output: ['Pass', 'Fail', 'Pass', 'Fail', 'Pass']\n",
    "\n",
    "print()"
   ]
  },
  {
   "cell_type": "code",
   "execution_count": 10,
   "id": "458fd5ab-7ae2-4b90-b463-372ab0cf2e55",
   "metadata": {},
   "outputs": [
    {
     "name": "stdout",
     "output_type": "stream",
     "text": [
      "Flattened 3D List: [1, 2, 3, 4, 5, 6, 7, 8]\n",
      "\n"
     ]
    }
   ],
   "source": [
    "# Example: Flattening a 3D list\n",
    "three_d_list = [[[1, 2], [3, 4]], [[5, 6], [7, 8]]]\n",
    "flattened_3d = [num for sublist in three_d_list for inner_list in sublist for num in inner_list]\n",
    "print(\"Flattened 3D List:\", flattened_3d)  \n",
    "\n",
    "print()"
   ]
  },
  {
   "cell_type": "code",
   "execution_count": 11,
   "id": "6fd75da7-8d85-4643-af27-cdccb01f7c87",
   "metadata": {},
   "outputs": [
    {
     "name": "stdout",
     "output_type": "stream",
     "text": [
      "Squared Numbers Using Function: [0, 1, 4, 9, 16, 25, 36, 49, 64, 81]\n",
      "Unique and Sorted Numbers: [1, 2, 3, 4, 5]\n",
      "\n",
      "********************************************************************************\n"
     ]
    }
   ],
   "source": [
    "# Example: Using list comprehension with a function\n",
    "def square(x):\n",
    "    return x**2\n",
    "\n",
    "squared_numbers = [square(x) for x in range(10)]\n",
    "print(\"Squared Numbers Using Function:\", squared_numbers)  \n",
    "\n",
    "# Example: Removing duplicates from a list and sorting\n",
    "numbers_with_duplicates = [4, 2, 2, 5, 1, 4, 3, 5, 1]\n",
    "unique_sorted_numbers = sorted({num for num in numbers_with_duplicates})\n",
    "print(\"Unique and Sorted Numbers:\", unique_sorted_numbers)  \n",
    "\n",
    "print()  \n",
    "print(\"*\"*80)"
   ]
  },
  {
   "cell_type": "code",
   "execution_count": 12,
   "id": "f115ede3-fb82-4d49-be01-3d91901f509f",
   "metadata": {},
   "outputs": [
    {
     "name": "stdout",
     "output_type": "stream",
     "text": [
      "\n",
      "# Note:\n",
      "# -----\n",
      "# - List comprehensions are not only concise but also efficient.\n",
      "# - They are ideal for transforming, filtering, and manipulating lists in a single line of code.\n",
      "# - Use list comprehensions to simplify code that would otherwise require loops and conditionals.\n",
      "\n",
      "# Practice:\n",
      "# ---------\n",
      "# - Try using list comprehensions to solve real-world problems, like data filtering or transformations.\n",
      "# - Experiment with nested comprehensions for more complex data structures.\n",
      "\n"
     ]
    }
   ],
   "source": [
    "print(\"\"\"\n",
    "# Note:\n",
    "# -----\n",
    "# - List comprehensions are not only concise but also efficient.\n",
    "# - They are ideal for transforming, filtering, and manipulating lists in a single line of code.\n",
    "# - Use list comprehensions to simplify code that would otherwise require loops and conditionals.\n",
    "\n",
    "# Practice:\n",
    "# ---------\n",
    "# - Try using list comprehensions to solve real-world problems, like data filtering or transformations.\n",
    "# - Experiment with nested comprehensions for more complex data structures.\n",
    "\"\"\")"
   ]
  },
  {
   "cell_type": "code",
   "execution_count": null,
   "id": "328413c2-e9d4-45b8-ad3f-0816f8a157a7",
   "metadata": {},
   "outputs": [],
   "source": []
  }
 ],
 "metadata": {
  "kernelspec": {
   "display_name": "Python 3 (ipykernel)",
   "language": "python",
   "name": "python3"
  },
  "language_info": {
   "codemirror_mode": {
    "name": "ipython",
    "version": 3
   },
   "file_extension": ".py",
   "mimetype": "text/x-python",
   "name": "python",
   "nbconvert_exporter": "python",
   "pygments_lexer": "ipython3",
   "version": "3.10.14"
  }
 },
 "nbformat": 4,
 "nbformat_minor": 5
}
