{
 "cells": [
  {
   "cell_type": "code",
   "execution_count": 1,
   "id": "5f8e14ad-0ce8-45df-a7f5-b51627670123",
   "metadata": {},
   "outputs": [],
   "source": [
    "# =======================================================================\n",
    "# Course: Deep Learning Complete Course (CS-501)\n",
    "# Author: Dr. Saad Laouadi\n",
    "# Lesson: Writing Functions in Python\n",
    "#\n",
    "# Description: This program demonstrates how to define and use functions\n",
    "#              in Python. It covers basic function syntax, arguments,\n",
    "#              return values, and the concept of default and keyword arguments.\n",
    "#\n",
    "# ======================================================================="
   ]
  },
  {
   "cell_type": "code",
   "execution_count": 2,
   "id": "ae768c75-f056-4bf9-b96b-0722cbf966ca",
   "metadata": {
    "tags": []
   },
   "outputs": [
    {
     "name": "stdout",
     "output_type": "stream",
     "text": [
      "\n",
      "# Writing Functions in Python\n",
      "# ---------------------------\n",
      "# Functions are reusable pieces of code that perform a specific task.\n",
      "# They help make your code more organized, modular, and easy to read.\n",
      "\n"
     ]
    }
   ],
   "source": [
    "print(\"\"\"\n",
    "# Writing Functions in Python\n",
    "# ---------------------------\n",
    "# Functions are reusable pieces of code that perform a specific task.\n",
    "# They help make your code more organized, modular, and easy to read.\n",
    "\"\"\")"
   ]
  },
  {
   "cell_type": "code",
   "execution_count": 3,
   "id": "2b637012-80f6-411a-875b-201cc99c35a6",
   "metadata": {},
   "outputs": [
    {
     "name": "stdout",
     "output_type": "stream",
     "text": [
      "# 1. Defining a Simple Function\n",
      "# -----------------------------\n",
      "# Use the `def` keyword to define a function.\n",
      "# followed by the function name and a pair of\n",
      "# parentheses `()` and a colon `:`\n",
      "\n"
     ]
    }
   ],
   "source": [
    "print(\"\"\"# 1. Defining a Simple Function\n",
    "# -----------------------------\n",
    "# Use the `def` keyword to define a function.\n",
    "# followed by the function name and a pair of\n",
    "# parentheses `()` and a colon `:`\n",
    "\"\"\")"
   ]
  },
  {
   "cell_type": "code",
   "execution_count": 4,
   "id": "edda4767-7645-4099-b2c6-8fef3df7633b",
   "metadata": {},
   "outputs": [
    {
     "name": "stdout",
     "output_type": "stream",
     "text": [
      "I am a functions\n",
      "\n"
     ]
    }
   ],
   "source": [
    "def simple_func():\n",
    "    print(\"I am a functions\")             # This function print a message\n",
    "\n",
    "\n",
    "# Call the function\n",
    "simple_func()\n",
    "\n",
    "\n",
    "print()"
   ]
  },
  {
   "cell_type": "code",
   "execution_count": 5,
   "id": "0d14b8b6-6d88-40b3-89ff-f5d55a7e1f51",
   "metadata": {},
   "outputs": [
    {
     "name": "stdout",
     "output_type": "stream",
     "text": [
      "Hello, Nassim!\n",
      "Hello, Layla!\n"
     ]
    }
   ],
   "source": [
    "# 2. Function with Parameters\n",
    "# ---------------------------\n",
    "# Functions can accept parameters (inputs) to perform operations.\n",
    "def greet_person(name):\n",
    "    print(f\"Hello, {name}!\")                    # Using an f-string to format the greeting\n",
    "\n",
    "\n",
    "# Call the function with an argument\n",
    "greet_person(\"Nassim\")\n",
    "greet_person(\"Layla\")"
   ]
  },
  {
   "cell_type": "code",
   "execution_count": 6,
   "id": "977f3abe-bb0c-4470-b60d-6cd05e1c5be7",
   "metadata": {},
   "outputs": [
    {
     "name": "stdout",
     "output_type": "stream",
     "text": [
      "Sum: 8\n",
      "\n"
     ]
    }
   ],
   "source": [
    "# 3. Function with Return Value\n",
    "# -----------------------------\n",
    "# Functions can return a value using the `return` keyword.\n",
    "def add_numbers(a, b):\n",
    "    return a + b                         # Return the sum of `a` and `b`\n",
    "\n",
    "\n",
    "# Call the function and store the result\n",
    "result = add_numbers(5, 3)\n",
    "print(\"Sum:\", result)\n",
    "\n",
    "print()"
   ]
  },
  {
   "cell_type": "code",
   "execution_count": 7,
   "id": "9cd4e41c-6b72-4091-b93b-8224720b83f8",
   "metadata": {},
   "outputs": [
    {
     "name": "stdout",
     "output_type": "stream",
     "text": [
      "8\n",
      "\n"
     ]
    }
   ],
   "source": [
    "# =====================================================================#\n",
    "#                        Function Arguments\n",
    "# =====================================================================#\n",
    "\n",
    "# 4.1. Function with Positional Arguments\n",
    "# --------------------------------------\n",
    "# - **Positional Arguments** are assed in the order defined when the function called\n",
    "def add(a, b):\n",
    "    return a + b\n",
    "\n",
    "\n",
    "print(add(5, 3))         # Order matters: here a will 5, and b will be 3\n",
    "\n",
    "print()"
   ]
  },
  {
   "cell_type": "code",
   "execution_count": 8,
   "id": "9041b855-8d79-4c24-ae2a-7d2da028ad7a",
   "metadata": {},
   "outputs": [
    {
     "name": "stdout",
     "output_type": "stream",
     "text": [
      "Hello, Mohammad!\n",
      "Hello, Person!\n",
      "\n"
     ]
    }
   ],
   "source": [
    "# 4.2. Function with Default Arguments\n",
    "# ----------------------------------\n",
    "# You can define default values for parameters.\n",
    "def greet_with_default(name=\"Person\"):\n",
    "    print(f\"Hello, {name}!\")            # If no argument is provided, \"Person\" is used.\n",
    "\n",
    "\n",
    "# Call the function with and without an argument\n",
    "greet_with_default(\"Mohammad\")\n",
    "greet_with_default()\n",
    "\n",
    "print()"
   ]
  },
  {
   "cell_type": "code",
   "execution_count": 9,
   "id": "d390bd9e-de45-4375-8778-749d22f34aa8",
   "metadata": {},
   "outputs": [
    {
     "name": "stdout",
     "output_type": "stream",
     "text": [
      "I have a cat named Buddy.\n",
      "I have a cat named Whiskers.\n",
      "\n"
     ]
    }
   ],
   "source": [
    "# 4.3. Function with Keyword Arguments\n",
    "# ----------------------------------\n",
    "# You can use keyword arguments to make function calls more readable.\n",
    "def describe_pet(animal_type, pet_name):\n",
    "    print(f\"I have a {animal_type} named {pet_name}.\")\n",
    "\n",
    "\n",
    "# Call the function using keyword arguments\n",
    "describe_pet(animal_type=\"cat\", pet_name=\"Buddy\")\n",
    "describe_pet(pet_name=\"Whiskers\", animal_type=\"cat\")  # Order does not matter\n",
    "\n",
    "print()"
   ]
  },
  {
   "cell_type": "code",
   "execution_count": 10,
   "id": "c12f17ea-8346-4526-8051-d56ac3357e8b",
   "metadata": {},
   "outputs": [
    {
     "name": "stdout",
     "output_type": "stream",
     "text": [
      "Numbers: (10, 20, 47)\n"
     ]
    }
   ],
   "source": [
    "# 4.4 Function with Variable-Length Arguments\n",
    "# ------------------------------------------\n",
    "# Use `*args` to accept a variable number of positional arguments.\n",
    "def print_numbers(*nums):\n",
    "    print(\"Numbers:\", nums)\n",
    "\n",
    "\n",
    "# Call the function with multiple arguments\n",
    "print_numbers(10, 20, 47)"
   ]
  },
  {
   "cell_type": "code",
   "execution_count": 11,
   "id": "29bc72f2-20e1-4a01-a7cb-7735072b3b4f",
   "metadata": {},
   "outputs": [
    {
     "name": "stdout",
     "output_type": "stream",
     "text": [
      "{'n_args': 3, 'arguments': ('AA', 'BB', 'CC')}\n",
      "{'n_args': 5, 'arguments': (1, 2, 3, 4, 5)}\n",
      "\n",
      "Java\n",
      "C++\n",
      "Julia\n",
      "Python\n",
      "\n"
     ]
    }
   ],
   "source": [
    "# The conventional for arbitrary number of arguments is `*args`\n",
    "def check_elements(*args):\n",
    "    n_args = len(args)\n",
    "    args = args\n",
    "    return {\"n_args\": n_args, \"arguments\": args}\n",
    "\n",
    "\n",
    "# Call the function with different element types\n",
    "print(check_elements(\"AA\", \"BB\", \"CC\"))\n",
    "print(check_elements(1, 2, 3, 4, 5))\n",
    "\n",
    "print()\n",
    "\n",
    "# loop over the arguments\n",
    "passed_args = check_elements(\"Java\", \"C++\", \"Julia\", \"Python\").get('arguments')\n",
    "for arg in passed_args:\n",
    "    print(arg)\n",
    "\n",
    "print()"
   ]
  },
  {
   "cell_type": "code",
   "execution_count": 12,
   "id": "bf9870f1-b7a0-4a01-b431-26a9c27af3cd",
   "metadata": {},
   "outputs": [
    {
     "name": "stdout",
     "output_type": "stream",
     "text": [
      "Pet Info: {'name': 'Nassim', 'Job': 'Student', 'age': 25}\n",
      "\n"
     ]
    }
   ],
   "source": [
    "# 4.5. Function with Variable-Length of Keyword Arguments\n",
    "# -------------------------------------------------------\n",
    "# Use `**kwargs` to accept a variable number of keyword arguments.\n",
    "def print_pet_info(**info):\n",
    "    print(\"Pet Info:\", info)  # `info` is a dictionary of all keyword arguments\n",
    "\n",
    "\n",
    "# Call the function with multiple keyword arguments\n",
    "print_pet_info(name=\"Nassim\", Job=\"Student\", age=25)\n",
    "\n",
    "print()"
   ]
  },
  {
   "cell_type": "code",
   "execution_count": 13,
   "id": "31ca9797-0dc8-43a0-86a0-1756ba87f2c7",
   "metadata": {},
   "outputs": [
    {
     "name": "stdout",
     "output_type": "stream",
     "text": [
      " \n",
      "# Notes:\n",
      "# ------\n",
      "# - Functions are defined using the `def` keyword.\n",
      "# - Use `return` to return a value from a function.\n",
      "# - Default arguments provide fallback values if no argument is given.\n",
      "# - Keyword arguments can make function calls clearer.\n",
      "# - `*args` and `**kwargs` are used for functions that accept a variable number of arguments.\n",
      "\n",
      "# Practice:\n",
      "# ---------\n",
      "# Write your own functions and experiment with different types of arguments.\n",
      "\n",
      "\n"
     ]
    }
   ],
   "source": [
    "print(\"\"\" \n",
    "# Notes:\n",
    "# ------\n",
    "# - Functions are defined using the `def` keyword.\n",
    "# - Use `return` to return a value from a function.\n",
    "# - Default arguments provide fallback values if no argument is given.\n",
    "# - Keyword arguments can make function calls clearer.\n",
    "# - `*args` and `**kwargs` are used for functions that accept a variable number of arguments.\n",
    "\n",
    "# Practice:\n",
    "# ---------\n",
    "# Write your own functions and experiment with different types of arguments.\n",
    "\n",
    "\"\"\")"
   ]
  },
  {
   "cell_type": "code",
   "execution_count": 16,
   "id": "cbbe83f3-0555-4483-9009-f3873cb14345",
   "metadata": {},
   "outputs": [
    {
     "name": "stdout",
     "output_type": "stream",
     "text": [
      "************************************************************************\n",
      "My name is Ali and I am 25 years old.\n",
      "Hello, Charlie!\n",
      "Hi, Dana!\n",
      "10\n",
      "name: Eve\n",
      "age: 30\n",
      "************************************************************************\n"
     ]
    }
   ],
   "source": [
    "# Practice\n",
    "# --------\n",
    "# Read the next set of functions\n",
    "def introduce(name, age):\n",
    "    print(f\"My name is {name} and I am {age} years old.\")\n",
    "\n",
    "\n",
    "# call the function\n",
    "print(\"*\"*72)\n",
    "introduce(age=25, name=\"Ali\")\n",
    "\n",
    "\n",
    "# - **Default Arguments**: Arguments with default values\n",
    "def greet_user(name, greeting=\"Hello\"):\n",
    "    print(f\"{greeting}, {name}!\")\n",
    "\n",
    "\n",
    "greet_user(\"Charlie\")\n",
    "greet_user(\"Dana\", \"Hi\")\n",
    "\n",
    "\n",
    "# - **Variable-Length Arguments**: Using `*args` for multiple positional arguments\n",
    "def sum_all(*args):\n",
    "    return sum(args)\n",
    "\n",
    "\n",
    "print(sum_all(1, 2, 3, 4))\n",
    "\n",
    "\n",
    "# Using `**kwargs` for multiple keyword arguments\n",
    "def show_info(**kwargs):\n",
    "    for key, value in kwargs.items():\n",
    "        print(f\"{key}: {value}\")\n",
    "\n",
    "\n",
    "show_info(name=\"Eve\", age=30)\n",
    "print(\"*\"*72)"
   ]
  },
  {
   "cell_type": "code",
   "execution_count": null,
   "id": "9440e15e-a496-4437-9c50-11bf75ea7187",
   "metadata": {},
   "outputs": [],
   "source": []
  }
 ],
 "metadata": {
  "kernelspec": {
   "display_name": "Python 3 (ipykernel)",
   "language": "python",
   "name": "python3"
  },
  "language_info": {
   "codemirror_mode": {
    "name": "ipython",
    "version": 3
   },
   "file_extension": ".py",
   "mimetype": "text/x-python",
   "name": "python",
   "nbconvert_exporter": "python",
   "pygments_lexer": "ipython3",
   "version": "3.10.14"
  }
 },
 "nbformat": 4,
 "nbformat_minor": 5
}
