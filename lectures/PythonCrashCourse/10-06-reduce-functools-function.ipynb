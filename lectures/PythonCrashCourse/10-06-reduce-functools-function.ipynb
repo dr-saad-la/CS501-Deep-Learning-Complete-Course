{
 "cells": [
  {
   "cell_type": "code",
   "execution_count": 1,
   "id": "46ae1fde-e924-4a2f-a9b6-2b955fe821b7",
   "metadata": {},
   "outputs": [],
   "source": [
    "# ======================================================================= #\n",
    "# Course: Deep Learning Complete Course (CS-501)\n",
    "# Author: Dr. Saad Laouadi\n",
    "# Author: Your Name\n",
    "# Lesson: Using the reduce() Function in Python\n",
    "#\n",
    "# Description: This lesson demonstrates the `reduce()` function from the\n",
    "#              `functools` module in Python. The `reduce()` function applies\n",
    "#              a specified function cumulatively to the items of an iterable,\n",
    "#              reducing it to a single accumulated value.\n",
    "#\n",
    "# ======================================================================="
   ]
  },
  {
   "cell_type": "code",
   "execution_count": 2,
   "id": "34ba72c4-1ff5-4f6e-b14d-0d7eb53412cc",
   "metadata": {},
   "outputs": [],
   "source": [
    "# Importing the reduce() Function\n",
    "# -------------------------------\n",
    "# `reduce()` is not a built-in function, so we need to import it from the `functools` module."
   ]
  },
  {
   "cell_type": "code",
   "execution_count": 3,
   "id": "5c50a548-d558-4a47-9417-23a97497dd26",
   "metadata": {},
   "outputs": [],
   "source": [
    "from functools import reduce"
   ]
  },
  {
   "cell_type": "code",
   "execution_count": 4,
   "id": "a55b7bcd-dc79-4421-a809-78f619fa954f",
   "metadata": {},
   "outputs": [
    {
     "name": "stdout",
     "output_type": "stream",
     "text": [
      "\n",
      "# 1. Basic Use of reduce()\n",
      "# ------------------------\n",
      "# `reduce()` applies a function to the first two elements of an iterable, then applies the function to\n",
      "# the result and the next element, and so on, until the iterable is reduced to a single value.\n",
      "\n"
     ]
    }
   ],
   "source": [
    "print(\"\"\"\n",
    "# 1. Basic Use of reduce()\n",
    "# ------------------------\n",
    "# `reduce()` applies a function to the first two elements of an iterable, then applies the function to\n",
    "# the result and the next element, and so on, until the iterable is reduced to a single value.\n",
    "\"\"\")"
   ]
  },
  {
   "cell_type": "code",
   "execution_count": 5,
   "id": "00bef2c6-63f0-4f92-bcb7-08bd247d0292",
   "metadata": {},
   "outputs": [
    {
     "name": "stdout",
     "output_type": "stream",
     "text": [
      "Using reduce() to sum a list of numbers:\n",
      "Sum of Numbers: 15\n",
      "\n"
     ]
    }
   ],
   "source": [
    "print(\"Using reduce() to sum a list of numbers:\")\n",
    "numbers = [1, 2, 3, 4, 5]\n",
    "sum_result = reduce(lambda x, y: x + y, numbers)  # Sums all the numbers in the list\n",
    "print(\"Sum of Numbers:\", sum_result)  \n",
    "\n",
    "print()  "
   ]
  },
  {
   "cell_type": "code",
   "execution_count": 6,
   "id": "1fc17ebc-b8a8-4754-b874-0164a53485d0",
   "metadata": {},
   "outputs": [
    {
     "name": "stdout",
     "output_type": "stream",
     "text": [
      "Using reduce() to multiply a list of numbers:\n",
      "Product of Numbers: 120\n",
      "\n"
     ]
    }
   ],
   "source": [
    "# 2. Using reduce() for Multiplication\n",
    "# ------------------------------------\n",
    "# Example: Multiplying all numbers in a list\n",
    "print(\"Using reduce() to multiply a list of numbers:\")\n",
    "multiplication_result = reduce(lambda x, y: x * y, numbers)  # Multiplies all the numbers in the list\n",
    "print(\"Product of Numbers:\", multiplication_result)  \n",
    "\n",
    "print()  "
   ]
  },
  {
   "cell_type": "code",
   "execution_count": 7,
   "id": "a7a5eeb0-7a6e-462b-b4cc-86d7d07ef671",
   "metadata": {},
   "outputs": [
    {
     "name": "stdout",
     "output_type": "stream",
     "text": [
      "Using reduce() to find the maximum value in a list:\n",
      "Maximum Value: 8\n",
      "\n"
     ]
    }
   ],
   "source": [
    "# 3. Using reduce() to Find the Maximum Value\n",
    "# -------------------------------------------\n",
    "# Example: Finding the maximum value in a list\n",
    "print(\"Using reduce() to find the maximum value in a list:\")\n",
    "numbers = [5, 3, 8, 2, 7]\n",
    "max_value = reduce(lambda x, y: x if x > y else y, numbers)  # Finds the maximum number\n",
    "print(\"Maximum Value:\", max_value) \n",
    "\n",
    "print() "
   ]
  },
  {
   "cell_type": "code",
   "execution_count": 8,
   "id": "2264783e-815a-4486-b38f-b9e609719efc",
   "metadata": {},
   "outputs": [
    {
     "name": "stdout",
     "output_type": "stream",
     "text": [
      "Using reduce() to concatenate a list of strings:\n",
      "Concatenated Sentence: Python is fun\n",
      "\n"
     ]
    }
   ],
   "source": [
    "# 4. Using reduce() to Concatenate Strings\n",
    "# ----------------------------------------\n",
    "# Example: Concatenating a list of strings\n",
    "print(\"Using reduce() to concatenate a list of strings:\")\n",
    "words = [\"Python\", \"is\", \"fun\"]\n",
    "sentence = reduce(lambda x, y: x + \" \" + y, words)  # Concatenates all strings in the list\n",
    "print(\"Concatenated Sentence:\", sentence) \n",
    "\n",
    "print()  "
   ]
  },
  {
   "cell_type": "code",
   "execution_count": 9,
   "id": "9a9b192d-4680-48f6-8b4c-93209d136d0a",
   "metadata": {},
   "outputs": [
    {
     "name": "stdout",
     "output_type": "stream",
     "text": [
      "Using reduce() for custom accumulation to create a running total:\n",
      "Running Total: [1, 3, 6, 10, 15]\n",
      "\n"
     ]
    }
   ],
   "source": [
    "# 5. Using reduce() for Custom Accumulation\n",
    "# -----------------------------------------\n",
    "# Example: Creating a running total list\n",
    "print(\"Using reduce() for custom accumulation to create a running total:\")\n",
    "numbers = [1, 2, 3, 4, 5]\n",
    "running_total = reduce(lambda acc, x: acc + [acc[-1] + x] if acc else [x], numbers, [])\n",
    "print(\"Running Total:\", running_total) \n",
    "\n",
    "print()  "
   ]
  },
  {
   "cell_type": "code",
   "execution_count": 10,
   "id": "5147b22e-8085-4f4e-8332-c5710dee35b2",
   "metadata": {},
   "outputs": [
    {
     "name": "stdout",
     "output_type": "stream",
     "text": [
      "Real-World Example: Calculating final balance from a list of transactions:\n",
      "Initial Balance: 500\n",
      "Transactions: [100, -20, 50, -10, -30, 120]\n",
      "Final Balance: 710\n"
     ]
    }
   ],
   "source": [
    "# 6. Real-World Example: Aggregating Financial Transactions\n",
    "# ---------------------------------------------------------\n",
    "# Suppose you have a list of transactions (positive for deposits, negative for withdrawals),\n",
    "# and you want to calculate the final balance in an account.\n",
    "\n",
    "print(\"Real-World Example: Calculating final balance from a list of transactions:\")\n",
    "transactions = [100, -20, 50, -10, -30, 120]  # Example transactions\n",
    "initial_balance = 500                         # Starting balance in the account\n",
    "\n",
    "# Use reduce to accumulate the final balance\n",
    "final_balance = reduce(lambda balance, transaction: balance + transaction, transactions, initial_balance)\n",
    "print(\"Initial Balance:\", initial_balance)\n",
    "print(\"Transactions:\", transactions)\n",
    "print(\"Final Balance:\", final_balance) "
   ]
  },
  {
   "cell_type": "code",
   "execution_count": 11,
   "id": "cfc7f5ce-368f-4d1c-a8fc-2ce1766ab387",
   "metadata": {},
   "outputs": [
    {
     "name": "stdout",
     "output_type": "stream",
     "text": [
      "\n",
      "# Note:\n",
      "# -----\n",
      "# - **reduce()** is useful for performing cumulative operations on lists, such as summing,\n",
      "#   multiplying, or finding the maximum value.\n",
      "# - In real-world applications, `reduce()` can be used for tasks like calculating running totals,\n",
      "#   aggregating data, or processing a sequence of operations efficiently.\n",
      "\n",
      "# Practice:\n",
      "# ---------\n",
      "# - Try using `reduce()` to implement other real-world scenarios, such as calculating the total\n",
      "#   price of items in a shopping cart or combining data from multiple sources.\n",
      "\n"
     ]
    }
   ],
   "source": [
    "print(\"\"\"\n",
    "# Note:\n",
    "# -----\n",
    "# - **reduce()** is useful for performing cumulative operations on lists, such as summing,\n",
    "#   multiplying, or finding the maximum value.\n",
    "# - In real-world applications, `reduce()` can be used for tasks like calculating running totals,\n",
    "#   aggregating data, or processing a sequence of operations efficiently.\n",
    "\n",
    "# Practice:\n",
    "# ---------\n",
    "# - Try using `reduce()` to implement other real-world scenarios, such as calculating the total\n",
    "#   price of items in a shopping cart or combining data from multiple sources.\n",
    "\"\"\")"
   ]
  },
  {
   "cell_type": "code",
   "execution_count": null,
   "id": "ee67c4fb-63f7-4680-8c1c-077ebf0a3e53",
   "metadata": {},
   "outputs": [],
   "source": []
  }
 ],
 "metadata": {
  "kernelspec": {
   "display_name": "Mamba Base",
   "language": "python",
   "name": "base"
  },
  "language_info": {
   "codemirror_mode": {
    "name": "ipython",
    "version": 3
   },
   "file_extension": ".py",
   "mimetype": "text/x-python",
   "name": "python",
   "nbconvert_exporter": "python",
   "pygments_lexer": "ipython3",
   "version": "3.10.14"
  }
 },
 "nbformat": 4,
 "nbformat_minor": 5
}
