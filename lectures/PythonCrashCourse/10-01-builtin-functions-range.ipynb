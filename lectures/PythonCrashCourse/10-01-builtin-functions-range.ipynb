{
 "cells": [
  {
   "cell_type": "code",
   "execution_count": 9,
   "id": "d6cfa9e4-77e6-4d90-95ff-345fc93b6642",
   "metadata": {},
   "outputs": [],
   "source": [
    "# =======================================================================\n",
    "# Course: Deep Learning Complete Course (CS-501)\n",
    "# Author: Dr. Saad Laouadi\n",
    "# Lesson: Built-in Functions in Python\n",
    "#\n",
    "# Description: This program introduces the built-in function`range()`.\n",
    "#\n",
    "# Copyright© Dr. Saad Laouadi\n",
    "# ======================================================================="
   ]
  },
  {
   "cell_type": "code",
   "execution_count": 10,
   "id": "f644f69e-a0cf-4afc-be9d-49af90c7d98d",
   "metadata": {},
   "outputs": [
    {
     "name": "stdout",
     "output_type": "stream",
     "text": [
      "\n",
      "# Built-in Functions in Python\n",
      "# ----------------------------\n",
      "# Python provides a wide range of built-in functions that help streamline code.\n",
      "# Here, we'll explore some common built-in functions and how to use them.\n",
      "\n"
     ]
    }
   ],
   "source": [
    "print(\"\"\"\n",
    "# Built-in Functions in Python\n",
    "# ----------------------------\n",
    "# Python provides a wide range of built-in functions that help streamline code.\n",
    "# Here, we'll explore some common built-in functions and how to use them.\n",
    "\"\"\")"
   ]
  },
  {
   "cell_type": "code",
   "execution_count": 11,
   "id": "7d2b740b-3263-4971-b4db-dd8ceb3cd4ed",
   "metadata": {},
   "outputs": [
    {
     "name": "stdout",
     "output_type": "stream",
     "text": [
      "\n",
      "# 1. Using range()\n",
      "# ----------------\n",
      "# `range()` generates a sequence of numbers, which is commonly used in loops.\n",
      "# It can take up to three arguments: `start`, `stop`, and `step`.\n",
      "# - `start`: The starting value of the sequence (inclusive). Default is 0.\n",
      "# - `stop`: The end value of the sequence (exclusive).\n",
      "# - `step`: The amount by which the sequence increases (or decreases). Default is 1.\n",
      "\n"
     ]
    }
   ],
   "source": [
    "print(\"\"\"\n",
    "# 1. Using range()\n",
    "# ----------------\n",
    "# `range()` generates a sequence of numbers, which is commonly used in loops.\n",
    "# It can take up to three arguments: `start`, `stop`, and `step`.\n",
    "# - `start`: The starting value of the sequence (inclusive). Default is 0.\n",
    "# - `stop`: The end value of the sequence (exclusive).\n",
    "# - `step`: The amount by which the sequence increases (or decreases). Default is 1.\n",
    "\"\"\")"
   ]
  },
  {
   "cell_type": "code",
   "execution_count": 12,
   "id": "f3a2e8c0-5384-48c6-9a0c-b88f7597f2ab",
   "metadata": {},
   "outputs": [
    {
     "name": "stdout",
     "output_type": "stream",
     "text": [
      "Using range() to generate a sequence of numbers:\n",
      "0 1 2 3 4 \n"
     ]
    }
   ],
   "source": [
    "print(\"Using range() to generate a sequence of numbers:\")\n",
    "\n",
    "# Case 1: Using a single argument\n",
    "for i in range(5):        # Generates numbers from 0 to 4 (default start is 0, step is 1)\n",
    "    print(i, end=\" \")\n",
    "\n",
    "print()"
   ]
  },
  {
   "cell_type": "code",
   "execution_count": 13,
   "id": "0aa1742f-6e5b-40c4-9eee-04fb34d2cc32",
   "metadata": {},
   "outputs": [
    {
     "name": "stdout",
     "output_type": "stream",
     "text": [
      "Using range() with start and stop:\n",
      "2 3 4 5 6 \n"
     ]
    }
   ],
   "source": [
    "# Case 2: Using two arguments (start and stop)\n",
    "print(\"Using range() with start and stop:\")\n",
    "for i in range(2, 7):                         # Generates numbers from 2 to 6\n",
    "    print(i, end=\" \")\n",
    "\n",
    "print()"
   ]
  },
  {
   "cell_type": "code",
   "execution_count": 6,
   "id": "0b661c1f-81cc-4f60-afc7-82ed04ff684b",
   "metadata": {},
   "outputs": [
    {
     "name": "stdout",
     "output_type": "stream",
     "text": [
      "Using range() with start, stop, and step:\n",
      "1 3 5 7 9 \n"
     ]
    }
   ],
   "source": [
    "# Case 3: Using three arguments (start, stop, and step)\n",
    "print(\"Using range() with start, stop, and step:\")\n",
    "for i in range(1, 10, 2):           # Generates numbers from step=1 to end=9, with a step of 2\n",
    "    print(i, end=\" \")\n",
    "\n",
    "print()"
   ]
  },
  {
   "cell_type": "code",
   "execution_count": 8,
   "id": "9e46caa9-ae4b-483c-aff8-99b71592fe93",
   "metadata": {},
   "outputs": [],
   "source": [
    "# Case 4: Using a negative step\n",
    "print(\"Using range() with a negative step:\")\n",
    "for i in range(10, 0, -2):  # Generates numbers from 10 to 2, decrementing by 2\n",
    "    print(i, end=\" \")\n",
    "\n",
    "print(\"\\n\")"
   ]
  },
  {
   "cell_type": "code",
   "execution_count": 15,
   "id": "65b72fb6-33b1-4bed-be0f-64c492a2f63f",
   "metadata": {},
   "outputs": [
    {
     "name": "stdout",
     "output_type": "stream",
     "text": [
      "Using range() that creates an empty sequence:\n",
      "\n"
     ]
    }
   ],
   "source": [
    "# Case 5: Creating an empty sequence\n",
    "print(\"Using range() that creates an empty sequence:\")\n",
    "for i in range(5, 1):  # Since the stop is less than the start and the step is positive,\n",
    "    print(i, end=\" \")  # this creates an empty sequence\n",
    "\n",
    "print()"
   ]
  },
  {
   "cell_type": "code",
   "execution_count": 16,
   "id": "9a34ab93-f391-45e1-b011-66c416d85051",
   "metadata": {},
   "outputs": [],
   "source": [
    "# Practice\n",
    "# with range() function by repeating the previous concepts."
   ]
  }
 ],
 "metadata": {
  "kernelspec": {
   "display_name": "Mamba Base",
   "language": "python",
   "name": "base"
  },
  "language_info": {
   "codemirror_mode": {
    "name": "ipython",
    "version": 3
   },
   "file_extension": ".py",
   "mimetype": "text/x-python",
   "name": "python",
   "nbconvert_exporter": "python",
   "pygments_lexer": "ipython3",
   "version": "3.10.14"
  }
 },
 "nbformat": 4,
 "nbformat_minor": 5
}
