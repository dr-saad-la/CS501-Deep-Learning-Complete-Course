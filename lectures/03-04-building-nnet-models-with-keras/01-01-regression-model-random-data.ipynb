{
 "cells": [
  {
   "cell_type": "code",
   "execution_count": null,
   "id": "50026306-2640-4e16-9bf1-bec66bf41320",
   "metadata": {
    "tags": []
   },
   "outputs": [],
   "source": [
    "# ======================================================================= #\n",
    "# Course: Deep Learning Complete Course (CS-501)\n",
    "# Author: Dr. Saad Laouadi\n",
    "# Lesson: Deep Learning Regression Tutorial\n",
    "#\n",
    "# Description: Training Linear Regression with Keras 3 API\n",
    "#    \"\"\"\n",
    "#    Project Description:\n",
    "#    ------------------\n",
    "#    This notebook demonstrates how to build a deep learning regression model using TensorFlow/Keras.\n",
    "#    We'll generate synthetic data using scikit-learn, then build, train, and evaluate a neural network\n",
    "#    for regression tasks. This tutorial is designed for educational purposes to help understand the\n",
    "#    complete workflow of creating deep learning models for regression problems.\n",
    "#\n",
    "#    Objectives:\n",
    "#    ----------\n",
    "#    1. Learn how to generate synthetic regression data\n",
    "#    2. Understand deep learning model architecture for regression\n",
    "#    3. Learn the proper steps for data preprocessing\n",
    "#    4. Build and compile a neural network using Keras\n",
    "#    5. Train and evaluate the model's performance\n",
    "#    6. Visualize the results and model predictions\n",
    "#    \"\"\"\n",
    "# =======================================================================\n",
    "#.          Copyright © Dr. Saad Laouadi 2024\n",
    "# ======================================================================="
   ]
  },
  {
   "cell_type": "code",
   "execution_count": 1,
   "id": "47f0ec76-332c-40d3-a330-446845703d34",
   "metadata": {
    "tags": []
   },
   "outputs": [
    {
     "name": "stdout",
     "output_type": "stream",
     "text": [
      "========================================================================\n",
      "Author: Dr. Saad Laouadi\n",
      "\n",
      "Last updated: 2024-12-07\n",
      "\n",
      "Compiler    : Clang 14.0.6 \n",
      "OS          : Darwin\n",
      "Release     : 24.1.0\n",
      "Machine     : arm64\n",
      "Processor   : arm\n",
      "CPU cores   : 16\n",
      "Architecture: 64bit\n",
      "\n",
      "========================================================================\n",
      "Imported Packages and Their Versions:\n",
      "========================================================================\n",
      "numpy     : 1.26.4\n",
      "tensorflow: 2.16.2\n",
      "matplotlib: 3.9.2\n",
      "sys       : 3.11.10 (main, Oct  3 2024, 02:26:51) [Clang 14.0.6 ]\n",
      "pandas    : 2.2.2\n",
      "sklearn   : 1.5.1\n",
      "keras     : 3.6.0\n",
      "\n",
      "========================================================================\n"
     ]
    }
   ],
   "source": [
    "# 1. Environment Setup\n",
    "# ------------------\n",
    "import os  \n",
    "import sys \n",
    "from pathlib import Path\n",
    "from pprint import pprint\n",
    "\n",
    "# Disable Metal API Validation\n",
    "os.environ[\"METAL_DEVICE_WRAPPER_TYPE\"] = \"0\"\n",
    "\n",
    "import numpy as np\n",
    "import pandas as pd\n",
    "\n",
    "import matplotlib.pyplot as plt\n",
    "\n",
    "from sklearn.datasets import make_regression\n",
    "from sklearn.model_selection import train_test_split\n",
    "from sklearn.preprocessing import StandardScaler\n",
    "\n",
    "import tensorflow as tf\n",
    "from tensorflow import keras\n",
    "\n",
    "from tensorflow.keras.models import Sequential\n",
    "from tensorflow.keras.layers import Dense, Input\n",
    "from tensorflow.keras.optimizers import Adam\n",
    "\n",
    "\n",
    "print(\"=\"*72)\n",
    "\n",
    "%reload_ext watermark\n",
    "%watermark -a \"Dr. Saad Laouadi\" -u -d -m\n",
    "\n",
    "print(\"=\"*72)\n",
    "print(\"Imported Packages and Their Versions:\")\n",
    "print(\"=\"*72)\n",
    "\n",
    "%watermark -iv\n",
    "print(\"=\"*72)"
   ]
  },
  {
   "cell_type": "code",
   "execution_count": 2,
   "id": "105cb3d8-90c6-4ab5-a055-7acc3dcf6b83",
   "metadata": {
    "tags": []
   },
   "outputs": [],
   "source": [
    "# 2. Data Generation Function\n",
    "# -------------------------\n",
    "def generate_regression_data(n_samples=1000, n_features=1, noise=20.0, random_state=42):\n",
    "    \"\"\"\n",
    "    Generate synthetic regression data using sklearn's make_regression.\n",
    "    \n",
    "    Parameters:\n",
    "    -----------\n",
    "    n_samples : int\n",
    "        Number of samples to generate\n",
    "    n_features : int\n",
    "        Number of features (independent variables)\n",
    "    noise : float\n",
    "        Standard deviation of gaussian noise\n",
    "    random_state : int\n",
    "        Random seed for reproducibility\n",
    "        \n",
    "    Returns:\n",
    "    --------\n",
    "    X : ndarray of shape (n_samples, n_features)\n",
    "        Generated samples\n",
    "    y : ndarray of shape (n_samples,)\n",
    "        Target values\n",
    "    \"\"\"\n",
    "    X, y = make_regression(\n",
    "        n_samples=n_samples,\n",
    "        n_features=n_features,\n",
    "        noise=noise,\n",
    "        random_state=random_state\n",
    "    )\n",
    "    \n",
    "    # Reshape y to be a column vector\n",
    "    y = y.reshape(-1, 1)\n",
    "    \n",
    "    return X, y\n",
    "\n",
    "\n",
    "# Normalize the data\n",
    "def normalize_data(df):\n",
    "    \"\"\"\n",
    "    Normalize the features and target using StandardScaler.\n",
    "    \n",
    "    Parameters:\n",
    "    -----------\n",
    "    df : pandas DataFrame\n",
    "        DataFrame containing features and target\n",
    "    \n",
    "    Returns:\n",
    "    --------\n",
    "    X_scaled : numpy array\n",
    "        Normalized features\n",
    "    y_scaled : numpy array\n",
    "        Normalized target\n",
    "    scalers : tuple\n",
    "        (X_scaler, y_scaler) for inverse transformation if needed\n",
    "    \"\"\"\n",
    "    # Separate features and target\n",
    "    X_data = df.drop('Y', axis=1)\n",
    "    y_data = df['Y']\n",
    "    \n",
    "    # Create scalers\n",
    "    X_scaler = StandardScaler()\n",
    "    y_scaler = StandardScaler()\n",
    "    \n",
    "    # Fit and transform the data\n",
    "    X_scaled = X_scaler.fit_transform(X_data)\n",
    "    y_scaled = y_scaler.fit_transform(y_data.values.reshape(-1, 1))\n",
    "    \n",
    "    return X_scaled, y_scaled, (X_scaler, y_scaler)\n",
    "\n",
    "\n",
    "def normalize_features_split(X_train, X_test):\n",
    "    \"\"\"\n",
    "    Normalize features using StandardScaler after splitting.\n",
    "    Fits on training data and transforms both training and test data.\n",
    "    \n",
    "    Parameters:\n",
    "    -----------\n",
    "    X_train : numpy array or DataFrame\n",
    "        Training features\n",
    "    X_test : numpy array or DataFrame\n",
    "        Test features\n",
    "    \n",
    "    Returns:\n",
    "    --------\n",
    "    X_train_scaled : numpy array\n",
    "        Normalized training features\n",
    "    X_test_scaled : numpy array\n",
    "        Normalized test features\n",
    "    scaler : StandardScaler\n",
    "        Fitted scaler for future transformations\n",
    "    \"\"\"\n",
    "    # Create scaler\n",
    "    scaler = StandardScaler()\n",
    "    \n",
    "    # Fit and transform training data\n",
    "    X_train_scaled = scaler.fit_transform(X_train)\n",
    "    \n",
    "    # Transform test data using training fit\n",
    "    X_test_scaled = scaler.transform(X_test)\n",
    "    \n",
    "    return X_train_scaled, X_test_scaled, scaler"
   ]
  },
  {
   "cell_type": "code",
   "execution_count": 3,
   "id": "36720c1b-9270-44ae-ae92-8f7c96e67192",
   "metadata": {
    "tags": []
   },
   "outputs": [
    {
     "name": "stdout",
     "output_type": "stream",
     "text": [
      "Features shape: (10000, 3)\n",
      "Target shape: (10000, 1)\n"
     ]
    }
   ],
   "source": [
    "# Generate random data\n",
    "X, y = generate_regression_data(n_samples=10000, n_features=3, random_state=101)\n",
    "print(\"Features shape:\", X.shape)\n",
    "print(\"Target shape:\", y.shape)"
   ]
  },
  {
   "cell_type": "code",
   "execution_count": 4,
   "id": "5a4e8a8e-e1f4-4121-a262-ca0ec12125aa",
   "metadata": {
    "tags": []
   },
   "outputs": [],
   "source": [
    "# Check the data description \n",
    "df = pd.DataFrame(data = np.concatenate([X, y], axis = 1),\n",
    "                  columns = [f\"X_{i}\" for i in range(1,4)]+['Y']\n",
    "                 )"
   ]
  },
  {
   "cell_type": "code",
   "execution_count": 5,
   "id": "5fd489f3-4405-474b-b8c7-7b3c1fc875fb",
   "metadata": {
    "tags": []
   },
   "outputs": [
    {
     "data": {
      "text/html": [
       "<div>\n",
       "<style scoped>\n",
       "    .dataframe tbody tr th:only-of-type {\n",
       "        vertical-align: middle;\n",
       "    }\n",
       "\n",
       "    .dataframe tbody tr th {\n",
       "        vertical-align: top;\n",
       "    }\n",
       "\n",
       "    .dataframe thead th {\n",
       "        text-align: right;\n",
       "    }\n",
       "</style>\n",
       "<table border=\"1\" class=\"dataframe\">\n",
       "  <thead>\n",
       "    <tr style=\"text-align: right;\">\n",
       "      <th></th>\n",
       "      <th>count</th>\n",
       "      <th>mean</th>\n",
       "      <th>std</th>\n",
       "      <th>min</th>\n",
       "      <th>25%</th>\n",
       "      <th>50%</th>\n",
       "      <th>75%</th>\n",
       "      <th>max</th>\n",
       "    </tr>\n",
       "  </thead>\n",
       "  <tbody>\n",
       "    <tr>\n",
       "      <th>X_1</th>\n",
       "      <td>10000.0</td>\n",
       "      <td>-0.001262</td>\n",
       "      <td>0.994194</td>\n",
       "      <td>-3.806886</td>\n",
       "      <td>-0.674393</td>\n",
       "      <td>0.001271</td>\n",
       "      <td>0.676238</td>\n",
       "      <td>4.155123</td>\n",
       "    </tr>\n",
       "    <tr>\n",
       "      <th>X_2</th>\n",
       "      <td>10000.0</td>\n",
       "      <td>-0.004265</td>\n",
       "      <td>1.007255</td>\n",
       "      <td>-3.756504</td>\n",
       "      <td>-0.680627</td>\n",
       "      <td>-0.008693</td>\n",
       "      <td>0.678417</td>\n",
       "      <td>4.651961</td>\n",
       "    </tr>\n",
       "    <tr>\n",
       "      <th>X_3</th>\n",
       "      <td>10000.0</td>\n",
       "      <td>0.006563</td>\n",
       "      <td>0.996595</td>\n",
       "      <td>-3.919881</td>\n",
       "      <td>-0.665755</td>\n",
       "      <td>0.005914</td>\n",
       "      <td>0.666455</td>\n",
       "      <td>4.260621</td>\n",
       "    </tr>\n",
       "    <tr>\n",
       "      <th>Y</th>\n",
       "      <td>10000.0</td>\n",
       "      <td>0.453045</td>\n",
       "      <td>110.003277</td>\n",
       "      <td>-444.537202</td>\n",
       "      <td>-74.224674</td>\n",
       "      <td>-0.384304</td>\n",
       "      <td>74.285186</td>\n",
       "      <td>403.351975</td>\n",
       "    </tr>\n",
       "  </tbody>\n",
       "</table>\n",
       "</div>"
      ],
      "text/plain": [
       "       count      mean         std         min        25%       50%  \\\n",
       "X_1  10000.0 -0.001262    0.994194   -3.806886  -0.674393  0.001271   \n",
       "X_2  10000.0 -0.004265    1.007255   -3.756504  -0.680627 -0.008693   \n",
       "X_3  10000.0  0.006563    0.996595   -3.919881  -0.665755  0.005914   \n",
       "Y    10000.0  0.453045  110.003277 -444.537202 -74.224674 -0.384304   \n",
       "\n",
       "           75%         max  \n",
       "X_1   0.676238    4.155123  \n",
       "X_2   0.678417    4.651961  \n",
       "X_3   0.666455    4.260621  \n",
       "Y    74.285186  403.351975  "
      ]
     },
     "execution_count": 5,
     "metadata": {},
     "output_type": "execute_result"
    }
   ],
   "source": [
    "df.describe().T"
   ]
  },
  {
   "cell_type": "code",
   "execution_count": 6,
   "id": "74e1a632-b20b-4ddf-a1d0-63fec0e52128",
   "metadata": {
    "tags": []
   },
   "outputs": [
    {
     "name": "stdout",
     "output_type": "stream",
     "text": [
      "The X train set shape: (8000, 3)\n",
      "The X test set shape: (2000, 3)\n",
      "The y train set shape: (8000, 1)\n",
      "The y test set shape: (2000, 1)\n"
     ]
    }
   ],
   "source": [
    "# Split the data into training and testing sets\n",
    "X_train, X_test, y_train, y_test = train_test_split(\n",
    "    X, y, \n",
    "    test_size=0.2, \n",
    "    random_state=101\n",
    ")\n",
    "\n",
    "print(f\"The X train set shape: {X_train.shape}\")\n",
    "print(f\"The X test set shape: {X_test.shape}\")\n",
    "print(f\"The y train set shape: {y_train.shape}\")\n",
    "print(f\"The y test set shape: {y_test.shape}\")"
   ]
  },
  {
   "cell_type": "code",
   "execution_count": null,
   "id": "fe4df8d4-9b9d-4924-9f04-f24ea82ae7aa",
   "metadata": {
    "tags": []
   },
   "outputs": [],
   "source": [
    "# Scale the data"
   ]
  },
  {
   "cell_type": "code",
   "execution_count": 7,
   "id": "1c12c411-2a26-43b6-91f4-6e3db9737ee8",
   "metadata": {
    "tags": []
   },
   "outputs": [
    {
     "name": "stdout",
     "output_type": "stream",
     "text": [
      "\n",
      "Training set after scaling:\n",
      "X_train mean ≈ 0: [-4.34652314e-17  1.20771448e-17  5.88244731e-17]\n",
      "X_train std ≈ 1: [1. 1. 1.]\n",
      "\n",
      "Test set after scaling:\n",
      "X_test mean: [-0.02600709 -0.00427045  0.0303087 ]\n",
      "X_test std: [0.96583745 1.00918243 1.00488431]\n",
      "\n",
      "Target range (original scale):\n",
      "y_train min: -444.53720168135914\n",
      "y_train max: 403.35197543963017\n",
      "y_test min: -373.28898902886084\n",
      "y_test max: 402.2616588583003\n"
     ]
    }
   ],
   "source": [
    "# Apply normalization to our split data\n",
    "X_train_scaled, X_test_scaled, scaler = normalize_features_split(X_train, X_test)\n",
    "\n",
    "# Verify the scaling\n",
    "print(\"\\nTraining set after scaling:\")\n",
    "print(\"X_train mean ≈ 0:\", np.mean(X_train_scaled, axis=0))\n",
    "print(\"X_train std ≈ 1:\", np.std(X_train_scaled, axis=0))\n",
    "\n",
    "print(\"\\nTest set after scaling:\")\n",
    "print(\"X_test mean:\", np.mean(X_test_scaled, axis=0))\n",
    "print(\"X_test std:\", np.std(X_test_scaled, axis=0))\n",
    "\n",
    "print(\"\\nTarget range (original scale):\")\n",
    "print(\"y_train min:\", np.min(y_train))\n",
    "print(\"y_train max:\", np.max(y_train))\n",
    "print(\"y_test min:\", np.min(y_test))\n",
    "print(\"y_test max:\", np.max(y_test))"
   ]
  },
  {
   "cell_type": "code",
   "execution_count": 8,
   "id": "4e8e935d-eaaa-4702-bc94-12dcb5cf7a9e",
   "metadata": {
    "tags": []
   },
   "outputs": [
    {
     "data": {
      "text/html": [
       "<pre style=\"white-space:pre;overflow-x:auto;line-height:normal;font-family:Menlo,'DejaVu Sans Mono',consolas,'Courier New',monospace\"><span style=\"font-weight: bold\">Model: \"RegressionModel\"</span>\n",
       "</pre>\n"
      ],
      "text/plain": [
       "\u001b[1mModel: \"RegressionModel\"\u001b[0m\n"
      ]
     },
     "metadata": {},
     "output_type": "display_data"
    },
    {
     "data": {
      "text/html": [
       "<pre style=\"white-space:pre;overflow-x:auto;line-height:normal;font-family:Menlo,'DejaVu Sans Mono',consolas,'Courier New',monospace\">┏━━━━━━━━━━━━━━━━━━━━━━━━━━━━━━━━━┳━━━━━━━━━━━━━━━━━━━━━━━━┳━━━━━━━━━━━━━━━┓\n",
       "┃<span style=\"font-weight: bold\"> Layer (type)                    </span>┃<span style=\"font-weight: bold\"> Output Shape           </span>┃<span style=\"font-weight: bold\">       Param # </span>┃\n",
       "┡━━━━━━━━━━━━━━━━━━━━━━━━━━━━━━━━━╇━━━━━━━━━━━━━━━━━━━━━━━━╇━━━━━━━━━━━━━━━┩\n",
       "└─────────────────────────────────┴────────────────────────┴───────────────┘\n",
       "</pre>\n"
      ],
      "text/plain": [
       "┏━━━━━━━━━━━━━━━━━━━━━━━━━━━━━━━━━┳━━━━━━━━━━━━━━━━━━━━━━━━┳━━━━━━━━━━━━━━━┓\n",
       "┃\u001b[1m \u001b[0m\u001b[1mLayer (type)                   \u001b[0m\u001b[1m \u001b[0m┃\u001b[1m \u001b[0m\u001b[1mOutput Shape          \u001b[0m\u001b[1m \u001b[0m┃\u001b[1m \u001b[0m\u001b[1m      Param #\u001b[0m\u001b[1m \u001b[0m┃\n",
       "┡━━━━━━━━━━━━━━━━━━━━━━━━━━━━━━━━━╇━━━━━━━━━━━━━━━━━━━━━━━━╇━━━━━━━━━━━━━━━┩\n",
       "└─────────────────────────────────┴────────────────────────┴───────────────┘\n"
      ]
     },
     "metadata": {},
     "output_type": "display_data"
    },
    {
     "data": {
      "text/html": [
       "<pre style=\"white-space:pre;overflow-x:auto;line-height:normal;font-family:Menlo,'DejaVu Sans Mono',consolas,'Courier New',monospace\"><span style=\"font-weight: bold\"> Total params: </span><span style=\"color: #00af00; text-decoration-color: #00af00\">0</span> (0.00 B)\n",
       "</pre>\n"
      ],
      "text/plain": [
       "\u001b[1m Total params: \u001b[0m\u001b[38;5;34m0\u001b[0m (0.00 B)\n"
      ]
     },
     "metadata": {},
     "output_type": "display_data"
    },
    {
     "data": {
      "text/html": [
       "<pre style=\"white-space:pre;overflow-x:auto;line-height:normal;font-family:Menlo,'DejaVu Sans Mono',consolas,'Courier New',monospace\"><span style=\"font-weight: bold\"> Trainable params: </span><span style=\"color: #00af00; text-decoration-color: #00af00\">0</span> (0.00 B)\n",
       "</pre>\n"
      ],
      "text/plain": [
       "\u001b[1m Trainable params: \u001b[0m\u001b[38;5;34m0\u001b[0m (0.00 B)\n"
      ]
     },
     "metadata": {},
     "output_type": "display_data"
    },
    {
     "data": {
      "text/html": [
       "<pre style=\"white-space:pre;overflow-x:auto;line-height:normal;font-family:Menlo,'DejaVu Sans Mono',consolas,'Courier New',monospace\"><span style=\"font-weight: bold\"> Non-trainable params: </span><span style=\"color: #00af00; text-decoration-color: #00af00\">0</span> (0.00 B)\n",
       "</pre>\n"
      ],
      "text/plain": [
       "\u001b[1m Non-trainable params: \u001b[0m\u001b[38;5;34m0\u001b[0m (0.00 B)\n"
      ]
     },
     "metadata": {},
     "output_type": "display_data"
    },
    {
     "name": "stdout",
     "output_type": "stream",
     "text": [
      "None\n"
     ]
    }
   ],
   "source": [
    "# Create the Neural Network Model\n",
    "# ------------------------------\n",
    "\n",
    "\"\"\"\n",
    "Step-by-step building of a neural network for regression using the add() method.\n",
    "This tutorial assumes we have our scaled data: X_train_scaled, X_test_scaled, y_train, y_test\n",
    "\"\"\"\n",
    "\n",
    "# 1. Create an empty sequential model\n",
    "model = Sequential(name = \"RegressionModel\")\n",
    "print(model.summary())"
   ]
  },
  {
   "cell_type": "code",
   "execution_count": 9,
   "id": "10966031-3a5c-4880-a6e9-450f5e7980e9",
   "metadata": {
    "tags": []
   },
   "outputs": [],
   "source": [
    "input_shape = X_train.shape[1]             # Number of input features\n",
    "\n",
    "# 2. Add the Input layer first \n",
    "model.add(Input(shape=(input_shape,), name='The_Input_Layer'))"
   ]
  },
  {
   "cell_type": "code",
   "execution_count": 10,
   "id": "f96c2aa8-a74e-4e91-90a7-69ed7c17ed33",
   "metadata": {
    "tags": []
   },
   "outputs": [
    {
     "name": "stdout",
     "output_type": "stream",
     "text": [
      "********************************************************************************\n",
      "                            The model Configuration                             \n",
      "********************************************************************************\n",
      "{'dtype': {'class_name': 'DTypePolicy',\n",
      "           'config': {'name': 'float32'},\n",
      "           'module': 'keras',\n",
      "           'registered_name': None},\n",
      " 'layers': [{'class_name': 'InputLayer',\n",
      "             'config': {'batch_shape': (None, 3),\n",
      "                        'dtype': 'float32',\n",
      "                        'name': 'The_Input_Layer',\n",
      "                        'sparse': False},\n",
      "             'module': 'keras.layers',\n",
      "             'registered_name': None}],\n",
      " 'name': 'RegressionModel',\n",
      " 'trainable': True}\n",
      "                               The model Weights                                \n",
      "********************************************************************************\n",
      "[]\n"
     ]
    }
   ],
   "source": [
    "# Check the model specifications\n",
    "print(\"*\"*80)\n",
    "print(\"The model Configuration\".center(80))\n",
    "print(\"*\"*80)\n",
    "pprint(model.get_config())\n",
    "\n",
    "print(\"The model Weights\".center(80))\n",
    "print(\"*\"*80)\n",
    "\n",
    "pprint(model.get_weights())"
   ]
  },
  {
   "cell_type": "code",
   "execution_count": 11,
   "id": "5824b4c1-a274-4ed5-a65b-7362e66c3fc5",
   "metadata": {
    "tags": []
   },
   "outputs": [],
   "source": [
    "# 3. Add the Input Layer\n",
    "#     The first layer needs to know the input shape (number of features)\n",
    "#     units=64 means 64 neurons in this layer\n",
    "#    'relu' is a common activation function that helps the model learn non-linear patterns\n",
    "\n",
    "model.add(Dense(\n",
    "    units=64,                                  # Number of neurons in this layer\n",
    "    activation='relu',                         # Activation function\n",
    "    name='The_First_Hidden_Layer'                     # Name to identify the layer\n",
    "))"
   ]
  },
  {
   "cell_type": "code",
   "execution_count": 12,
   "id": "90b85fc2-ca8d-4b19-9fbb-bfb57eca03c0",
   "metadata": {
    "tags": []
   },
   "outputs": [
    {
     "name": "stdout",
     "output_type": "stream",
     "text": [
      "                               The model Weights                                \n",
      "********************************************************************************\n",
      "[array([[-0.11280735, -0.13879536,  0.16822976,  0.12404272, -0.24914044,\n",
      "         0.2117315 ,  0.1870569 ,  0.22267944,  0.03220436,  0.05517498,\n",
      "        -0.00310296, -0.00585634, -0.26920292, -0.2403498 ,  0.14465985,\n",
      "         0.2829681 , -0.2358036 , -0.12675905,  0.24151355,  0.12127501,\n",
      "        -0.00625318, -0.2693407 ,  0.05230916,  0.0861299 ,  0.08024824,\n",
      "        -0.07896712,  0.21467185,  0.07611108, -0.05958052, -0.04633966,\n",
      "         0.27798736, -0.15363398,  0.29513872,  0.25451595, -0.20359781,\n",
      "        -0.2632188 , -0.24357413, -0.15333582,  0.17766744, -0.18323539,\n",
      "         0.14830318, -0.22019386,  0.03893986, -0.16444726,  0.14514035,\n",
      "        -0.20740092, -0.14966694,  0.13421413, -0.14968306, -0.24666925,\n",
      "         0.08765739,  0.17244789,  0.22984225,  0.01681858,  0.15537244,\n",
      "         0.16358894, -0.08942002,  0.1691739 ,  0.03969264, -0.16152337,\n",
      "        -0.14539464,  0.2468921 ,  0.27337122,  0.03519362],\n",
      "       [ 0.09190112, -0.25190744,  0.2803617 , -0.16677454,  0.17311704,\n",
      "        -0.19947428, -0.03663555, -0.26123   ,  0.14115041,  0.09005257,\n",
      "        -0.25931665, -0.22389957,  0.20474392,  0.21105528,  0.09571642,\n",
      "        -0.07786566,  0.06018877,  0.18446422,  0.2976138 , -0.28181735,\n",
      "         0.04127628, -0.07913372, -0.29613855, -0.02798852, -0.12172157,\n",
      "        -0.03190878,  0.26591855, -0.12549756, -0.05072995,  0.03783327,\n",
      "        -0.05776981, -0.18663481,  0.18510613,  0.18512926,  0.03318727,\n",
      "        -0.029695  , -0.24284296, -0.05522698,  0.01737916,  0.11117613,\n",
      "        -0.13377693,  0.17463797,  0.08380312,  0.07567424, -0.05953936,\n",
      "        -0.14219514, -0.06570762, -0.13472863,  0.25037962, -0.02417728,\n",
      "         0.15414625, -0.279304  , -0.10237785, -0.22463274, -0.2669176 ,\n",
      "         0.1238423 ,  0.17520368, -0.07816988,  0.26196337, -0.2666056 ,\n",
      "        -0.01037735, -0.05391219,  0.02044797, -0.29378125],\n",
      "       [ 0.24243748, -0.29340068, -0.11139117, -0.28228652,  0.26144218,\n",
      "        -0.26575577,  0.13886356,  0.21316868, -0.02840805, -0.08224353,\n",
      "        -0.19736119,  0.10095197,  0.19242415, -0.02663356,  0.08071449,\n",
      "        -0.29909405,  0.06629032, -0.03460002,  0.19598812, -0.08487262,\n",
      "        -0.08895326,  0.22113365, -0.17808303,  0.11464563,  0.05788559,\n",
      "        -0.08348298,  0.10909814,  0.07200488, -0.06478304,  0.14133784,\n",
      "        -0.01640549, -0.11747012, -0.1231814 , -0.06607221,  0.08375326,\n",
      "        -0.20620555,  0.07915619, -0.09166639, -0.19609776,  0.233881  ,\n",
      "         0.18031129,  0.15762216, -0.20327297,  0.28536302,  0.14390263,\n",
      "         0.2201252 , -0.1276347 ,  0.15870136,  0.22477591,  0.1682266 ,\n",
      "        -0.24405679, -0.2784347 , -0.282196  , -0.1973061 , -0.00552422,\n",
      "        -0.06720871,  0.24941748, -0.14259383,  0.26777416, -0.08072013,\n",
      "        -0.03466886, -0.14312145,  0.15068498, -0.22635792]],\n",
      "      dtype=float32),\n",
      " array([0., 0., 0., 0., 0., 0., 0., 0., 0., 0., 0., 0., 0., 0., 0., 0., 0.,\n",
      "       0., 0., 0., 0., 0., 0., 0., 0., 0., 0., 0., 0., 0., 0., 0., 0., 0.,\n",
      "       0., 0., 0., 0., 0., 0., 0., 0., 0., 0., 0., 0., 0., 0., 0., 0., 0.,\n",
      "       0., 0., 0., 0., 0., 0., 0., 0., 0., 0., 0., 0., 0.], dtype=float32)]\n",
      "--------------------------------------------------------------------------------\n",
      "The weights shape: (3, 64)\n",
      "The bias shape: (64,)\n",
      "********************************************************************************\n"
     ]
    }
   ],
   "source": [
    "print(\"The model Weights\".center(80))\n",
    "print(\"*\"*80)\n",
    "\n",
    "pprint(model.get_weights())\n",
    "\n",
    "print(\"-\"*80)\n",
    "print(\"The weights shape:\", model.get_weights()[0].shape)\n",
    "print(\"The bias shape:\", model.get_weights()[1].shape)\n",
    "print(\"*\"*80)"
   ]
  },
  {
   "cell_type": "code",
   "execution_count": 13,
   "id": "4ca6cf84-57c3-421d-a70b-a96c1e13ee82",
   "metadata": {},
   "outputs": [],
   "source": [
    "# 4. Add First Hidden Layer\n",
    "# This layer gets its input shape automatically from the previous layer\n",
    "model.add(Dense(\n",
    "    units=32,                           # Number of neurons (smaller than previous layer)\n",
    "    activation='relu',                  # Same activation as before\n",
    "    name='hidden_layer_2'               # Name for identification\n",
    "))"
   ]
  },
  {
   "cell_type": "code",
   "execution_count": 14,
   "id": "6a78702e-9c21-47e2-90ab-860a77f7e6e5",
   "metadata": {},
   "outputs": [],
   "source": [
    "# 5. Add Third Hidden Layer\n",
    "# Making the network \"deeper\" by adding another layer\n",
    "model.add(Dense(\n",
    "    units=16,                         # Even fewer neurons\n",
    "    activation='relu',                # Same activation\n",
    "    name='hidden_layer_3'            # Name for identification\n",
    "))"
   ]
  },
  {
   "cell_type": "code",
   "execution_count": 15,
   "id": "b821d3a5-df78-4be0-aabd-56b469e66306",
   "metadata": {},
   "outputs": [],
   "source": [
    "# 6. Add Output Layer\n",
    "# For regression, we use 1 neuron and no activation function\n",
    "model.add(Dense(\n",
    "    units=1,                           # One neuron for regression\n",
    "    activation=None,                   # No activation for regression\n",
    "    name='output_layer'                # Name for identification\n",
    "))"
   ]
  },
  {
   "cell_type": "code",
   "execution_count": 16,
   "id": "961720e7-3c5a-47da-a4b5-d004f3cdc76b",
   "metadata": {},
   "outputs": [],
   "source": [
    "# 7. Compile the model\n",
    "# This sets up the model for training\n",
    "model.compile(\n",
    "    optimizer=Adam(learning_rate=0.001),  # Adam optimizer with default learning rate\n",
    "    loss='mean_squared_error',            # MSE loss for regression\n",
    "    metrics=['mae']                       # Mean Absolute Error as additional metric\n",
    ")"
   ]
  },
  {
   "cell_type": "code",
   "execution_count": 17,
   "id": "5e1e0690-1366-4ad4-9715-b1fcc3174e52",
   "metadata": {},
   "outputs": [
    {
     "name": "stdout",
     "output_type": "stream",
     "text": [
      "\n",
      "Model Architecture Summary:\n"
     ]
    },
    {
     "data": {
      "text/html": [
       "<pre style=\"white-space:pre;overflow-x:auto;line-height:normal;font-family:Menlo,'DejaVu Sans Mono',consolas,'Courier New',monospace\"><span style=\"font-weight: bold\">Model: \"RegressionModel\"</span>\n",
       "</pre>\n"
      ],
      "text/plain": [
       "\u001b[1mModel: \"RegressionModel\"\u001b[0m\n"
      ]
     },
     "metadata": {},
     "output_type": "display_data"
    },
    {
     "data": {
      "text/html": [
       "<pre style=\"white-space:pre;overflow-x:auto;line-height:normal;font-family:Menlo,'DejaVu Sans Mono',consolas,'Courier New',monospace\">┏━━━━━━━━━━━━━━━━━━━━━━━━━━━━━━━━━┳━━━━━━━━━━━━━━━━━━━━━━━━┳━━━━━━━━━━━━━━━┓\n",
       "┃<span style=\"font-weight: bold\"> Layer (type)                    </span>┃<span style=\"font-weight: bold\"> Output Shape           </span>┃<span style=\"font-weight: bold\">       Param # </span>┃\n",
       "┡━━━━━━━━━━━━━━━━━━━━━━━━━━━━━━━━━╇━━━━━━━━━━━━━━━━━━━━━━━━╇━━━━━━━━━━━━━━━┩\n",
       "│ The_First_Hidden_Layer (<span style=\"color: #0087ff; text-decoration-color: #0087ff\">Dense</span>)  │ (<span style=\"color: #00d7ff; text-decoration-color: #00d7ff\">None</span>, <span style=\"color: #00af00; text-decoration-color: #00af00\">64</span>)             │           <span style=\"color: #00af00; text-decoration-color: #00af00\">256</span> │\n",
       "├─────────────────────────────────┼────────────────────────┼───────────────┤\n",
       "│ hidden_layer_2 (<span style=\"color: #0087ff; text-decoration-color: #0087ff\">Dense</span>)          │ (<span style=\"color: #00d7ff; text-decoration-color: #00d7ff\">None</span>, <span style=\"color: #00af00; text-decoration-color: #00af00\">32</span>)             │         <span style=\"color: #00af00; text-decoration-color: #00af00\">2,080</span> │\n",
       "├─────────────────────────────────┼────────────────────────┼───────────────┤\n",
       "│ hidden_layer_3 (<span style=\"color: #0087ff; text-decoration-color: #0087ff\">Dense</span>)          │ (<span style=\"color: #00d7ff; text-decoration-color: #00d7ff\">None</span>, <span style=\"color: #00af00; text-decoration-color: #00af00\">16</span>)             │           <span style=\"color: #00af00; text-decoration-color: #00af00\">528</span> │\n",
       "├─────────────────────────────────┼────────────────────────┼───────────────┤\n",
       "│ output_layer (<span style=\"color: #0087ff; text-decoration-color: #0087ff\">Dense</span>)            │ (<span style=\"color: #00d7ff; text-decoration-color: #00d7ff\">None</span>, <span style=\"color: #00af00; text-decoration-color: #00af00\">1</span>)              │            <span style=\"color: #00af00; text-decoration-color: #00af00\">17</span> │\n",
       "└─────────────────────────────────┴────────────────────────┴───────────────┘\n",
       "</pre>\n"
      ],
      "text/plain": [
       "┏━━━━━━━━━━━━━━━━━━━━━━━━━━━━━━━━━┳━━━━━━━━━━━━━━━━━━━━━━━━┳━━━━━━━━━━━━━━━┓\n",
       "┃\u001b[1m \u001b[0m\u001b[1mLayer (type)                   \u001b[0m\u001b[1m \u001b[0m┃\u001b[1m \u001b[0m\u001b[1mOutput Shape          \u001b[0m\u001b[1m \u001b[0m┃\u001b[1m \u001b[0m\u001b[1m      Param #\u001b[0m\u001b[1m \u001b[0m┃\n",
       "┡━━━━━━━━━━━━━━━━━━━━━━━━━━━━━━━━━╇━━━━━━━━━━━━━━━━━━━━━━━━╇━━━━━━━━━━━━━━━┩\n",
       "│ The_First_Hidden_Layer (\u001b[38;5;33mDense\u001b[0m)  │ (\u001b[38;5;45mNone\u001b[0m, \u001b[38;5;34m64\u001b[0m)             │           \u001b[38;5;34m256\u001b[0m │\n",
       "├─────────────────────────────────┼────────────────────────┼───────────────┤\n",
       "│ hidden_layer_2 (\u001b[38;5;33mDense\u001b[0m)          │ (\u001b[38;5;45mNone\u001b[0m, \u001b[38;5;34m32\u001b[0m)             │         \u001b[38;5;34m2,080\u001b[0m │\n",
       "├─────────────────────────────────┼────────────────────────┼───────────────┤\n",
       "│ hidden_layer_3 (\u001b[38;5;33mDense\u001b[0m)          │ (\u001b[38;5;45mNone\u001b[0m, \u001b[38;5;34m16\u001b[0m)             │           \u001b[38;5;34m528\u001b[0m │\n",
       "├─────────────────────────────────┼────────────────────────┼───────────────┤\n",
       "│ output_layer (\u001b[38;5;33mDense\u001b[0m)            │ (\u001b[38;5;45mNone\u001b[0m, \u001b[38;5;34m1\u001b[0m)              │            \u001b[38;5;34m17\u001b[0m │\n",
       "└─────────────────────────────────┴────────────────────────┴───────────────┘\n"
      ]
     },
     "metadata": {},
     "output_type": "display_data"
    },
    {
     "data": {
      "text/html": [
       "<pre style=\"white-space:pre;overflow-x:auto;line-height:normal;font-family:Menlo,'DejaVu Sans Mono',consolas,'Courier New',monospace\"><span style=\"font-weight: bold\"> Total params: </span><span style=\"color: #00af00; text-decoration-color: #00af00\">2,881</span> (11.25 KB)\n",
       "</pre>\n"
      ],
      "text/plain": [
       "\u001b[1m Total params: \u001b[0m\u001b[38;5;34m2,881\u001b[0m (11.25 KB)\n"
      ]
     },
     "metadata": {},
     "output_type": "display_data"
    },
    {
     "data": {
      "text/html": [
       "<pre style=\"white-space:pre;overflow-x:auto;line-height:normal;font-family:Menlo,'DejaVu Sans Mono',consolas,'Courier New',monospace\"><span style=\"font-weight: bold\"> Trainable params: </span><span style=\"color: #00af00; text-decoration-color: #00af00\">2,881</span> (11.25 KB)\n",
       "</pre>\n"
      ],
      "text/plain": [
       "\u001b[1m Trainable params: \u001b[0m\u001b[38;5;34m2,881\u001b[0m (11.25 KB)\n"
      ]
     },
     "metadata": {},
     "output_type": "display_data"
    },
    {
     "data": {
      "text/html": [
       "<pre style=\"white-space:pre;overflow-x:auto;line-height:normal;font-family:Menlo,'DejaVu Sans Mono',consolas,'Courier New',monospace\"><span style=\"font-weight: bold\"> Non-trainable params: </span><span style=\"color: #00af00; text-decoration-color: #00af00\">0</span> (0.00 B)\n",
       "</pre>\n"
      ],
      "text/plain": [
       "\u001b[1m Non-trainable params: \u001b[0m\u001b[38;5;34m0\u001b[0m (0.00 B)\n"
      ]
     },
     "metadata": {},
     "output_type": "display_data"
    }
   ],
   "source": [
    "# 8. Print model summary to see the architecture\n",
    "print(\"\\nModel Architecture Summary:\")\n",
    "model.summary()"
   ]
  },
  {
   "cell_type": "code",
   "execution_count": 18,
   "id": "71091f57-4ed4-4859-915e-f2346bd3ea7f",
   "metadata": {},
   "outputs": [
    {
     "name": "stdout",
     "output_type": "stream",
     "text": [
      "\n",
      "Training the model...\n",
      "Epoch 1/50\n",
      "\u001b[1m200/200\u001b[0m \u001b[32m━━━━━━━━━━━━━━━━━━━━\u001b[0m\u001b[37m\u001b[0m \u001b[1m2s\u001b[0m 7ms/step - loss: 10932.4014 - mae: 82.6856 - val_loss: 1433.2024 - val_mae: 26.8693\n",
      "Epoch 2/50\n",
      "\u001b[1m200/200\u001b[0m \u001b[32m━━━━━━━━━━━━━━━━━━━━\u001b[0m\u001b[37m\u001b[0m \u001b[1m1s\u001b[0m 6ms/step - loss: 895.5363 - mae: 22.6661 - val_loss: 515.7065 - val_mae: 18.2796\n",
      "Epoch 3/50\n",
      "\u001b[1m200/200\u001b[0m \u001b[32m━━━━━━━━━━━━━━━━━━━━\u001b[0m\u001b[37m\u001b[0m \u001b[1m1s\u001b[0m 6ms/step - loss: 509.2885 - mae: 17.8660 - val_loss: 459.8033 - val_mae: 17.1266\n",
      "Epoch 4/50\n",
      "\u001b[1m200/200\u001b[0m \u001b[32m━━━━━━━━━━━━━━━━━━━━\u001b[0m\u001b[37m\u001b[0m \u001b[1m1s\u001b[0m 6ms/step - loss: 485.0471 - mae: 17.6118 - val_loss: 433.3835 - val_mae: 16.5610\n",
      "Epoch 5/50\n",
      "\u001b[1m200/200\u001b[0m \u001b[32m━━━━━━━━━━━━━━━━━━━━\u001b[0m\u001b[37m\u001b[0m \u001b[1m1s\u001b[0m 6ms/step - loss: 441.4229 - mae: 16.7078 - val_loss: 419.6001 - val_mae: 16.3840\n",
      "Epoch 6/50\n",
      "\u001b[1m200/200\u001b[0m \u001b[32m━━━━━━━━━━━━━━━━━━━━\u001b[0m\u001b[37m\u001b[0m \u001b[1m1s\u001b[0m 6ms/step - loss: 430.0502 - mae: 16.7007 - val_loss: 406.0601 - val_mae: 16.1316\n",
      "Epoch 7/50\n",
      "\u001b[1m200/200\u001b[0m \u001b[32m━━━━━━━━━━━━━━━━━━━━\u001b[0m\u001b[37m\u001b[0m \u001b[1m1s\u001b[0m 6ms/step - loss: 426.1838 - mae: 16.4440 - val_loss: 396.9168 - val_mae: 15.8945\n",
      "Epoch 8/50\n",
      "\u001b[1m200/200\u001b[0m \u001b[32m━━━━━━━━━━━━━━━━━━━━\u001b[0m\u001b[37m\u001b[0m \u001b[1m1s\u001b[0m 6ms/step - loss: 413.4541 - mae: 16.2740 - val_loss: 391.3751 - val_mae: 15.7551\n",
      "Epoch 9/50\n",
      "\u001b[1m200/200\u001b[0m \u001b[32m━━━━━━━━━━━━━━━━━━━━\u001b[0m\u001b[37m\u001b[0m \u001b[1m1s\u001b[0m 6ms/step - loss: 428.4504 - mae: 16.5684 - val_loss: 391.1568 - val_mae: 15.7422\n",
      "Epoch 10/50\n",
      "\u001b[1m200/200\u001b[0m \u001b[32m━━━━━━━━━━━━━━━━━━━━\u001b[0m\u001b[37m\u001b[0m \u001b[1m1s\u001b[0m 6ms/step - loss: 413.2958 - mae: 16.1686 - val_loss: 397.0144 - val_mae: 15.8776\n",
      "Epoch 11/50\n",
      "\u001b[1m200/200\u001b[0m \u001b[32m━━━━━━━━━━━━━━━━━━━━\u001b[0m\u001b[37m\u001b[0m \u001b[1m1s\u001b[0m 6ms/step - loss: 416.0598 - mae: 16.3236 - val_loss: 399.5708 - val_mae: 15.9493\n",
      "Epoch 12/50\n",
      "\u001b[1m200/200\u001b[0m \u001b[32m━━━━━━━━━━━━━━━━━━━━\u001b[0m\u001b[37m\u001b[0m \u001b[1m1s\u001b[0m 6ms/step - loss: 403.4276 - mae: 15.9248 - val_loss: 402.2991 - val_mae: 15.9488\n",
      "Epoch 13/50\n",
      "\u001b[1m200/200\u001b[0m \u001b[32m━━━━━━━━━━━━━━━━━━━━\u001b[0m\u001b[37m\u001b[0m \u001b[1m1s\u001b[0m 6ms/step - loss: 419.0601 - mae: 16.2569 - val_loss: 387.3779 - val_mae: 15.6651\n",
      "Epoch 14/50\n",
      "\u001b[1m200/200\u001b[0m \u001b[32m━━━━━━━━━━━━━━━━━━━━\u001b[0m\u001b[37m\u001b[0m \u001b[1m1s\u001b[0m 6ms/step - loss: 417.2954 - mae: 16.3859 - val_loss: 390.0948 - val_mae: 15.7264\n",
      "Epoch 15/50\n",
      "\u001b[1m200/200\u001b[0m \u001b[32m━━━━━━━━━━━━━━━━━━━━\u001b[0m\u001b[37m\u001b[0m \u001b[1m1s\u001b[0m 6ms/step - loss: 416.3858 - mae: 16.3086 - val_loss: 389.3523 - val_mae: 15.7037\n",
      "Epoch 16/50\n",
      "\u001b[1m200/200\u001b[0m \u001b[32m━━━━━━━━━━━━━━━━━━━━\u001b[0m\u001b[37m\u001b[0m \u001b[1m1s\u001b[0m 6ms/step - loss: 417.1230 - mae: 16.2808 - val_loss: 389.9962 - val_mae: 15.7181\n",
      "Epoch 17/50\n",
      "\u001b[1m200/200\u001b[0m \u001b[32m━━━━━━━━━━━━━━━━━━━━\u001b[0m\u001b[37m\u001b[0m \u001b[1m1s\u001b[0m 6ms/step - loss: 415.6098 - mae: 16.2749 - val_loss: 387.3016 - val_mae: 15.6460\n",
      "Epoch 18/50\n",
      "\u001b[1m200/200\u001b[0m \u001b[32m━━━━━━━━━━━━━━━━━━━━\u001b[0m\u001b[37m\u001b[0m \u001b[1m1s\u001b[0m 6ms/step - loss: 420.2224 - mae: 16.4433 - val_loss: 390.5675 - val_mae: 15.7160\n",
      "Epoch 19/50\n",
      "\u001b[1m200/200\u001b[0m \u001b[32m━━━━━━━━━━━━━━━━━━━━\u001b[0m\u001b[37m\u001b[0m \u001b[1m1s\u001b[0m 6ms/step - loss: 408.9588 - mae: 16.1600 - val_loss: 395.5321 - val_mae: 15.8161\n",
      "Epoch 20/50\n",
      "\u001b[1m200/200\u001b[0m \u001b[32m━━━━━━━━━━━━━━━━━━━━\u001b[0m\u001b[37m\u001b[0m \u001b[1m1s\u001b[0m 7ms/step - loss: 396.0657 - mae: 15.9132 - val_loss: 387.8784 - val_mae: 15.6458\n",
      "Epoch 21/50\n",
      "\u001b[1m200/200\u001b[0m \u001b[32m━━━━━━━━━━━━━━━━━━━━\u001b[0m\u001b[37m\u001b[0m \u001b[1m1s\u001b[0m 7ms/step - loss: 404.0143 - mae: 16.1762 - val_loss: 389.8637 - val_mae: 15.7124\n",
      "Epoch 22/50\n",
      "\u001b[1m200/200\u001b[0m \u001b[32m━━━━━━━━━━━━━━━━━━━━\u001b[0m\u001b[37m\u001b[0m \u001b[1m1s\u001b[0m 6ms/step - loss: 407.3832 - mae: 16.0990 - val_loss: 389.7714 - val_mae: 15.6814\n",
      "Epoch 23/50\n",
      "\u001b[1m200/200\u001b[0m \u001b[32m━━━━━━━━━━━━━━━━━━━━\u001b[0m\u001b[37m\u001b[0m \u001b[1m1s\u001b[0m 6ms/step - loss: 409.5270 - mae: 16.2504 - val_loss: 398.1654 - val_mae: 15.8455\n",
      "Epoch 24/50\n",
      "\u001b[1m200/200\u001b[0m \u001b[32m━━━━━━━━━━━━━━━━━━━━\u001b[0m\u001b[37m\u001b[0m \u001b[1m1s\u001b[0m 6ms/step - loss: 402.9305 - mae: 16.0043 - val_loss: 387.9339 - val_mae: 15.6701\n",
      "Epoch 25/50\n",
      "\u001b[1m200/200\u001b[0m \u001b[32m━━━━━━━━━━━━━━━━━━━━\u001b[0m\u001b[37m\u001b[0m \u001b[1m1s\u001b[0m 6ms/step - loss: 421.5804 - mae: 16.4307 - val_loss: 390.0925 - val_mae: 15.6684\n",
      "Epoch 26/50\n",
      "\u001b[1m200/200\u001b[0m \u001b[32m━━━━━━━━━━━━━━━━━━━━\u001b[0m\u001b[37m\u001b[0m \u001b[1m1s\u001b[0m 6ms/step - loss: 406.9073 - mae: 16.0286 - val_loss: 387.7100 - val_mae: 15.6424\n",
      "Epoch 27/50\n",
      "\u001b[1m200/200\u001b[0m \u001b[32m━━━━━━━━━━━━━━━━━━━━\u001b[0m\u001b[37m\u001b[0m \u001b[1m1s\u001b[0m 6ms/step - loss: 411.5796 - mae: 16.2097 - val_loss: 391.9491 - val_mae: 15.7449\n",
      "Epoch 28/50\n",
      "\u001b[1m200/200\u001b[0m \u001b[32m━━━━━━━━━━━━━━━━━━━━\u001b[0m\u001b[37m\u001b[0m \u001b[1m1s\u001b[0m 6ms/step - loss: 419.1252 - mae: 16.3435 - val_loss: 387.3548 - val_mae: 15.6404\n",
      "Epoch 29/50\n",
      "\u001b[1m200/200\u001b[0m \u001b[32m━━━━━━━━━━━━━━━━━━━━\u001b[0m\u001b[37m\u001b[0m \u001b[1m1s\u001b[0m 6ms/step - loss: 405.5604 - mae: 16.0607 - val_loss: 385.9169 - val_mae: 15.6251\n",
      "Epoch 30/50\n",
      "\u001b[1m200/200\u001b[0m \u001b[32m━━━━━━━━━━━━━━━━━━━━\u001b[0m\u001b[37m\u001b[0m \u001b[1m1s\u001b[0m 6ms/step - loss: 415.8991 - mae: 16.2442 - val_loss: 420.2483 - val_mae: 16.3311\n",
      "Epoch 31/50\n",
      "\u001b[1m200/200\u001b[0m \u001b[32m━━━━━━━━━━━━━━━━━━━━\u001b[0m\u001b[37m\u001b[0m \u001b[1m1s\u001b[0m 6ms/step - loss: 411.4044 - mae: 16.1524 - val_loss: 393.4152 - val_mae: 15.7556\n",
      "Epoch 32/50\n",
      "\u001b[1m200/200\u001b[0m \u001b[32m━━━━━━━━━━━━━━━━━━━━\u001b[0m\u001b[37m\u001b[0m \u001b[1m1s\u001b[0m 6ms/step - loss: 399.0220 - mae: 15.8655 - val_loss: 389.2936 - val_mae: 15.6890\n",
      "Epoch 33/50\n",
      "\u001b[1m200/200\u001b[0m \u001b[32m━━━━━━━━━━━━━━━━━━━━\u001b[0m\u001b[37m\u001b[0m \u001b[1m1s\u001b[0m 6ms/step - loss: 399.1463 - mae: 15.8666 - val_loss: 387.7526 - val_mae: 15.6793\n",
      "Epoch 34/50\n",
      "\u001b[1m200/200\u001b[0m \u001b[32m━━━━━━━━━━━━━━━━━━━━\u001b[0m\u001b[37m\u001b[0m \u001b[1m1s\u001b[0m 6ms/step - loss: 408.8272 - mae: 16.1874 - val_loss: 388.9507 - val_mae: 15.6725\n",
      "Epoch 35/50\n",
      "\u001b[1m200/200\u001b[0m \u001b[32m━━━━━━━━━━━━━━━━━━━━\u001b[0m\u001b[37m\u001b[0m \u001b[1m1s\u001b[0m 6ms/step - loss: 404.0830 - mae: 16.0207 - val_loss: 398.7250 - val_mae: 15.8665\n",
      "Epoch 36/50\n",
      "\u001b[1m200/200\u001b[0m \u001b[32m━━━━━━━━━━━━━━━━━━━━\u001b[0m\u001b[37m\u001b[0m \u001b[1m1s\u001b[0m 7ms/step - loss: 431.0657 - mae: 16.5480 - val_loss: 396.9604 - val_mae: 15.8749\n",
      "Epoch 37/50\n",
      "\u001b[1m200/200\u001b[0m \u001b[32m━━━━━━━━━━━━━━━━━━━━\u001b[0m\u001b[37m\u001b[0m \u001b[1m1s\u001b[0m 6ms/step - loss: 422.0094 - mae: 16.3727 - val_loss: 397.0960 - val_mae: 15.8096\n",
      "Epoch 38/50\n",
      "\u001b[1m200/200\u001b[0m \u001b[32m━━━━━━━━━━━━━━━━━━━━\u001b[0m\u001b[37m\u001b[0m \u001b[1m1s\u001b[0m 6ms/step - loss: 400.2486 - mae: 16.0181 - val_loss: 395.4033 - val_mae: 15.8378\n",
      "Epoch 39/50\n",
      "\u001b[1m200/200\u001b[0m \u001b[32m━━━━━━━━━━━━━━━━━━━━\u001b[0m\u001b[37m\u001b[0m \u001b[1m1s\u001b[0m 6ms/step - loss: 406.6381 - mae: 16.1318 - val_loss: 389.2125 - val_mae: 15.7012\n",
      "Epoch 40/50\n",
      "\u001b[1m200/200\u001b[0m \u001b[32m━━━━━━━━━━━━━━━━━━━━\u001b[0m\u001b[37m\u001b[0m \u001b[1m1s\u001b[0m 6ms/step - loss: 407.0195 - mae: 16.1392 - val_loss: 393.9917 - val_mae: 15.7895\n",
      "Epoch 41/50\n",
      "\u001b[1m200/200\u001b[0m \u001b[32m━━━━━━━━━━━━━━━━━━━━\u001b[0m\u001b[37m\u001b[0m \u001b[1m1s\u001b[0m 6ms/step - loss: 414.6984 - mae: 16.3080 - val_loss: 392.0423 - val_mae: 15.7231\n",
      "Epoch 42/50\n",
      "\u001b[1m200/200\u001b[0m \u001b[32m━━━━━━━━━━━━━━━━━━━━\u001b[0m\u001b[37m\u001b[0m \u001b[1m1s\u001b[0m 6ms/step - loss: 416.4036 - mae: 16.3041 - val_loss: 387.8564 - val_mae: 15.6618\n",
      "Epoch 43/50\n",
      "\u001b[1m200/200\u001b[0m \u001b[32m━━━━━━━━━━━━━━━━━━━━\u001b[0m\u001b[37m\u001b[0m \u001b[1m1s\u001b[0m 6ms/step - loss: 410.4703 - mae: 16.1774 - val_loss: 402.4550 - val_mae: 15.9933\n",
      "Epoch 44/50\n",
      "\u001b[1m200/200\u001b[0m \u001b[32m━━━━━━━━━━━━━━━━━━━━\u001b[0m\u001b[37m\u001b[0m \u001b[1m1s\u001b[0m 6ms/step - loss: 403.8788 - mae: 16.0079 - val_loss: 391.5131 - val_mae: 15.7054\n",
      "Epoch 45/50\n",
      "\u001b[1m200/200\u001b[0m \u001b[32m━━━━━━━━━━━━━━━━━━━━\u001b[0m\u001b[37m\u001b[0m \u001b[1m1s\u001b[0m 6ms/step - loss: 411.2193 - mae: 16.1760 - val_loss: 392.6559 - val_mae: 15.7457\n",
      "Epoch 46/50\n",
      "\u001b[1m200/200\u001b[0m \u001b[32m━━━━━━━━━━━━━━━━━━━━\u001b[0m\u001b[37m\u001b[0m \u001b[1m1s\u001b[0m 6ms/step - loss: 406.2263 - mae: 16.0768 - val_loss: 386.6159 - val_mae: 15.6306\n",
      "Epoch 47/50\n",
      "\u001b[1m200/200\u001b[0m \u001b[32m━━━━━━━━━━━━━━━━━━━━\u001b[0m\u001b[37m\u001b[0m \u001b[1m1s\u001b[0m 6ms/step - loss: 407.6922 - mae: 16.2102 - val_loss: 391.7659 - val_mae: 15.7563\n",
      "Epoch 48/50\n",
      "\u001b[1m200/200\u001b[0m \u001b[32m━━━━━━━━━━━━━━━━━━━━\u001b[0m\u001b[37m\u001b[0m \u001b[1m1s\u001b[0m 6ms/step - loss: 409.2050 - mae: 16.1616 - val_loss: 392.1539 - val_mae: 15.7296\n",
      "Epoch 49/50\n",
      "\u001b[1m200/200\u001b[0m \u001b[32m━━━━━━━━━━━━━━━━━━━━\u001b[0m\u001b[37m\u001b[0m \u001b[1m1s\u001b[0m 6ms/step - loss: 409.4359 - mae: 16.2191 - val_loss: 399.1994 - val_mae: 15.8649\n",
      "Epoch 50/50\n",
      "\u001b[1m200/200\u001b[0m \u001b[32m━━━━━━━━━━━━━━━━━━━━\u001b[0m\u001b[37m\u001b[0m \u001b[1m1s\u001b[0m 6ms/step - loss: 409.2921 - mae: 16.0280 - val_loss: 397.9404 - val_mae: 15.9004\n"
     ]
    }
   ],
   "source": [
    "# 9. Train the model\n",
    "print(\"\\nTraining the model...\")\n",
    "history = model.fit(\n",
    "    X_train_scaled,                     # Scaled input features\n",
    "    y_train,                            # Target values (not scaled)\n",
    "    epochs=50,                          # Number of training iterations\n",
    "    batch_size=32,                      # Samples per training iteration\n",
    "    validation_split=0.2,               # Use 20% of training data for validation\n",
    "    verbose=1                           # Show training progress\n",
    ")"
   ]
  },
  {
   "cell_type": "code",
   "execution_count": 19,
   "id": "e8672ab3-2b55-47ca-bd14-a20a8edc1d4b",
   "metadata": {},
   "outputs": [
    {
     "name": "stdout",
     "output_type": "stream",
     "text": [
      "\n",
      "Evaluating the model on test data:\n",
      "Test Loss (MSE)          : 416.6631\n",
      "Test MAE                 : 16.1967\n"
     ]
    }
   ],
   "source": [
    "# 10. Evaluate the model on test data\n",
    "print(\"\\nEvaluating the model on test data:\")\n",
    "test_loss, test_mae = model.evaluate(X_test_scaled, y_test, verbose=0)\n",
    "print(f\"{'Test Loss (MSE)':<25}: {test_loss:.4f}\")\n",
    "print(f\"{'Test MAE':<25}: {test_mae:.4f}\")"
   ]
  },
  {
   "cell_type": "code",
   "execution_count": 20,
   "id": "f8105cbd-bd15-45b0-b3e7-b41ac4610d71",
   "metadata": {},
   "outputs": [
    {
     "name": "stdout",
     "output_type": "stream",
     "text": [
      "\u001b[1m63/63\u001b[0m \u001b[32m━━━━━━━━━━━━━━━━━━━━\u001b[0m\u001b[37m\u001b[0m \u001b[1m0s\u001b[0m 1ms/step  \n"
     ]
    }
   ],
   "source": [
    "# 11. Make predictions\n",
    "predictions = model.predict(X_test_scaled)"
   ]
  },
  {
   "cell_type": "code",
   "execution_count": 21,
   "id": "eeac6408-741b-4291-a767-3a7f0f0c455d",
   "metadata": {},
   "outputs": [
    {
     "data": {
      "image/png": "[encoded data removed]",
      "text/plain": [
       "<Figure size 1000x600 with 1 Axes>"
      ]
     },
     "metadata": {},
     "output_type": "display_data"
    }
   ],
   "source": [
    "# 11. Visualize Results\n",
    "plt.figure(figsize=(10, 6))\n",
    "plt.scatter(y_test, predictions, alpha=0.5)\n",
    "plt.plot([y_test.min(), y_test.max()], [y_test.min(), y_test.max()], 'r--', lw=2)\n",
    "plt.xlabel('Actual Values')\n",
    "plt.ylabel('Predicted Values')\n",
    "plt.title('Actual vs Predicted Values')\n",
    "plt.tight_layout()\n",
    "plt.show()"
   ]
  },
  {
   "cell_type": "markdown",
   "id": "8449dca7-70c1-452a-8f37-02bf83e5ab6f",
   "metadata": {},
   "source": [
    "---"
   ]
  },
  {
   "cell_type": "markdown",
   "id": "20b7089d-1f4e-42dd-8a00-a4c9ee4b2c74",
   "metadata": {},
   "source": [
    "# Using a List of Layer Syntax with `Sequential`"
   ]
  },
  {
   "cell_type": "code",
   "execution_count": null,
   "id": "884a6b7e-6565-4a72-aeae-5409748675bf",
   "metadata": {},
   "outputs": [],
   "source": []
  },
  {
   "cell_type": "code",
   "execution_count": 22,
   "id": "4b972c9c-c3c1-4e93-91f8-63cb57852e3a",
   "metadata": {
    "tags": []
   },
   "outputs": [
    {
     "name": "stdout",
     "output_type": "stream",
     "text": [
      "\n",
      "Model Architecture Summary:\n"
     ]
    },
    {
     "data": {
      "text/html": [
       "<pre style=\"white-space:pre;overflow-x:auto;line-height:normal;font-family:Menlo,'DejaVu Sans Mono',consolas,'Courier New',monospace\"><span style=\"font-weight: bold\">Model: \"sequential\"</span>\n",
       "</pre>\n"
      ],
      "text/plain": [
       "\u001b[1mModel: \"sequential\"\u001b[0m\n"
      ]
     },
     "metadata": {},
     "output_type": "display_data"
    },
    {
     "data": {
      "text/html": [
       "<pre style=\"white-space:pre;overflow-x:auto;line-height:normal;font-family:Menlo,'DejaVu Sans Mono',consolas,'Courier New',monospace\">┏━━━━━━━━━━━━━━━━━━━━━━━━━━━━━━━━━┳━━━━━━━━━━━━━━━━━━━━━━━━┳━━━━━━━━━━━━━━━┓\n",
       "┃<span style=\"font-weight: bold\"> Layer (type)                    </span>┃<span style=\"font-weight: bold\"> Output Shape           </span>┃<span style=\"font-weight: bold\">       Param # </span>┃\n",
       "┡━━━━━━━━━━━━━━━━━━━━━━━━━━━━━━━━━╇━━━━━━━━━━━━━━━━━━━━━━━━╇━━━━━━━━━━━━━━━┩\n",
       "│ dense_layer_1 (<span style=\"color: #0087ff; text-decoration-color: #0087ff\">Dense</span>)           │ (<span style=\"color: #00d7ff; text-decoration-color: #00d7ff\">None</span>, <span style=\"color: #00af00; text-decoration-color: #00af00\">64</span>)             │           <span style=\"color: #00af00; text-decoration-color: #00af00\">256</span> │\n",
       "├─────────────────────────────────┼────────────────────────┼───────────────┤\n",
       "│ hidden_layer_1 (<span style=\"color: #0087ff; text-decoration-color: #0087ff\">Dense</span>)          │ (<span style=\"color: #00d7ff; text-decoration-color: #00d7ff\">None</span>, <span style=\"color: #00af00; text-decoration-color: #00af00\">32</span>)             │         <span style=\"color: #00af00; text-decoration-color: #00af00\">2,080</span> │\n",
       "├─────────────────────────────────┼────────────────────────┼───────────────┤\n",
       "│ hidden_layer_2 (<span style=\"color: #0087ff; text-decoration-color: #0087ff\">Dense</span>)          │ (<span style=\"color: #00d7ff; text-decoration-color: #00d7ff\">None</span>, <span style=\"color: #00af00; text-decoration-color: #00af00\">16</span>)             │           <span style=\"color: #00af00; text-decoration-color: #00af00\">528</span> │\n",
       "├─────────────────────────────────┼────────────────────────┼───────────────┤\n",
       "│ output_layer (<span style=\"color: #0087ff; text-decoration-color: #0087ff\">Dense</span>)            │ (<span style=\"color: #00d7ff; text-decoration-color: #00d7ff\">None</span>, <span style=\"color: #00af00; text-decoration-color: #00af00\">1</span>)              │            <span style=\"color: #00af00; text-decoration-color: #00af00\">17</span> │\n",
       "└─────────────────────────────────┴────────────────────────┴───────────────┘\n",
       "</pre>\n"
      ],
      "text/plain": [
       "┏━━━━━━━━━━━━━━━━━━━━━━━━━━━━━━━━━┳━━━━━━━━━━━━━━━━━━━━━━━━┳━━━━━━━━━━━━━━━┓\n",
       "┃\u001b[1m \u001b[0m\u001b[1mLayer (type)                   \u001b[0m\u001b[1m \u001b[0m┃\u001b[1m \u001b[0m\u001b[1mOutput Shape          \u001b[0m\u001b[1m \u001b[0m┃\u001b[1m \u001b[0m\u001b[1m      Param #\u001b[0m\u001b[1m \u001b[0m┃\n",
       "┡━━━━━━━━━━━━━━━━━━━━━━━━━━━━━━━━━╇━━━━━━━━━━━━━━━━━━━━━━━━╇━━━━━━━━━━━━━━━┩\n",
       "│ dense_layer_1 (\u001b[38;5;33mDense\u001b[0m)           │ (\u001b[38;5;45mNone\u001b[0m, \u001b[38;5;34m64\u001b[0m)             │           \u001b[38;5;34m256\u001b[0m │\n",
       "├─────────────────────────────────┼────────────────────────┼───────────────┤\n",
       "│ hidden_layer_1 (\u001b[38;5;33mDense\u001b[0m)          │ (\u001b[38;5;45mNone\u001b[0m, \u001b[38;5;34m32\u001b[0m)             │         \u001b[38;5;34m2,080\u001b[0m │\n",
       "├─────────────────────────────────┼────────────────────────┼───────────────┤\n",
       "│ hidden_layer_2 (\u001b[38;5;33mDense\u001b[0m)          │ (\u001b[38;5;45mNone\u001b[0m, \u001b[38;5;34m16\u001b[0m)             │           \u001b[38;5;34m528\u001b[0m │\n",
       "├─────────────────────────────────┼────────────────────────┼───────────────┤\n",
       "│ output_layer (\u001b[38;5;33mDense\u001b[0m)            │ (\u001b[38;5;45mNone\u001b[0m, \u001b[38;5;34m1\u001b[0m)              │            \u001b[38;5;34m17\u001b[0m │\n",
       "└─────────────────────────────────┴────────────────────────┴───────────────┘\n"
      ]
     },
     "metadata": {},
     "output_type": "display_data"
    },
    {
     "data": {
      "text/html": [
       "<pre style=\"white-space:pre;overflow-x:auto;line-height:normal;font-family:Menlo,'DejaVu Sans Mono',consolas,'Courier New',monospace\"><span style=\"font-weight: bold\"> Total params: </span><span style=\"color: #00af00; text-decoration-color: #00af00\">2,881</span> (11.25 KB)\n",
       "</pre>\n"
      ],
      "text/plain": [
       "\u001b[1m Total params: \u001b[0m\u001b[38;5;34m2,881\u001b[0m (11.25 KB)\n"
      ]
     },
     "metadata": {},
     "output_type": "display_data"
    },
    {
     "data": {
      "text/html": [
       "<pre style=\"white-space:pre;overflow-x:auto;line-height:normal;font-family:Menlo,'DejaVu Sans Mono',consolas,'Courier New',monospace\"><span style=\"font-weight: bold\"> Trainable params: </span><span style=\"color: #00af00; text-decoration-color: #00af00\">2,881</span> (11.25 KB)\n",
       "</pre>\n"
      ],
      "text/plain": [
       "\u001b[1m Trainable params: \u001b[0m\u001b[38;5;34m2,881\u001b[0m (11.25 KB)\n"
      ]
     },
     "metadata": {},
     "output_type": "display_data"
    },
    {
     "data": {
      "text/html": [
       "<pre style=\"white-space:pre;overflow-x:auto;line-height:normal;font-family:Menlo,'DejaVu Sans Mono',consolas,'Courier New',monospace\"><span style=\"font-weight: bold\"> Non-trainable params: </span><span style=\"color: #00af00; text-decoration-color: #00af00\">0</span> (0.00 B)\n",
       "</pre>\n"
      ],
      "text/plain": [
       "\u001b[1m Non-trainable params: \u001b[0m\u001b[38;5;34m0\u001b[0m (0.00 B)\n"
      ]
     },
     "metadata": {},
     "output_type": "display_data"
    },
    {
     "name": "stdout",
     "output_type": "stream",
     "text": [
      "\n",
      "Training the model...\n",
      "Epoch 1/50\n",
      "\u001b[1m200/200\u001b[0m \u001b[32m━━━━━━━━━━━━━━━━━━━━\u001b[0m\u001b[37m\u001b[0m \u001b[1m2s\u001b[0m 7ms/step - loss: 11162.9834 - mae: 83.5897 - val_loss: 742.8790 - val_mae: 21.2465\n",
      "Epoch 2/50\n",
      "\u001b[1m200/200\u001b[0m \u001b[32m━━━━━━━━━━━━━━━━━━━━\u001b[0m\u001b[37m\u001b[0m \u001b[1m1s\u001b[0m 6ms/step - loss: 646.0489 - mae: 19.6220 - val_loss: 474.8950 - val_mae: 17.3478\n",
      "Epoch 3/50\n",
      "\u001b[1m200/200\u001b[0m \u001b[32m━━━━━━━━━━━━━━━━━━━━\u001b[0m\u001b[37m\u001b[0m \u001b[1m1s\u001b[0m 6ms/step - loss: 495.6331 - mae: 17.6000 - val_loss: 447.1203 - val_mae: 16.7994\n",
      "Epoch 4/50\n",
      "\u001b[1m200/200\u001b[0m \u001b[32m━━━━━━━━━━━━━━━━━━━━\u001b[0m\u001b[37m\u001b[0m \u001b[1m1s\u001b[0m 6ms/step - loss: 481.5585 - mae: 17.4568 - val_loss: 424.1072 - val_mae: 16.5126\n",
      "Epoch 5/50\n",
      "\u001b[1m200/200\u001b[0m \u001b[32m━━━━━━━━━━━━━━━━━━━━\u001b[0m\u001b[37m\u001b[0m \u001b[1m1s\u001b[0m 6ms/step - loss: 447.7464 - mae: 16.8803 - val_loss: 401.2083 - val_mae: 16.0054\n",
      "Epoch 6/50\n",
      "\u001b[1m200/200\u001b[0m \u001b[32m━━━━━━━━━━━━━━━━━━━━\u001b[0m\u001b[37m\u001b[0m \u001b[1m1s\u001b[0m 6ms/step - loss: 426.9507 - mae: 16.5290 - val_loss: 396.2438 - val_mae: 15.9225\n",
      "Epoch 7/50\n",
      "\u001b[1m200/200\u001b[0m \u001b[32m━━━━━━━━━━━━━━━━━━━━\u001b[0m\u001b[37m\u001b[0m \u001b[1m1s\u001b[0m 6ms/step - loss: 412.4909 - mae: 16.1838 - val_loss: 393.7226 - val_mae: 15.8533\n",
      "Epoch 8/50\n",
      "\u001b[1m200/200\u001b[0m \u001b[32m━━━━━━━━━━━━━━━━━━━━\u001b[0m\u001b[37m\u001b[0m \u001b[1m1s\u001b[0m 6ms/step - loss: 416.0050 - mae: 16.2052 - val_loss: 393.1324 - val_mae: 15.8297\n",
      "Epoch 9/50\n",
      "\u001b[1m200/200\u001b[0m \u001b[32m━━━━━━━━━━━━━━━━━━━━\u001b[0m\u001b[37m\u001b[0m \u001b[1m1s\u001b[0m 6ms/step - loss: 423.1785 - mae: 16.4001 - val_loss: 393.9493 - val_mae: 15.8196\n",
      "Epoch 10/50\n",
      "\u001b[1m200/200\u001b[0m \u001b[32m━━━━━━━━━━━━━━━━━━━━\u001b[0m\u001b[37m\u001b[0m \u001b[1m1s\u001b[0m 6ms/step - loss: 417.9721 - mae: 16.3344 - val_loss: 392.5633 - val_mae: 15.7506\n",
      "Epoch 11/50\n",
      "\u001b[1m200/200\u001b[0m \u001b[32m━━━━━━━━━━━━━━━━━━━━\u001b[0m\u001b[37m\u001b[0m \u001b[1m1s\u001b[0m 6ms/step - loss: 403.1933 - mae: 16.0614 - val_loss: 401.0421 - val_mae: 15.9496\n",
      "Epoch 12/50\n",
      "\u001b[1m200/200\u001b[0m \u001b[32m━━━━━━━━━━━━━━━━━━━━\u001b[0m\u001b[37m\u001b[0m \u001b[1m1s\u001b[0m 6ms/step - loss: 417.6881 - mae: 16.2882 - val_loss: 390.6695 - val_mae: 15.7401\n",
      "Epoch 13/50\n",
      "\u001b[1m200/200\u001b[0m \u001b[32m━━━━━━━━━━━━━━━━━━━━\u001b[0m\u001b[37m\u001b[0m \u001b[1m1s\u001b[0m 6ms/step - loss: 407.1855 - mae: 16.0815 - val_loss: 384.0941 - val_mae: 15.5999\n",
      "Epoch 14/50\n",
      "\u001b[1m200/200\u001b[0m \u001b[32m━━━━━━━━━━━━━━━━━━━━\u001b[0m\u001b[37m\u001b[0m \u001b[1m1s\u001b[0m 6ms/step - loss: 404.5375 - mae: 16.0979 - val_loss: 383.9823 - val_mae: 15.6134\n",
      "Epoch 15/50\n",
      "\u001b[1m200/200\u001b[0m \u001b[32m━━━━━━━━━━━━━━━━━━━━\u001b[0m\u001b[37m\u001b[0m \u001b[1m1s\u001b[0m 6ms/step - loss: 427.0595 - mae: 16.4732 - val_loss: 386.1896 - val_mae: 15.6410\n",
      "Epoch 16/50\n",
      "\u001b[1m200/200\u001b[0m \u001b[32m━━━━━━━━━━━━━━━━━━━━\u001b[0m\u001b[37m\u001b[0m \u001b[1m1s\u001b[0m 6ms/step - loss: 427.6754 - mae: 16.4980 - val_loss: 385.2989 - val_mae: 15.6346\n",
      "Epoch 17/50\n",
      "\u001b[1m200/200\u001b[0m \u001b[32m━━━━━━━━━━━━━━━━━━━━\u001b[0m\u001b[37m\u001b[0m \u001b[1m1s\u001b[0m 6ms/step - loss: 406.7862 - mae: 16.0322 - val_loss: 384.9077 - val_mae: 15.6265\n",
      "Epoch 18/50\n",
      "\u001b[1m200/200\u001b[0m \u001b[32m━━━━━━━━━━━━━━━━━━━━\u001b[0m\u001b[37m\u001b[0m \u001b[1m1s\u001b[0m 6ms/step - loss: 401.9717 - mae: 16.0132 - val_loss: 389.7778 - val_mae: 15.7506\n",
      "Epoch 19/50\n",
      "\u001b[1m200/200\u001b[0m \u001b[32m━━━━━━━━━━━━━━━━━━━━\u001b[0m\u001b[37m\u001b[0m \u001b[1m1s\u001b[0m 6ms/step - loss: 422.1174 - mae: 16.3220 - val_loss: 387.9522 - val_mae: 15.6655\n",
      "Epoch 20/50\n",
      "\u001b[1m200/200\u001b[0m \u001b[32m━━━━━━━━━━━━━━━━━━━━\u001b[0m\u001b[37m\u001b[0m \u001b[1m1s\u001b[0m 6ms/step - loss: 406.4880 - mae: 16.1246 - val_loss: 387.1456 - val_mae: 15.6741\n",
      "Epoch 21/50\n",
      "\u001b[1m200/200\u001b[0m \u001b[32m━━━━━━━━━━━━━━━━━━━━\u001b[0m\u001b[37m\u001b[0m \u001b[1m1s\u001b[0m 6ms/step - loss: 404.2613 - mae: 16.0629 - val_loss: 386.0048 - val_mae: 15.6629\n",
      "Epoch 22/50\n",
      "\u001b[1m200/200\u001b[0m \u001b[32m━━━━━━━━━━━━━━━━━━━━\u001b[0m\u001b[37m\u001b[0m \u001b[1m1s\u001b[0m 6ms/step - loss: 406.3056 - mae: 16.0733 - val_loss: 407.3710 - val_mae: 16.0852\n",
      "Epoch 23/50\n",
      "\u001b[1m200/200\u001b[0m \u001b[32m━━━━━━━━━━━━━━━━━━━━\u001b[0m\u001b[37m\u001b[0m \u001b[1m1s\u001b[0m 6ms/step - loss: 412.3540 - mae: 16.2138 - val_loss: 395.6156 - val_mae: 15.8292\n",
      "Epoch 24/50\n",
      "\u001b[1m200/200\u001b[0m \u001b[32m━━━━━━━━━━━━━━━━━━━━\u001b[0m\u001b[37m\u001b[0m \u001b[1m1s\u001b[0m 6ms/step - loss: 409.8102 - mae: 16.2032 - val_loss: 386.3715 - val_mae: 15.6258\n",
      "Epoch 25/50\n",
      "\u001b[1m200/200\u001b[0m \u001b[32m━━━━━━━━━━━━━━━━━━━━\u001b[0m\u001b[37m\u001b[0m \u001b[1m1s\u001b[0m 6ms/step - loss: 403.1193 - mae: 16.1548 - val_loss: 389.2088 - val_mae: 15.6955\n",
      "Epoch 26/50\n",
      "\u001b[1m200/200\u001b[0m \u001b[32m━━━━━━━━━━━━━━━━━━━━\u001b[0m\u001b[37m\u001b[0m \u001b[1m1s\u001b[0m 6ms/step - loss: 407.8382 - mae: 16.0903 - val_loss: 387.3531 - val_mae: 15.6454\n",
      "Epoch 27/50\n",
      "\u001b[1m200/200\u001b[0m \u001b[32m━━━━━━━━━━━━━━━━━━━━\u001b[0m\u001b[37m\u001b[0m \u001b[1m1s\u001b[0m 6ms/step - loss: 401.5426 - mae: 15.9918 - val_loss: 395.0071 - val_mae: 15.8099\n",
      "Epoch 28/50\n",
      "\u001b[1m200/200\u001b[0m \u001b[32m━━━━━━━━━━━━━━━━━━━━\u001b[0m\u001b[37m\u001b[0m \u001b[1m1s\u001b[0m 6ms/step - loss: 407.8102 - mae: 16.1547 - val_loss: 392.6420 - val_mae: 15.7405\n",
      "Epoch 29/50\n",
      "\u001b[1m200/200\u001b[0m \u001b[32m━━━━━━━━━━━━━━━━━━━━\u001b[0m\u001b[37m\u001b[0m \u001b[1m1s\u001b[0m 6ms/step - loss: 415.3627 - mae: 16.2961 - val_loss: 390.5535 - val_mae: 15.6854\n",
      "Epoch 30/50\n",
      "\u001b[1m200/200\u001b[0m \u001b[32m━━━━━━━━━━━━━━━━━━━━\u001b[0m\u001b[37m\u001b[0m \u001b[1m1s\u001b[0m 6ms/step - loss: 408.7368 - mae: 16.0898 - val_loss: 388.9905 - val_mae: 15.6885\n",
      "Epoch 31/50\n",
      "\u001b[1m200/200\u001b[0m \u001b[32m━━━━━━━━━━━━━━━━━━━━\u001b[0m\u001b[37m\u001b[0m \u001b[1m1s\u001b[0m 6ms/step - loss: 406.3181 - mae: 16.1209 - val_loss: 387.4644 - val_mae: 15.6501\n",
      "Epoch 32/50\n",
      "\u001b[1m200/200\u001b[0m \u001b[32m━━━━━━━━━━━━━━━━━━━━\u001b[0m\u001b[37m\u001b[0m \u001b[1m1s\u001b[0m 6ms/step - loss: 410.0585 - mae: 16.1202 - val_loss: 386.7109 - val_mae: 15.6537\n",
      "Epoch 33/50\n",
      "\u001b[1m200/200\u001b[0m \u001b[32m━━━━━━━━━━━━━━━━━━━━\u001b[0m\u001b[37m\u001b[0m \u001b[1m1s\u001b[0m 6ms/step - loss: 411.3972 - mae: 16.2604 - val_loss: 388.0653 - val_mae: 15.6411\n",
      "Epoch 34/50\n",
      "\u001b[1m200/200\u001b[0m \u001b[32m━━━━━━━━━━━━━━━━━━━━\u001b[0m\u001b[37m\u001b[0m \u001b[1m1s\u001b[0m 6ms/step - loss: 408.1634 - mae: 16.0041 - val_loss: 386.1938 - val_mae: 15.6300\n",
      "Epoch 35/50\n",
      "\u001b[1m200/200\u001b[0m \u001b[32m━━━━━━━━━━━━━━━━━━━━\u001b[0m\u001b[37m\u001b[0m \u001b[1m1s\u001b[0m 6ms/step - loss: 407.9909 - mae: 16.2399 - val_loss: 393.0455 - val_mae: 15.7602\n",
      "Epoch 36/50\n",
      "\u001b[1m200/200\u001b[0m \u001b[32m━━━━━━━━━━━━━━━━━━━━\u001b[0m\u001b[37m\u001b[0m \u001b[1m1s\u001b[0m 6ms/step - loss: 411.4306 - mae: 16.1482 - val_loss: 389.4364 - val_mae: 15.6886\n",
      "Epoch 37/50\n",
      "\u001b[1m200/200\u001b[0m \u001b[32m━━━━━━━━━━━━━━━━━━━━\u001b[0m\u001b[37m\u001b[0m \u001b[1m1s\u001b[0m 6ms/step - loss: 402.3787 - mae: 16.0513 - val_loss: 389.7466 - val_mae: 15.7416\n",
      "Epoch 38/50\n",
      "\u001b[1m200/200\u001b[0m \u001b[32m━━━━━━━━━━━━━━━━━━━━\u001b[0m\u001b[37m\u001b[0m \u001b[1m1s\u001b[0m 6ms/step - loss: 401.0746 - mae: 16.0214 - val_loss: 385.4813 - val_mae: 15.6468\n",
      "Epoch 39/50\n",
      "\u001b[1m200/200\u001b[0m \u001b[32m━━━━━━━━━━━━━━━━━━━━\u001b[0m\u001b[37m\u001b[0m \u001b[1m1s\u001b[0m 7ms/step - loss: 414.1034 - mae: 16.2639 - val_loss: 393.1901 - val_mae: 15.7419\n",
      "Epoch 40/50\n",
      "\u001b[1m200/200\u001b[0m \u001b[32m━━━━━━━━━━━━━━━━━━━━\u001b[0m\u001b[37m\u001b[0m \u001b[1m1s\u001b[0m 6ms/step - loss: 411.7882 - mae: 16.1688 - val_loss: 397.8832 - val_mae: 15.8752\n",
      "Epoch 41/50\n",
      "\u001b[1m200/200\u001b[0m \u001b[32m━━━━━━━━━━━━━━━━━━━━\u001b[0m\u001b[37m\u001b[0m \u001b[1m1s\u001b[0m 6ms/step - loss: 391.4897 - mae: 15.8168 - val_loss: 385.0892 - val_mae: 15.6314\n",
      "Epoch 42/50\n",
      "\u001b[1m200/200\u001b[0m \u001b[32m━━━━━━━━━━━━━━━━━━━━\u001b[0m\u001b[37m\u001b[0m \u001b[1m1s\u001b[0m 6ms/step - loss: 413.1866 - mae: 16.1450 - val_loss: 390.2328 - val_mae: 15.6769\n",
      "Epoch 43/50\n",
      "\u001b[1m200/200\u001b[0m \u001b[32m━━━━━━━━━━━━━━━━━━━━\u001b[0m\u001b[37m\u001b[0m \u001b[1m1s\u001b[0m 6ms/step - loss: 417.9735 - mae: 16.3691 - val_loss: 389.4391 - val_mae: 15.6926\n",
      "Epoch 44/50\n",
      "\u001b[1m200/200\u001b[0m \u001b[32m━━━━━━━━━━━━━━━━━━━━\u001b[0m\u001b[37m\u001b[0m \u001b[1m1s\u001b[0m 6ms/step - loss: 399.4939 - mae: 15.9479 - val_loss: 392.2908 - val_mae: 15.7737\n",
      "Epoch 45/50\n",
      "\u001b[1m200/200\u001b[0m \u001b[32m━━━━━━━━━━━━━━━━━━━━\u001b[0m\u001b[37m\u001b[0m \u001b[1m1s\u001b[0m 6ms/step - loss: 403.0697 - mae: 16.0036 - val_loss: 393.7405 - val_mae: 15.8156\n",
      "Epoch 46/50\n",
      "\u001b[1m200/200\u001b[0m \u001b[32m━━━━━━━━━━━━━━━━━━━━\u001b[0m\u001b[37m\u001b[0m \u001b[1m1s\u001b[0m 6ms/step - loss: 413.4271 - mae: 16.2650 - val_loss: 386.7257 - val_mae: 15.6716\n",
      "Epoch 47/50\n",
      "\u001b[1m200/200\u001b[0m \u001b[32m━━━━━━━━━━━━━━━━━━━━\u001b[0m\u001b[37m\u001b[0m \u001b[1m1s\u001b[0m 6ms/step - loss: 422.9909 - mae: 16.4412 - val_loss: 395.2037 - val_mae: 15.8484\n",
      "Epoch 48/50\n",
      "\u001b[1m200/200\u001b[0m \u001b[32m━━━━━━━━━━━━━━━━━━━━\u001b[0m\u001b[37m\u001b[0m \u001b[1m1s\u001b[0m 6ms/step - loss: 409.8617 - mae: 16.0638 - val_loss: 388.9286 - val_mae: 15.6693\n",
      "Epoch 49/50\n",
      "\u001b[1m200/200\u001b[0m \u001b[32m━━━━━━━━━━━━━━━━━━━━\u001b[0m\u001b[37m\u001b[0m \u001b[1m1s\u001b[0m 6ms/step - loss: 394.1170 - mae: 15.8014 - val_loss: 390.9509 - val_mae: 15.7653\n",
      "Epoch 50/50\n",
      "\u001b[1m200/200\u001b[0m \u001b[32m━━━━━━━━━━━━━━━━━━━━\u001b[0m\u001b[37m\u001b[0m \u001b[1m1s\u001b[0m 6ms/step - loss: 402.9679 - mae: 15.9240 - val_loss: 384.5790 - val_mae: 15.5781\n",
      "\n",
      "Evaluating the model on test data:\n",
      "Test Loss (MSE): 396.2675\n",
      "Test MAE: 15.8718\n",
      "\u001b[1m63/63\u001b[0m \u001b[32m━━━━━━━━━━━━━━━━━━━━\u001b[0m\u001b[37m\u001b[0m \u001b[1m0s\u001b[0m 1ms/step  \n"
     ]
    },
    {
     "data": {
      "image/png": "[encoded data removed]",
      "text/plain": [
       "<Figure size 1000x600 with 1 Axes>"
      ]
     },
     "metadata": {},
     "output_type": "display_data"
    }
   ],
   "source": [
    "# 1. Create the input layer first\n",
    "input_layer = Input(shape=(X_train.shape[1],), name='input_layer')\n",
    "\n",
    "# 2. Create an empty sequential model\n",
    "model = Sequential([\n",
    "    # Start with the Input layer\n",
    "    input_layer,\n",
    "    \n",
    "    # 3. First Dense Layer (previously called input layer)\n",
    "    Dense(\n",
    "        units=64,                     # Number of neurons in this layer\n",
    "        activation='relu',            # Activation function\n",
    "        name='dense_layer_1'          # Name to identify the layer\n",
    "    ),\n",
    "    \n",
    "    # 4. First Hidden Layer\n",
    "    Dense(\n",
    "        units=32,                     # Number of neurons (smaller than previous layer)\n",
    "        activation='relu',            # Same activation as before\n",
    "        name='hidden_layer_1'         # Name for identification\n",
    "    ),\n",
    "    \n",
    "    # 5. Second Hidden Layer\n",
    "    Dense(\n",
    "        units=16,                     # Even fewer neurons\n",
    "        activation='relu',            # Same activation\n",
    "        name='hidden_layer_2'         # Name for identification\n",
    "    ),\n",
    "    \n",
    "    # 6. Output Layer\n",
    "    Dense(\n",
    "        units=1,                      # One neuron for regression\n",
    "        activation=None,              # No activation for regression\n",
    "        name='output_layer'           # Name for identification\n",
    "    )\n",
    "])\n",
    "\n",
    "# 7. Compile the model\n",
    "model.compile(\n",
    "    optimizer=Adam(learning_rate=0.001),  # Adam optimizer with default learning rate\n",
    "    loss='mean_squared_error',            # MSE loss for regression\n",
    "    metrics=['mae']                       # Mean Absolute Error as additional metric\n",
    ")\n",
    "\n",
    "# 8. Print model summary to see the architecture\n",
    "print(\"\\nModel Architecture Summary:\")\n",
    "model.summary()\n",
    "\n",
    "# 9. Train the model\n",
    "print(\"\\nTraining the model...\")\n",
    "history = model.fit(\n",
    "    X_train_scaled,                    # Scaled input features\n",
    "    y_train,                          # Target values (not scaled)\n",
    "    epochs=50,                        # Number of training iterations\n",
    "    batch_size=32,                    # Samples per training iteration\n",
    "    validation_split=0.2,             # Use 20% of training data for validation\n",
    "    verbose=1                         # Show training progress\n",
    ")\n",
    "\n",
    "# 10. Evaluate the model on test data\n",
    "print(\"\\nEvaluating the model on test data:\")\n",
    "test_loss, test_mae = model.evaluate(X_test_scaled, y_test, verbose=0)\n",
    "print(f\"Test Loss (MSE): {test_loss:.4f}\")\n",
    "print(f\"Test MAE: {test_mae:.4f}\")\n",
    "\n",
    "# 11. Make predictions\n",
    "predictions = model.predict(X_test_scaled)\n",
    "\n",
    "# 12. Visualize Results\n",
    "plt.figure(figsize=(10, 6))\n",
    "plt.scatter(y_test, predictions, alpha=0.5)\n",
    "plt.plot([y_test.min(), y_test.max()], [y_test.min(), y_test.max()], 'r--', lw=2)\n",
    "plt.xlabel('Actual Values')\n",
    "plt.ylabel('Predicted Values')\n",
    "plt.title('Actual vs Predicted Values')\n",
    "plt.tight_layout()\n",
    "plt.show()"
   ]
  },
  {
   "cell_type": "markdown",
   "id": "cacedbfd-4ca4-4081-a5e5-1ed98b044851",
   "metadata": {},
   "source": [
    "---"
   ]
  },
  {
   "cell_type": "markdown",
   "id": "01e028d9-c578-45cd-97a0-ea57da25b751",
   "metadata": {},
   "source": [
    "# Using Keras Functional API to Train Regression Model "
   ]
  },
  {
   "cell_type": "code",
   "execution_count": null,
   "id": "3dbad6b2-dd53-40bc-863b-bad68d51876b",
   "metadata": {
    "tags": []
   },
   "outputs": [],
   "source": [
    "# Create the Neural Network Model using Functional API\n",
    "# -------------------------------------------------\n",
    "\n",
    "\"\"\"\n",
    "Step-by-step building of a neural network for regression using the Functional API.\n",
    "This approach is more flexible and makes the model architecture more explicit.\n",
    "\"\"\"\n",
    "\n",
    "# 1. Import additional required module\n",
    "from tensorflow.keras.models import Model\n",
    "\n",
    "# 2. Define the Input layer\n",
    "inputs = Input(shape=(X_train.shape[1],), name='input_layer')\n",
    "\n",
    "# 3. Build the model layer by layer\n",
    "# First Dense Layer\n",
    "x = Dense(\n",
    "    units=64,\n",
    "    activation='relu',\n",
    "    name='dense_layer_1'\n",
    ")(inputs)\n",
    "\n",
    "# First Hidden Layer\n",
    "x = Dense(\n",
    "    units=32,\n",
    "    activation='relu',\n",
    "    name='hidden_layer_1'\n",
    ")(x)\n",
    "\n",
    "# Second Hidden Layer\n",
    "x = Dense(\n",
    "    units=16,\n",
    "    activation='relu',\n",
    "    name='hidden_layer_2'\n",
    ")(x)\n",
    "\n",
    "# Output Layer\n",
    "outputs = Dense(\n",
    "    units=1,\n",
    "    activation=None,\n",
    "    name='output_layer'\n",
    ")(x)\n",
    "\n",
    "# 4. Create the model by specifying inputs and outputs\n",
    "model = Model(inputs=inputs, outputs=outputs, name='regression_model')\n",
    "\n",
    "# 5. Compile the model\n",
    "model.compile(\n",
    "    optimizer=Adam(learning_rate=0.001),\n",
    "    loss='mean_squared_error',\n",
    "    metrics=['mae']\n",
    ")\n",
    "\n",
    "# 6. Print model summary\n",
    "print(\"\\nModel Architecture Summary:\")\n",
    "model.summary()\n",
    "\n",
    "# 7. Train the model\n",
    "print(\"\\nTraining the model...\")\n",
    "history = model.fit(\n",
    "    X_train_scaled,\n",
    "    y_train,\n",
    "    epochs=50,\n",
    "    batch_size=32,\n",
    "    validation_split=0.2,\n",
    "    verbose=1\n",
    ")\n",
    "\n",
    "# 8. Evaluate and visualize results\n",
    "print(\"\\nEvaluating the model on test data:\")\n",
    "test_loss, test_mae = model.evaluate(X_test_scaled, y_test, verbose=0)\n",
    "print(f\"Test Loss (MSE): {test_loss:.4f}\")\n",
    "print(f\"Test MAE: {test_mae:.4f}\")\n",
    "\n",
    "# 9. Make predictions\n",
    "predictions = model.predict(X_test_scaled)\n",
    "\n",
    "# Let's also plot the training history\n",
    "plt.figure(figsize=(12, 4))\n",
    "\n",
    "# Plot training & validation loss\n",
    "plt.subplot(1, 2, 1)\n",
    "plt.plot(history.history['loss'], label='Training Loss')\n",
    "plt.plot(history.history['val_loss'], label='Validation Loss')\n",
    "plt.title('Model Loss Over Time')\n",
    "plt.xlabel('Epoch')\n",
    "plt.ylabel('Loss')\n",
    "plt.legend()\n",
    "\n",
    "# Plot predictions vs actual\n",
    "plt.subplot(1, 2, 2)\n",
    "plt.scatter(y_test, predictions, alpha=0.5)\n",
    "plt.plot([y_test.min(), y_test.max()], [y_test.min(), y_test.max()], 'r--', lw=2)\n",
    "plt.xlabel('Actual Values')\n",
    "plt.ylabel('Predicted Values')\n",
    "plt.title('Predictions vs Actual')\n",
    "\n",
    "plt.tight_layout()\n",
    "plt.show()"
   ]
  },
  {
   "cell_type": "code",
   "execution_count": null,
   "id": "05d3aa88-9040-4b2d-8e79-8ac15ea27759",
   "metadata": {},
   "outputs": [],
   "source": []
  }
 ],
 "metadata": {
  "kernelspec": {
   "display_name": "TF-GPU:2.16",
   "language": "python",
   "name": "tf-gpu"
  },
  "language_info": {
   "codemirror_mode": {
    "name": "ipython",
    "version": 3
   },
   "file_extension": ".py",
   "mimetype": "text/x-python",
   "name": "python",
   "nbconvert_exporter": "python",
   "pygments_lexer": "ipython3",
   "version": "3.11.10"
  }
 },
 "nbformat": 4,
 "nbformat_minor": 5
}
