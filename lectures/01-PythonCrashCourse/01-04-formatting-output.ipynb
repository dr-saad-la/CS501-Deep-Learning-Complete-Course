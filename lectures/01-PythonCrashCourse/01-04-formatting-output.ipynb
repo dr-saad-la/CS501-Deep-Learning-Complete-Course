{
 "cells": [
  {
   "cell_type": "code",
   "execution_count": null,
   "id": "80ff6009-ab82-4136-b7c3-51a06cd6cd44",
   "metadata": {},
   "outputs": [],
   "source": [
    "#!/usr/bin/env python3\n",
    "# =======================================================================\n",
    "# Author: Dr. Saad Laouadi\n",
    "# Lesson: Printing and Formatting Output\n",
    "#\n",
    "# Description: This program demonstrates how to use f-strings in Python\n",
    "#              for efficient and readable formatted output. The examples\n",
    "#              include formatting variables, combining strings, and\n",
    "#              displaying values in a user-friendly way.\n",
    "#\n",
    "# ======================================================================="
   ]
  },
  {
   "cell_type": "code",
   "execution_count": 3,
   "id": "b9bca5b4-4353-47ab-a180-23074b74247f",
   "metadata": {},
   "outputs": [
    {
     "name": "stdout",
     "output_type": "stream",
     "text": [
      "My name is Ahmad and I am 25 years old.\n"
     ]
    }
   ],
   "source": [
    "# Using f-strings for formatted output\n",
    "# ------------------------------------\n",
    "# You can use f-strings to include variables directly within strings.\n",
    "name = \"Ahmad\"\n",
    "age = 25\n",
    "print(f\"My name is {name} and I am {age} years old.\")  # Output: My name is Alice and I am 25 years old."
   ]
  },
  {
   "cell_type": "code",
   "execution_count": 4,
   "id": "76a4f127-e429-4361-b6af-b30284197a96",
   "metadata": {},
   "outputs": [
    {
     "name": "stdout",
     "output_type": "stream",
     "text": [
      "Price: $123.46\n"
     ]
    }
   ],
   "source": [
    "# Formatting numbers with f-strings\n",
    "# ---------------------------------\n",
    "# You can format numbers for a cleaner output.\n",
    "price = 123.4567\n",
    "print(f\"Price: ${price:.2f}\")  # Output: Price: $123.46 (rounded to 2 decimal places)"
   ]
  },
  {
   "cell_type": "code",
   "execution_count": 5,
   "id": "c245bc4b-a3b2-4d05-85c0-df707da2fe13",
   "metadata": {},
   "outputs": [
    {
     "name": "stdout",
     "output_type": "stream",
     "text": [
      "The area of a rectangle with length 7 and width 3 is 21.\n"
     ]
    }
   ],
   "source": [
    "# Using f-strings with expressions\n",
    "# --------------------------------\n",
    "# You can also include expressions directly within f-strings.\n",
    "length = 7\n",
    "width = 3\n",
    "area = length * width\n",
    "print(f\"The area of a rectangle with length {length} and width {width} is {area}.\")"
   ]
  },
  {
   "cell_type": "code",
   "execution_count": 6,
   "id": "29bc3962-2ef9-4c34-ae9d-4fba96555ed5",
   "metadata": {},
   "outputs": [
    {
     "name": "stdout",
     "output_type": "stream",
     "text": [
      "Apples     :    10\n"
     ]
    }
   ],
   "source": [
    "# Aligning text using f-strings\n",
    "# -----------------------------\n",
    "# You can align text for a better visual presentation.\n",
    "fruit = \"Apples\"\n",
    "quantity = 10\n",
    "print(f\"{fruit:<10} : {quantity:>5}\")  # Output: Apples     :    10 (left and right aligned)"
   ]
  },
  {
   "cell_type": "code",
   "execution_count": 7,
   "id": "0c4e382f-d9bb-48a3-9bdb-356a39a499d2",
   "metadata": {},
   "outputs": [
    {
     "name": "stdout",
     "output_type": "stream",
     "text": [
      "Score: 92/100 (92.0%)\n"
     ]
    }
   ],
   "source": [
    "# Using f-strings with multiple variables\n",
    "# ---------------------------------------\n",
    "# Easily format multiple variables in a single line.\n",
    "score = 92\n",
    "max_score = 100\n",
    "percentage = (score / max_score) * 100\n",
    "print(f\"Score: {score}/{max_score} ({percentage:.1f}%)\")  # Output: Score: 92/100 (92.0%)"
   ]
  },
  {
   "cell_type": "code",
   "execution_count": 8,
   "id": "0577a782-c89e-47c7-8b45-17c198525e31",
   "metadata": {},
   "outputs": [
    {
     "name": "stdout",
     "output_type": "stream",
     "text": [
      "Item       Price      Quantity   Total     \n",
      "Notebook   $2.50       4          $10.00     \n"
     ]
    }
   ],
   "source": [
    "# Displaying variables in a table-like format\n",
    "# -------------------------------------------\n",
    "# Format output to display variables in an organized table.\n",
    "item = \"Notebook\"\n",
    "price = 2.5\n",
    "quantity = 4\n",
    "total = price * quantity\n",
    "print(f\"{'Item':<10} {'Price':<10} {'Quantity':<10} {'Total':<10}\")\n",
    "print(f\"{item:<10} ${price:<10.2f} {quantity:<10} ${total:<10.2f}\")"
   ]
  },
  {
   "cell_type": "code",
   "execution_count": 10,
   "id": "a5ab4660-e456-47d9-b5ce-85cbb412ad00",
   "metadata": {},
   "outputs": [
    {
     "name": "stdout",
     "output_type": "stream",
     "text": [
      "Counter after increment: 5\n"
     ]
    }
   ],
   "source": [
    "# Using f-strings for dynamic updates\n",
    "# -----------------------------------\n",
    "# Easily update and display values using f-strings.\n",
    "counter = 0\n",
    "increment = 5\n",
    "counter += increment\n",
    "print(f\"Counter after increment: {counter}\")  "
   ]
  },
  {
   "cell_type": "code",
   "execution_count": 9,
   "id": "5a3db5f7-57e4-48cf-8a09-fe964bb74e90",
   "metadata": {},
   "outputs": [
    {
     "name": "stdout",
     "output_type": "stream",
     "text": [
      "\n",
      "# Summary\n",
      "# -------\n",
      "# F-strings make formatting output in Python concise and readable.\n",
      "# They support embedding variables and expressions, formatting numbers,\n",
      "# and aligning text for a cleaner presentation.\n",
      "\n"
     ]
    }
   ],
   "source": [
    "print(\"\"\"\n",
    "# Summary\n",
    "# -------\n",
    "# F-strings make formatting output in Python concise and readable.\n",
    "# They support embedding variables and expressions, formatting numbers,\n",
    "# and aligning text for a cleaner presentation.\n",
    "\"\"\")"
   ]
  },
  {
   "cell_type": "code",
   "execution_count": null,
   "id": "21edc5a7-c95d-45b2-a68f-1f799a6a7d3d",
   "metadata": {},
   "outputs": [],
   "source": []
  }
 ],
 "metadata": {
  "kernelspec": {
   "display_name": "Python3.12",
   "language": "python",
   "name": "python3"
  },
  "language_info": {
   "codemirror_mode": {
    "name": "ipython",
    "version": 3
   },
   "file_extension": ".py",
   "mimetype": "text/x-python",
   "name": "python",
   "nbconvert_exporter": "python",
   "pygments_lexer": "ipython3",
   "version": "3.12.3"
  }
 },
 "nbformat": 4,
 "nbformat_minor": 5
}
