{
 "cells": [
  {
   "cell_type": "code",
   "execution_count": 1,
   "id": "cb3e32df-644c-4efa-b83c-7f4e3661a2eb",
   "metadata": {},
   "outputs": [],
   "source": [
    "# ======================================================================= #\n",
    "# Course: Deep Learning Complete Course (CS-501)\n",
    "# Author: Dr. Saad Laouadi\n",
    "# Lesson: Multiple Inheritance in Python\n",
    "#\n",
    "# Description: This tutorial covers the concept of multiple inheritance in Python.\n",
    "#              It demonstrates how a class can inherit attributes and methods from\n",
    "#              more than one parent class and discusses potential issues like the\n",
    "#              diamond problem.\n",
    "#\n",
    "# =======================================================================\n",
    "#.          Copyright © Dr. Saad Laouadi\n",
    "# ======================================================================="
   ]
  },
  {
   "cell_type": "code",
   "execution_count": null,
   "id": "a93e529a-4b67-443e-8887-6aea733784c3",
   "metadata": {},
   "outputs": [],
   "source": [
    "# Multiple Inheritance\n",
    "# --------------------\n",
    "# In Python, a class can inherit from multiple classes. This means that the child\n",
    "# class inherits attributes and methods from all parent classes."
   ]
  },
  {
   "cell_type": "code",
   "execution_count": 3,
   "id": "145c2a7b-fd10-4b2e-a8ab-c34f3db71b9e",
   "metadata": {},
   "outputs": [
    {
     "name": "stdout",
     "output_type": "stream",
     "text": [
      "Tesla car is ready to go.\n",
      "Engine started.\n",
      "Wheels are rolling.\n",
      "\n",
      "Method Resolution Order (MRO) for Car class:\n",
      "(<class '__main__.Car'>, <class '__main__.Engine'>, <class '__main__.Wheels'>, <class 'object'>)\n",
      "\n"
     ]
    }
   ],
   "source": [
    "# 1. Example of Multiple Inheritance\n",
    "# ----------------------------------\n",
    "class Engine:\n",
    "    def start(self):\n",
    "        return \"Engine started.\"\n",
    "\n",
    "    def stop(self):\n",
    "        return \"Engine stopped.\"\n",
    "\n",
    "class Wheels:\n",
    "    def move(self):\n",
    "        return \"Wheels are rolling.\"\n",
    "\n",
    "    def brake(self):\n",
    "        return \"Wheels stopped.\"\n",
    "\n",
    "# The Car class inherits from both Engine and Wheels\n",
    "class Car(Engine, Wheels):\n",
    "    def __init__(self, brand):\n",
    "        self.brand = brand\n",
    "\n",
    "    def describe(self):\n",
    "        return f\"{self.brand} car is ready to go.\"\n",
    "\n",
    "# Creating an instance of Car\n",
    "my_car = Car(\"Tesla\")\n",
    "\n",
    "# Accessing methods from both parent classes\n",
    "print(my_car.describe())  # Output: Tesla car is ready to go.\n",
    "print(my_car.start())     # Output: Engine started.\n",
    "print(my_car.move())      # Output: Wheels are rolling.\n",
    "\n",
    "print()  # Blank line for readability\n",
    "\n",
    "# 2. Understanding the Method Resolution Order (MRO)\n",
    "# ---------------------------------------------------\n",
    "# When a class inherits from multiple classes, Python follows a specific order\n",
    "# to determine which method to call. This order is known as the Method Resolution Order (MRO).\n",
    "# You can check the MRO of a class using the `__mro__` attribute or the `mro()` method.\n",
    "\n",
    "print(\"Method Resolution Order (MRO) for Car class:\")\n",
    "print(Car.__mro__)  # Outputs the MRO of the Car class\n",
    "\n",
    "print()"
   ]
  },
  {
   "cell_type": "code",
   "execution_count": 2,
   "id": "76999a26-465f-4d44-aa37-92038fc331c8",
   "metadata": {},
   "outputs": [],
   "source": [
    "# 3. The Diamond Problem\n",
    "# ----------------------\n",
    "# One of the common issues in multiple inheritance is the \"diamond problem\".\n",
    "# This occurs when a class inherits from two classes that have a common ancestor.\n",
    "\n",
    "class A:\n",
    "    def greet(self):\n",
    "        return \"Hello from A\"\n",
    "\n",
    "class B(A):\n",
    "    def greet(self):\n",
    "        return \"Hello from B\"\n",
    "\n",
    "class C(A):\n",
    "    def greet(self):\n",
    "        return \"Hello from C\"\n",
    "\n",
    "# Class D inherits from both B and C\n",
    "class D(B, C):\n",
    "    pass\n",
    "\n",
    "# Creating an instance of D\n",
    "d_instance = D()\n",
    "print(\"Greeting from class D:\", d_instance.greet())  # Output: Hello from B\n",
    "print(\"MRO for class D:\", D.__mro__)  # Displays the MRO for class D"
   ]
  },
  {
   "cell_type": "code",
   "execution_count": 4,
   "id": "eaa8decf-2eac-442e-878a-efa99c7a25aa",
   "metadata": {},
   "outputs": [
    {
     "name": "stdout",
     "output_type": "stream",
     "text": [
      "\n",
      "# Notes:\n",
      "# ------\n",
      "# - **Multiple Inheritance**: Allows a class to inherit from multiple parent classes.\n",
      "# - **Method Resolution Order (MRO)**: Determines the order in which methods are inherited.\n",
      "# - **Diamond Problem**: Occurs when a class inherits from two classes with a common ancestor,\n",
      "#   leading to ambiguity in method resolution.\n",
      "\n",
      "# Practice:\n",
      "# ---------\n",
      "# - Create your own examples of multiple inheritance.\n",
      "# - Experiment with different inheritance hierarchies to understand the MRO.\n",
      "\n"
     ]
    }
   ],
   "source": [
    "print(\"\"\"\n",
    "# Notes:\n",
    "# ------\n",
    "# - **Multiple Inheritance**: Allows a class to inherit from multiple parent classes.\n",
    "# - **Method Resolution Order (MRO)**: Determines the order in which methods are inherited.\n",
    "# - **Diamond Problem**: Occurs when a class inherits from two classes with a common ancestor,\n",
    "#   leading to ambiguity in method resolution.\n",
    "\n",
    "# Practice:\n",
    "# ---------\n",
    "# - Create your own examples of multiple inheritance.\n",
    "# - Experiment with different inheritance hierarchies to understand the MRO.\n",
    "\"\"\")"
   ]
  },
  {
   "cell_type": "code",
   "execution_count": null,
   "id": "a9a5dc92-7c25-42c9-9c68-4f161a04d54b",
   "metadata": {},
   "outputs": [],
   "source": []
  }
 ],
 "metadata": {
  "kernelspec": {
   "display_name": "Python@3.10",
   "language": "python",
   "name": "python3"
  },
  "language_info": {
   "codemirror_mode": {
    "name": "ipython",
    "version": 3
   },
   "file_extension": ".py",
   "mimetype": "text/x-python",
   "name": "python",
   "nbconvert_exporter": "python",
   "pygments_lexer": "ipython3",
   "version": "3.10.14"
  }
 },
 "nbformat": 4,
 "nbformat_minor": 5
}
