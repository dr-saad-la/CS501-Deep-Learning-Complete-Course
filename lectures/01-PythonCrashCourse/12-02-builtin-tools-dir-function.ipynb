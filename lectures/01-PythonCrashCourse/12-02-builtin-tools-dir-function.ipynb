{
 "cells": [
  {
   "cell_type": "code",
   "execution_count": 1,
   "id": "857d6d61-703a-4b53-9f72-732d5459a8d9",
   "metadata": {},
   "outputs": [],
   "source": [
    "# ======================================================================= #\n",
    "# Course: Deep Learning Complete Course (CS-501)\n",
    "# Author: Dr. Saad Laouadi\n",
    "# Lesson: Using the dir() Function in Python\n",
    "#\n",
    "# Description: This program introduces the `dir()` function, which is used\n",
    "#              to list the attributes and methods of an object. It covers\n",
    "#              examples of using `dir()` with various objects, including\n",
    "#              built-in types, user-defined classes, and modules.\n",
    "#\n",
    "# =======================================================================\n",
    "#.          Copyright © Dr. Saad Laouadi\n",
    "# ======================================================================="
   ]
  },
  {
   "cell_type": "code",
   "execution_count": 2,
   "id": "dba5a617-cbf6-47f2-ab8f-3c9f009ffb61",
   "metadata": {},
   "outputs": [
    {
     "name": "stdout",
     "output_type": "stream",
     "text": [
      "\n",
      "# Introduction to the dir() Function\n",
      "# ----------------------------------\n",
      "# The `dir()` function returns a list of valid attributes and methods for an object.\n",
      "# If no argument is provided, it returns the names in the current local scope.\n",
      "\n"
     ]
    }
   ],
   "source": [
    "print(\"\"\"\n",
    "# Introduction to the dir() Function\n",
    "# ----------------------------------\n",
    "# The `dir()` function returns a list of valid attributes and methods for an object.\n",
    "# If no argument is provided, it returns the names in the current local scope.\n",
    "\"\"\")"
   ]
  },
  {
   "cell_type": "code",
   "execution_count": 3,
   "id": "11c5d841-8e64-4332-8355-45a56cb58d2a",
   "metadata": {},
   "outputs": [
    {
     "name": "stdout",
     "output_type": "stream",
     "text": [
      "Attributes and methods of an integer object:\n",
      "['__abs__', '__add__', '__and__', '__bool__', '__ceil__', '__class__', '__delattr__', '__dir__', '__divmod__', '__doc__', '__eq__', '__float__', '__floor__', '__floordiv__', '__format__', '__ge__', '__getattribute__', '__getnewargs__', '__gt__', '__hash__', '__index__', '__init__', '__init_subclass__', '__int__', '__invert__', '__le__', '__lshift__', '__lt__', '__mod__', '__mul__', '__ne__', '__neg__', '__new__', '__or__', '__pos__', '__pow__', '__radd__', '__rand__', '__rdivmod__', '__reduce__', '__reduce_ex__', '__repr__', '__rfloordiv__', '__rlshift__', '__rmod__', '__rmul__', '__ror__', '__round__', '__rpow__', '__rrshift__', '__rshift__', '__rsub__', '__rtruediv__', '__rxor__', '__setattr__', '__sizeof__', '__str__', '__sub__', '__subclasshook__', '__truediv__', '__trunc__', '__xor__', 'as_integer_ratio', 'bit_count', 'bit_length', 'conjugate', 'denominator', 'from_bytes', 'imag', 'numerator', 'real', 'to_bytes']\n",
      "\n",
      "Attributes and methods of a string object:\n",
      "['__add__', '__class__', '__contains__', '__delattr__', '__dir__', '__doc__', '__eq__', '__format__', '__ge__', '__getattribute__', '__getitem__', '__getnewargs__', '__gt__', '__hash__', '__init__', '__init_subclass__', '__iter__', '__le__', '__len__', '__lt__', '__mod__', '__mul__', '__ne__', '__new__', '__reduce__', '__reduce_ex__', '__repr__', '__rmod__', '__rmul__', '__setattr__', '__sizeof__', '__str__', '__subclasshook__', 'capitalize', 'casefold', 'center', 'count', 'encode', 'endswith', 'expandtabs', 'find', 'format', 'format_map', 'index', 'isalnum', 'isalpha', 'isascii', 'isdecimal', 'isdigit', 'isidentifier', 'islower', 'isnumeric', 'isprintable', 'isspace', 'istitle', 'isupper', 'join', 'ljust', 'lower', 'lstrip', 'maketrans', 'partition', 'removeprefix', 'removesuffix', 'replace', 'rfind', 'rindex', 'rjust', 'rpartition', 'rsplit', 'rstrip', 'split', 'splitlines', 'startswith', 'strip', 'swapcase', 'title', 'translate', 'upper', 'zfill']\n",
      "\n"
     ]
    }
   ],
   "source": [
    "# 1. Using dir() with Built-in Types\n",
    "# ----------------------------------\n",
    "print(\"Attributes and methods of an integer object:\")\n",
    "print(dir(5))  # Lists the attributes and methods of an integer\n",
    "\n",
    "print(\"\\nAttributes and methods of a string object:\")\n",
    "print(dir(\"hello\"))  # Lists the attributes and methods of a string\n",
    "\n",
    "print()  "
   ]
  },
  {
   "cell_type": "code",
   "execution_count": 4,
   "id": "2d11cc44-2110-4776-98d1-1daf216f51ab",
   "metadata": {},
   "outputs": [
    {
     "name": "stdout",
     "output_type": "stream",
     "text": [
      "Names in the current local scope:\n",
      "['In', 'Out', '_', '__', '___', '__builtin__', '__builtins__', '__doc__', '__loader__', '__name__', '__package__', '__session__', '__spec__', '_dh', '_i', '_i1', '_i2', '_i3', '_i4', '_ih', '_ii', '_iii', '_oh', 'a', 'b', 'exit', 'get_ipython', 'open', 'os', 'quit']\n",
      "\n"
     ]
    }
   ],
   "source": [
    "# 2. Using dir() Without Arguments\n",
    "# --------------------------------\n",
    "# Calling `dir()` without arguments lists the names in the current local scope.\n",
    "print(\"Names in the current local scope:\")\n",
    "a = 10\n",
    "b = \"Python\"\n",
    "print(dir())  # Lists 'a', 'b', and other built-in names\n",
    "\n",
    "print()  "
   ]
  },
  {
   "cell_type": "code",
   "execution_count": 5,
   "id": "3c82fc12-8ae8-48b9-a83d-aeee445c7671",
   "metadata": {},
   "outputs": [
    {
     "name": "stdout",
     "output_type": "stream",
     "text": [
      "Attributes and methods of the math module:\n",
      "['__doc__', '__file__', '__loader__', '__name__', '__package__', '__spec__', 'acos', 'acosh', 'asin', 'asinh', 'atan', 'atan2', 'atanh', 'ceil', 'comb', 'copysign', 'cos', 'cosh', 'degrees', 'dist', 'e', 'erf', 'erfc', 'exp', 'expm1', 'fabs', 'factorial', 'floor', 'fmod', 'frexp', 'fsum', 'gamma', 'gcd', 'hypot', 'inf', 'isclose', 'isfinite', 'isinf', 'isnan', 'isqrt', 'lcm', 'ldexp', 'lgamma', 'log', 'log10', 'log1p', 'log2', 'modf', 'nan', 'nextafter', 'perm', 'pi', 'pow', 'prod', 'radians', 'remainder', 'sin', 'sinh', 'sqrt', 'tan', 'tanh', 'tau', 'trunc', 'ulp']\n",
      "\n"
     ]
    }
   ],
   "source": [
    "# 3. Using dir() with a Module\n",
    "# ----------------------------\n",
    "# You can use `dir()` to explore the contents of a module.\n",
    "import math\n",
    "\n",
    "print(\"Attributes and methods of the math module:\")\n",
    "print(dir(math))  # Lists the functions and constants in the math module\n",
    "\n",
    "print()  "
   ]
  },
  {
   "cell_type": "code",
   "execution_count": 6,
   "id": "aad09cdc-d060-43bb-9be9-4d50f333bb1b",
   "metadata": {},
   "outputs": [
    {
     "name": "stdout",
     "output_type": "stream",
     "text": [
      "Attributes and methods of the Dog class:\n",
      "['__class__', '__delattr__', '__dict__', '__dir__', '__doc__', '__eq__', '__format__', '__ge__', '__getattribute__', '__gt__', '__hash__', '__init__', '__init_subclass__', '__le__', '__lt__', '__module__', '__ne__', '__new__', '__reduce__', '__reduce_ex__', '__repr__', '__setattr__', '__sizeof__', '__str__', '__subclasshook__', '__weakref__', 'bark']\n",
      "\n"
     ]
    }
   ],
   "source": [
    "# 4. Using dir() with a User-Defined Class\n",
    "# ----------------------------------------\n",
    "# Let's create a simple class and use `dir()` to explore its attributes.\n",
    "class Dog:\n",
    "    def __init__(self, name, age):\n",
    "        self.name = name\n",
    "        self.age = age\n",
    "\n",
    "    def bark(self):\n",
    "        return \"Woof!\"\n",
    "\n",
    "# Using dir() on the class\n",
    "print(\"Attributes and methods of the Dog class:\")\n",
    "print(dir(Dog))  # Lists the attributes and methods\n",
    "\n",
    "print()"
   ]
  },
  {
   "cell_type": "code",
   "execution_count": 7,
   "id": "5727c2ef-071e-401d-8905-d72556db07d7",
   "metadata": {},
   "outputs": [
    {
     "name": "stdout",
     "output_type": "stream",
     "text": [
      "\n",
      "Attributes and methods of a Dog instance:\n",
      "['__class__', '__delattr__', '__dict__', '__dir__', '__doc__', '__eq__', '__format__', '__ge__', '__getattribute__', '__gt__', '__hash__', '__init__', '__init_subclass__', '__le__', '__lt__', '__module__', '__ne__', '__new__', '__reduce__', '__reduce_ex__', '__repr__', '__setattr__', '__sizeof__', '__str__', '__subclasshook__', '__weakref__', 'age', 'bark', 'name']\n",
      "\n"
     ]
    }
   ],
   "source": [
    "# Using dir() on an instance of the class\n",
    "dog_instance = Dog(\"Buddy\", 5)\n",
    "print(\"\\nAttributes and methods of a Dog instance:\")\n",
    "print(dir(dog_instance))  # Lists the attributes and methods of the Dog instance\n",
    "\n",
    "print() "
   ]
  },
  {
   "cell_type": "code",
   "execution_count": 8,
   "id": "baf9c902-f561-458a-8e83-a2361da08a7e",
   "metadata": {},
   "outputs": [
    {
     "name": "stdout",
     "output_type": "stream",
     "text": [
      "Filtered attributes and methods of the Dog instance:\n",
      "['age', 'bark', 'name']\n",
      "\n"
     ]
    }
   ],
   "source": [
    "# 5. Filtering Useful Information from dir()\n",
    "# ------------------------------------------\n",
    "# Using `dir()` can produce a long list of attributes, many of which are built-in\n",
    "# methods starting with underscores. You can filter these to see only the attributes\n",
    "# and methods you are interested in.\n",
    "\n",
    "# Filtering attributes and methods that do not start with an underscore\n",
    "dog_attributes = [attr for attr in dir(dog_instance) if not attr.startswith('_')]\n",
    "print(\"Filtered attributes and methods of the Dog instance:\")\n",
    "print(dog_attributes)  # Output: ['age', 'bark', 'name']\n",
    "\n",
    "print()  "
   ]
  },
  {
   "cell_type": "code",
   "execution_count": 9,
   "id": "823d372b-2261-4f43-b903-7af0e7ec31cd",
   "metadata": {},
   "outputs": [
    {
     "name": "stdout",
     "output_type": "stream",
     "text": [
      "\n",
      "# Note:\n",
      "# ----\n",
      "# - The `dir()` function is a powerful tool to explore objects, classes, and modules.\n",
      "# - It helps you understand the available methods and attributes you can use.\n",
      "# - You can filter out built-in methods to focus on the attributes relevant to your code.\n",
      "\n",
      "# Practice:\n",
      "# ---------\n",
      "# - Use `dir()` on different objects and modules to get familiar with their contents.\n",
      "# - Try using `dir()` on objects from libraries like `os`, `sys`, or custom classes you create.\n",
      "\n"
     ]
    }
   ],
   "source": [
    "print(\"\"\"\n",
    "# Note:\n",
    "# ----\n",
    "# - The `dir()` function is a powerful tool to explore objects, classes, and modules.\n",
    "# - It helps you understand the available methods and attributes you can use.\n",
    "# - You can filter out built-in methods to focus on the attributes relevant to your code.\n",
    "\n",
    "# Practice:\n",
    "# ---------\n",
    "# - Use `dir()` on different objects and modules to get familiar with their contents.\n",
    "# - Try using `dir()` on objects from libraries like `os`, `sys`, or custom classes you create.\n",
    "\"\"\")"
   ]
  },
  {
   "cell_type": "code",
   "execution_count": null,
   "id": "eec8c43b-8f6f-48c7-bc9e-0b57844fe3d2",
   "metadata": {},
   "outputs": [],
   "source": []
  }
 ],
 "metadata": {
  "kernelspec": {
   "display_name": "Python@3.10",
   "language": "python",
   "name": "python3"
  },
  "language_info": {
   "codemirror_mode": {
    "name": "ipython",
    "version": 3
   },
   "file_extension": ".py",
   "mimetype": "text/x-python",
   "name": "python",
   "nbconvert_exporter": "python",
   "pygments_lexer": "ipython3",
   "version": "3.10.14"
  }
 },
 "nbformat": 4,
 "nbformat_minor": 5
}
