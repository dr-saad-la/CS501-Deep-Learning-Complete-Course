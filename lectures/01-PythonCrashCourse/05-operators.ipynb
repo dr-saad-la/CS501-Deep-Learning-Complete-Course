{
 "cells": [
  {
   "cell_type": "code",
   "execution_count": 1,
   "id": "68000bdb-a6ec-413d-ab2d-5a1457cd392b",
   "metadata": {},
   "outputs": [],
   "source": [
    "# =======================================================================\n",
    "# Course: Deep Learning Complete Course (CS-501)\n",
    "# Author: Dr. Saad Laouadi\n",
    "# Lesson: Operators in Python\n",
    "#\n",
    "# Description: This program demonstrates the use of various operators in\n",
    "#              Python, including arithmetic, comparison, logical, assignment,\n",
    "#              and membership operators. Each operator is explained with\n",
    "#              examples to illustrate how it works.\n",
    "#\n",
    "# ======================================================================="
   ]
  },
  {
   "cell_type": "code",
   "execution_count": 2,
   "id": "1cc2dda9-49b7-45fa-a1bf-4a08e57c316d",
   "metadata": {},
   "outputs": [
    {
     "name": "stdout",
     "output_type": "stream",
     "text": [
      "Arithmetic Operators:\n",
      "10 + 3 = 13\n",
      "10 - 3 = 7\n",
      "10 * 3 = 30\n",
      "10 / 3 = 3.3333333333333335\n",
      "10 % 3 = 1\n",
      "10 ** 3 = 1000\n",
      "10 // 3 = 3\n",
      "\n"
     ]
    }
   ],
   "source": [
    "# 2. Operators in Python\n",
    "# ----------------------\n",
    "\n",
    "# 1. Arithmetic Operators\n",
    "# -----------------------\n",
    "# Used to perform basic mathematical operations.\n",
    "a = 10\n",
    "b = 3\n",
    "\n",
    "print(\"Arithmetic Operators:\")\n",
    "print(f\"{a} + {b} = {a + b}\")    # Addition: 13\n",
    "print(f\"{a} - {b} = {a - b}\")    # Subtraction: 7\n",
    "print(f\"{a} * {b} = {a * b}\")    # Multiplication: 30\n",
    "print(f\"{a} / {b} = {a / b}\")    # Division: 3.3333...\n",
    "print(f\"{a} % {b} = {a % b}\")    # Modulus (remainder): 1\n",
    "print(f\"{a} ** {b} = {a ** b}\")  # Exponentiation: 10^3 = 1000\n",
    "print(f\"{a} // {b} = {a // b}\")  # Floor Division: 3\n",
    "print()  # Blank line for better readability"
   ]
  },
  {
   "cell_type": "code",
   "execution_count": 3,
   "id": "db93f7e8-b88a-4e6c-81fd-8541d48ab044",
   "metadata": {},
   "outputs": [
    {
     "name": "stdout",
     "output_type": "stream",
     "text": [
      "Comparison Operators:\n",
      "5 == 10: False\n",
      "5 != 10: True\n",
      "5 > 10: False\n",
      "5 < 10: True\n",
      "5 >= 10: False\n",
      "5 <= 10: True\n",
      "\n"
     ]
    }
   ],
   "source": [
    "# 2. Comparison Operators\n",
    "# -----------------------\n",
    "# Used to compare two values and return a Boolean result.\n",
    "x = 5\n",
    "y = 10\n",
    "\n",
    "print(\"Comparison Operators:\")\n",
    "print(f\"{x} == {y}:\", x == y)   # Equal to: False\n",
    "print(f\"{x} != {y}:\", x != y)   # Not equal to: True\n",
    "print(f\"{x} > {y}:\", x > y)     # Greater than: False\n",
    "print(f\"{x} < {y}:\", x < y)     # Less than: True\n",
    "print(f\"{x} >= {y}:\", x >= y)   # Greater than or equal to: False\n",
    "print(f\"{x} <= {y}:\", x <= y)   # Less than or equal to: True\n",
    "print()"
   ]
  },
  {
   "cell_type": "code",
   "execution_count": 4,
   "id": "2a166b44-36d3-4fa6-a24a-06fe0954a952",
   "metadata": {},
   "outputs": [
    {
     "name": "stdout",
     "output_type": "stream",
     "text": [
      "Logical Operators:\n",
      "True and False: False\n",
      "True or False: True\n",
      "not True: False\n",
      "\n"
     ]
    }
   ],
   "source": [
    "# 3. Logical Operators\n",
    "# --------------------\n",
    "# Used to combine conditional statements.\n",
    "p = True\n",
    "q = False\n",
    "\n",
    "print(\"Logical Operators:\")\n",
    "print(f\"{p} and {q}:\", p and q)  # Logical AND: False\n",
    "print(f\"{p} or {q}:\", p or q)    # Logical OR: True\n",
    "print(f\"not {p}:\", not p)        # Logical NOT: False\n",
    "print()"
   ]
  },
  {
   "cell_type": "code",
   "execution_count": 5,
   "id": "500d3692-486f-4c65-ac3f-5c6d977afd2d",
   "metadata": {},
   "outputs": [
    {
     "name": "stdout",
     "output_type": "stream",
     "text": [
      "Assignment Operators:\n",
      "Initial value: 10\n",
      "After num += 5: 15\n",
      "After num -= 3: 12\n",
      "After num *= 2: 24\n",
      "After num /= 4: 6.0\n",
      "After num %= 5: 1.0\n",
      "\n"
     ]
    }
   ],
   "source": [
    "# 4. Assignment Operators\n",
    "# -----------------------\n",
    "# Used to assign values to variables.\n",
    "num = 10  # Simple assignment\n",
    "print(\"Assignment Operators:\")\n",
    "print(f\"Initial value: {num}\")\n",
    "\n",
    "num += 5  # Addition assignment: num = num + 5\n",
    "print(f\"After num += 5: {num}\")\n",
    "\n",
    "num -= 3  # Subtraction assignment: num = num - 3\n",
    "print(f\"After num -= 3: {num}\")\n",
    "\n",
    "num *= 2  # Multiplication assignment: num = num * 2\n",
    "print(f\"After num *= 2: {num}\")\n",
    "\n",
    "num /= 4  # Division assignment: num = num / 4\n",
    "print(f\"After num /= 4: {num}\")\n",
    "\n",
    "num %= 5  # Modulus assignment: num = num % 5\n",
    "print(f\"After num %= 5: {num}\")\n",
    "print()"
   ]
  },
  {
   "cell_type": "code",
   "execution_count": 7,
   "id": "ea43e606-39d4-442c-9307-947f3b3e87ff",
   "metadata": {},
   "outputs": [
    {
     "name": "stdout",
     "output_type": "stream",
     "text": [
      "Membership Operators:\n",
      "Is 3 in my_list? True\n",
      "Is 6 in my_list? False\n",
      "Is 4 not in my_list? False\n"
     ]
    }
   ],
   "source": [
    "# 5. Membership Operators\n",
    "# -----------------------\n",
    "# Used to test if a value is a member of a sequence (like a string, list, or tuple).\n",
    "my_list = [1, 2, 3, 4, 5]\n",
    "\n",
    "print(\"Membership Operators:\")\n",
    "print(\"Is 3 in my_list?\", 3 in my_list)       # True, because 3 is in the list\n",
    "print(\"Is 6 in my_list?\", 6 in my_list)       # False, because 6 is not in the list\n",
    "print(\"Is 4 not in my_list?\", 4 not in my_list)  # False, because 4 is in the list"
   ]
  },
  {
   "cell_type": "code",
   "execution_count": 8,
   "id": "56e52730-c51d-4582-8701-16f7e3fae3c1",
   "metadata": {},
   "outputs": [
    {
     "name": "stdout",
     "output_type": "stream",
     "text": [
      "\n",
      "# Notes:\n",
      "# - **Arithmetic Operators**: +, -, *, /, %, **, //\n",
      "# - **Comparison Operators**: ==, !=, >, <, >=, <=\n",
      "# - **Logical Operators**: and, or, not\n",
      "# - **Assignment Operators**: =, +=, -=, *=, /=, %=\n",
      "# - **Membership Operators**: in, not in\n",
      "\n",
      "# Summary\n",
      "# -------\n",
      "# - Arithmetic operators perform basic math operations.\n",
      "# - Comparison operators compare values and return a Boolean.\n",
      "# - Logical operators combine Boolean expressions.\n",
      "# - Assignment operators are used to assign and update variable values.\n",
      "# - Membership operators check for membership in a sequence.\n",
      "\n"
     ]
    }
   ],
   "source": [
    "print(\"\"\"\n",
    "# Notes:\n",
    "# - **Arithmetic Operators**: +, -, *, /, %, **, //\n",
    "# - **Comparison Operators**: ==, !=, >, <, >=, <=\n",
    "# - **Logical Operators**: and, or, not\n",
    "# - **Assignment Operators**: =, +=, -=, *=, /=, %=\n",
    "# - **Membership Operators**: in, not in\n",
    "\n",
    "# Summary\n",
    "# -------\n",
    "# - Arithmetic operators perform basic math operations.\n",
    "# - Comparison operators compare values and return a Boolean.\n",
    "# - Logical operators combine Boolean expressions.\n",
    "# - Assignment operators are used to assign and update variable values.\n",
    "# - Membership operators check for membership in a sequence.\n",
    "\"\"\")"
   ]
  },
  {
   "cell_type": "code",
   "execution_count": 2,
   "id": "1f9d12ef-50cf-4169-a931-895b6ada600b",
   "metadata": {},
   "outputs": [],
   "source": []
  },
  {
   "cell_type": "code",
   "execution_count": null,
   "id": "a5b9f225-fc7d-47bf-9de6-a7475a1afc34",
   "metadata": {},
   "outputs": [],
   "source": []
  }
 ],
 "metadata": {
  "kernelspec": {
   "display_name": "Python3.12",
   "language": "python",
   "name": "python3"
  },
  "language_info": {
   "codemirror_mode": {
    "name": "ipython",
    "version": 3
   },
   "file_extension": ".py",
   "mimetype": "text/x-python",
   "name": "python",
   "nbconvert_exporter": "python",
   "pygments_lexer": "ipython3",
   "version": "3.12.3"
  }
 },
 "nbformat": 4,
 "nbformat_minor": 5
}
