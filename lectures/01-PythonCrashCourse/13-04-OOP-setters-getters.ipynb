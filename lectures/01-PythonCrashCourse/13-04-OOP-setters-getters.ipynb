{
 "cells": [
  {
   "cell_type": "code",
   "execution_count": 1,
   "id": "cb3e32df-644c-4efa-b83c-7f4e3661a2eb",
   "metadata": {},
   "outputs": [],
   "source": [
    "# ======================================================================= #\n",
    "# Course: Deep Learning Complete Course (CS-501)\n",
    "# Author: Dr. Saad Laouadi\n",
    "# Lesson: Setters and Getters in Python OOP\n",
    "#\n",
    "# Description: This program introduces the concept of setters and getters\n",
    "#              in Object-Oriented Programming (OOP) using Python. It \n",
    "#              explains how to create and use these methods to control \n",
    "#              access to private attributes.\n",
    "#\n",
    "# =======================================================================\n",
    "#.          Copyright © Dr. Saad Laouadi\n",
    "# ======================================================================="
   ]
  },
  {
   "cell_type": "code",
   "execution_count": 2,
   "id": "130308f6-1efa-442e-ab33-29de51fcfc29",
   "metadata": {},
   "outputs": [
    {
     "name": "stdout",
     "output_type": "stream",
     "text": [
      "\n",
      "# Setters and Getters in Python\n",
      "# -----------------------------\n",
      "# In Python, setters and getters are used to control access to an object's \n",
      "# attributes. They provide a way to encapsulate data and add validation \n",
      "# logic if needed.\n",
      "\n"
     ]
    }
   ],
   "source": [
    "print(\"\"\"\n",
    "# Setters and Getters in Python\n",
    "# -----------------------------\n",
    "# In Python, setters and getters are used to control access to an object's \n",
    "# attributes. They provide a way to encapsulate data and add validation \n",
    "# logic if needed.\n",
    "\"\"\")"
   ]
  },
  {
   "cell_type": "code",
   "execution_count": 5,
   "id": "cf4f7589-9cf3-45f5-9c29-40a032fe44cf",
   "metadata": {},
   "outputs": [
    {
     "name": "stdout",
     "output_type": "stream",
     "text": [
      "Account Holder: Alice, Balance: $1000\n",
      "Initial Balance: 1000\n",
      "Error: Balance cannot be negative.\n",
      "Updated Balance: 1500\n",
      "\n"
     ]
    }
   ],
   "source": [
    "# 1. Defining a Class with Private Attributes\n",
    "# -------------------------------------------\n",
    "class BankAccount:\n",
    "    # Constructor to initialize the account holder's name and balance\n",
    "    def __init__(self, account_holder, balance):\n",
    "        self.account_holder = account_holder  # Public attribute\n",
    "        self.__balance = balance  # Private attribute (using double underscore)\n",
    "\n",
    "    # Getter method for the balance\n",
    "    def get_balance(self):\n",
    "        return self.__balance\n",
    "\n",
    "    # Setter method for the balance\n",
    "    def set_balance(self, amount):\n",
    "        if amount < 0:\n",
    "            print(\"Error: Balance cannot be negative.\")\n",
    "        else:\n",
    "            self.__balance = amount\n",
    "\n",
    "    # Method to display account information\n",
    "    def display_account_info(self):\n",
    "        return f\"Account Holder: {self.account_holder}, Balance: ${self.get_balance()}\"\n",
    "\n",
    "# 2. Creating Objects and Using Setters and Getters\n",
    "# -------------------------------------------------\n",
    "# Create a BankAccount object\n",
    "account = BankAccount(\"Alice\", 1000)\n",
    "\n",
    "# Access the private attribute using the getter method\n",
    "print(account.display_account_info())  # Output: Account Holder: Alice, Balance: $1000\n",
    "print(\"Initial Balance:\", account.get_balance())  # Output: Initial Balance: 1000\n",
    "\n",
    "# Attempt to set a negative balance using the setter method\n",
    "account.set_balance(-500)  # Output: Error: Balance cannot be negative.\n",
    "\n",
    "# Update the balance using the setter method\n",
    "account.set_balance(1500)\n",
    "print(\"Updated Balance:\", account.get_balance())  \n",
    "\n",
    "print()"
   ]
  },
  {
   "cell_type": "code",
   "execution_count": 6,
   "id": "5571591e-eab5-48ef-985f-00fc018014d4",
   "metadata": {},
   "outputs": [
    {
     "name": "stdout",
     "output_type": "stream",
     "text": [
      "Error: 'BankAccount' object has no attribute '__balance'\n"
     ]
    }
   ],
   "source": [
    "# 3. Directly Accessing the Private Attribute\n",
    "# -------------------------------------------\n",
    "# Attempting to access the private attribute directly will fail\n",
    "try:\n",
    "    print(account.__balance)  # This will raise an AttributeError\n",
    "except AttributeError as e:\n",
    "    print(\"Error:\", e)  "
   ]
  },
  {
   "cell_type": "code",
   "execution_count": 4,
   "id": "b89eb5c4-9f12-4aec-887a-2cc99634749e",
   "metadata": {},
   "outputs": [
    {
     "name": "stdout",
     "output_type": "stream",
     "text": [
      "\n",
      "# Note:\n",
      "# -----\n",
      "# - In Python, attributes prefixed with double underscores (`__`) are considered \n",
      "#   private and cannot be accessed directly from outside the class.\n",
      "# - Setters and getters provide controlled access and can include validation logic.\n",
      "\n",
      "# Summary:\n",
      "# --------\n",
      "# - **Private Attributes**: Use double underscores to make an attribute private.\n",
      "# - **Getter Methods**: Used to retrieve the value of a private attribute.\n",
      "# - **Setter Methods**: Used to update the value of a private attribute with validation.\n",
      "\n",
      "# Practice:\n",
      "# ---------\n",
      "# - Create your own class with private attributes and use setters and getters.\n",
      "# - Add validation logic in the setter methods to ensure data integrity.\n",
      "\n"
     ]
    }
   ],
   "source": [
    "print(\"\"\"\n",
    "# Note:\n",
    "# -----\n",
    "# - In Python, attributes prefixed with double underscores (`__`) are considered \n",
    "#   private and cannot be accessed directly from outside the class.\n",
    "# - Setters and getters provide controlled access and can include validation logic.\n",
    "\n",
    "# Summary:\n",
    "# --------\n",
    "# - **Private Attributes**: Use double underscores to make an attribute private.\n",
    "# - **Getter Methods**: Used to retrieve the value of a private attribute.\n",
    "# - **Setter Methods**: Used to update the value of a private attribute with validation.\n",
    "\n",
    "# Practice:\n",
    "# ---------\n",
    "# - Create your own class with private attributes and use setters and getters.\n",
    "# - Add validation logic in the setter methods to ensure data integrity.\n",
    "\"\"\")"
   ]
  },
  {
   "cell_type": "code",
   "execution_count": null,
   "id": "22606374-8276-488e-aa5e-a37ebaf2506c",
   "metadata": {},
   "outputs": [],
   "source": []
  }
 ],
 "metadata": {
  "kernelspec": {
   "display_name": "Python@3.10",
   "language": "python",
   "name": "python3"
  },
  "language_info": {
   "codemirror_mode": {
    "name": "ipython",
    "version": 3
   },
   "file_extension": ".py",
   "mimetype": "text/x-python",
   "name": "python",
   "nbconvert_exporter": "python",
   "pygments_lexer": "ipython3",
   "version": "3.10.14"
  }
 },
 "nbformat": 4,
 "nbformat_minor": 5
}
