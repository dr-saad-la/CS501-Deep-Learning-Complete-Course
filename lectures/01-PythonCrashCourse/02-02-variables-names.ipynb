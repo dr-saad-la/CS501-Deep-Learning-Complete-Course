{
 "cells": [
  {
   "cell_type": "code",
   "execution_count": null,
   "id": "e95fba64-c1b8-4509-af5d-9258a703c950",
   "metadata": {},
   "outputs": [],
   "source": [
    "#===========================================================#\n",
    "#      Project: Deep Learning Complete Course with Python\n",
    "#      Chapter: Python Crash Course\n",
    "#      Lesson: Variable Names In Python\n",
    "#\n",
    "#      Author: Dr. Saad Laouadi \n",
    "#===========================================================#"
   ]
  },
  {
   "cell_type": "code",
   "execution_count": 2,
   "id": "e1b99e7e-eada-4421-aaf8-74a583128612",
   "metadata": {},
   "outputs": [
    {
     "name": "stdout",
     "output_type": "stream",
     "text": [
      "\n",
      "# Rules for Defining Variables in Python\n",
      "# --------------------------------------\n",
      "# 1. Variable names must begin with a letter (a-z, A-Z) or an underscore (_).\n",
      "# 2. The rest of the variable name may include letters, digits (0-9), or underscores.\n",
      "# 3. Variable names are case-sensitive (e.g., 'myVariable' and 'myvariable' are treated as distinct variables).\n",
      "# 4. Variable names cannot be Python keywords (e.g., 'if', 'for', 'while', etc.).\n",
      "# 5. Avoid using special characters or spaces in variable names.\n",
      "\n",
      "Alice\n",
      "30\n",
      "1.75\n"
     ]
    }
   ],
   "source": [
    "variable_names_rules = \"\"\"\n",
    "# Rules for Defining Variables in Python\n",
    "# --------------------------------------\n",
    "# 1. Variable names must begin with a letter (a-z, A-Z) or an underscore (_).\n",
    "# 2. The rest of the variable name may include letters, digits (0-9), or underscores.\n",
    "# 3. Variable names are case-sensitive (e.g., 'myVariable' and 'myvariable' are treated as distinct variables).\n",
    "# 4. Variable names cannot be Python keywords (e.g., 'if', 'for', 'while', etc.).\n",
    "# 5. Avoid using special characters or spaces in variable names.\n",
    "\"\"\"\n",
    "\n",
    "print(variable_names_rules)\n",
    "\n",
    "# Examples of Valid and Descriptive Variable Names\n",
    "# ------------------------------------------------\n",
    "first_name = \"Alice\"               # Descriptive variable holding a person's first name\n",
    "age = 30                           # Descriptive variable holding a person's age\n",
    "height_in_meters = 1.75            # Descriptive variable holding a person's height in meters\n",
    "\n",
    "# Print the values of the variables\n",
    "print(first_name)          \n",
    "print(age)                 \n",
    "print(height_in_meters)    "
   ]
  },
  {
   "cell_type": "code",
   "execution_count": 8,
   "id": "a66a5d74-a04a-49c3-8580-be44bff9bc0b",
   "metadata": {},
   "outputs": [
    {
     "name": "stdout",
     "output_type": "stream",
     "text": [
      "\n",
      "# Invalid variable names:\n",
      "# ---------------\n",
      "# - **Variable names must not start with a number.**\n",
      "# - **Variable names can only contain alphanumeric characters and underscores** (A-Z, a-z, 0-9, _).\n",
      "# - **Python is case-sensitive**: 'age', 'Age', and 'AGE' are considered distinct variables.\n",
      "\n",
      "****************************************************************************************************\n",
      "\n",
      "# Examples of Invalid Variable Names\n",
      "# ---------------------------------\n",
      "# The following variable names are not allowed in Python:\n",
      "\n",
      "# 1. Starting with a number\n",
      "1_variable = 10                        # Invalid: Variable names cannot begin with a digit\n",
      "\n",
      "# 2. Using special characters\n",
      "variable-name = 20                     # Invalid: Special characters like '-' are not allowed\n",
      "\n",
      "# 3. Using Python keywords\n",
      "True = 30                              # Invalid: Keywords cannot be used as variable names\n",
      "\n",
      "****************************************************************************************************\n"
     ]
    }
   ],
   "source": [
    "invalid_var_names = \"\"\"\n",
    "# Invalid variable names:\n",
    "# ---------------\n",
    "# - **Variable names must not start with a number.**\n",
    "# - **Variable names can only contain alphanumeric characters and underscores** (A-Z, a-z, 0-9, _).\n",
    "# - **Python is case-sensitive**: 'age', 'Age', and 'AGE' are considered distinct variables.\n",
    "\"\"\"\n",
    "print(invalid_var_names)\n",
    "\n",
    "\n",
    "not_allowed = \"\"\"\n",
    "# Examples of Invalid Variable Names\n",
    "# ---------------------------------\n",
    "# The following variable names are not allowed in Python:\n",
    "\n",
    "# 1. Starting with a number\n",
    "1_variable = 10                        # Invalid: Variable names cannot begin with a digit\n",
    "\n",
    "# 2. Using special characters\n",
    "variable-name = 20                     # Invalid: Special characters like '-' are not allowed\n",
    "\n",
    "# 3. Using Python keywords\n",
    "True = 30                              # Invalid: Keywords cannot be used as variable names\n",
    "\"\"\"\n",
    "\n",
    "print(\"*\"*100)\n",
    "print(not_allowed)\n",
    "print(\"*\"*100)"
   ]
  },
  {
   "cell_type": "code",
   "execution_count": 9,
   "id": "0c91036f-6872-4f8e-82c7-66a0099b1e08",
   "metadata": {},
   "outputs": [
    {
     "name": "stdout",
     "output_type": "stream",
     "text": [
      "\n",
      "# Best Practice\n",
      "# -------------\n",
      "# Use meaningful and descriptive names for variables to make your code more readable and maintainable.\n",
      "\n"
     ]
    }
   ],
   "source": [
    "best_practice = \"\"\"\n",
    "# Best Practice\n",
    "# -------------\n",
    "# Use meaningful and descriptive names for variables to make your code more readable and maintainable.\n",
    "\"\"\"\n",
    "print(best_practice)"
   ]
  },
  {
   "cell_type": "code",
   "execution_count": 16,
   "id": "067a1d92-2e58-42a7-be12-85d0844d4e5d",
   "metadata": {},
   "outputs": [
    {
     "name": "stdout",
     "output_type": "stream",
     "text": [
      "\n",
      "# # Naming Conventions for Multi-Word Variables\n",
      "# ---------------------------------------------\n",
      "# When naming variables with more than one word, readability is crucial. Python programmers commonly\n",
      "# use three different techniques to make multi-word variable names more readable:\n",
      "\n",
      "****************************************************************************************************\n",
      "\n",
      "# 1. Camel Case\n",
      "# -------------\n",
      "# In Camel Case, the first word starts with a lowercase letter, and each subsequent word starts with \n",
      "# a capital letter. This is commonly used in Java but also appears in Python code.\n",
      "\n",
      "\n",
      "# 2. Pascal Case\n",
      "# --------------\n",
      "# In Pascal Case, every word starts with a capital letter. This convention is often used for class names.\n",
      "\n",
      "\n",
      "# 3. Snake Case\n",
      "# -------------\n",
      "# In Snake Case, all words are written in lowercase and are separated by underscores. This is the most\n",
      "# commonly used naming convention in Python for variables and function names.\n",
      "\n",
      "****************************************************************************************************\n",
      "Variable name in lower camel case: John\n",
      "Variable name in Pascal (Upper camel case): John\n",
      "Variable name in snake case: John\n",
      "****************************************************************************************************\n",
      "\n",
      "# Note:\n",
      "# -----\n",
      "# - **Camel Case**: Preferred in some languages, but less common for variables in Python.\n",
      "# - **Pascal Case**: Typically used for class names in Python.\n",
      "# - **Snake Case**: The most Pythonic way to name variables and functions, according to PEP 8 style guidelines.\n",
      "\n",
      "****************************************************************************************************\n"
     ]
    }
   ],
   "source": [
    "multi_word_variable_names = \"\"\"\n",
    "# # Naming Conventions for Multi-Word Variables\n",
    "# ---------------------------------------------\n",
    "# When naming variables with more than one word, readability is crucial. Python programmers commonly\n",
    "# use three different techniques to make multi-word variable names more readable:\n",
    "\"\"\"\n",
    "print(multi_word_variable_names)\n",
    "\n",
    "camel_case = \"\"\"\n",
    "# 1. Camel Case\n",
    "# -------------\n",
    "# In Camel Case, the first word starts with a lowercase letter, and each subsequent word starts with \n",
    "# a capital letter. This is commonly used in Java but also appears in Python code.\n",
    "\"\"\"\n",
    "print(\"*\"*100)\n",
    "print(camel_case)\n",
    "\n",
    "myVariableName = \"John\"                   # Example of Camel Case\n",
    "\n",
    "pascal_case = \"\"\"\n",
    "# 2. Pascal Case\n",
    "# --------------\n",
    "# In Pascal Case, every word starts with a capital letter. This convention is often used for class names.\n",
    "\"\"\"\n",
    "print(pascal_case)\n",
    "MyVariableName = \"John\"                   # Example of Pascal Case\n",
    "\n",
    "snake_case = \"\"\"\n",
    "# 3. Snake Case\n",
    "# -------------\n",
    "# In Snake Case, all words are written in lowercase and are separated by underscores. This is the most\n",
    "# commonly used naming convention in Python for variables and function names.\n",
    "\"\"\"\n",
    "print(snake_case)\n",
    "\n",
    "my_variable_name = \"John\"                # Example of Snake Case\n",
    "\n",
    "note = \"\"\"\n",
    "# Note:\n",
    "# -----\n",
    "# - **Camel Case**: Preferred in some languages, but less common for variables in Python.\n",
    "# - **Pascal Case**: Typically used for class names in Python.\n",
    "# - **Snake Case**: The most Pythonic way to name variables and functions, according to PEP 8 style guidelines.\n",
    "\"\"\"\n",
    "print(\"*\"*100)\n",
    "\n",
    "print(\"Variable name in lower camel case:\", myVariableName)\n",
    "print(\"Variable name in Pascal (Upper camel case):\", MyVariableName)\n",
    "print(\"Variable name in snake case:\", my_variable_name)\n",
    "\n",
    "print(\"*\"*100)\n",
    "\n",
    "print(note)\n",
    "\n",
    "print(\"*\"*100)"
   ]
  },
  {
   "cell_type": "code",
   "execution_count": 10,
   "id": "df9ea982-e3b3-4dc7-90ad-c30b6f824fd6",
   "metadata": {},
   "outputs": [
    {
     "name": "stdout",
     "output_type": "stream",
     "text": [
      "4\n",
      "Sally\n",
      "\n",
      "Explanation:\n",
      "------------\n",
      "- 'a' and 'A' are considered different identifiers because of case sensitivity.\n",
      "- This feature allows for more flexible variable naming but requires careful attention to avoid confusion.\n",
      "\n"
     ]
    }
   ],
   "source": [
    "# Case Sensitivity in Variable Names\n",
    "# ----------------------------------\n",
    "# Python variable names are case-sensitive, meaning that variables with the same name but different\n",
    "# cases (e.g., 'a' and 'A') are treated as distinct variables.\n",
    "\n",
    "# Example of Case Sensitivity:\n",
    "a = 4                         # Integer variable\n",
    "A = \"Sally\"                   # String variable\n",
    "\n",
    "# 'A' is different from 'a', so they do not interfere with each other\n",
    "print(a) \n",
    "print(A) \n",
    "\n",
    "explanation = \"\"\"\n",
    "Explanation:\n",
    "------------\n",
    "- 'a' and 'A' are considered different identifiers because of case sensitivity.\n",
    "- This feature allows for more flexible variable naming but requires careful attention to avoid confusion.\n",
    "\"\"\"\n",
    "print(explanation)"
   ]
  },
  {
   "cell_type": "code",
   "execution_count": null,
   "id": "b3689759-b6a4-4287-b8ea-ae5c0d9351cf",
   "metadata": {},
   "outputs": [],
   "source": []
  }
 ],
 "metadata": {
  "kernelspec": {
   "display_name": "Python3.12",
   "language": "python",
   "name": "python3"
  },
  "language_info": {
   "codemirror_mode": {
    "name": "ipython",
    "version": 3
   },
   "file_extension": ".py",
   "mimetype": "text/x-python",
   "name": "python",
   "nbconvert_exporter": "python",
   "pygments_lexer": "ipython3",
   "version": "3.12.3"
  }
 },
 "nbformat": 4,
 "nbformat_minor": 5
}
