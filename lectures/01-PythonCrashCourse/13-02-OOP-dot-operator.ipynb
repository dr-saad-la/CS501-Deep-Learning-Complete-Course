{
 "cells": [
  {
   "cell_type": "code",
   "execution_count": 1,
   "id": "cb3e32df-644c-4efa-b83c-7f4e3661a2eb",
   "metadata": {},
   "outputs": [],
   "source": [
    "# ======================================================================= #\n",
    "# Course: Deep Learning Complete Course (CS-501)\n",
    "# Author: Dr. Saad Laouadi\n",
    "# Lesson: Understanding the Dot Operator in OOP\n",
    "#\n",
    "# Description: This program explains how the dot operator is used in OOP\n",
    "#              to access attributes and methods of an object. It covers\n",
    "#              practical examples to demonstrate how to use the dot operator\n",
    "#              effectively in Python.\n",
    "#\n",
    "# =======================================================================\n",
    "#.          Copyright © Dr. Saad Laouadi\n",
    "# ======================================================================="
   ]
  },
  {
   "cell_type": "code",
   "execution_count": null,
   "id": "fb13f62c-9244-4f67-9e9d-806a1e318047",
   "metadata": {},
   "outputs": [],
   "source": [
    "# Class Definition\n",
    "# ----------------\n",
    "class Person:\n",
    "    # Constructor to initialize the name and age attributes\n",
    "    def __init__(self, name, age):\n",
    "        self.name = name  # `self.name` is an instance attribute\n",
    "        self.age = age    # `self.age` is an instance attribute\n",
    "\n",
    "    # Method to get the name of the person\n",
    "    def get_name(self):\n",
    "        return self.name\n",
    "\n",
    "    # Method to get the age of the person\n",
    "    def get_age(self):\n",
    "        return self.age\n",
    "    \n",
    "\n",
    "# Object Creation\n",
    "# ---------------\n",
    "# Create an object `p` of the class `Person`\n",
    "p = Person(\"Kevin\", 25)\n",
    "\n",
    "# Using the Dot Operator\n",
    "# ----------------------\n",
    "# Accessing the `name` attribute of the object `p` using the dot operator\n",
    "print(\"Name:\", p.name) \n",
    "\n",
    "# Accessing the `age` attribute of the object `p` using the dot operator\n",
    "print(\"Age:\", p.age)   \n",
    "\n",
    "# Calling the `get_name()` method of the object `p` using the dot operator\n",
    "print(\"Get Name:\", p.get_name())  \n",
    "\n",
    "# Calling the `get_age()` method of the object `p` using the dot operator\n",
    "print(\"Get Age:\", p.get_age())    \n",
    "\n",
    "print()"
   ]
  },
  {
   "cell_type": "code",
   "execution_count": 4,
   "id": "f4dcc75c-f96c-484f-9c7b-6b3a6ee7270f",
   "metadata": {},
   "outputs": [
    {
     "name": "stdout",
     "output_type": "stream",
     "text": [
      "\n",
      "# Explanation of the Dot Operator\n",
      "# -------------------------------\n",
      "# The dot operator (.) in Python is officially known as the attribute access operator.\n",
      "# The dot operator is used to access:\n",
      "# - **Attributes**: `p.name` retrieves the `name` attribute of the `p` object.\n",
      "# - **Methods**: `p.get_name()` calls the `get_name()` method of the `p` object.\n",
      "\n",
      "# Note:\n",
      "# -----\n",
      "# - In Python, there are no pointers as in C or C++, so you do not use `&` to reference or `*` to dereference variables.\n",
      "# - The dot operator in Python is a way to navigate through an object's namespace and access its members (attributes or methods).\n",
      "\n"
     ]
    }
   ],
   "source": [
    "print(\"\"\"\n",
    "# Explanation of the Dot Operator\n",
    "# -------------------------------\n",
    "# The dot operator (.) in Python is officially known as the attribute access operator.\n",
    "# The dot operator is used to access:\n",
    "# - **Attributes**: `p.name` retrieves the `name` attribute of the `p` object.\n",
    "# - **Methods**: `p.get_name()` calls the `get_name()` method of the `p` object.\n",
    "\n",
    "# Note:\n",
    "# -----\n",
    "# - In Python, there are no pointers as in C or C++, so you do not use `&` to reference or `*` to dereference variables.\n",
    "# - The dot operator in Python is a way to navigate through an object's namespace and access its members (attributes or methods).\n",
    "\"\"\")"
   ]
  },
  {
   "cell_type": "code",
   "execution_count": null,
   "id": "2c84d6f5-8efc-4b1d-81d2-39859df86fb9",
   "metadata": {},
   "outputs": [],
   "source": []
  }
 ],
 "metadata": {
  "kernelspec": {
   "display_name": "Python@3.10",
   "language": "python",
   "name": "python3"
  },
  "language_info": {
   "codemirror_mode": {
    "name": "ipython",
    "version": 3
   },
   "file_extension": ".py",
   "mimetype": "text/x-python",
   "name": "python",
   "nbconvert_exporter": "python",
   "pygments_lexer": "ipython3",
   "version": "3.10.14"
  }
 },
 "nbformat": 4,
 "nbformat_minor": 5
}
