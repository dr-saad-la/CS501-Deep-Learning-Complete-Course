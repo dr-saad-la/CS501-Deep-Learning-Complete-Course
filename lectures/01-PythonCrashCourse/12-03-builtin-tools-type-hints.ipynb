{
 "cells": [
  {
   "cell_type": "code",
   "execution_count": 1,
   "id": "857d6d61-703a-4b53-9f72-732d5459a8d9",
   "metadata": {},
   "outputs": [],
   "source": [
    "# ======================================================================= #\n",
    "# Course: Deep Learning Complete Course (CS-501)\n",
    "# Author: Dr. Saad Laouadi\n",
    "# Lesson: Type Hints in Python\n",
    "#\n",
    "# Description: This program introduces type hints, a feature in Python\n",
    "#              that allows specifying the expected types of variables,\n",
    "#              function parameters, and return values. It provides examples\n",
    "#              of using type hints with simple and complex data structures.\n",
    "#\n",
    "# =======================================================================\n",
    "#.          Copyright © Dr. Saad Laouadi\n",
    "# ======================================================================="
   ]
  },
  {
   "cell_type": "code",
   "execution_count": 2,
   "id": "3aaaf081-926d-4613-8060-3a0ed7e9e735",
   "metadata": {},
   "outputs": [],
   "source": [
    "# Importing typing tools\n",
    "from typing import List, Dict, Tuple, Optional"
   ]
  },
  {
   "cell_type": "code",
   "execution_count": 3,
   "id": "25721562-6d31-45c8-863c-04a71505cbd9",
   "metadata": {},
   "outputs": [
    {
     "name": "stdout",
     "output_type": "stream",
     "text": [
      "\n",
      "# Type Hints in Python\n",
      "# --------------------\n",
      "# Type hints are optional annotations that specify the data type of a variable\n",
      "# or the return type of a function. They do not change the behavior of the code\n",
      "# but help developers and tools understand the expected types.\n",
      "\n"
     ]
    }
   ],
   "source": [
    "print(\"\"\"\n",
    "# Type Hints in Python\n",
    "# --------------------\n",
    "# Type hints are optional annotations that specify the data type of a variable\n",
    "# or the return type of a function. They do not change the behavior of the code\n",
    "# but help developers and tools understand the expected types.\n",
    "\"\"\")"
   ]
  },
  {
   "cell_type": "code",
   "execution_count": 4,
   "id": "491523bc-b220-4948-ae97-723f652d07ef",
   "metadata": {},
   "outputs": [
    {
     "name": "stdout",
     "output_type": "stream",
     "text": [
      "Name: Alice, Age: 30, Height: 5.9, Is Student: False\n",
      "\n"
     ]
    }
   ],
   "source": [
    "# 1. Type Hints for Variables\n",
    "# ---------------------------\n",
    "name: str = \"Alice\"           # `name` should be a string\n",
    "age: int = 30                 # `age` should be an integer\n",
    "height: float = 5.9           # `height` should be a float\n",
    "is_student: bool = False      # `is_student` should be a boolean\n",
    "\n",
    "print(f\"Name: {name}, Age: {age}, Height: {height}, Is Student: {is_student}\") \n",
    "\n",
    "print()  "
   ]
  },
  {
   "cell_type": "code",
   "execution_count": 10,
   "id": "123e1eee-0217-4ea1-8b76-d6d34ed24c2c",
   "metadata": {},
   "outputs": [
    {
     "name": "stdout",
     "output_type": "stream",
     "text": [
      "Reassigned Name: 123\n"
     ]
    }
   ],
   "source": [
    "# Example of Assigning a Different Data Type\n",
    "# ------------------------------------------\n",
    "# Reassigning `name` to an integer, which is not the hinted type\n",
    "name = 123                       # No runtime error, but this is not recommended\n",
    "print(\"Reassigned Name:\", name)  "
   ]
  },
  {
   "cell_type": "code",
   "execution_count": 11,
   "id": "b636a499-ec8f-4fa1-ae53-a5be4e087859",
   "metadata": {},
   "outputs": [
    {
     "name": "stdout",
     "output_type": "stream",
     "text": [
      "\n",
      "# Note:\n",
      "# -----\n",
      "# - Type hints provide guidance on the expected types but do not enforce them at runtime.\n",
      "# - Python allows reassigning variables to different types without an error.\n",
      "# - To detect such type mismatches, you can use a static type checker like `mypy`.\n",
      "\n",
      "# Using `mypy` to Check Types\n",
      "# ---------------------------\n",
      "# 1. Install mypy:\n",
      "#    pip install mypy\n",
      "#\n",
      "# 2. Run mypy on your script:\n",
      "#    mypy your_script.py\n",
      "#\n",
      "# - If `mypy` detects a type mismatch (e.g., `name` being assigned an integer), it will generate an error message.\n",
      "\n"
     ]
    }
   ],
   "source": [
    "print(\"\"\"\n",
    "# Note:\n",
    "# -----\n",
    "# - Type hints provide guidance on the expected types but do not enforce them at runtime.\n",
    "# - Python allows reassigning variables to different types without an error.\n",
    "# - To detect such type mismatches, you can use a static type checker like `mypy`.\n",
    "\n",
    "# Using `mypy` to Check Types\n",
    "# ---------------------------\n",
    "# 1. Install mypy:\n",
    "#    pip install mypy\n",
    "#\n",
    "# 2. Run mypy on your script:\n",
    "#    mypy your_script.py\n",
    "#\n",
    "# - If `mypy` detects a type mismatch (e.g., `name` being assigned an integer), it will generate an error message.\n",
    "\"\"\")"
   ]
  },
  {
   "cell_type": "code",
   "execution_count": 5,
   "id": "bb262589-5675-4e2c-875d-30bc569b1aac",
   "metadata": {},
   "outputs": [
    {
     "name": "stdout",
     "output_type": "stream",
     "text": [
      "Sum: 15\n",
      "\n"
     ]
    }
   ],
   "source": [
    "# 2. Type Hints for Function Parameters and Return Types\n",
    "# ------------------------------------------------------\n",
    "def add_numbers(x: int, y: int) -> int:\n",
    "    \"\"\"Adds two numbers and returns the result.\"\"\"\n",
    "    return x + y\n",
    "\n",
    "# Using the function with type hints \n",
    "result = add_numbers(5, 10)\n",
    "print(\"Sum:\", result) \n",
    "\n",
    "print()  "
   ]
  },
  {
   "cell_type": "code",
   "execution_count": 6,
   "id": "2d98e906-ce71-4843-9968-79c623d10136",
   "metadata": {},
   "outputs": [
    {
     "name": "stdout",
     "output_type": "stream",
     "text": [
      "Squared Numbers: [1, 4, 9, 16, 25]\n",
      "\n"
     ]
    }
   ],
   "source": [
    "# 3. Type Hints for Lists and Other Data Structures\n",
    "# -------------------------------------------------\n",
    "def get_squared_numbers(numbers: List[int]) -> List[int]:\n",
    "    \"\"\"Returns a list of squared numbers.\"\"\"\n",
    "    return [n ** 2 for n in numbers]\n",
    "\n",
    "squared_numbers = get_squared_numbers([1, 2, 3, 4, 5])\n",
    "print(\"Squared Numbers:\", squared_numbers)  # Output: [1, 4, 9, 16, 25]\n",
    "\n",
    "print()  "
   ]
  },
  {
   "cell_type": "code",
   "execution_count": 7,
   "id": "2dedf94a-9e08-4688-8275-0a3f8eedbef4",
   "metadata": {},
   "outputs": [
    {
     "name": "stdout",
     "output_type": "stream",
     "text": [
      "Student Info: {'name': 'Bob', 'major': 'Computer Science'}\n",
      "Coordinates: (37.7749, -122.4194)\n",
      "\n"
     ]
    }
   ],
   "source": [
    "# 4. Type Hints for Dictionaries and Tuples\n",
    "# -----------------------------------------\n",
    "def get_student_info() -> Dict[str, str]:\n",
    "    \"\"\"Returns a dictionary containing student information.\"\"\"\n",
    "    return {\"name\": \"Bob\", \"major\": \"Computer Science\"}\n",
    "\n",
    "student_info = get_student_info()\n",
    "print(\"Student Info:\", student_info)  \n",
    "\n",
    "# Type hint for a tuple\n",
    "def get_coordinates() -> Tuple[float, float]:\n",
    "    \"\"\"Returns a tuple containing coordinates (latitude, longitude).\"\"\"\n",
    "    return (37.7749, -122.4194)\n",
    "\n",
    "coordinates = get_coordinates()\n",
    "print(\"Coordinates:\", coordinates)\n",
    "\n",
    "print()  "
   ]
  },
  {
   "cell_type": "code",
   "execution_count": 8,
   "id": "3d12aeb3-4c60-4b24-a724-905d01e3a379",
   "metadata": {},
   "outputs": [
    {
     "name": "stdout",
     "output_type": "stream",
     "text": [
      "Hello, Charlie!\n",
      "Hello, Stranger!\n",
      "\n"
     ]
    }
   ],
   "source": [
    "# 5. Using Optional Type Hint\n",
    "# ---------------------------\n",
    "from typing import Optional\n",
    "\n",
    "def greet_user(name: Optional[str] = None) -> str:\n",
    "    \"\"\"Greets the user. If no name is provided, returns a generic greeting.\"\"\"\n",
    "    if name:\n",
    "        return f\"Hello, {name}!\"\n",
    "    return \"Hello, Stranger!\"\n",
    "\n",
    "print(greet_user(\"Charlie\"))  \n",
    "print(greet_user())           \n",
    "\n",
    "print()  "
   ]
  },
  {
   "cell_type": "code",
   "execution_count": null,
   "id": "977dc743-2f5f-4e88-9e8a-2ff86dd3f8d0",
   "metadata": {},
   "outputs": [],
   "source": [
    "# 6. Type Hints for Functions with `Any`\n",
    "# --------------------------------------\n",
    "from typing import Any\n",
    "\n",
    "def print_value(value: Any) -> None:\n",
    "    \"\"\"Prints the value, regardless of its type.\"\"\"\n",
    "    print(\"Value:\", value)\n",
    "\n",
    "print_value(42)               \n",
    "print_value(\"Hello, World!\")  \n",
    "print_value([1, 2, 3])        "
   ]
  },
  {
   "cell_type": "code",
   "execution_count": 9,
   "id": "08d2de44-a9ca-4b1c-a9d6-1607786adebd",
   "metadata": {},
   "outputs": [
    {
     "name": "stdout",
     "output_type": "stream",
     "text": [
      "\n",
      "# Notes:\n",
      "# ------\n",
      "# - Type hints are useful for static type checkers, IDEs, and code editors to help identify bugs.\n",
      "# - They improve code readability and documentation, making it easier for other developers to understand.\n",
      "# - Use the `typing` module to annotate complex data structures like lists, dictionaries, and tuples.\n",
      "\n",
      "# Practice:\n",
      "# ---------\n",
      "# - Try adding type hints to your own functions and variables.\n",
      "# - Use tools like `mypy` to check for type errors in your code.\n",
      "\n"
     ]
    }
   ],
   "source": [
    "print(\"\"\"\n",
    "# Notes:\n",
    "# ------\n",
    "# - Type hints are useful for static type checkers, IDEs, and code editors to help identify bugs.\n",
    "# - They improve code readability and documentation, making it easier for other developers to understand.\n",
    "# - Use the `typing` module to annotate complex data structures like lists, dictionaries, and tuples.\n",
    "\n",
    "# Practice:\n",
    "# ---------\n",
    "# - Try adding type hints to your own functions and variables.\n",
    "# - Use tools like `mypy` to check for type errors in your code.\n",
    "\"\"\")"
   ]
  },
  {
   "cell_type": "code",
   "execution_count": null,
   "id": "3c7e53e1-2291-4d96-af4c-2363b981b2d6",
   "metadata": {},
   "outputs": [],
   "source": []
  }
 ],
 "metadata": {
  "kernelspec": {
   "display_name": "Mamba Base",
   "language": "python",
   "name": "base"
  },
  "language_info": {
   "codemirror_mode": {
    "name": "ipython",
    "version": 3
   },
   "file_extension": ".py",
   "mimetype": "text/x-python",
   "name": "python",
   "nbconvert_exporter": "python",
   "pygments_lexer": "ipython3",
   "version": "3.10.14"
  }
 },
 "nbformat": 4,
 "nbformat_minor": 5
}
