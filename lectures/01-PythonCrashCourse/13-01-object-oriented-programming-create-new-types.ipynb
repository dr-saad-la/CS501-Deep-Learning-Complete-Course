{
 "cells": [
  {
   "cell_type": "code",
   "execution_count": 1,
   "id": "cb3e32df-644c-4efa-b83c-7f4e3661a2eb",
   "metadata": {},
   "outputs": [],
   "source": [
    "# ======================================================================= #\n",
    "# Course: Deep Learning Complete Course (CS-501)\n",
    "# Author: Dr. Saad Laouadi\n",
    "# Lesson: Class Definition and Object Creation in Python\n",
    "#\n",
    "# Description: This program introduces class definition and object creation\n",
    "#              in Python using a simple `Book` class. It demonstrates how to\n",
    "#              define a class, create objects, and use attributes and methods\n",
    "#              effectively.\n",
    "#\n",
    "# =======================================================================\n",
    "#.          Copyright © Dr. Saad Laouadi\n",
    "# ======================================================================="
   ]
  },
  {
   "cell_type": "code",
   "execution_count": 10,
   "id": "839eb13c-f56a-46a9-a540-6f3acb0f7a48",
   "metadata": {},
   "outputs": [],
   "source": [
    "# Class Definition and Object Creation\n",
    "# ------------------------------------\n",
    "# A class is a blueprint for creating objects, encapsulating data (attributes)\n",
    "# and methods that work with that data.\n",
    "\n",
    "# 1. Defining a Simple Class\n",
    "# --------------------------\n",
    "# Use the `class` keyword to define a class.\n",
    "class Book:\n",
    "    # The `__init__` method initializes the object's attributes.\n",
    "    def __init__(self, title, author, pages):\n",
    "        self.title = title       # Title of the book\n",
    "        self.author = author     # Author of the book\n",
    "        self.pages = pages       # Number of pages in the book\n",
    "\n",
    "    # Method to describe the book\n",
    "    def describe(self):\n",
    "        return f\"'{self.title}' by {self.author}, {self.pages} pages.\"\n",
    "\n",
    "    # Method to check if the book is long or short\n",
    "    def is_long_book(self):\n",
    "        if self.pages > 300:\n",
    "            return f\"{self.title} is a long book.\"\n",
    "        else:\n",
    "            return f\"{self.title} is a short book.\""
   ]
  },
  {
   "cell_type": "code",
   "execution_count": 11,
   "id": "3c1b6dad-64b0-4b56-b937-9a0aac572877",
   "metadata": {},
   "outputs": [
    {
     "name": "stdout",
     "output_type": "stream",
     "text": [
      "'To Kill a Mockingbird' by Harper Lee, 281 pages.\n",
      "'War and Peace' by Leo Tolstoy, 1225 pages.\n",
      "To Kill a Mockingbird is a short book.\n",
      "War and Peace is a long book.\n",
      "\n"
     ]
    }
   ],
   "source": [
    "# 2. Creating Objects from a Class\n",
    "# --------------------------------\n",
    "# Objects are instances of a class. We can create multiple book objects.\n",
    "\n",
    "# Create two Book objects\n",
    "book1 = Book(\"To Kill a Mockingbird\", \"Harper Lee\", 281)\n",
    "book2 = Book(\"War and Peace\", \"Leo Tolstoy\", 1225)\n",
    "\n",
    "# Access and print the attributes and methods of the objects\n",
    "print(book1.describe())  \n",
    "print(book2.describe())  \n",
    "print(book1.is_long_book()) \n",
    "print(book2.is_long_book())\n",
    "\n",
    "print()"
   ]
  },
  {
   "cell_type": "code",
   "execution_count": 12,
   "id": "cf991e84-ef03-4637-81e0-861cd1e0c24b",
   "metadata": {},
   "outputs": [
    {
     "name": "stdout",
     "output_type": "stream",
     "text": [
      "'To Kill a Mockingbird' by Harper Lee, 350 pages.\n",
      "To Kill a Mockingbird is a long book.\n",
      "\n"
     ]
    }
   ],
   "source": [
    "# 3. Modifying Object Attributes\n",
    "# ------------------------------\n",
    "# We can modify the attributes of an object after creation.\n",
    "book1.pages = 350               # Update the number of pages in 'To Kill a Mockingbird'\n",
    "print(book1.describe())  \n",
    "print(book1.is_long_book())  \n",
    "\n",
    "print()"
   ]
  },
  {
   "cell_type": "code",
   "execution_count": 16,
   "id": "55a2a24a-cc60-4d8e-bc2f-910f03ae7ae2",
   "metadata": {},
   "outputs": [
    {
     "name": "stdout",
     "output_type": "stream",
     "text": [
      "'To Kill a Mockingbird' by Harper Lee, 281 pages.\n",
      "'War and Peace' by Leo Tolstoy, 1225 pages.\n",
      "'The Great Gatsby' by F. Scott Fitzgerald, 180 pages.\n",
      "To Kill a Mockingbird is a short book.\n",
      "War and Peace is a long book.\n",
      "The Great Gatsby is a short book.\n",
      "\n",
      "'To Kill a Mockingbird' by Harper Lee, 350 pages.\n",
      "To Kill a Mockingbird is a long book.\n",
      "\n"
     ]
    }
   ],
   "source": [
    "# 4. Adding New Methods\n",
    "# ---------------------\n",
    "# We can add methods to provide more functionality.\n",
    "\n",
    "class Book:\n",
    "    def __init__(self, title, author, pages):\n",
    "        self.title = title\n",
    "        self.author = author\n",
    "        self.pages = pages\n",
    "\n",
    "    def describe(self):\n",
    "        return f\"'{self.title}' by {self.author}, {self.pages} pages.\"\n",
    "\n",
    "    def is_long_book(self):\n",
    "        if self.pages > 300:\n",
    "            return f\"{self.title} is a long book.\"\n",
    "        else:\n",
    "            return f\"{self.title} is a short book.\"\n",
    "\n",
    "    # New method to compare the length of two books\n",
    "    def compare_length(self, other_book):\n",
    "        if self.pages > other_book.pages:\n",
    "            return f\"{self.title} is longer than {other_book.title}.\"\n",
    "        elif self.pages < other_book.pages:\n",
    "            return f\"{self.title} is shorter than {other_book.title}.\"\n",
    "        else:\n",
    "            return f\"{self.title} and {other_book.title} have the same length.\"\n",
    "        \n",
    "        \n",
    "# Object Creation and Method Usage\n",
    "# --------------------------------\n",
    "# Create Book objects\n",
    "book1 = Book(\"To Kill a Mockingbird\", \"Harper Lee\", 281)\n",
    "book2 = Book(\"War and Peace\", \"Leo Tolstoy\", 1225)\n",
    "book3 = Book(\"The Great Gatsby\", \"F. Scott Fitzgerald\", 180)\n",
    "\n",
    "# Access and print the attributes and methods of the objects\n",
    "print(book1.describe())  \n",
    "print(book2.describe()) \n",
    "print(book3.describe()) \n",
    "print(book1.is_long_book())  \n",
    "print(book2.is_long_book())\n",
    "print(book3.is_long_book())\n",
    "\n",
    "print()  \n",
    "\n",
    "# Modifying Object Attributes\n",
    "# ---------------------------\n",
    "book1.pages = 350             # Update the number of pages in 'To Kill a Mockingbird'\n",
    "print(book1.describe())  \n",
    "print(book1.is_long_book()) \n",
    "\n",
    "print()  "
   ]
  },
  {
   "cell_type": "code",
   "execution_count": 17,
   "id": "e4c336da-38f1-4004-a4a3-5e2030be4a07",
   "metadata": {},
   "outputs": [
    {
     "name": "stdout",
     "output_type": "stream",
     "text": [
      "To Kill a Mockingbird is longer than The Great Gatsby.\n",
      "War and Peace is longer than The Great Gatsby.\n",
      "To Kill a Mockingbird is shorter than War and Peace.\n",
      "To Kill a Mockingbird is longer than The Great Gatsby.\n"
     ]
    }
   ],
   "source": [
    "# Comparing Book Lengths\n",
    "# ----------------------\n",
    "print(book1.compare_length(book3))  # Compare book1 and book3\n",
    "print(book2.compare_length(book3))  # Compare book2 and book3\n",
    "print(book1.compare_length(book2))  # Compare book1 and book2\n",
    "\n",
    "# Create another Book object and compare lengths\n",
    "book3 = Book(\"The Great Gatsby\", \"F. Scott Fitzgerald\", 180)\n",
    "print(book1.compare_length(book3))        "
   ]
  },
  {
   "cell_type": "code",
   "execution_count": 6,
   "id": "cc2a1b25-332c-4b72-9a3a-2295bf700f7e",
   "metadata": {},
   "outputs": [
    {
     "name": "stdout",
     "output_type": "stream",
     "text": [
      "\n",
      "# Summary:\n",
      "# --------\n",
      "# - **Class**: A blueprint for creating objects with attributes and methods.\n",
      "# - **Object**: An instance of a class with specific attribute values.\n",
      "# - **Attributes**: Variables that hold data about the object.\n",
      "# - **Methods**: Functions that define the behavior of the object.\n",
      "\n",
      "# Practice:\n",
      "# ---------\n",
      "# - Create your own `Book` objects and experiment with different titles and page numbers.\n",
      "# - Add new methods to the `Book` class to extend its functionality.\n",
      "\n"
     ]
    }
   ],
   "source": [
    "print(\"\"\"\n",
    "# Summary:\n",
    "# --------\n",
    "# - **Class**: A blueprint for creating objects with attributes and methods.\n",
    "# - **Object**: An instance of a class with specific attribute values.\n",
    "# - **Attributes**: Variables that hold data about the object.\n",
    "# - **Methods**: Functions that define the behavior of the object.\n",
    "\n",
    "# Practice:\n",
    "# ---------\n",
    "# - Create your own `Book` objects and experiment with different titles and page numbers.\n",
    "# - Add new methods to the `Book` class to extend its functionality.\n",
    "\"\"\")"
   ]
  },
  {
   "cell_type": "code",
   "execution_count": 39,
   "id": "b9371701-ad87-4ee4-8958-bd7933e64e55",
   "metadata": {},
   "outputs": [],
   "source": []
  }
 ],
 "metadata": {
  "kernelspec": {
   "display_name": "Python@3.10",
   "language": "python",
   "name": "python3"
  },
  "language_info": {
   "codemirror_mode": {
    "name": "ipython",
    "version": 3
   },
   "file_extension": ".py",
   "mimetype": "text/x-python",
   "name": "python",
   "nbconvert_exporter": "python",
   "pygments_lexer": "ipython3",
   "version": "3.10.14"
  }
 },
 "nbformat": 4,
 "nbformat_minor": 5
}
