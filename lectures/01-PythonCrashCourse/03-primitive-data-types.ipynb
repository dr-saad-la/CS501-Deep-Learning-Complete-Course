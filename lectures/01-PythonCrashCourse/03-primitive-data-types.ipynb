{
 "cells": [
  {
   "cell_type": "code",
   "execution_count": 9,
   "id": "26afb831-16f4-4055-beca-047c88975f5c",
   "metadata": {},
   "outputs": [],
   "source": [
    "# =======================================================================\n",
    "# Course: Deep Learning Complete Course (CS-501)\n",
    "# Author: Dr. Saad Laouadi\n",
    "# Lesson: Primitive Data Types in Python\n",
    "#\n",
    "# Description: This program introduces Python's primitive data types, \n",
    "#              such as integers, floats, strings, and booleans. \n",
    "#              It demonstrates how to declare and use variables of \n",
    "#              different data types with relevant examples.\n",
    "#\n",
    "# ======================================================================="
   ]
  },
  {
   "cell_type": "code",
   "execution_count": 2,
   "id": "8a6d3075-7fbf-4e31-973f-1d5df88d38a7",
   "metadata": {},
   "outputs": [
    {
     "name": "stdout",
     "output_type": "stream",
     "text": [
      "Age: 25\n",
      "Year: 2024\n"
     ]
    }
   ],
   "source": [
    "# Primitive Data Types Overview\n",
    "# -----------------------------\n",
    "# Python supports several primitive data types for storing values.\n",
    "\n",
    "# 1. Integer (int)\n",
    "# ----------------\n",
    "# Integers are whole numbers, positive or negative, without decimals.\n",
    "age = 25                              # Example of an integer\n",
    "year = 2024                           # Another integer\n",
    "print(\"Age:\", age)           \n",
    "print(\"Year:\", year)  "
   ]
  },
  {
   "cell_type": "code",
   "execution_count": 3,
   "id": "edec606d-84d0-44fd-908c-5dfe492453ac",
   "metadata": {},
   "outputs": [
    {
     "name": "stdout",
     "output_type": "stream",
     "text": [
      "Pi: 3.14159\n",
      "Temperature: -7.5\n"
     ]
    }
   ],
   "source": [
    "# 2. Float (float)\n",
    "# ----------------\n",
    "# Floats are numbers with a decimal point.\n",
    "pi = 3.14159  # Example of a float\n",
    "temperature = -7.5  # A negative float\n",
    "print(\"Pi:\", pi)  # Output: Pi: 3.14159\n",
    "print(\"Temperature:\", temperature)  # Output: Temperature: -7.5"
   ]
  },
  {
   "cell_type": "code",
   "execution_count": 4,
   "id": "383e2d26-5ddc-476b-8b78-f77745057026",
   "metadata": {},
   "outputs": [
    {
     "name": "stdout",
     "output_type": "stream",
     "text": [
      "Greeting: Hello, World!\n",
      "Name: Amine\n",
      "Multi-line message: This is a \n",
      "multi-line string.\n"
     ]
    }
   ],
   "source": [
    "# 3. String (str)\n",
    "# ---------------\n",
    "# Strings are sequences of characters enclosed in quotes.\n",
    "greeting = \"Hello, World!\"             # Double quotes\n",
    "name = 'Amine'                          # Single quotes\n",
    "multi_line_message = \"\"\"This is a \n",
    "multi-line string.\"\"\"                   # Triple quotes for multi-line strings\n",
    "print(\"Greeting:\", greeting)\n",
    "print(\"Name:\", name) \n",
    "print(\"Multi-line message:\", multi_line_message)"
   ]
  },
  {
   "cell_type": "code",
   "execution_count": 5,
   "id": "3ce00952-9225-4f4a-9ccd-f8293dbb630d",
   "metadata": {},
   "outputs": [
    {
     "name": "stdout",
     "output_type": "stream",
     "text": [
      "Is student: True\n",
      "Has access: False\n",
      "Data type of age: <class 'int'>\n",
      "Data type of pi: <class 'float'>\n",
      "Data type of name: <class 'str'>\n",
      "Data type of is_student: <class 'bool'>\n"
     ]
    }
   ],
   "source": [
    "# 4. Boolean (bool)\n",
    "# -----------------\n",
    "# Booleans represent one of two values: True or False.\n",
    "is_student = True  # A boolean value\n",
    "has_access = False  # Another boolean value\n",
    "print(\"Is student:\", is_student)  # Output: Is student: True\n",
    "print(\"Has access:\", has_access)  # Output: Has access: False\n",
    "\n",
    "# Type Checking\n",
    "# -------------\n",
    "# You can check the data type of a variable using the `type()` function.\n",
    "print(\"Data type of age:\", type(age))  \n",
    "print(\"Data type of pi:\", type(pi))  \n",
    "print(\"Data type of name:\", type(name))  \n",
    "print(\"Data type of is_student:\", type(is_student))  "
   ]
  },
  {
   "cell_type": "code",
   "execution_count": 6,
   "id": "a65d2392-0b10-4396-bd88-8d84f9b0d87f",
   "metadata": {},
   "outputs": [
    {
     "name": "stdout",
     "output_type": "stream",
     "text": [
      "\n",
      "# Type Conversion\n",
      "# ---------------\n",
      "# You can convert one data type to another using built-in functions.\n",
      "# - `int()`: Converts a value to an integer\n",
      "# - `float()`: Converts a value to a float\n",
      "# - `str()`: Converts a value to a string\n",
      "# - `bool()`: Converts a value to a boolean\n",
      "\n"
     ]
    }
   ],
   "source": [
    "print(\"\"\"\n",
    "# Type Conversion\n",
    "# ---------------\n",
    "# You can convert one data type to another using built-in functions.\n",
    "# - `int()`: Converts a value to an integer\n",
    "# - `float()`: Converts a value to a float\n",
    "# - `str()`: Converts a value to a string\n",
    "# - `bool()`: Converts a value to a boolean\n",
    "\"\"\")"
   ]
  },
  {
   "cell_type": "code",
   "execution_count": 7,
   "id": "7e75eba9-a1b0-4ef6-a22f-6a91a9777ad1",
   "metadata": {},
   "outputs": [
    {
     "name": "stdout",
     "output_type": "stream",
     "text": [
      "String to Integer: 100\n",
      "Integer to Float: 100.0\n",
      "Integer to Boolean: True\n"
     ]
    }
   ],
   "source": [
    "# Examples of type conversion:\n",
    "num_str = \"100\"\n",
    "num_int = int(num_str)              # Converts string to integer\n",
    "num_float = float(num_int)          # Converts integer to float\n",
    "is_active = bool(num_int)           # Converts integer to boolean (non-zero values are True)\n",
    "\n",
    "print(\"String to Integer:\", num_int)  # Output: 100\n",
    "print(\"Integer to Float:\", num_float)  # Output: 100.0\n",
    "print(\"Integer to Boolean:\", is_active)  # Output: True"
   ]
  },
  {
   "cell_type": "code",
   "execution_count": 8,
   "id": "87817cf1-ca59-4419-a860-e283f992638b",
   "metadata": {},
   "outputs": [
    {
     "name": "stdout",
     "output_type": "stream",
     "text": [
      "\n",
      "# Summary\n",
      "# -------\n",
      "# - Primitive data types in Python include int, float, str, and bool.\n",
      "# - Use `type()` to check the data type of a variable.\n",
      "# - Use type conversion functions to change the data type of a value when needed.\n",
      "\n",
      "# Practice using these data types and conversions to understand Python's flexibility!\n",
      "\n"
     ]
    }
   ],
   "source": [
    "print(\"\"\"\n",
    "# Summary\n",
    "# -------\n",
    "# - Primitive data types in Python include int, float, str, and bool.\n",
    "# - Use `type()` to check the data type of a variable.\n",
    "# - Use type conversion functions to change the data type of a value when needed.\n",
    "\n",
    "# Practice using these data types and conversions to understand Python's flexibility!\n",
    "\"\"\")"
   ]
  },
  {
   "cell_type": "code",
   "execution_count": null,
   "id": "bd5836ad-bedb-4387-8030-3f6ade837883",
   "metadata": {},
   "outputs": [],
   "source": []
  }
 ],
 "metadata": {
  "kernelspec": {
   "display_name": "Python3.12",
   "language": "python",
   "name": "python3"
  },
  "language_info": {
   "codemirror_mode": {
    "name": "ipython",
    "version": 3
   },
   "file_extension": ".py",
   "mimetype": "text/x-python",
   "name": "python",
   "nbconvert_exporter": "python",
   "pygments_lexer": "ipython3",
   "version": "3.12.3"
  }
 },
 "nbformat": 4,
 "nbformat_minor": 5
}
