{
 "cells": [
  {
   "cell_type": "code",
   "execution_count": 1,
   "id": "857d6d61-703a-4b53-9f72-732d5459a8d9",
   "metadata": {},
   "outputs": [],
   "source": [
    "# ======================================================================= #\n",
    "# Course: Deep Learning Complete Course (CS-501)\n",
    "# Author: Dr. Saad Laouadi\n",
    "# Lesson: Generator Expressions in Python\n",
    "#\n",
    "# Description: This program introduces generator expressions, which are\n",
    "#              a concise way to create iterators. It covers the basics\n",
    "#              of using generator expressions, their benefits, and how\n",
    "#              they differ from list comprehensions in terms of memory\n",
    "#              efficiency.\n",
    "#\n",
    "# =======================================================================\n",
    "#.          Copyright © Dr. Saad Laouadi\n",
    "# ======================================================================="
   ]
  },
  {
   "cell_type": "code",
   "execution_count": null,
   "id": "8033b10b-d336-4252-9136-a150c499ce2e",
   "metadata": {},
   "outputs": [],
   "source": [
    "print(\"\"\"\n",
    "# Introduction to Generator Expressions\n",
    "# -------------------------------------\n",
    "# Generator expressions provide a memory-efficient way to create iterators.\n",
    "# Unlike list comprehensions, generator expressions do not store all elements\n",
    "# in memory; they generate items one by one as needed.\n",
    "\"\"\")"
   ]
  },
  {
   "cell_type": "code",
   "execution_count": 2,
   "id": "109e6b48-10eb-4223-bfae-4be7c4a877f6",
   "metadata": {},
   "outputs": [
    {
     "name": "stdout",
     "output_type": "stream",
     "text": [
      "Creating a generator expression for squares:\n",
      "First square: 0\n",
      "Second square: 1\n",
      "Third square: 4\n",
      "\n",
      "Using a loop to get the remaining values:\n",
      "9 16 25 36 49 64 81 \n"
     ]
    }
   ],
   "source": [
    "# 1. Creating a Simple Generator Expression\n",
    "# -----------------------------------------\n",
    "# Syntax: (expression for item in iterable)\n",
    "print(\"Creating a generator expression for squares:\")\n",
    "squares_generator = (x**2 for x in range(10))  # Generates squares from 0 to 9\n",
    "\n",
    "# Use the `next()` function to get values from the generator one by one\n",
    "print(\"First square:\", next(squares_generator)) \n",
    "print(\"Second square:\", next(squares_generator))  \n",
    "print(\"Third square:\", next(squares_generator)) \n",
    "\n",
    "print(\"\\nUsing a loop to get the remaining values:\")\n",
    "for square in squares_generator:\n",
    "    print(square, end=\" \")  \n",
    "print()  "
   ]
  },
  {
   "cell_type": "code",
   "execution_count": 3,
   "id": "e8b2ca2c-4ff5-49ab-8baf-d253b5c7df0f",
   "metadata": {},
   "outputs": [
    {
     "name": "stdout",
     "output_type": "stream",
     "text": [
      "\n",
      "Memory usage of list comprehension: 8856 bytes\n",
      "Memory usage of generator expression: 104 bytes\n",
      "\n"
     ]
    }
   ],
   "source": [
    "# 2. Comparing Memory Usage with List Comprehensions\n",
    "# --------------------------------------------------\n",
    "# Generator expressions are more memory-efficient than list comprehensions\n",
    "import sys\n",
    "\n",
    "# List comprehension\n",
    "squares_list = [x**2 for x in range(1000)]\n",
    "print(\"\\nMemory usage of list comprehension:\", sys.getsizeof(squares_list), \"bytes\")\n",
    "\n",
    "# Generator expression\n",
    "squares_gen = (x**2 for x in range(1000))\n",
    "print(\"Memory usage of generator expression:\", sys.getsizeof(squares_gen), \"bytes\")\n",
    "\n",
    "print()  "
   ]
  },
  {
   "cell_type": "code",
   "execution_count": 4,
   "id": "9f65e2d5-5181-45b1-a63d-7f1a92c4bdc8",
   "metadata": {},
   "outputs": [
    {
     "name": "stdout",
     "output_type": "stream",
     "text": [
      "Sum of squares from 0 to 9: 285\n",
      "Maximum square from 0 to 9: 81\n",
      "\n"
     ]
    }
   ],
   "source": [
    "# 3. Using Generator Expressions with Built-in Functions\n",
    "# ------------------------------------------------------\n",
    "# Generator expressions work well with functions like `sum()`, `max()`, and `min()`.\n",
    "print(\"Sum of squares from 0 to 9:\", sum(x**2 for x in range(10)))  \n",
    "print(\"Maximum square from 0 to 9:\", max(x**2 for x in range(10)))  \n",
    "\n",
    "print()"
   ]
  },
  {
   "cell_type": "code",
   "execution_count": 5,
   "id": "86487273-31ee-485e-a2a1-92bdebc82457",
   "metadata": {},
   "outputs": [
    {
     "name": "stdout",
     "output_type": "stream",
     "text": [
      "Using a generator expression to filter even numbers:\n",
      "Even Numbers: [0, 2, 4, 6, 8, 10, 12, 14, 16, 18]\n",
      "\n"
     ]
    }
   ],
   "source": [
    "# 4. Filtering Data Using Generator Expressions\n",
    "# ---------------------------------------------\n",
    "# You can add conditions to filter data in a generator expression.\n",
    "print(\"Using a generator expression to filter even numbers:\")\n",
    "even_numbers = (x for x in range(20) if x % 2 == 0)\n",
    "\n",
    "# Convert the generator to a list to see all values\n",
    "print(\"Even Numbers:\", list(even_numbers)) \n",
    "\n",
    "print()  "
   ]
  },
  {
   "cell_type": "code",
   "execution_count": null,
   "id": "12cf153d-f1fa-4b1d-913e-79f6cd6555e6",
   "metadata": {},
   "outputs": [],
   "source": [
    "# 5. Infinite Generators with Generator Expressions\n",
    "# -------------------------------------------------\n",
    "# Be cautious when using generators that can generate infinite sequences.\n",
    "import itertools\n",
    "\n",
    "print(\"Using an infinite generator to generate natural numbers:\")\n",
    "natural_numbers = (x for x in itertools.count(1))  # Infinite sequence starting from 1\n",
    "\n",
    "# Use `next()` to get a few values (do not use a loop to avoid infinite iteration)\n",
    "print(\"First natural number:\", next(natural_numbers))  \n",
    "print(\"Second natural number:\", next(natural_numbers))  \n",
    "print(\"Third natural number:\", next(natural_numbers))  "
   ]
  },
  {
   "cell_type": "code",
   "execution_count": 6,
   "id": "0e5dba28-6ec5-48b1-8a58-93fa8b70a1c8",
   "metadata": {},
   "outputs": [
    {
     "name": "stdout",
     "output_type": "stream",
     "text": [
      "\n",
      "# Notes:\n",
      "# ------\n",
      "# - **Generator expressions** are enclosed in parentheses `()` instead of square brackets `[]`.\n",
      "# - They are useful for large datasets as they do not load all data into memory at once.\n",
      "# - Use them when you need to iterate over data without storing the entire dataset.\n",
      "\n",
      "# Summary:\n",
      "# --------\n",
      "# - Generator expressions provide a memory-efficient way to generate items one by one.\n",
      "# - They are ideal for large datasets or infinite sequences.\n",
      "# - Use them with functions like `sum()`, `max()`, and `min()` for efficient computations.\n",
      "\n",
      "# Practice:\n",
      "# ---------\n",
      "# - Create your own generator expressions for different use cases.\n",
      "# - Compare the memory usage of generator expressions and list comprehensions.\n",
      "# - Experiment with filtering and infinite generators.\n",
      "\n"
     ]
    }
   ],
   "source": [
    "print(\"\"\"\n",
    "# Notes:\n",
    "# ------\n",
    "# - **Generator expressions** are enclosed in parentheses `()` instead of square brackets `[]`.\n",
    "# - They are useful for large datasets as they do not load all data into memory at once.\n",
    "# - Use them when you need to iterate over data without storing the entire dataset.\n",
    "\n",
    "# Summary:\n",
    "# --------\n",
    "# - Generator expressions provide a memory-efficient way to generate items one by one.\n",
    "# - They are ideal for large datasets or infinite sequences.\n",
    "# - Use them with functions like `sum()`, `max()`, and `min()` for efficient computations.\n",
    "\n",
    "# Practice:\n",
    "# ---------\n",
    "# - Create your own generator expressions for different use cases.\n",
    "# - Compare the memory usage of generator expressions and list comprehensions.\n",
    "# - Experiment with filtering and infinite generators.\n",
    "\"\"\")"
   ]
  },
  {
   "cell_type": "code",
   "execution_count": null,
   "id": "d7897458-852d-4709-8866-b1e7553f8294",
   "metadata": {},
   "outputs": [],
   "source": []
  }
 ],
 "metadata": {
  "kernelspec": {
   "display_name": "Python@3.10",
   "language": "python",
   "name": "python3"
  },
  "language_info": {
   "codemirror_mode": {
    "name": "ipython",
    "version": 3
   },
   "file_extension": ".py",
   "mimetype": "text/x-python",
   "name": "python",
   "nbconvert_exporter": "python",
   "pygments_lexer": "ipython3",
   "version": "3.10.14"
  }
 },
 "nbformat": 4,
 "nbformat_minor": 5
}
