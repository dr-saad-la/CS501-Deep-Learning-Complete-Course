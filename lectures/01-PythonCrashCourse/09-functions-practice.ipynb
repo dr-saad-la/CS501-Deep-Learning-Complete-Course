{
 "cells": [
  {
   "cell_type": "code",
   "execution_count": 1,
   "id": "5f8e14ad-0ce8-45df-a7f5-b51627670123",
   "metadata": {},
   "outputs": [],
   "source": [
    "# =======================================================================\n",
    "# Course: Deep Learning Complete Course (CS-501)\n",
    "# Author: Dr. Saad Laouadi\n",
    "# Lesson: Writing Functions in Python\n",
    "#\n",
    "# Description: This program demonstrates how to define and use functions\n",
    "#              in Python. It covers basic function syntax, arguments,\n",
    "#              return values, and the concept of default and keyword arguments.\n",
    "#\n",
    "# ======================================================================="
   ]
  },
  {
   "cell_type": "code",
   "execution_count": 2,
   "id": "9440e15e-a496-4437-9c50-11bf75ea7187",
   "metadata": {},
   "outputs": [
    {
     "data": {
      "text/plain": [
       "<function __main__.func_name()>"
      ]
     },
     "execution_count": 2,
     "metadata": {},
     "output_type": "execute_result"
    }
   ],
   "source": [
    "def func_name():  #  ===> func header\n",
    "    print(\"I am a simple func\")\n",
    "    \n",
    "# call\n",
    "func_name"
   ]
  },
  {
   "cell_type": "code",
   "execution_count": 3,
   "id": "8b851dbe-29e1-4069-921f-4df7269edeed",
   "metadata": {},
   "outputs": [
    {
     "name": "stdout",
     "output_type": "stream",
     "text": [
      "<class 'function'>\n"
     ]
    }
   ],
   "source": [
    "print(type(func_name))"
   ]
  },
  {
   "cell_type": "code",
   "execution_count": 4,
   "id": "e4f414fd-bdb1-4b70-8ee9-b94fb8c2cdc6",
   "metadata": {},
   "outputs": [
    {
     "name": "stdout",
     "output_type": "stream",
     "text": [
      "I am a simple func\n"
     ]
    }
   ],
   "source": [
    "func_name()"
   ]
  },
  {
   "cell_type": "code",
   "execution_count": 5,
   "id": "a920b5b1-29f5-4d19-a0c4-ea14af8da7ae",
   "metadata": {},
   "outputs": [],
   "source": [
    "# func arguments\n",
    "def add_nums(num1, num2): # parameters\n",
    "    \"\"\"\n",
    "    Add numbers together\n",
    "    \n",
    "    Parameters:\n",
    "    ----------\n",
    "    num1: (int)\n",
    "    num2: (int)\n",
    "    \n",
    "    \"\"\"\n",
    "    print(num1 + num2)"
   ]
  },
  {
   "cell_type": "code",
   "execution_count": 6,
   "id": "e989be57-2718-438e-9c64-3b43eff08ebd",
   "metadata": {},
   "outputs": [
    {
     "name": "stdout",
     "output_type": "stream",
     "text": [
      "59\n"
     ]
    }
   ],
   "source": [
    "add_nums(12, 47)"
   ]
  },
  {
   "cell_type": "code",
   "execution_count": 7,
   "id": "7c2cb554-91d9-464f-a1a7-a51ba11f1ea9",
   "metadata": {},
   "outputs": [
    {
     "name": "stdout",
     "output_type": "stream",
     "text": [
      "45\n"
     ]
    }
   ],
   "source": [
    "result = add_nums(12, 33)"
   ]
  },
  {
   "cell_type": "code",
   "execution_count": 8,
   "id": "2d7cf038-a58b-494c-95d0-56da28f40792",
   "metadata": {},
   "outputs": [
    {
     "name": "stdout",
     "output_type": "stream",
     "text": [
      "None\n"
     ]
    }
   ],
   "source": [
    "print(result)"
   ]
  },
  {
   "cell_type": "code",
   "execution_count": 17,
   "id": "e316e869-c44d-4605-b603-b29e2f2e8d86",
   "metadata": {},
   "outputs": [],
   "source": [
    "# Return\n",
    "# func arguments\n",
    "def add_nums(num1, num2): # parameters\n",
    "    \"\"\"\n",
    "    Add numbers together\n",
    "    \n",
    "    Parameters:\n",
    "    ----------\n",
    "    num1: (int)\n",
    "    num2: (int)\n",
    "    \n",
    "    \"\"\"\n",
    "    return (num1 + num2, )"
   ]
  },
  {
   "cell_type": "code",
   "execution_count": 18,
   "id": "86a81be3-eb2f-4478-ad54-bc52ec8b8c73",
   "metadata": {},
   "outputs": [
    {
     "data": {
      "text/plain": [
       "(59,)"
      ]
     },
     "execution_count": 18,
     "metadata": {},
     "output_type": "execute_result"
    }
   ],
   "source": [
    "add_nums(12, 47)"
   ]
  },
  {
   "cell_type": "code",
   "execution_count": 19,
   "id": "9b97d91e-27ae-477d-acfd-b7f455732ad4",
   "metadata": {},
   "outputs": [],
   "source": [
    "res = add_nums(12, 33)"
   ]
  },
  {
   "cell_type": "code",
   "execution_count": 20,
   "id": "8ec1e00b-c439-4849-8089-de8b66e8d412",
   "metadata": {},
   "outputs": [
    {
     "data": {
      "text/plain": [
       "(45,)"
      ]
     },
     "execution_count": 20,
     "metadata": {},
     "output_type": "execute_result"
    }
   ],
   "source": [
    "res"
   ]
  },
  {
   "cell_type": "code",
   "execution_count": null,
   "id": "53df6c07-4ba5-4746-870f-e7e778d4b0e6",
   "metadata": {},
   "outputs": [],
   "source": [
    "add_nums(12, 47)   # Positional arguments"
   ]
  },
  {
   "cell_type": "code",
   "execution_count": 23,
   "id": "905b9ca6-5656-4b5d-99d0-10ebdff6be6e",
   "metadata": {},
   "outputs": [
    {
     "ename": "SyntaxError",
     "evalue": "positional argument follows keyword argument (3375855388.py, line 1)",
     "output_type": "error",
     "traceback": [
      "\u001b[0;36m  Cell \u001b[0;32mIn[23], line 1\u001b[0;36m\u001b[0m\n\u001b[0;31m    add_nums(num1=12, 47)   # Keyword arguments\u001b[0m\n\u001b[0m                        ^\u001b[0m\n\u001b[0;31mSyntaxError\u001b[0m\u001b[0;31m:\u001b[0m positional argument follows keyword argument\n"
     ]
    }
   ],
   "source": [
    "add_nums(num1=12, 47)   # Keyword arguments"
   ]
  },
  {
   "cell_type": "code",
   "execution_count": 24,
   "id": "645b41a0-eea9-4efb-b669-98c5d19136c5",
   "metadata": {},
   "outputs": [
    {
     "data": {
      "text/plain": [
       "(59,)"
      ]
     },
     "execution_count": 24,
     "metadata": {},
     "output_type": "execute_result"
    }
   ],
   "source": [
    "add_nums(12, num2= 47)   # Keyword arguments"
   ]
  },
  {
   "cell_type": "code",
   "execution_count": 25,
   "id": "431aa883-6426-49b0-a12e-766972223a13",
   "metadata": {},
   "outputs": [],
   "source": [
    "# arbitrary number of arguments\n",
    "def simple_func(*nums):\n",
    "    for num in nums:\n",
    "        print(num)"
   ]
  },
  {
   "cell_type": "code",
   "execution_count": 27,
   "id": "6931128f-3ec8-4f5e-9e4a-1bfdf0deac5c",
   "metadata": {},
   "outputs": [
    {
     "name": "stdout",
     "output_type": "stream",
     "text": [
      "1\n",
      "20\n",
      "40\n",
      "100\n",
      "222\n"
     ]
    }
   ],
   "source": [
    "simple_func(1, 20, 40, 100, 222)"
   ]
  },
  {
   "cell_type": "code",
   "execution_count": null,
   "id": "9cfca64d-5ba1-4e4a-a1df-a1a11e7fda6c",
   "metadata": {},
   "outputs": [],
   "source": []
  }
 ],
 "metadata": {
  "kernelspec": {
   "display_name": "Python@3.10",
   "language": "python",
   "name": "python3"
  },
  "language_info": {
   "codemirror_mode": {
    "name": "ipython",
    "version": 3
   },
   "file_extension": ".py",
   "mimetype": "text/x-python",
   "name": "python",
   "nbconvert_exporter": "python",
   "pygments_lexer": "ipython3",
   "version": "3.10.14"
  }
 },
 "nbformat": 4,
 "nbformat_minor": 5
}
