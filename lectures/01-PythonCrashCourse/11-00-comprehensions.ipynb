{
 "cells": [
  {
   "cell_type": "code",
   "execution_count": 1,
   "id": "857d6d61-703a-4b53-9f72-732d5459a8d9",
   "metadata": {},
   "outputs": [],
   "source": [
    "# ======================================================================= #\n",
    "# Course: Deep Learning Complete Course (CS-501)\n",
    "# Author: Dr. Saad Laouadi\n",
    "# Lesson: Advanced Comprehensions in Python\n",
    "#\n",
    "# Description: This program explores the power of comprehensions in Python,\n",
    "#              including List Comprehensions, Dictionary Comprehensions,\n",
    "#              and Set Comprehensions. These techniques are efficient ways\n",
    "#              to generate and manipulate collections.\n",
    "# =======================================================================\n",
    "#.          Copyright © Dr. Saad Laouadi\n",
    "# ======================================================================="
   ]
  },
  {
   "cell_type": "code",
   "execution_count": 2,
   "id": "b680f887-34cd-4620-b62f-c9a49981b3c2",
   "metadata": {},
   "outputs": [
    {
     "name": "stdout",
     "output_type": "stream",
     "text": [
      "List of Squares: [0, 1, 4, 9, 16, 25, 36, 49, 64, 81]\n",
      "Even Numbers: [0, 2, 4, 6, 8, 10, 12, 14, 16, 18]\n",
      "Flattened Matrix: [1, 2, 3, 4, 5, 6, 7, 8, 9]\n",
      "\n"
     ]
    }
   ],
   "source": [
    "# 1. List Comprehensions\n",
    "# ----------------------\n",
    "# List comprehensions provide a concise way to create lists.\n",
    "\n",
    "# Example: Generating a list of squares\n",
    "squares = [x**2 for x in range(10)]  # Creates a list of squares from 0 to 9\n",
    "print(\"List of Squares:\", squares)   \n",
    "\n",
    "# Example: Filtering even numbers\n",
    "even_numbers = [x for x in range(20) if x % 2 == 0]  # Filters out even numbers from 0 to 19\n",
    "print(\"Even Numbers:\", even_numbers) \n",
    "\n",
    "# Example: Using nested comprehensions to flatten a 2D list\n",
    "matrix = [[1, 2, 3], [4, 5, 6], [7, 8, 9]]\n",
    "flattened = [num for row in matrix for num in row]\n",
    "print(\"Flattened Matrix:\", flattened) \n",
    "\n",
    "print()  "
   ]
  },
  {
   "cell_type": "code",
   "execution_count": null,
   "id": "419b2950-1925-49ce-af14-2f34dea9d0ea",
   "metadata": {},
   "outputs": [],
   "source": [
    "# 2. Dictionary Comprehensions\n",
    "# ----------------------------\n",
    "# Dictionary comprehensions are used to create dictionaries in a single line of code.\n",
    "\n",
    "# Example: Creating a dictionary of squares\n",
    "squares_dict = {x: x**2 for x in range(10)}  # Key is the number, value is the square of the number\n",
    "print(\"Dictionary of Squares:\", squares_dict)\n",
    "\n",
    "\n",
    "# Example: Swapping keys and values in a dictionary\n",
    "original_dict = {'a': 1, 'b': 2, 'c': 3}\n",
    "swapped_dict = {value: key for key, value in original_dict.items()}\n",
    "print(\"Swapped Dictionary:\", swapped_dict)  \n",
    "\n",
    "# Example: Filtering a dictionary\n",
    "filtered_dict = {k: v for k, v in squares_dict.items() if v % 2 == 0}  # Only include even squares\n",
    "print(\"Filtered Dictionary (Even Squares):\", filtered_dict)\n",
    "\n",
    "\n",
    "print()  "
   ]
  },
  {
   "cell_type": "code",
   "execution_count": 3,
   "id": "4d725975-5946-4dbe-9c12-f1a393b794a3",
   "metadata": {},
   "outputs": [
    {
     "name": "stdout",
     "output_type": "stream",
     "text": [
      "Unique Characters: {'e', 'n', 'i', 'o', 's', 'p', 'c', 'm', 'h', 'r'}\n",
      "Set of Squares: {0, 1, 64, 4, 36, 9, 16, 49, 81, 25}\n",
      "Unique Even Numbers: {8, 2, 4, 6}\n",
      "\n"
     ]
    }
   ],
   "source": [
    "# 3. Set Comprehensions\n",
    "# ---------------------\n",
    "# Set comprehensions are similar to list comprehensions, but they create sets.\n",
    "\n",
    "# Example: Generating a set of unique characters from a string\n",
    "unique_chars = {char for char in \"comprehensions\"}  # Removes duplicates and creates a set\n",
    "print(\"Unique Characters:\", unique_chars)  # Output: {'e', 'm', 'c', 's', 'o', 'n', 'r', 'h', 'i', 'p'}\n",
    "\n",
    "# Example: Creating a set of squares\n",
    "squares_set = {x**2 for x in range(10)}  # Creates a set of squares\n",
    "print(\"Set of Squares:\", squares_set)    # Output: {0, 1, 4, 9, 16, 25, 36, 49, 64, 81}\n",
    "\n",
    "# Example: Filtering unique even numbers from a list\n",
    "numbers = [1, 2, 2, 3, 4, 4, 5, 6, 6, 7, 8, 8]\n",
    "unique_evens = {x for x in numbers if x % 2 == 0}  # Filters out even numbers and keeps them unique\n",
    "print(\"Unique Even Numbers:\", unique_evens)        \n",
    "\n",
    "print()"
   ]
  },
  {
   "cell_type": "code",
   "execution_count": 6,
   "id": "6c6a4243-e7b0-4d29-8f57-0e839a732c53",
   "metadata": {},
   "outputs": [
    {
     "name": "stdout",
     "output_type": "stream",
     "text": [
      "\n",
      "# Summary:\n",
      "# --------\n",
      "# - **List Comprehensions**: Efficient way to create and filter lists.\n",
      "# - **Dictionary Comprehensions**: Useful for creating and transforming dictionaries.\n",
      "# - **Set Comprehensions**: Generate sets with unique and filtered elements.\n",
      "\n",
      "# Practice:\n",
      "# ---------\n",
      "# - Try writing comprehensions for more complex data structures.\n",
      "# - Use comprehensions to simplify code that involves loops and conditional logic.\n",
      "\n"
     ]
    }
   ],
   "source": [
    "print(\"\"\"\n",
    "# Summary:\n",
    "# --------\n",
    "# - **List Comprehensions**: Efficient way to create and filter lists.\n",
    "# - **Dictionary Comprehensions**: Useful for creating and transforming dictionaries.\n",
    "# - **Set Comprehensions**: Generate sets with unique and filtered elements.\n",
    "\n",
    "# Practice:\n",
    "# ---------\n",
    "# - Try writing comprehensions for more complex data structures.\n",
    "# - Use comprehensions to simplify code that involves loops and conditional logic.\n",
    "\"\"\")"
   ]
  },
  {
   "cell_type": "code",
   "execution_count": null,
   "id": "5b40531b-7c4c-40e5-9724-dc3eb46f25e4",
   "metadata": {},
   "outputs": [],
   "source": []
  }
 ],
 "metadata": {
  "kernelspec": {
   "display_name": "Python 3 (ipykernel)",
   "language": "python",
   "name": "python3"
  },
  "language_info": {
   "codemirror_mode": {
    "name": "ipython",
    "version": 3
   },
   "file_extension": ".py",
   "mimetype": "text/x-python",
   "name": "python",
   "nbconvert_exporter": "python",
   "pygments_lexer": "ipython3",
   "version": "3.10.14"
  }
 },
 "nbformat": 4,
 "nbformat_minor": 5
}
