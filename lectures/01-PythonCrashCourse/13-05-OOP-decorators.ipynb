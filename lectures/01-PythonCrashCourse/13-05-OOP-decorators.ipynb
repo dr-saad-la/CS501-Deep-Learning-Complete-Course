{
 "cells": [
  {
   "cell_type": "code",
   "execution_count": 1,
   "id": "cb3e32df-644c-4efa-b83c-7f4e3661a2eb",
   "metadata": {},
   "outputs": [],
   "source": [
    "# ======================================================================= #\n",
    "# Course: Deep Learning Complete Course (CS-501)\n",
    "# Author: Dr. Saad Laouadi\n",
    "# Lesson: Using @property Decorators in Python OOP\n",
    "#\n",
    "# Description: This program demonstrates how to use @property decorators\n",
    "#              in Python to create setters, getters, and deleters for\n",
    "#              encapsulating and managing access to private attributes.\n",
    "#\n",
    "# =======================================================================\n",
    "#.          Copyright © Dr. Saad Laouadi\n",
    "# ======================================================================="
   ]
  },
  {
   "cell_type": "code",
   "execution_count": 4,
   "id": "79aa247c-7b34-4120-a53f-73ef00cb6740",
   "metadata": {},
   "outputs": [
    {
     "name": "stdout",
     "output_type": "stream",
     "text": [
      "\n",
      "# Using @property Decorators\n",
      "# --------------------------\n",
      "# Python provides the `@property` decorator to define getters, setters, and\n",
      "# deleters for attributes in a more Pythonic way. This approach enhances\n",
      "# encapsulation while keeping the syntax simple and clean.\n",
      "\n"
     ]
    }
   ],
   "source": [
    "print(\"\"\"\n",
    "# Using @property Decorators\n",
    "# --------------------------\n",
    "# Python provides the `@property` decorator to define getters, setters, and\n",
    "# deleters for attributes in a more Pythonic way. This approach enhances\n",
    "# encapsulation while keeping the syntax simple and clean.\n",
    "\"\"\")"
   ]
  },
  {
   "cell_type": "code",
   "execution_count": 2,
   "id": "5f7de85d-d7a9-499d-8f89-a67cdb19440a",
   "metadata": {},
   "outputs": [
    {
     "name": "stdout",
     "output_type": "stream",
     "text": [
      "Car Brand: Tesla\n",
      "Car Mileage: 15000\n",
      "Updated Car Brand: Mercedes\n",
      "Updated Car Mileage: 20000\n",
      "Error: Brand name cannot be empty.\n",
      "Error: Mileage cannot be negative.\n",
      "\n"
     ]
    }
   ],
   "source": [
    "# 1. Defining a Class with @property Decorators\n",
    "# ---------------------------------------------\n",
    "class Car:\n",
    "    # Constructor to initialize the car's brand and mileage\n",
    "    def __init__(self, brand, mileage):\n",
    "        self.__brand = brand  # Private attribute for the car's brand\n",
    "        self.__mileage = mileage  # Private attribute for the car's mileage\n",
    "\n",
    "    # Getter for the brand using @property\n",
    "    @property\n",
    "    def brand(self):\n",
    "        return self.__brand\n",
    "\n",
    "    # Setter for the brand using @property\n",
    "    @brand.setter\n",
    "    def brand(self, value):\n",
    "        if not value:\n",
    "            print(\"Error: Brand name cannot be empty.\")\n",
    "        else:\n",
    "            self.__brand = value\n",
    "\n",
    "    # Getter for the mileage using @property\n",
    "    @property\n",
    "    def mileage(self):\n",
    "        return self.__mileage\n",
    "\n",
    "    # Setter for the mileage using @property\n",
    "    @mileage.setter\n",
    "    def mileage(self, value):\n",
    "        if value < 0:\n",
    "            print(\"Error: Mileage cannot be negative.\")\n",
    "        else:\n",
    "            self.__mileage = value\n",
    "\n",
    "    # Deleter for the mileage attribute\n",
    "    @mileage.deleter\n",
    "    def mileage(self):\n",
    "        print(\"Deleting mileage attribute...\")\n",
    "        del self.__mileage\n",
    "\n",
    "# 2. Creating Objects and Using @property Decorators\n",
    "# --------------------------------------------------\n",
    "# Create a Car object\n",
    "car = Car(\"Tesla\", 15000)\n",
    "\n",
    "# Access the brand and mileage using the getters\n",
    "print(\"Car Brand:\", car.brand)  # Output: Car Brand: Tesla\n",
    "print(\"Car Mileage:\", car.mileage)  # Output: Car Mileage: 15000\n",
    "\n",
    "# Update the brand and mileage using the setters\n",
    "car.brand = \"Mercedes\"  # Update the brand\n",
    "car.mileage = 20000  # Update the mileage\n",
    "print(\"Updated Car Brand:\", car.brand)  # Output: Updated Car Brand: Mercedes\n",
    "print(\"Updated Car Mileage:\", car.mileage)  # Output: Updated Car Mileage: 20000\n",
    "\n",
    "# Attempt to set invalid values\n",
    "car.brand = \"\"  # Output: Error: Brand name cannot be empty.\n",
    "car.mileage = -500  # Output: Error: Mileage cannot be negative.\n",
    "\n",
    "print()  "
   ]
  },
  {
   "cell_type": "code",
   "execution_count": 3,
   "id": "d9a64abf-1c5e-42d2-9aef-652e58e1d3ca",
   "metadata": {},
   "outputs": [
    {
     "name": "stdout",
     "output_type": "stream",
     "text": [
      "Deleting mileage attribute...\n",
      "Error: 'Car' object has no attribute '_Car__mileage'\n",
      " \n",
      "# Summary:\n",
      "# --------\n",
      "# - **@property Decorator**: Used to create a getter for an attribute.\n",
      "# - **@attribute.setter**: Used to create a setter for an attribute.\n",
      "# - **@attribute.deleter**: Used to create a deleter for an attribute.\n",
      "# - Using @property makes the code cleaner and more Pythonic compared to traditional methods.\n",
      "\n",
      "# Practice:\n",
      "# ---------\n",
      "# - Create your own class using `@property` to manage private attributes.\n",
      "# - Experiment with adding validation logic in setters.\n",
      "# - Use the deleter to remove attributes and handle exceptions when accessing deleted attributes.\n",
      "\n"
     ]
    }
   ],
   "source": [
    "# Use the deleter to delete the mileage attribute\n",
    "del car.mileage  # Output: Deleting mileage attribute...\n",
    "\n",
    "# Attempt to access the deleted mileage attribute\n",
    "try:\n",
    "    print(car.mileage)\n",
    "except AttributeError as e:\n",
    "    print(\"Error:\", e)  # Output: Error: 'Car' object has no attribute '_Car__mileage'\n",
    "\n",
    "print(\"\"\" \n",
    "# Summary:\n",
    "# --------\n",
    "# - **@property Decorator**: Used to create a getter for an attribute.\n",
    "# - **@attribute.setter**: Used to create a setter for an attribute.\n",
    "# - **@attribute.deleter**: Used to create a deleter for an attribute.\n",
    "# - Using @property makes the code cleaner and more Pythonic compared to traditional methods.\n",
    "\n",
    "# Practice:\n",
    "# ---------\n",
    "# - Create your own class using `@property` to manage private attributes.\n",
    "# - Experiment with adding validation logic in setters.\n",
    "# - Use the deleter to remove attributes and handle exceptions when accessing deleted attributes.\n",
    "\"\"\")"
   ]
  },
  {
   "cell_type": "code",
   "execution_count": null,
   "id": "5df8b889-5df1-4e11-9042-9559bdb4fa64",
   "metadata": {},
   "outputs": [],
   "source": []
  }
 ],
 "metadata": {
  "kernelspec": {
   "display_name": "Python@3.10",
   "language": "python",
   "name": "python3"
  },
  "language_info": {
   "codemirror_mode": {
    "name": "ipython",
    "version": 3
   },
   "file_extension": ".py",
   "mimetype": "text/x-python",
   "name": "python",
   "nbconvert_exporter": "python",
   "pygments_lexer": "ipython3",
   "version": "3.10.14"
  }
 },
 "nbformat": 4,
 "nbformat_minor": 5
}
