{
 "cells": [
  {
   "cell_type": "code",
   "execution_count": 1,
   "id": "d6cfa9e4-77e6-4d90-95ff-345fc93b6642",
   "metadata": {},
   "outputs": [],
   "source": [
    "# ======================================================================= #\n",
    "# Course: Deep Learning Complete Course (CS-501)\n",
    "# Author: Dr. Saad Laouadi\n",
    "# Lesson: Built-in Functions in Python\n",
    "#\n",
    "# Description: This program introduces the built-in function`enumerate()`.\n",
    "#\n",
    "# Copyright© Dr. Saad Laouadi\n",
    "# ======================================================================= #"
   ]
  },
  {
   "cell_type": "code",
   "execution_count": 2,
   "id": "92505f72-ea70-46f4-af09-096238a4b762",
   "metadata": {},
   "outputs": [
    {
     "name": "stdout",
     "output_type": "stream",
     "text": [
      "\n",
      "# Using enumerate()\n",
      "# --------------------\n",
      "# `enumerate()` adds a counter to an iterable and returns it as an enumerate object.\n",
      "# This is useful for looping over a sequence while keeping track of the index.\n",
      "\n"
     ]
    }
   ],
   "source": [
    "print(\"\"\"\n",
    "# Using enumerate()\n",
    "# --------------------\n",
    "# `enumerate()` adds a counter to an iterable and returns it as an enumerate object.\n",
    "# This is useful for looping over a sequence while keeping track of the index.\n",
    "\"\"\")"
   ]
  },
  {
   "cell_type": "code",
   "execution_count": 3,
   "id": "e375dcbb-c2e6-43bb-b627-f8099b47b35a",
   "metadata": {},
   "outputs": [
    {
     "name": "stdout",
     "output_type": "stream",
     "text": [
      "Using enumerate() to get index and value:\n",
      "Index: 0, Company Rank: AA\n",
      "Index: 1, Company Rank: BB\n",
      "Index: 2, Company Rank: CC\n",
      "Index: 3, Company Rank: DD\n",
      "\n"
     ]
    }
   ],
   "source": [
    "print(\"Using enumerate() to get index and value:\")\n",
    "\n",
    "# Case 1: Enumerating a list\n",
    "ranks = [\"AA\", \"BB\", \"CC\", \"DD\"]\n",
    "for index, rank in enumerate(ranks):\n",
    "    print(f\"Index: {index}, Company Rank: {rank}\")\n",
    "\n",
    "\n",
    "print() "
   ]
  },
  {
   "cell_type": "code",
   "execution_count": 4,
   "id": "4392579f-2477-4389-9add-1295bd000991",
   "metadata": {},
   "outputs": [
    {
     "name": "stdout",
     "output_type": "stream",
     "text": [
      "Using enumerate() with a custom starting index:\n",
      "Index: 1, Fruit: AA\n",
      "Index: 2, Fruit: BB\n",
      "Index: 3, Fruit: CC\n",
      "Index: 4, Fruit: DD\n",
      "\n"
     ]
    }
   ],
   "source": [
    "# Case 2: Using enumerate() with a custom starting index\n",
    "print(\"Using enumerate() with a custom starting index:\")\n",
    "for index, fruit in enumerate(ranks, start=1):  # Start counting from 1 instead of 0\n",
    "    print(f\"Index: {index}, Fruit: {fruit}\")\n",
    "\n",
    "\n",
    "print()"
   ]
  },
  {
   "cell_type": "code",
   "execution_count": 5,
   "id": "e2fff1ac-1b01-4005-adf2-79ecbdcfc4b0",
   "metadata": {},
   "outputs": [
    {
     "name": "stdout",
     "output_type": "stream",
     "text": [
      "Enumerating a tuple:\n",
      "Index: 0, Language: Python\n",
      "Index: 1, Language: C\n",
      "Index: 2, Language: Java\n",
      "\n"
     ]
    }
   ],
   "source": [
    "# Case 3: Enumerating a tuple\n",
    "print(\"Enumerating a tuple:\")\n",
    "programming_langs = (\"Python\", \"C\", \"Java\")\n",
    "for index, lang in enumerate(programming_langs):\n",
    "    print(f\"Index: {index}, Language: {lang}\")\n",
    "\n",
    "\n",
    "print()"
   ]
  },
  {
   "cell_type": "code",
   "execution_count": 6,
   "id": "219b3ac5-072b-49f3-807b-de753c0dbdfb",
   "metadata": {},
   "outputs": [
    {
     "name": "stdout",
     "output_type": "stream",
     "text": [
      "Enumerating characters in a string:\n",
      "Index: 0, Character: P\n",
      "Index: 1, Character: r\n",
      "Index: 2, Character: o\n",
      "Index: 3, Character: g\n",
      "Index: 4, Character: r\n",
      "Index: 5, Character: a\n",
      "Index: 6, Character: m\n",
      "Index: 7, Character: m\n",
      "Index: 8, Character: i\n",
      "Index: 9, Character: n\n",
      "Index: 10, Character: g\n",
      "\n"
     ]
    }
   ],
   "source": [
    "# Case 4: Enumerating a string\n",
    "print(\"Enumerating characters in a string:\")\n",
    "word = \"Programming\"\n",
    "for index, char in enumerate(word):\n",
    "    print(f\"Index: {index}, Character: {char}\")\n",
    "\n",
    "print()"
   ]
  },
  {
   "cell_type": "code",
   "execution_count": 8,
   "id": "d6a6cc4d-8f9d-42bb-b74d-f94033df6fbb",
   "metadata": {},
   "outputs": [
    {
     "name": "stdout",
     "output_type": "stream",
     "text": [
      "Using enumerate() in a list comprehension:\n",
      "['0: AA', '1: BB', '2: CC', '3: DD']\n",
      "\n"
     ]
    }
   ],
   "source": [
    "# Case 5: Using enumerate() in a list comprehension \n",
    "# Note: List comprehension is discussed in a separate lesson\n",
    "print(\"Using enumerate() in a list comprehension:\")\n",
    "indexed_ranks = [f\"{index}: {rank}\" for index, rank in enumerate(ranks)]\n",
    "print(indexed_ranks)\n",
    "\n",
    "\n",
    "print()"
   ]
  },
  {
   "cell_type": "code",
   "execution_count": 9,
   "id": "5803420f-894a-457f-84ac-12be949bb398",
   "metadata": {},
   "outputs": [
    {
     "name": "stdout",
     "output_type": "stream",
     "text": [
      "\n",
      "# Note:\n",
      "# -----\n",
      "# `enumerate()` is particularly useful when:\n",
      "# - You need to keep track of the index while iterating over a sequence.\n",
      "# - You want to add more readability to your loops by using both the index and the value.\n",
      "# - You are working with data structures where accessing both index and value is necessary, such as for debugging or creating indexed data.\n",
      "\n"
     ]
    }
   ],
   "source": [
    "print(\"\"\"\n",
    "# Note:\n",
    "# -----\n",
    "# `enumerate()` is particularly useful when:\n",
    "# - You need to keep track of the index while iterating over a sequence.\n",
    "# - You want to add more readability to your loops by using both the index and the value.\n",
    "# - You are working with data structures where accessing both index and value is necessary, such as for debugging or creating indexed data.\n",
    "\"\"\")"
   ]
  },
  {
   "cell_type": "code",
   "execution_count": null,
   "id": "1edc3cf5-5bf0-499b-825e-6fba689d6d85",
   "metadata": {},
   "outputs": [],
   "source": []
  }
 ],
 "metadata": {
  "kernelspec": {
   "display_name": "Python@3.12",
   "language": "python",
   "name": "python3"
  },
  "language_info": {
   "codemirror_mode": {
    "name": "ipython",
    "version": 3
   },
   "file_extension": ".py",
   "mimetype": "text/x-python",
   "name": "python",
   "nbconvert_exporter": "python",
   "pygments_lexer": "ipython3",
   "version": "3.12.7"
  }
 },
 "nbformat": 4,
 "nbformat_minor": 5
}
