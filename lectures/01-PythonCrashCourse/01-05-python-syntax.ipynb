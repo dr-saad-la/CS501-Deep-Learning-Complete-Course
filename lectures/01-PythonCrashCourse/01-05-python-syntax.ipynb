{
 "cells": [
  {
   "cell_type": "code",
   "execution_count": 1,
   "id": "78cb7a57-0ea2-4c36-b6e9-23e73d1539b3",
   "metadata": {},
   "outputs": [],
   "source": [
    "# =======================================================================\n",
    "# Author: Dr. Saad Laouadi\n",
    "# Lesson: Python Syntax\n",
    "#\n",
    "# Description: This program introduces Python's basic syntax rules,\n",
    "#              including indentation, line structure, and how to write\n",
    "#              simple Python code. It covers important guidelines for\n",
    "#              writing clean and readable Python code.\n",
    "#\n",
    "# ======================================================================="
   ]
  },
  {
   "cell_type": "code",
   "execution_count": 9,
   "id": "d1558520-7d65-4ea4-a805-4ef3996525c9",
   "metadata": {},
   "outputs": [
    {
     "name": "stdout",
     "output_type": "stream",
     "text": [
      "\n",
      "# Python Syntax Overview\n",
      "# ----------------------\n",
      "# Python syntax refers to the set of rules that define how Python code is written and interpreted.\n",
      "\n",
      "# 1. Indentation\n",
      "# --------------\n",
      "# Python uses indentation (spaces or tabs) to define blocks of code.\n",
      "# Indentation is mandatory and is used instead of braces { } as in other languages.\n",
      "# The standard indentation is 4 spaces.\n",
      "\n"
     ]
    }
   ],
   "source": [
    "python_syntax = \"\"\"\n",
    "# Python Syntax Overview\n",
    "# ----------------------\n",
    "# Python syntax refers to the set of rules that define how Python code is written and interpreted.\n",
    "\n",
    "# 1. Indentation\n",
    "# --------------\n",
    "# Python uses indentation (spaces or tabs) to define blocks of code.\n",
    "# Indentation is mandatory and is used instead of braces { } as in other languages.\n",
    "# The standard indentation is 4 spaces.\n",
    "\"\"\"\n",
    "print(python_syntax)"
   ]
  },
  {
   "cell_type": "code",
   "execution_count": 10,
   "id": "42f4789d-4f60-4dce-853f-4802e4415875",
   "metadata": {},
   "outputs": [
    {
     "name": "stdout",
     "output_type": "stream",
     "text": [
      "This line is indented.\n",
      "15\n",
      "7\n",
      "Long calculation result: 55\n",
      "Long sum result: 55\n"
     ]
    }
   ],
   "source": [
    "# Example:\n",
    "if True:  # The colon (:) indicates the start of an indented block\n",
    "    print(\"This line is indented.\")  # Indented block of code\n",
    "# print(\"This line is not indented and would cause an error if it were part of the block.\")\n",
    "\n",
    "# 2. Line Structure\n",
    "# -----------------\n",
    "# Each statement in Python is typically written on a separate line.\n",
    "x = 5\n",
    "y = 10\n",
    "print(x + y)            # This line prints the sum of x and y\n",
    "\n",
    "# To write multiple statements on the same line, use a semicolon (;), but it's not recommended.\n",
    "a = 3; b = 4; print(a + b)  # Output: 7\n",
    "\n",
    "# 3. Line Continuation\n",
    "# --------------------\n",
    "# If a statement is too long to fit on one line, use a backslash (\\) for line continuation.\n",
    "long_calculation = 1 + 2 + 3 + 4 + \\\n",
    "                   5 + 6 + 7 + 8 + \\\n",
    "                   9 + 10\n",
    "print(\"Long calculation result:\", long_calculation)  # Output: 55\n",
    "\n",
    "# Alternatively, use parentheses for line continuation in expressions. This is more readable:\n",
    "long_sum = (1 + 2 + 3 + 4 +\n",
    "            5 + 6 + 7 + 8 +\n",
    "            9 + 10)\n",
    "print(\"Long sum result:\", long_sum)  # Output: 55\n",
    "\n",
    "# 4. Comments\n",
    "# -----------\n",
    "# Use comments to make your code more understandable.\n",
    "# Single-line comments start with '#'. See the lesson on comments for more details."
   ]
  },
  {
   "cell_type": "code",
   "execution_count": 11,
   "id": "b0780fb6-5926-4fd5-84f4-7ce66252f3ca",
   "metadata": {},
   "outputs": [
    {
     "name": "stdout",
     "output_type": "stream",
     "text": [
      "Hello, World!\n",
      "Hello, World!\n",
      "This is a \n",
      "multi-line string.\n"
     ]
    }
   ],
   "source": [
    "# 5. Quotation Marks\n",
    "# ------------------\n",
    "# You can use single, double, or triple quotes for strings.\n",
    "single_quote_string = 'Hello, World!'\n",
    "double_quote_string = \"Hello, World!\"\n",
    "triple_quote_string = \"\"\"This is a \n",
    "multi-line string.\"\"\"\n",
    "\n",
    "print(single_quote_string)\n",
    "print(double_quote_string)\n",
    "print(triple_quote_string)"
   ]
  },
  {
   "cell_type": "code",
   "execution_count": 12,
   "id": "de030162-4d6e-41cf-805e-9f2577455890",
   "metadata": {},
   "outputs": [
    {
     "name": "stdout",
     "output_type": "stream",
     "text": [
      "Variable: 10\n",
      "variable: 20\n"
     ]
    }
   ],
   "source": [
    "# 6. Case Sensitivity\n",
    "# -------------------\n",
    "# Python is case-sensitive, which means 'Variable' and 'variable' are considered different.\n",
    "Variable = 10\n",
    "variable = 20\n",
    "print(\"Variable:\", Variable)  \n",
    "print(\"variable:\", variable)  "
   ]
  },
  {
   "cell_type": "code",
   "execution_count": 13,
   "id": "99f72918-415a-4760-babd-54a1396302b2",
   "metadata": {},
   "outputs": [
    {
     "name": "stdout",
     "output_type": "stream",
     "text": [
      "Loop iteration: 0\n",
      "Loop iteration: 1\n",
      "Loop iteration: 2\n",
      "\n",
      "# Summary\n",
      "# -------\n",
      "# - Indentation is crucial in Python and defines code blocks.\n",
      "# - Use colons (:) to indicate the start of a block.\n",
      "# - Python is case-sensitive, so be careful with variable names.\n",
      "# - Use backslashes (\\) or parentheses for line continuation when needed.\n",
      "\n",
      "# Practice these syntax rules to write clean and readable Python code!\n",
      "\n"
     ]
    }
   ],
   "source": [
    "# 7. Using Colons\n",
    "# ---------------\n",
    "# Colons (:) are used to define code blocks, such as in functions, loops, and conditionals.\n",
    "\n",
    "# Example of a loop with a colon:\n",
    "for i in range(3):\n",
    "    print(\"Loop iteration:\", i)  # Each iteration is part of the indented block\n",
    "\n",
    "print(\"\"\"\n",
    "# Summary\n",
    "# -------\n",
    "# - Indentation is crucial in Python and defines code blocks.\n",
    "# - Use colons (:) to indicate the start of a block.\n",
    "# - Python is case-sensitive, so be careful with variable names.\n",
    "# - Use backslashes (\\\\) or parentheses for line continuation when needed.\n",
    "\n",
    "# Practice these syntax rules to write clean and readable Python code!\n",
    "\"\"\")"
   ]
  },
  {
   "cell_type": "code",
   "execution_count": null,
   "id": "f7ffc73d-0b06-4ab8-9591-6f50175f17c4",
   "metadata": {},
   "outputs": [],
   "source": []
  }
 ],
 "metadata": {
  "kernelspec": {
   "display_name": "Python3.12",
   "language": "python",
   "name": "python3"
  },
  "language_info": {
   "codemirror_mode": {
    "name": "ipython",
    "version": 3
   },
   "file_extension": ".py",
   "mimetype": "text/x-python",
   "name": "python",
   "nbconvert_exporter": "python",
   "pygments_lexer": "ipython3",
   "version": "3.12.3"
  }
 },
 "nbformat": 4,
 "nbformat_minor": 5
}
