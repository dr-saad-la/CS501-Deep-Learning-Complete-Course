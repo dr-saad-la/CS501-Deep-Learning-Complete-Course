{
 "cells": [
  {
   "cell_type": "code",
   "execution_count": 1,
   "id": "cb3e32df-644c-4efa-b83c-7f4e3661a2eb",
   "metadata": {},
   "outputs": [],
   "source": [
    "# ======================================================================= #\n",
    "# Course: Deep Learning Complete Course (CS-501)\n",
    "# Author: Dr. Saad Laouadi\n",
    "# Lesson: Class Attributes in Python\n",
    "#\n",
    "# Description: This program introduces class attributes and explains how \n",
    "#              they differ from instance attributes. It provides examples \n",
    "#              of how to use class attributes effectively and discusses \n",
    "#              their common use cases.\n",
    "#\n",
    "# =======================================================================\n",
    "#.          Copyright © Dr. Saad Laouadi\n",
    "# ======================================================================="
   ]
  },
  {
   "cell_type": "code",
   "execution_count": 3,
   "id": "d1fc2633-f855-46d7-9089-9bfb8662431c",
   "metadata": {},
   "outputs": [
    {
     "name": "stdout",
     "output_type": "stream",
     "text": [
      "\n",
      "# Class Attributes in Python\n",
      "# --------------------------\n",
      "# Class attributes are shared across all instances of a class. They are \n",
      "# defined within the class but outside any instance methods. Unlike \n",
      "# instance attributes, which are unique to each object, class attributes \n",
      "# maintain the same value across all instances (unless modified).\n",
      "\n"
     ]
    }
   ],
   "source": [
    "print(\"\"\"\n",
    "# Class Attributes in Python\n",
    "# --------------------------\n",
    "# Class attributes are shared across all instances of a class. They are \n",
    "# defined within the class but outside any instance methods. Unlike \n",
    "# instance attributes, which are unique to each object, class attributes \n",
    "# maintain the same value across all instances (unless modified).\n",
    "\"\"\")"
   ]
  },
  {
   "cell_type": "code",
   "execution_count": 4,
   "id": "b6fcd43f-88e5-497d-985e-f4e28b90ca8d",
   "metadata": {},
   "outputs": [],
   "source": [
    "# 1. Defining a Simple Class with Class Attributes\n",
    "# ------------------------------------------------\n",
    "class Vehicle:\n",
    "    # Class attribute\n",
    "    wheels = 4  # All vehicles will have 4 wheels by default\n",
    "\n",
    "    # Constructor to initialize instance attributes\n",
    "    def __init__(self, brand, model):\n",
    "        self.brand = brand   # Instance attribute\n",
    "        self.model = model   # Instance attribute\n",
    "\n",
    "    # Method to describe the vehicle\n",
    "    def describe(self):\n",
    "        return f\"{self.brand} {self.model} with {Vehicle.wheels} wheels.\""
   ]
  },
  {
   "cell_type": "code",
   "execution_count": 5,
   "id": "1fa367a6-cde1-41fa-bebd-f80d14523b9e",
   "metadata": {},
   "outputs": [],
   "source": [
    "# 2. Creating Objects and Accessing Attributes\n",
    "# --------------------------------------------\n",
    "# Create two Vehicle objects\n",
    "car1 = Vehicle(\"Toyota\", \"Camry\")\n",
    "car2 = Vehicle(\"Honda\", \"Civic\")\n",
    "\n",
    "# Access class and instance attributes\n",
    "print(car1.describe())  # Output: Toyota Camry with 4 wheels.\n",
    "print(car2.describe())  # Output: Honda Civic with 4 wheels.\n",
    "\n",
    "# Access class attribute directly from the class\n",
    "print(\"Number of wheels (class attribute):\", Vehicle.wheels)  # Output: 4\n",
    "\n",
    "print()  "
   ]
  },
  {
   "cell_type": "code",
   "execution_count": 5,
   "id": "ca85e841-934d-43b9-ab72-9bf5ab1d771e",
   "metadata": {},
   "outputs": [
    {
     "name": "stdout",
     "output_type": "stream",
     "text": [
      "Toyota Camry with 4 wheels.\n",
      "Honda Civic with 4 wheels.\n",
      "Number of wheels (class attribute): 4\n",
      "\n",
      "Toyota Camry with 6 wheels.\n",
      "Honda Civic with 6 wheels.\n",
      "\n",
      "car1 wheels (instance attribute): 8\n",
      "car2 wheels (class attribute): 6\n",
      "Vehicle wheels (class attribute): 6\n"
     ]
    }
   ],
   "source": [
    "# 3. Modifying Class Attributes\n",
    "# -----------------------------\n",
    "# Class attributes can be modified directly through the class.\n",
    "Vehicle.wheels = 6  # Change the number of wheels for all vehicles\n",
    "\n",
    "# The change affects all instances\n",
    "print(car1.describe()) \n",
    "print(car2.describe())  \n",
    "\n",
    "print()\n",
    "\n",
    "# 4. Instance Attributes vs. Class Attributes\n",
    "# -------------------------------------------\n",
    "# You can also access class attributes via an instance, but modifying them \n",
    "# through an instance creates a new instance attribute rather than changing \n",
    "# the class attribute.\n",
    "\n",
    "car1.wheels = 8  # This creates a new instance attribute for car1\n",
    "print(\"car1 wheels (instance attribute):\", car1.wheels)  \n",
    "print(\"car2 wheels (class attribute):\", car2.wheels)     \n",
    "print(\"Vehicle wheels (class attribute):\", Vehicle.wheels)  \n",
    "\n",
    "# Note: Changing car1.wheels did not affect car2 or the Vehicle class itself."
   ]
  },
  {
   "cell_type": "code",
   "execution_count": 6,
   "id": "1d8e5d5e-02da-40ff-bce9-7a82c9e3addb",
   "metadata": {},
   "outputs": [
    {
     "name": "stdout",
     "output_type": "stream",
     "text": [
      "\n",
      "# Summary:\n",
      "# --------\n",
      "# - **Class Attributes**: Shared across all instances. Modify them using the class.\n",
      "# - **Instance Attributes**: Unique to each instance. Modify them using the instance.\n",
      "# - Class attributes are useful for data shared by all instances, like a default value.\n",
      "\n",
      "# Practice:\n",
      "# ---------\n",
      "# - Create your own class with both class and instance attributes.\n",
      "# - Experiment with modifying class attributes and observe how changes affect all instances.\n",
      "\n"
     ]
    }
   ],
   "source": [
    "print(\"\"\"\n",
    "# Summary:\n",
    "# --------\n",
    "# - **Class Attributes**: Shared across all instances. Modify them using the class.\n",
    "# - **Instance Attributes**: Unique to each instance. Modify them using the instance.\n",
    "# - Class attributes are useful for data shared by all instances, like a default value.\n",
    "\n",
    "# Practice:\n",
    "# ---------\n",
    "# - Create your own class with both class and instance attributes.\n",
    "# - Experiment with modifying class attributes and observe how changes affect all instances.\n",
    "\"\"\")"
   ]
  },
  {
   "cell_type": "code",
   "execution_count": null,
   "id": "ae22e2e8-6253-4199-8482-06fd34858ad8",
   "metadata": {},
   "outputs": [],
   "source": []
  }
 ],
 "metadata": {
  "kernelspec": {
   "display_name": "Python@3.10",
   "language": "python",
   "name": "python3"
  },
  "language_info": {
   "codemirror_mode": {
    "name": "ipython",
    "version": 3
   },
   "file_extension": ".py",
   "mimetype": "text/x-python",
   "name": "python",
   "nbconvert_exporter": "python",
   "pygments_lexer": "ipython3",
   "version": "3.10.14"
  }
 },
 "nbformat": 4,
 "nbformat_minor": 5
}
