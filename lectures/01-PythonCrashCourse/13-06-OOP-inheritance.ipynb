{
 "cells": [
  {
   "cell_type": "code",
   "execution_count": 1,
   "id": "cb3e32df-644c-4efa-b83c-7f4e3661a2eb",
   "metadata": {},
   "outputs": [],
   "source": [
    "# ======================================================================= #\n",
    "# Course: Deep Learning Complete Course (CS-501)\n",
    "# Author: Dr. Saad Laouadi\n",
    "# Lesson: Inheritance in Python\n",
    "#\n",
    "# Description: This program introduces the concept of inheritance in Python.\n",
    "#              It demonstrates how a subclass can inherit attributes and\n",
    "#              methods from a base class and how to override methods to\n",
    "#              provide specialized behavior.\n",
    "#\n",
    "# =======================================================================\n",
    "#.          Copyright © Dr. Saad Laouadi\n",
    "# ======================================================================="
   ]
  },
  {
   "cell_type": "code",
   "execution_count": 2,
   "id": "68dd93e1-7a9e-486a-9674-f659029fad21",
   "metadata": {},
   "outputs": [
    {
     "name": "stdout",
     "output_type": "stream",
     "text": [
      "\n",
      "# Introduction to Inheritance\n",
      "# ---------------------------\n",
      "# Inheritance allows one class to inherit the attributes and methods of another class.\n",
      "# This helps promote code reusability and logical organization.\n",
      "\n"
     ]
    }
   ],
   "source": [
    "print(\"\"\"\n",
    "# Introduction to Inheritance\n",
    "# ---------------------------\n",
    "# Inheritance allows one class to inherit the attributes and methods of another class.\n",
    "# This helps promote code reusability and logical organization.\n",
    "\"\"\")"
   ]
  },
  {
   "cell_type": "code",
   "execution_count": 3,
   "id": "c45e0047-f353-45f6-9489-2217ab130933",
   "metadata": {},
   "outputs": [
    {
     "name": "stdout",
     "output_type": "stream",
     "text": [
      "The engine of the Toyota Camry car is roaring to life!\n",
      "The engine of the Harley-Davidson Street 750 motorcycle is revving up!\n",
      "Toyota Camry has 4 doors.\n",
      "Harley-Davidson Street 750 has a sidecar: False\n",
      "\n"
     ]
    }
   ],
   "source": [
    "# 1. Defining a Base Class\n",
    "# ------------------------\n",
    "class Vehicle:\n",
    "    def __init__(self, brand, model):\n",
    "        self.brand = brand\n",
    "        self.model = model\n",
    "\n",
    "    def start_engine(self):\n",
    "        return f\"The engine of the {self.brand} {self.model} is starting.\"\n",
    "\n",
    "# 2. Creating a Subclass\n",
    "# ----------------------\n",
    "# The `Car` class inherits from the `Vehicle` class.\n",
    "class Car(Vehicle):\n",
    "    def __init__(self, brand, model, doors):\n",
    "        # Use `super()` to call the constructor of the parent class\n",
    "        super().__init__(brand, model)\n",
    "        self.doors = doors\n",
    "\n",
    "    # Override the `start_engine` method\n",
    "    def start_engine(self):\n",
    "        return f\"The engine of the {self.brand} {self.model} car is roaring to life!\"\n",
    "\n",
    "# The `Motorcycle` class also inherits from the `Vehicle` class\n",
    "class Motorcycle(Vehicle):\n",
    "    def __init__(self, brand, model, has_sidecar):\n",
    "        super().__init__(brand, model)\n",
    "        self.has_sidecar = has_sidecar\n",
    "\n",
    "    # Override the `start_engine` method\n",
    "    def start_engine(self):\n",
    "        return f\"The engine of the {self.brand} {self.model} motorcycle is revving up!\"\n",
    "\n",
    "# 3. Using the Subclasses\n",
    "# -----------------------\n",
    "car = Car(\"Toyota\", \"Camry\", 4)\n",
    "motorcycle = Motorcycle(\"Harley-Davidson\", \"Street 750\", False)\n",
    "\n",
    "# Access attributes and methods\n",
    "print(car.start_engine())  \n",
    "print(motorcycle.start_engine()) \n",
    "print(f\"{car.brand} {car.model} has {car.doors} doors.\")  \n",
    "print(f\"{motorcycle.brand} {motorcycle.model} has a sidecar: {motorcycle.has_sidecar}\") \n",
    "\n",
    "print()  "
   ]
  },
  {
   "cell_type": "code",
   "execution_count": 4,
   "id": "8dd31790-0406-48e4-8a79-7e86329c097a",
   "metadata": {},
   "outputs": [
    {
     "name": "stdout",
     "output_type": "stream",
     "text": [
      "\n",
      "# 4. Demonstrating Method Overriding\n",
      "# -----------------------------------\n",
      "# The `start_engine` method in each subclass overrides the method in the base class.\n",
      "\n",
      "# 5. Using `super()` for Extended Functionality\n",
      "# ---------------------------------------------\n",
      "# The `super()` function allows us to call methods from the parent class.\n",
      "# This is useful when we want to extend the functionality of a parent class method.\n",
      "\n"
     ]
    }
   ],
   "source": [
    "print(\"\"\"\n",
    "# 4. Demonstrating Method Overriding\n",
    "# -----------------------------------\n",
    "# The `start_engine` method in each subclass overrides the method in the base class.\n",
    "\n",
    "# 5. Using `super()` for Extended Functionality\n",
    "# ---------------------------------------------\n",
    "# The `super()` function allows us to call methods from the parent class.\n",
    "# This is useful when we want to extend the functionality of a parent class method.\n",
    "\"\"\")"
   ]
  },
  {
   "cell_type": "code",
   "execution_count": 5,
   "id": "5acea5fc-d810-4bc2-89ff-5cf7b3331bf7",
   "metadata": {},
   "outputs": [
    {
     "name": "stdout",
     "output_type": "stream",
     "text": [
      "\n",
      "# Summary:\n",
      "# --------\n",
      "# - **Inheritance**: Allows one class to inherit attributes and methods from another class.\n",
      "# - **Base Class**: The class being inherited from (e.g., `Vehicle`).\n",
      "# - **Subclass**: The class that inherits from the base class (e.g., `Car`, `Motorcycle`).\n",
      "# - **Method Overriding**: A subclass can provide a specific implementation of a method from the base class.\n",
      "# - **`super()`**: Used to call methods from the parent class.\n",
      "\n",
      "# Practice:\n",
      "# ---------\n",
      "# - Create your own subclasses and experiment with method overriding.\n",
      "# - Try using `super()` to extend the functionality of a method from the parent class.\n",
      "\n"
     ]
    }
   ],
   "source": [
    "print(\"\"\"\n",
    "# Summary:\n",
    "# --------\n",
    "# - **Inheritance**: Allows one class to inherit attributes and methods from another class.\n",
    "# - **Base Class**: The class being inherited from (e.g., `Vehicle`).\n",
    "# - **Subclass**: The class that inherits from the base class (e.g., `Car`, `Motorcycle`).\n",
    "# - **Method Overriding**: A subclass can provide a specific implementation of a method from the base class.\n",
    "# - **`super()`**: Used to call methods from the parent class.\n",
    "\n",
    "# Practice:\n",
    "# ---------\n",
    "# - Create your own subclasses and experiment with method overriding.\n",
    "# - Try using `super()` to extend the functionality of a method from the parent class.\n",
    "\"\"\")"
   ]
  },
  {
   "cell_type": "code",
   "execution_count": null,
   "id": "17d3c202-f540-41fe-87b7-a001a440d1fd",
   "metadata": {},
   "outputs": [],
   "source": []
  }
 ],
 "metadata": {
  "kernelspec": {
   "display_name": "Python@3.10",
   "language": "python",
   "name": "python3"
  },
  "language_info": {
   "codemirror_mode": {
    "name": "ipython",
    "version": 3
   },
   "file_extension": ".py",
   "mimetype": "text/x-python",
   "name": "python",
   "nbconvert_exporter": "python",
   "pygments_lexer": "ipython3",
   "version": "3.10.14"
  }
 },
 "nbformat": 4,
 "nbformat_minor": 5
}
