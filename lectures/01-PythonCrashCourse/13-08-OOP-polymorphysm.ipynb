{
 "cells": [
  {
   "cell_type": "code",
   "execution_count": 1,
   "id": "cb3e32df-644c-4efa-b83c-7f4e3661a2eb",
   "metadata": {},
   "outputs": [],
   "source": [
    "# ======================================================================= #\n",
    "# Course: Deep Learning Complete Course (CS-501)\n",
    "# Author: Dr. Saad Laouadi\n",
    "# Lesson: Polymorphism in Python\n",
    "#\n",
    "# Description: This program introduces the concept of polymorphism in Python.\n",
    "#              It demonstrates how different classes can share methods with\n",
    "#              the same name but behave differently based on the object instance.\n",
    "#\n",
    "# =======================================================================\n",
    "#.          Copyright © Dr. Saad Laouadi\n",
    "# ======================================================================="
   ]
  },
  {
   "cell_type": "code",
   "execution_count": 2,
   "id": "98b5eb4d-f224-4508-9eb4-4b0366327af5",
   "metadata": {},
   "outputs": [
    {
     "name": "stdout",
     "output_type": "stream",
     "text": [
      "\n",
      "# Introduction to Polymorphism\n",
      "# ----------------------------\n",
      "# Polymorphism allows methods in different classes to have the same name but\n",
      "# behave differently based on the class that implements them. It is a key feature\n",
      "# of object-oriented programming that enhances code flexibility.\n",
      "\n"
     ]
    }
   ],
   "source": [
    "print(\"\"\"\n",
    "# Introduction to Polymorphism\n",
    "# ----------------------------\n",
    "# Polymorphism allows methods in different classes to have the same name but\n",
    "# behave differently based on the class that implements them. It is a key feature\n",
    "# of object-oriented programming that enhances code flexibility.\n",
    "\"\"\")"
   ]
  },
  {
   "cell_type": "code",
   "execution_count": 3,
   "id": "4d938563-e2da-4330-90b9-93de1f666696",
   "metadata": {},
   "outputs": [
    {
     "name": "stdout",
     "output_type": "stream",
     "text": [
      "Area: 78.53975\n",
      "Area: 24\n",
      "\n",
      "The area is: 153.93791\n",
      "The area is: 24\n"
     ]
    }
   ],
   "source": [
    "# 1. Defining the Base Class\n",
    "# --------------------------\n",
    "class Shape:\n",
    "    # Method to calculate the area\n",
    "    def area(self):\n",
    "        pass\n",
    "\n",
    "# 2. Creating Subclasses\n",
    "# ----------------------\n",
    "# The `Circle` class inherits from `Shape` and provides its own implementation of the `area` method.\n",
    "class Circle(Shape):\n",
    "    def __init__(self, radius):\n",
    "        self.radius = radius\n",
    "\n",
    "    def area(self):\n",
    "        return 3.14159 * (self.radius ** 2)\n",
    "\n",
    "# The `Rectangle` class inherits from `Shape` and provides its own implementation of the `area` method.\n",
    "class Rectangle(Shape):\n",
    "    def __init__(self, width, height):\n",
    "        self.width = width\n",
    "        self.height = height\n",
    "\n",
    "    def area(self):\n",
    "        return self.width * self.height\n",
    "\n",
    "# 3. Demonstrating Polymorphism\n",
    "# -----------------------------\n",
    "# We can use polymorphism to call the `area` method on different `Shape` objects.\n",
    "shapes = [Circle(5), Rectangle(4, 6)]\n",
    "\n",
    "for shape in shapes:\n",
    "    print(f\"Area: {shape.area()}\")  # Output will differ based on the object type\n",
    "\n",
    "print() \n",
    "\n",
    "# 4. Using Polymorphism with Functions\n",
    "# ------------------------------------\n",
    "# We can also use polymorphism in functions to handle different object types.\n",
    "def print_area(shape):\n",
    "    print(f\"The area is: {shape.area()}\")\n",
    "\n",
    "circle = Circle(7)\n",
    "rectangle = Rectangle(3, 8)\n",
    "\n",
    "print_area(circle)    \n",
    "print_area(rectangle)  "
   ]
  },
  {
   "cell_type": "code",
   "execution_count": 4,
   "id": "d69f111f-cdfe-4b15-90e2-0e44038567ae",
   "metadata": {},
   "outputs": [
    {
     "name": "stdout",
     "output_type": "stream",
     "text": [
      "\n",
      "# Summary:\n",
      "# --------\n",
      "# - **Polymorphism**: Allows methods in different classes to have the same name but behave differently.\n",
      "# - **Shape Class**: Acts as the base class, and subclasses like `Circle` and `Rectangle` implement the `area` method differently.\n",
      "# - **Using Polymorphism**: We can use polymorphism in loops and functions to handle multiple object types seamlessly.\n",
      "\n",
      "# Practice:\n",
      "# ---------\n",
      "# - Create your own subclasses (e.g., `Triangle`, `Square`) and implement the `area` method.\n",
      "# - Experiment with polymorphism by adding new shapes and using them in the `shapes` list.\n",
      "\n"
     ]
    }
   ],
   "source": [
    "print(\"\"\"\n",
    "# Summary:\n",
    "# --------\n",
    "# - **Polymorphism**: Allows methods in different classes to have the same name but behave differently.\n",
    "# - **Shape Class**: Acts as the base class, and subclasses like `Circle` and `Rectangle` implement the `area` method differently.\n",
    "# - **Using Polymorphism**: We can use polymorphism in loops and functions to handle multiple object types seamlessly.\n",
    "\n",
    "# Practice:\n",
    "# ---------\n",
    "# - Create your own subclasses (e.g., `Triangle`, `Square`) and implement the `area` method.\n",
    "# - Experiment with polymorphism by adding new shapes and using them in the `shapes` list.\n",
    "\"\"\")"
   ]
  },
  {
   "cell_type": "code",
   "execution_count": null,
   "id": "4bd75e32-573b-49b6-98d9-8ea4236f3eac",
   "metadata": {},
   "outputs": [],
   "source": []
  }
 ],
 "metadata": {
  "kernelspec": {
   "display_name": "Python@3.10",
   "language": "python",
   "name": "python3"
  },
  "language_info": {
   "codemirror_mode": {
    "name": "ipython",
    "version": 3
   },
   "file_extension": ".py",
   "mimetype": "text/x-python",
   "name": "python",
   "nbconvert_exporter": "python",
   "pygments_lexer": "ipython3",
   "version": "3.10.14"
  }
 },
 "nbformat": 4,
 "nbformat_minor": 5
}
