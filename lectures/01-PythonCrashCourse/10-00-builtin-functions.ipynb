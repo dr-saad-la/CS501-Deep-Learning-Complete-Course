{
 "cells": [
  {
   "cell_type": "code",
   "execution_count": 1,
   "id": "d6cfa9e4-77e6-4d90-95ff-345fc93b6642",
   "metadata": {},
   "outputs": [],
   "source": [
    "# =======================================================================\n",
    "# Course: Deep Learning Complete Course (CS-501)\n",
    "# Author: Dr. Saad Laouadi\n",
    "# Lesson: Built-in Functions in Python\n",
    "#\n",
    "# Description: This program introduces some of Python's most useful built-in\n",
    "#              functions: `range()`, `enumerate()`, `lambda` functions, `map()`,\n",
    "#              `filter()`, and `reduce()`. It covers how to use these functions\n",
    "#              effectively to write cleaner and more efficient code.\n",
    "#\n",
    "# ======================================================================="
   ]
  },
  {
   "cell_type": "code",
   "execution_count": 2,
   "id": "f66e42e8-feb9-45c6-adce-5d248669de50",
   "metadata": {},
   "outputs": [
    {
     "name": "stdout",
     "output_type": "stream",
     "text": [
      "Using range() to generate a sequence of numbers:\n",
      "0 1 2 3 4 \n"
     ]
    }
   ],
   "source": [
    "# Built-in Functions in Python\n",
    "# ----------------------------\n",
    "# Python provides a wide range of built-in functions that help streamline code.\n",
    "# Here, we'll explore some common built-in functions and how to use them.\n",
    "\n",
    "# 1. Using range()\n",
    "# ----------------\n",
    "# `range()` generates a sequence of numbers, which is commonly used in loops.\n",
    "print(\"Using range() to generate a sequence of numbers:\")\n",
    "for i in range(5):            # Generates numbers from 0 to 4\n",
    "    print(i, end=\" \")\n",
    "\n",
    "print()"
   ]
  },
  {
   "cell_type": "code",
   "execution_count": 3,
   "id": "8c1cf758-36fe-48ef-a7df-30507f4862e9",
   "metadata": {},
   "outputs": [
    {
     "name": "stdout",
     "output_type": "stream",
     "text": [
      "Using enumerate() to get index and value:\n",
      "Index: 0, Fruit: apple\n",
      "Index: 1, Fruit: banana\n",
      "Index: 2, Fruit: cherry\n",
      "\n"
     ]
    }
   ],
   "source": [
    "# 2. Using enumerate()\n",
    "# --------------------\n",
    "# `enumerate()` adds a counter to an iterable and returns it as an enumerate object.\n",
    "print(\"Using enumerate() to get index and value:\")\n",
    "fruits = [\"apple\", \"banana\", \"cherry\"]\n",
    "for index, fruit in enumerate(fruits):\n",
    "    print(f\"Index: {index}, Fruit: {fruit}\")\n",
    "\n",
    "print()"
   ]
  },
  {
   "cell_type": "code",
   "execution_count": 4,
   "id": "5af52866-2a56-4cdd-8110-77b0d5795031",
   "metadata": {},
   "outputs": [
    {
     "name": "stdout",
     "output_type": "stream",
     "text": [
      "Using a lambda function to double a number:\n",
      "Double of 5: 10\n",
      "\n"
     ]
    }
   ],
   "source": [
    "# 3. Lambda Functions\n",
    "# -------------------\n",
    "# `lambda` functions are small, anonymous functions defined with the `lambda` keyword.\n",
    "# Syntax: `lambda arguments: expression`\n",
    "print(\"Using a lambda function to double a number:\")\n",
    "double = lambda x: x * 2               # A lambda function to double the input\n",
    "print(\"Double of 5:\", double(5))  \n",
    "\n",
    "print() "
   ]
  },
  {
   "cell_type": "code",
   "execution_count": 5,
   "id": "322c660b-1ead-44ec-b158-df493c5aabfb",
   "metadata": {},
   "outputs": [
    {
     "name": "stdout",
     "output_type": "stream",
     "text": [
      "Using map() to double each number in a list:\n",
      "Doubled Numbers: [2, 4, 6, 8, 10]\n",
      "\n"
     ]
    }
   ],
   "source": [
    "# 4. Using map() and filter()\n",
    "# ---------------------------\n",
    "# `map()` applies a function to every item in an iterable.\n",
    "# `filter()` filters items based on a function that returns `True` or `False`.\n",
    "\n",
    "# Example with map()\n",
    "print(\"Using map() to double each number in a list:\")\n",
    "numbers = [1, 2, 3, 4, 5]\n",
    "doubled_numbers = list(map(lambda x: x * 2, numbers))  # Doubles each number\n",
    "print(\"Doubled Numbers:\", doubled_numbers)  \n",
    "\n",
    "print()"
   ]
  },
  {
   "cell_type": "code",
   "execution_count": 6,
   "id": "eccf19cb-2188-4530-9331-6939452a26e3",
   "metadata": {},
   "outputs": [
    {
     "name": "stdout",
     "output_type": "stream",
     "text": [
      "\n",
      "Using filter() to get even numbers from a list:\n",
      "Even Numbers: [2, 4]\n",
      "\n"
     ]
    }
   ],
   "source": [
    "# Example with filter()\n",
    "print(\"\\nUsing filter() to get even numbers from a list:\")\n",
    "even_numbers = list(filter(lambda x: x % 2 == 0, numbers))  # Filters even numbers\n",
    "print(\"Even Numbers:\", even_numbers)  \n",
    "\n",
    "print()"
   ]
  },
  {
   "cell_type": "code",
   "execution_count": 7,
   "id": "194bfaa1-c6bf-47e4-9c1d-66384dba1488",
   "metadata": {},
   "outputs": [
    {
     "name": "stdout",
     "output_type": "stream",
     "text": [
      "Using reduce() to calculate the product of all numbers in a list:\n",
      "[1, 2, 3, 4, 5]\n",
      "Product of Numbers: 120\n",
      "\n"
     ]
    }
   ],
   "source": [
    "# 5. Using reduce()\n",
    "# -----------------\n",
    "# `reduce()` is used to apply a function to all elements in an iterable, reducing it to a single value.\n",
    "# Note: `reduce()` is available in the `functools` module.\n",
    "from functools import reduce\n",
    "\n",
    "print(\"Using reduce() to calculate the product of all numbers in a list:\")\n",
    "product = reduce(lambda x, y: x * y, numbers)  # Multiplies all numbers\n",
    "print(numbers)\n",
    "print(\"Product of Numbers:\", product) \n",
    "\n",
    "print()"
   ]
  },
  {
   "cell_type": "code",
   "execution_count": 8,
   "id": "d18adb8f-4798-4204-bdd8-6f574a11dbd9",
   "metadata": {},
   "outputs": [
    {
     "name": "stdout",
     "output_type": "stream",
     "text": [
      "\n",
      "# Notes:\n",
      "# ------\n",
      "# - **range()**: Generates sequences of numbers, useful for loops.\n",
      "# - **enumerate()**: Adds a counter to an iterable, making it easier to track index and value.\n",
      "# - **lambda**: Creates small, anonymous functions.\n",
      "# - **map()**: Applies a function to each item in an iterable.\n",
      "# - **filter()**: Filters items from an iterable based on a condition.\n",
      "# - **reduce()**: Reduces an iterable to a single value using a function.\n",
      "\n"
     ]
    }
   ],
   "source": [
    "print(\"\"\"\n",
    "# Notes:\n",
    "# ------\n",
    "# - **range()**: Generates sequences of numbers, useful for loops.\n",
    "# - **enumerate()**: Adds a counter to an iterable, making it easier to track index and value.\n",
    "# - **lambda**: Creates small, anonymous functions.\n",
    "# - **map()**: Applies a function to each item in an iterable.\n",
    "# - **filter()**: Filters items from an iterable based on a condition.\n",
    "# - **reduce()**: Reduces an iterable to a single value using a function.\n",
    "\"\"\")"
   ]
  },
  {
   "cell_type": "code",
   "execution_count": 9,
   "id": "8f3c3343-ea60-474b-84ae-2f6e85f7f008",
   "metadata": {},
   "outputs": [
    {
     "name": "stdout",
     "output_type": "stream",
     "text": [
      "\n",
      "# Practice:\n",
      "# ---------\n",
      "# - Use `range()` and `enumerate()` in loops to understand their usefulness.\n",
      "# - Try writing your own `lambda` functions for simple tasks.\n",
      "# - Experiment with `map()`, `filter()`, and `reduce()` to see how they can simplify your code.\n",
      "\n"
     ]
    }
   ],
   "source": [
    "print(\"\"\"\n",
    "# Practice:\n",
    "# ---------\n",
    "# - Use `range()` and `enumerate()` in loops to understand their usefulness.\n",
    "# - Try writing your own `lambda` functions for simple tasks.\n",
    "# - Experiment with `map()`, `filter()`, and `reduce()` to see how they can simplify your code.\n",
    "\"\"\")"
   ]
  },
  {
   "cell_type": "code",
   "execution_count": null,
   "id": "2c9dbf0f-13d9-4000-b246-795ab3a5ac09",
   "metadata": {},
   "outputs": [],
   "source": []
  }
 ],
 "metadata": {
  "kernelspec": {
   "display_name": "Mamba Base",
   "language": "python",
   "name": "base"
  },
  "language_info": {
   "codemirror_mode": {
    "name": "ipython",
    "version": 3
   },
   "file_extension": ".py",
   "mimetype": "text/x-python",
   "name": "python",
   "nbconvert_exporter": "python",
   "pygments_lexer": "ipython3",
   "version": "3.10.14"
  }
 },
 "nbformat": 4,
 "nbformat_minor": 5
}
