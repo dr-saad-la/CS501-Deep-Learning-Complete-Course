{
 "cells": [
  {
   "cell_type": "code",
   "execution_count": 1,
   "id": "d7d771a4-84d0-40f0-8c56-22bda3b25054",
   "metadata": {},
   "outputs": [],
   "source": [
    "# =======================================================================\n",
    "# Author: Dr. Saad Laouadi\n",
    "# Lesson: Using the `print()` Function in Python\n",
    "#\n",
    "# Description: This program illustrates the versatile use of the `print()`\n",
    "#              function in Python, including basic printing, formatting,\n",
    "#              printing multiple values, and customizing the end and\n",
    "#              separator characters.\n",
    "#\n",
    "# ======================================================================="
   ]
  },
  {
   "cell_type": "code",
   "execution_count": 2,
   "id": "35c8160e-8fe7-491c-8dd7-b91d8cd7f03b",
   "metadata": {},
   "outputs": [
    {
     "name": "stdout",
     "output_type": "stream",
     "text": [
      "Hello, World!\n",
      "42\n"
     ]
    }
   ],
   "source": [
    "# Basic usage of the print() function\n",
    "# -----------------------------------\n",
    "# The simplest use case of print() is to output text or values.\n",
    "print(\"Hello, World!\")  \n",
    "print(42)               "
   ]
  },
  {
   "cell_type": "code",
   "execution_count": 3,
   "id": "d80a3f44-c5c6-4c41-8ecd-a5b0d450ddb1",
   "metadata": {},
   "outputs": [
    {
     "name": "stdout",
     "output_type": "stream",
     "text": [
      "Name: John | Age: 30\n"
     ]
    }
   ],
   "source": [
    "# Printing multiple values\n",
    "# ------------------------\n",
    "# You can print multiple values separated by commas.\n",
    "name = \"John\"\n",
    "age = 30\n",
    "print(\"Name:\", name, \"| Age:\", age)  # Output: Name: John | Age: 30"
   ]
  },
  {
   "cell_type": "code",
   "execution_count": 4,
   "id": "0dd1ab09-f6dc-423f-80d2-41394bebe071",
   "metadata": {},
   "outputs": [
    {
     "name": "stdout",
     "output_type": "stream",
     "text": [
      "apple, banana, cherry\n",
      "A - B - C\n"
     ]
    }
   ],
   "source": [
    "# Customizing the separator\n",
    "# -------------------------\n",
    "# Use the `sep` argument to customize the separator between values.\n",
    "print(\"apple\", \"banana\", \"cherry\", sep=\", \")  # Output: apple, banana, cherry\n",
    "print(\"A\", \"B\", \"C\", sep=\" - \")               # Output: A - B - C"
   ]
  },
  {
   "cell_type": "code",
   "execution_count": 5,
   "id": "604d1300-e119-4c79-b942-aeb7d576a24f",
   "metadata": {},
   "outputs": [
    {
     "name": "stdout",
     "output_type": "stream",
     "text": [
      "This is the first line. This is the second line.\n"
     ]
    }
   ],
   "source": [
    "# Customizing the end character\n",
    "# -----------------------------\n",
    "# Use the `end` argument to customize what is printed at the end of the output.\n",
    "print(\"This is the first line.\", end=\" \")  # By default, `end` is a newline character\n",
    "print(\"This is the second line.\")          # Output: This is the first line. This is the second line."
   ]
  },
  {
   "cell_type": "code",
   "execution_count": 6,
   "id": "7dc924e1-e84c-4c80-ad6c-e92a9edee99a",
   "metadata": {},
   "outputs": [
    {
     "name": "stdout",
     "output_type": "stream",
     "text": [
      "Hello\n",
      "World\n",
      "She said, \"Hello!\"\n"
     ]
    }
   ],
   "source": [
    "# Using escape sequences\n",
    "# ----------------------\n",
    "# Special characters can be included using escape sequences.\n",
    "print(\"Hello\\nWorld\")  # Newline character; Output: \n",
    "                       # Hello\n",
    "                       # World\n",
    "print(\"She said, \\\"Hello!\\\"\")  # Double quote escape; Output: She said, \"Hello!\""
   ]
  },
  {
   "cell_type": "code",
   "execution_count": 7,
   "id": "02a8cb09-1ee5-47e2-8480-67e239e68062",
   "metadata": {},
   "outputs": [
    {
     "name": "stdout",
     "output_type": "stream",
     "text": [
      "Price per item: $ 49.99\n",
      "Quantity: 3\n",
      "Total cost: $ 149.97\n",
      "Total cost for 3 items at $49.99 each is: $149.97\n"
     ]
    }
   ],
   "source": [
    "# Formatting numbers and text\n",
    "# ---------------------------\n",
    "# Format numbers for better readability\n",
    "price = 49.99\n",
    "quantity = 3\n",
    "total = price * quantity\n",
    "print(\"Price per item: $\", price)\n",
    "print(\"Quantity:\", quantity)\n",
    "print(\"Total cost: $\", total)\n",
    "\n",
    "# You can use formatted strings for better presentation\n",
    "print(f\"Total cost for {quantity} items at ${price:.2f} each is: ${total:.2f}\")\n",
    "# Output: Total cost for 3 items at $49.99 each is: $149.97"
   ]
  },
  {
   "cell_type": "code",
   "execution_count": 8,
   "id": "5ea314c0-dc34-4fce-b415-ba2b7c7bcea5",
   "metadata": {},
   "outputs": [
    {
     "name": "stdout",
     "output_type": "stream",
     "text": [
      "Item\tPrice\tQuantity\n",
      "Pen\t$1.5\t2\n",
      "Book\t$5.0\t1\n"
     ]
    }
   ],
   "source": [
    "# Printing with special characters\n",
    "# --------------------------------\n",
    "# Using tabs, newlines, and other special characters for formatting output\n",
    "print(\"Item\\tPrice\\tQuantity\")\n",
    "print(\"Pen\\t$1.5\\t2\")\n",
    "print(\"Book\\t$5.0\\t1\")"
   ]
  },
  {
   "cell_type": "code",
   "execution_count": 10,
   "id": "a67bc107-da68-4459-81c7-e7ca58650e06",
   "metadata": {},
   "outputs": [
    {
     "name": "stdout",
     "output_type": "stream",
     "text": [
      "This is a multi-line string.\n",
      "It spans multiple lines.\n",
      "Useful for long text blocks.\n"
     ]
    }
   ],
   "source": [
    "# Multi-line printing\n",
    "# -------------------\n",
    "# Use triple quotes to print multi-line strings\n",
    "print(\"\"\"This is a multi-line string.\n",
    "It spans multiple lines.\n",
    "Useful for long text blocks.\"\"\")"
   ]
  },
  {
   "cell_type": "code",
   "execution_count": 11,
   "id": "2752df1b-ff5d-43e1-a253-9c74b4735a19",
   "metadata": {},
   "outputs": [
    {
     "name": "stdout",
     "output_type": "stream",
     "text": [
      "The sum of 10 and 5 is 15\n"
     ]
    }
   ],
   "source": [
    "# Printing variables in a user-friendly way\n",
    "# -----------------------------------------\n",
    "# Example of printing variables for readability\n",
    "x = 10\n",
    "y = 5\n",
    "result = x + y\n",
    "print(\"The sum of\", x, \"and\", y, \"is\", result)  # Output: The sum of 10 and 5 is 15"
   ]
  },
  {
   "cell_type": "code",
   "execution_count": 12,
   "id": "725961b3-a465-4543-9534-41616c69812c",
   "metadata": {},
   "outputs": [
    {
     "name": "stdout",
     "output_type": "stream",
     "text": [
      "List: [1, 2, 3, 4, 5]\n",
      "Dictionary: {'name': 'Alice', 'age': 25}\n"
     ]
    }
   ],
   "source": [
    "# Printing complex data structures\n",
    "# --------------------------------\n",
    "# You can easily print lists, dictionaries, and other collections\n",
    "my_list = [1, 2, 3, 4, 5]\n",
    "my_dict = {\"name\": \"Alice\", \"age\": 25}\n",
    "print(\"List:\", my_list)       # Output: List: [1, 2, 3, 4, 5]\n",
    "print(\"Dictionary:\", my_dict) # Output: Dictionary: {'name': 'Alice', 'age': 25}"
   ]
  },
  {
   "cell_type": "code",
   "execution_count": 13,
   "id": "25ac6b71-af4a-4b4b-a23e-c6e0b69d7a2e",
   "metadata": {},
   "outputs": [
    {
     "name": "stdout",
     "output_type": "stream",
     "text": [
      "\n",
      "# Summary\n",
      "# -------\n",
      "# The `print()` function is a fundamental tool for displaying output in Python.\n",
      "# It supports basic text printing, formatting with escape characters, and\n",
      "# customizing the separator and end characters.\n",
      "\n"
     ]
    }
   ],
   "source": [
    "summary= \"\"\"\n",
    "# Summary\n",
    "# -------\n",
    "# The `print()` function is a fundamental tool for displaying output in Python.\n",
    "# It supports basic text printing, formatting with escape characters, and\n",
    "# customizing the separator and end characters.\n",
    "\"\"\"\n",
    "print(summary)"
   ]
  },
  {
   "cell_type": "code",
   "execution_count": null,
   "id": "df3dceb1-fe4b-4f4a-8147-841b4cb79bc8",
   "metadata": {},
   "outputs": [],
   "source": []
  }
 ],
 "metadata": {
  "kernelspec": {
   "display_name": "Python3.12",
   "language": "python",
   "name": "python3"
  },
  "language_info": {
   "codemirror_mode": {
    "name": "ipython",
    "version": 3
   },
   "file_extension": ".py",
   "mimetype": "text/x-python",
   "name": "python",
   "nbconvert_exporter": "python",
   "pygments_lexer": "ipython3",
   "version": "3.12.3"
  }
 },
 "nbformat": 4,
 "nbformat_minor": 5
}
