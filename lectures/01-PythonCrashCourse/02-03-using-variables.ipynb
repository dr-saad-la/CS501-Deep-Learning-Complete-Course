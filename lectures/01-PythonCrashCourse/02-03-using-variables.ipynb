{
 "cells": [
  {
   "cell_type": "code",
   "execution_count": 1,
   "id": "abe9bdde-a69f-4ddd-86f7-d1f8de982dbe",
   "metadata": {},
   "outputs": [],
   "source": [
    "# =======================================================================\n",
    "#      Project: Deep Learning Complete Course with Python\n",
    "#      Chapter: Python Crash Course\n",
    "#      Lesson: Variable Names In Python\n",
    "#\n",
    "#      Author: Dr. Saad Laouadi \n",
    "#\n",
    "# Description: This program demonstrates how to use variables effectively\n",
    "#              for combining strings and performing mathematical calculations.\n",
    "#              It covers basic operations that showcase the flexibility and\n",
    "#              usefulness of variables in Python.\n",
    "#\n",
    "# ======================================================================="
   ]
  },
  {
   "cell_type": "code",
   "execution_count": 3,
   "id": "16093c59-1aa3-43f8-9966-639643fd6754",
   "metadata": {},
   "outputs": [
    {
     "name": "stdout",
     "output_type": "stream",
     "text": [
      "Full Name: John Doe\n",
      "Area: 50\n",
      "Triangle Area: 48.0\n",
      "Initial Counter: 10\n",
      "Updated Counter: 15\n",
      "Value exceeds the threshold!\n",
      "Score: 85/100\n",
      "\n",
      "# Summary\n",
      "# -------\n",
      "# Variables are versatile and can be used in a variety of ways,\n",
      "# including string operations, arithmetic calculations, logical comparisons,\n",
      "# and formatted output.\n",
      "\n"
     ]
    }
   ],
   "source": [
    "# Combining variables\n",
    "# -------------------\n",
    "# You can combine string variables using the '+' operator.\n",
    "first_name = \"John\"\n",
    "last_name = \"Doe\"\n",
    "full_name = first_name + \" \" + last_name  # Concatenating first_name and last_name\n",
    "print(\"Full Name:\", full_name)            # Output: Full Name: John Doe\n",
    "\n",
    "# Using variables in calculations\n",
    "# -------------------------------\n",
    "# Variables can be used in arithmetic operations.\n",
    "length = 5                                # Length of a rectangle\n",
    "width = 10                                # Width of a rectangle\n",
    "area = length * width                     # Multiplying length and width to get the area\n",
    "print(\"Area:\", area)                      # Output: Area: 50\n",
    "\n",
    "# Using variables in expressions\n",
    "# ------------------------------\n",
    "# You can use variables in more complex calculations.\n",
    "base = 12\n",
    "height = 8\n",
    "triangle_area = 0.5 * base * height       # Area of a triangle = 1/2 * base * height\n",
    "print(\"Triangle Area:\", triangle_area)    # Output: Triangle Area: 48.0\n",
    "\n",
    "# Updating variable values\n",
    "# ------------------------\n",
    "# Variables can be updated based on their current value.\n",
    "counter = 10\n",
    "print(\"Initial Counter:\", counter)        # Output: Initial Counter: 10\n",
    "counter += 5                              # Increment counter by 5\n",
    "print(\"Updated Counter:\", counter)        # Output: Updated Counter: 15\n",
    "\n",
    "# Using variables in logical expressions\n",
    "# --------------------------------------\n",
    "# Variables can be used to check conditions in if statements.\n",
    "threshold = 50\n",
    "value = 75\n",
    "if value > threshold:\n",
    "    print(\"Value exceeds the threshold!\")  # This will be printed\n",
    "\n",
    "# Variables in formatted strings\n",
    "# ------------------------------\n",
    "# Use variables in formatted strings for better readability.\n",
    "score = 85\n",
    "max_score = 100\n",
    "print(f\"Score: {score}/{max_score}\")      # Output: Score: 85/100\n",
    "\n",
    "summary = \"\"\"\n",
    "# Summary\n",
    "# -------\n",
    "# Variables are versatile and can be used in a variety of ways,\n",
    "# including string operations, arithmetic calculations, logical comparisons,\n",
    "# and formatted output.\n",
    "\"\"\"\n",
    "print(summary)"
   ]
  },
  {
   "cell_type": "code",
   "execution_count": null,
   "id": "147d90f3-d522-43e1-b0c4-b65ce5cc81c4",
   "metadata": {},
   "outputs": [],
   "source": []
  }
 ],
 "metadata": {
  "kernelspec": {
   "display_name": "Python3.12",
   "language": "python",
   "name": "python3"
  },
  "language_info": {
   "codemirror_mode": {
    "name": "ipython",
    "version": 3
   },
   "file_extension": ".py",
   "mimetype": "text/x-python",
   "name": "python",
   "nbconvert_exporter": "python",
   "pygments_lexer": "ipython3",
   "version": "3.12.3"
  }
 },
 "nbformat": 4,
 "nbformat_minor": 5
}
