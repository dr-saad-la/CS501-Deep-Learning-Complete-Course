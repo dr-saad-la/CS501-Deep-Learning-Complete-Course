{
 "cells": [
  {
   "cell_type": "code",
   "execution_count": 1,
   "id": "cb3e32df-644c-4efa-b83c-7f4e3661a2eb",
   "metadata": {},
   "outputs": [],
   "source": [
    "# ======================================================================= #\n",
    "# Course: Deep Learning Complete Course (CS-501)\n",
    "# Author: Dr. Saad Laouadi\n",
    "# Lesson: Encapsulation and Access Modifiers in Python\n",
    "#\n",
    "# Description: This tutorial covers the concept of encapsulation and\n",
    "#              the use of access modifiers in Python to control access\n",
    "#              to class attributes and methods. It explains the difference\n",
    "#              between public, protected, and private members.\n",
    "#\n",
    "# =======================================================================\n",
    "#.          Copyright © Dr. Saad Laouadi\n",
    "# ======================================================================="
   ]
  },
  {
   "cell_type": "code",
   "execution_count": 2,
   "id": "0d06e61c-cea2-4ca7-8e82-ff45469a2cf6",
   "metadata": {},
   "outputs": [
    {
     "name": "stdout",
     "output_type": "stream",
     "text": [
      "\n",
      "# Encapsulation in Python\n",
      "# -----------------------\n",
      "# Encapsulation is one of the core principles of OOP, where we bundle the data\n",
      "# (attributes) and the methods that operate on the data into a single unit (class).\n",
      "# Encapsulation helps to protect the internal state of an object and restricts direct access\n",
      "# to some of its components.\n",
      "\n"
     ]
    }
   ],
   "source": [
    "print(\"\"\"\n",
    "# Encapsulation in Python\n",
    "# -----------------------\n",
    "# Encapsulation is one of the core principles of OOP, where we bundle the data\n",
    "# (attributes) and the methods that operate on the data into a single unit (class).\n",
    "# Encapsulation helps to protect the internal state of an object and restricts direct access\n",
    "# to some of its components.\n",
    "\"\"\")"
   ]
  },
  {
   "cell_type": "code",
   "execution_count": null,
   "id": "db153781-f40d-4647-9a84-aaad1065cc4a",
   "metadata": {},
   "outputs": [],
   "source": [
    "# 1. Public, Protected, and Private Members\n",
    "# -----------------------------------------\n",
    "# - **Public Members**: Accessible from anywhere.\n",
    "# - **Protected Members**: Prefixed with a single underscore (_), indicating that they\n",
    "#   should not be accessed directly outside the class or its subclasses.\n",
    "# - **Private Members**: Prefixed with double underscores (__), making them not directly\n",
    "#   accessible from outside the class."
   ]
  },
  {
   "cell_type": "code",
   "execution_count": 4,
   "id": "8b777af2-43e1-47d0-ae6a-12753bf8d0c8",
   "metadata": {},
   "outputs": [
    {
     "name": "stdout",
     "output_type": "stream",
     "text": [
      "Owner: Alice\n",
      "Account Number (Protected): 1234-5678-90\n",
      "Account Balance: $1000\n",
      "\n"
     ]
    }
   ],
   "source": [
    "# Example Class Demonstrating Encapsulation\n",
    "class BankAccount:\n",
    "    def __init__(self, owner, balance):\n",
    "        self.owner = owner           # Public attribute\n",
    "        self._account_number = \"1234-5678-90\"  # Protected attribute\n",
    "        self.__balance = balance      # Private attribute\n",
    "\n",
    "    # Public method to get the account owner\n",
    "    def get_owner(self):\n",
    "        return self.owner\n",
    "\n",
    "    # Protected method (convention)\n",
    "    def _get_account_number(self):\n",
    "        return self._account_number\n",
    "\n",
    "    # Private method to get the balance\n",
    "    def __get_balance(self):\n",
    "        return self.__balance\n",
    "\n",
    "    # Public method to access the private balance\n",
    "    def display_balance(self):\n",
    "        return f\"Account Balance: ${self.__get_balance()}\"\n",
    "\n",
    "# Creating a BankAccount object\n",
    "account = BankAccount(\"Alice\", 1000)\n",
    "\n",
    "# Accessing public attributes and methods\n",
    "print(\"Owner:\", account.get_owner())  \n",
    "\n",
    "# Accessing protected attributes (not recommended)\n",
    "print(\"Account Number (Protected):\", account._get_account_number())  \n",
    "\n",
    "# Accessing private attributes directly will cause an error\n",
    "# print(account.__balance)  # Uncommenting this line will raise an AttributeError\n",
    "\n",
    "# Accessing private attributes using a public method\n",
    "print(account.display_balance())  \n",
    "\n",
    "print()  "
   ]
  },
  {
   "cell_type": "code",
   "execution_count": 5,
   "id": "577cac6a-cd38-4c5e-8091-2dcac92c6365",
   "metadata": {},
   "outputs": [],
   "source": [
    "# 2. Accessing Private Members\n",
    "# ----------------------------\n",
    "# Even though private members cannot be accessed directly, we can still access\n",
    "# them using name mangling: _ClassName__memberName\n",
    "\n",
    "print(\"Accessing Private Balance (Using Name Mangling):\", account._BankAccount__balance)  # Output: 1000\n",
    "\n",
    "# Note:\n",
    "# -----\n",
    "# - Directly accessing private members using name mangling is not recommended,\n",
    "#   as it breaks the encapsulation principle.\n",
    "# - It's better to use public methods to access private members.\n",
    "\n",
    "print()  # Blank line for readability\n",
    "\n",
    "# 3. Modifying Private Members\n",
    "# ----------------------------\n",
    "# We can modify private members using public methods.\n",
    "class BankAccount:\n",
    "    def __init__(self, owner, balance):\n",
    "        self.owner = owner\n",
    "        self.__balance = balance\n",
    "\n",
    "    # Public method to update the balance\n",
    "    def deposit(self, amount):\n",
    "        if amount > 0:\n",
    "            self.__balance += amount\n",
    "            print(f\"Deposited ${amount}. New Balance: ${self.__balance}\")\n",
    "        else:\n",
    "            print(\"Deposit amount must be positive.\")\n",
    "\n",
    "    def withdraw(self, amount):\n",
    "        if 0 < amount <= self.__balance:\n",
    "            self.__balance -= amount\n",
    "            print(f\"Withdrew ${amount}. New Balance: ${self.__balance}\")\n",
    "        else:\n",
    "            print(\"Invalid withdrawal amount.\")\n",
    "\n",
    "# Creating a new BankAccount object\n",
    "account = BankAccount(\"Bob\", 500)\n",
    "\n",
    "# Using public methods to modify the private balance\n",
    "account.deposit(200)  # Output: Deposited $200. New Balance: $700\n",
    "account.withdraw(100)  # Output: Withdrew $100. New Balance: $600"
   ]
  },
  {
   "cell_type": "code",
   "execution_count": 6,
   "id": "b9379a49-eb3b-4503-aa35-843aaa7c2575",
   "metadata": {},
   "outputs": [
    {
     "name": "stdout",
     "output_type": "stream",
     "text": [
      "\n",
      "# Summary:\n",
      "# --------\n",
      "# - **Encapsulation**: Bundles data and methods in a class and restricts access to internal states.\n",
      "# - **Access Modifiers**: Public, protected, and private members control the visibility of attributes and methods.\n",
      "# - **Name Mangling**: Allows access to private members but should be used with caution.\n",
      "# - **Best Practice**: Use public methods to access or modify private members.\n",
      "\n",
      "# Practice:\n",
      "# ---------\n",
      "# - Create your own class with public, protected, and private members.\n",
      "# - Use methods to modify and access the private data.\n",
      "# - Experiment with name mangling and understand why it's not recommended in practice.\n",
      "\n"
     ]
    }
   ],
   "source": [
    "print(\"\"\"\n",
    "# Summary:\n",
    "# --------\n",
    "# - **Encapsulation**: Bundles data and methods in a class and restricts access to internal states.\n",
    "# - **Access Modifiers**: Public, protected, and private members control the visibility of attributes and methods.\n",
    "# - **Name Mangling**: Allows access to private members but should be used with caution.\n",
    "# - **Best Practice**: Use public methods to access or modify private members.\n",
    "\n",
    "# Practice:\n",
    "# ---------\n",
    "# - Create your own class with public, protected, and private members.\n",
    "# - Use methods to modify and access the private data.\n",
    "# - Experiment with name mangling and understand why it's not recommended in practice.\n",
    "\"\"\")"
   ]
  },
  {
   "cell_type": "code",
   "execution_count": null,
   "id": "45fdc768-0164-47bd-a725-e19e953d04a8",
   "metadata": {},
   "outputs": [],
   "source": []
  }
 ],
 "metadata": {
  "kernelspec": {
   "display_name": "Python@3.10",
   "language": "python",
   "name": "python3"
  },
  "language_info": {
   "codemirror_mode": {
    "name": "ipython",
    "version": 3
   },
   "file_extension": ".py",
   "mimetype": "text/x-python",
   "name": "python",
   "nbconvert_exporter": "python",
   "pygments_lexer": "ipython3",
   "version": "3.10.14"
  }
 },
 "nbformat": 4,
 "nbformat_minor": 5
}
