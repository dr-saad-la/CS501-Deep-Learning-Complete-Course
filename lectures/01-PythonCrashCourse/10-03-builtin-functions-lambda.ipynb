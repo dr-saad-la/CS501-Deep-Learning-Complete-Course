{
 "cells": [
  {
   "cell_type": "code",
   "execution_count": 1,
   "id": "d6cfa9e4-77e6-4d90-95ff-345fc93b6642",
   "metadata": {},
   "outputs": [],
   "source": [
    "# ======================================================================= #\n",
    "# Course: Deep Learning Complete Course (CS-501)\n",
    "# Author: Dr. Saad Laouadi\n",
    "# Lesson: Built-in Functions in Python\n",
    "#\n",
    "# Description: This program introduces the built-in function`lambda`.\n",
    "#\n",
    "# Copyright© Dr. Saad Laouadi\n",
    "# ======================================================================= #"
   ]
  },
  {
   "cell_type": "code",
   "execution_count": 2,
   "id": "3a9565cd-8ae5-4ba7-ab29-30f2a092eb9d",
   "metadata": {},
   "outputs": [
    {
     "name": "stdout",
     "output_type": "stream",
     "text": [
      "\n",
      "# The Anonymous function: Lambda\n",
      "# ------------------------------\n",
      "# `lambda` functions are small, anonymous functions defined with the `lambda` keyword.\n",
      "# They are used when a simple function is needed for a short period of time.\n",
      "# Syntax: `lambda arguments: expression`\n",
      "\n"
     ]
    }
   ],
   "source": [
    "print(\"\"\"\n",
    "# The Anonymous function: Lambda\n",
    "# ------------------------------\n",
    "# `lambda` functions are small, anonymous functions defined with the `lambda` keyword.\n",
    "# They are used when a simple function is needed for a short period of time.\n",
    "# Syntax: `lambda arguments: expression`\n",
    "\"\"\")"
   ]
  },
  {
   "cell_type": "code",
   "execution_count": 3,
   "id": "55e37c27-a4ef-41c1-b120-2e7a8ce60204",
   "metadata": {},
   "outputs": [
    {
     "name": "stdout",
     "output_type": "stream",
     "text": [
      "Using a lambda function to double a number:\n",
      "Double of 5: 10\n",
      "\n"
     ]
    }
   ],
   "source": [
    "print(\"Using a lambda function to double a number:\")\n",
    "double = lambda x: x * 2         # A lambda function to double the input\n",
    "print(\"Double of 5:\", double(5)) \n",
    "\n",
    "print()  "
   ]
  },
  {
   "cell_type": "code",
   "execution_count": 4,
   "id": "9e980ff2-8c70-47b6-a1a8-f10a7c34bcae",
   "metadata": {},
   "outputs": [
    {
     "name": "stdout",
     "output_type": "stream",
     "text": [
      "Using a lambda function to add two numbers:\n",
      "Sum of 3 and 7: 10\n",
      "\n"
     ]
    }
   ],
   "source": [
    "# Case 1: Using a lambda function with multiple arguments\n",
    "print(\"Using a lambda function to add two numbers:\")\n",
    "add = lambda x, y: x + y                     # A lambda function to add two numbers\n",
    "print(\"Sum of 3 and 7:\", add(3, 7))          \n",
    "\n",
    "print()  "
   ]
  },
  {
   "cell_type": "code",
   "execution_count": 5,
   "id": "0317b585-ab5d-44bb-9361-998b03925e35",
   "metadata": {},
   "outputs": [
    {
     "name": "stdout",
     "output_type": "stream",
     "text": [
      "Using a lambda function as an argument to a higher-order function:\n",
      "Squared Numbers: [1, 4, 9, 16, 25]\n",
      "\n"
     ]
    }
   ],
   "source": [
    "# Case 2: Using a lambda function in a function call\n",
    "print(\"Using a lambda function as an argument to a higher-order function:\")\n",
    "numbers = [1, 2, 3, 4, 5]\n",
    "squared_numbers = list(map(lambda x: x ** 2, numbers))  # Squaring each number in the list\n",
    "print(\"Squared Numbers:\", squared_numbers)  \n",
    "\n",
    "print() "
   ]
  },
  {
   "cell_type": "code",
   "execution_count": 6,
   "id": "a8e83655-f2e1-40c8-ab8c-a4fc473a9dec",
   "metadata": {},
   "outputs": [
    {
     "name": "stdout",
     "output_type": "stream",
     "text": [
      "Using a lambda function to sort a list of tuples by the second element:\n",
      "Sorted Points: [(5, 0), (3, 1), (1, 2)]\n",
      "\n"
     ]
    }
   ],
   "source": [
    "# Case 3: Using a lambda function for sorting\n",
    "print(\"Using a lambda function to sort a list of tuples by the second element:\")\n",
    "points = [(1, 2), (3, 1), (5, 0)]\n",
    "points.sort(key=lambda point: point[1])  # Sort by the second element in each tuple\n",
    "print(\"Sorted Points:\", points)  \n",
    "\n",
    "print()  "
   ]
  },
  {
   "cell_type": "code",
   "execution_count": 7,
   "id": "a8087ed9-af40-4c8d-a18e-291d87fe0def",
   "metadata": {},
   "outputs": [
    {
     "name": "stdout",
     "output_type": "stream",
     "text": [
      "Using a lambda function with a conditional expression:\n",
      "7 is: Odd\n",
      "10 is: Even\n",
      "\n"
     ]
    }
   ],
   "source": [
    "# Case 4: Using a lambda function with conditional logic\n",
    "print(\"Using a lambda function with a conditional expression:\")\n",
    "is_even = lambda x: \"Even\" if x % 2 == 0 else \"Odd\"\n",
    "print(\"7 is:\", is_even(7))  \n",
    "print(\"10 is:\", is_even(10))  \n",
    "\n",
    "print()  "
   ]
  },
  {
   "cell_type": "code",
   "execution_count": 8,
   "id": "f085047f-25b9-44ae-81dc-43968c41250b",
   "metadata": {},
   "outputs": [
    {
     "name": "stdout",
     "output_type": "stream",
     "text": [
      "Using lambda functions in a list comprehension:\n",
      "Result: [0, 5, 10, 15, 20]\n",
      "\n"
     ]
    }
   ],
   "source": [
    "# Case 5: Using lambda functions in list comprehensions\n",
    "print(\"Using lambda functions in a list comprehension:\")\n",
    "multiply_by_index = [(lambda x, index=index: x * index)(5) for index in range(5)]\n",
    "print(\"Result:\", multiply_by_index)  \n",
    "\n",
    "print() "
   ]
  },
  {
   "cell_type": "code",
   "execution_count": 9,
   "id": "59c59b16-751a-45fe-89ba-daffd737e33f",
   "metadata": {},
   "outputs": [
    {
     "name": "stdout",
     "output_type": "stream",
     "text": [
      "\n",
      "# Note:\n",
      "# -----\n",
      "# - `lambda` functions are useful when you need a simple, one-line function for short-term use.\n",
      "# - They are commonly used with higher-order functions like `map()`, `filter()`, and `sorted()`.\n",
      "# - `lambda` functions are less readable than regular functions for complex operations, so use them for simplicity.\n",
      "\n"
     ]
    }
   ],
   "source": [
    "print(\"\"\"\n",
    "# Note:\n",
    "# -----\n",
    "# - `lambda` functions are useful when you need a simple, one-line function for short-term use.\n",
    "# - They are commonly used with higher-order functions like `map()`, `filter()`, and `sorted()`.\n",
    "# - `lambda` functions are less readable than regular functions for complex operations, so use them for simplicity.\n",
    "\"\"\")"
   ]
  },
  {
   "cell_type": "code",
   "execution_count": null,
   "id": "a2f2be5c-7d6b-46ab-a0cb-61bd5f6168fc",
   "metadata": {},
   "outputs": [],
   "source": []
  }
 ],
 "metadata": {
  "kernelspec": {
   "display_name": "Python@3.12",
   "language": "python",
   "name": "python3"
  },
  "language_info": {
   "codemirror_mode": {
    "name": "ipython",
    "version": 3
   },
   "file_extension": ".py",
   "mimetype": "text/x-python",
   "name": "python",
   "nbconvert_exporter": "python",
   "pygments_lexer": "ipython3",
   "version": "3.12.7"
  }
 },
 "nbformat": 4,
 "nbformat_minor": 5
}
