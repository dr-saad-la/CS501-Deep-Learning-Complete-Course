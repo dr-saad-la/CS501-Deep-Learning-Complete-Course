{
 "cells": [
  {
   "cell_type": "code",
   "execution_count": 4,
   "id": "cb3e32df-644c-4efa-b83c-7f4e3661a2eb",
   "metadata": {},
   "outputs": [],
   "source": [
    "# ======================================================================= #\n",
    "# Course: Deep Learning Complete Course (CS-501)\n",
    "# Author: Dr. Saad Laouadi\n",
    "# Lesson: Advanced Inheritance in Python\n",
    "#\n",
    "# Description: This program expands on inheritance concepts in Python.\n",
    "#              It covers single and multiple inheritance, and introduces\n",
    "#              the use of `isinstance()` and `issubclass()` functions for\n",
    "#              type checking and class hierarchy management.\n",
    "#\n",
    "# =======================================================================\n",
    "#.          Copyright © Dr. Saad Laouadi\n",
    "# ======================================================================="
   ]
  },
  {
   "cell_type": "code",
   "execution_count": 5,
   "id": "976c21e0-30dc-450c-9154-132d5665d04a",
   "metadata": {},
   "outputs": [
    {
     "name": "stdout",
     "output_type": "stream",
     "text": [
      "Car Description: Toyota Corolla with 4 doors\n",
      "Car Honk Sound: Honk! Honk!\n",
      "\n",
      "Electric Car Description: Tesla Model S with 4 doors\n",
      "Electric Car Charge: Charging the battery to 100 kWh\n",
      "Electric Car Honk Sound: Honk! Honk!\n",
      "\n"
     ]
    }
   ],
   "source": [
    "# 1. Single Inheritance\n",
    "# ---------------------\n",
    "# Base class\n",
    "class Vehicle:\n",
    "    def __init__(self, brand, model):\n",
    "        self.brand = brand\n",
    "        self.model = model\n",
    "\n",
    "    def describe(self):\n",
    "        return f\"{self.brand} {self.model}\"\n",
    "\n",
    "    def honk(self):\n",
    "        return \"Honk! Honk!\"\n",
    "\n",
    "# Derived class\n",
    "class Car(Vehicle):\n",
    "    def __init__(self, brand, model, doors):\n",
    "        super().__init__(brand, model)\n",
    "        self.doors = doors\n",
    "\n",
    "    def describe(self):\n",
    "        return f\"{self.brand} {self.model} with {self.doors} doors\"\n",
    "\n",
    "# 2. Multiple Inheritance\n",
    "# -----------------------\n",
    "# Another base class\n",
    "class Electric:\n",
    "    def __init__(self, battery_capacity):\n",
    "        self.battery_capacity = battery_capacity\n",
    "\n",
    "    def charge(self):\n",
    "        return f\"Charging the battery to {self.battery_capacity} kWh\"\n",
    "\n",
    "# Derived class with multiple inheritance\n",
    "class ElectricCar(Car, Electric):\n",
    "    def __init__(self, brand, model, doors, battery_capacity):\n",
    "        Car.__init__(self, brand, model, doors)\n",
    "        Electric.__init__(self, battery_capacity)\n",
    "\n",
    "# 3. Demonstrating Advanced Inheritance\n",
    "# -------------------------------------\n",
    "car = Car(\"Toyota\", \"Corolla\", 4)\n",
    "electric_car = ElectricCar(\"Tesla\", \"Model S\", 4, 100)\n",
    "\n",
    "print(\"Car Description:\", car.describe())  # Output: Toyota Corolla with 4 doors\n",
    "print(\"Car Honk Sound:\", car.honk())       # Output: Honk! Honk!\n",
    "print()\n",
    "\n",
    "print(\"Electric Car Description:\", electric_car.describe())  \n",
    "print(\"Electric Car Charge:\", electric_car.charge())         \n",
    "print(\"Electric Car Honk Sound:\", electric_car.honk())      \n",
    "\n",
    "print()  "
   ]
  },
  {
   "cell_type": "code",
   "execution_count": 6,
   "id": "234c871c-3fd4-457b-969a-cab5e3c0823f",
   "metadata": {},
   "outputs": [
    {
     "name": "stdout",
     "output_type": "stream",
     "text": [
      "Is electric_car an instance of ElectricCar? True\n",
      "Is electric_car an instance of Car? True\n",
      "Is electric_car an instance of Vehicle? True\n",
      "\n",
      "Is ElectricCar a subclass of Car? True\n",
      "Is ElectricCar a subclass of Vehicle? True\n",
      "Is Car a subclass of Electric? False\n"
     ]
    }
   ],
   "source": [
    "# 4. Using isinstance() and issubclass()\n",
    "# --------------------------------------\n",
    "# `isinstance()` checks if an object is an instance of a class or a subclass.\n",
    "print(\"Is electric_car an instance of ElectricCar?\", isinstance(electric_car, ElectricCar))  \n",
    "print(\"Is electric_car an instance of Car?\", isinstance(electric_car, Car))                  \n",
    "print(\"Is electric_car an instance of Vehicle?\", isinstance(electric_car, Vehicle))          \n",
    "print()\n",
    "\n",
    "# `issubclass()` checks if a class is a subclass of another class.\n",
    "print(\"Is ElectricCar a subclass of Car?\", issubclass(ElectricCar, Car))        \n",
    "print(\"Is ElectricCar a subclass of Vehicle?\", issubclass(ElectricCar, Vehicle))\n",
    "print(\"Is Car a subclass of Electric?\", issubclass(Car, Electric))              "
   ]
  },
  {
   "cell_type": "code",
   "execution_count": 7,
   "id": "45f703db-f34e-4dd9-91bf-eab855079ea0",
   "metadata": {},
   "outputs": [
    {
     "name": "stdout",
     "output_type": "stream",
     "text": [
      "\n",
      "# Summary:\n",
      "# --------\n",
      "# - **Single Inheritance**: Derived classes inherit attributes and methods from a base class.\n",
      "# - **Multiple Inheritance**: A class can inherit from multiple base classes.\n",
      "# - **isinstance()**: Checks if an object is an instance of a class or its subclasses.\n",
      "# - **issubclass()**: Checks if a class is a subclass of another class.\n",
      "\n",
      "# Practice:\n",
      "# ---------\n",
      "# - Create your own classes that use multiple inheritance.\n",
      "# - Experiment with `isinstance()` and `issubclass()` to understand class hierarchies.\n",
      "# - Try adding more methods or attributes to the `Vehicle`, `Car`, or `Electric` classes.\n",
      "\n"
     ]
    }
   ],
   "source": [
    "print(\"\"\"\n",
    "# Summary:\n",
    "# --------\n",
    "# - **Single Inheritance**: Derived classes inherit attributes and methods from a base class.\n",
    "# - **Multiple Inheritance**: A class can inherit from multiple base classes.\n",
    "# - **isinstance()**: Checks if an object is an instance of a class or its subclasses.\n",
    "# - **issubclass()**: Checks if a class is a subclass of another class.\n",
    "\n",
    "# Practice:\n",
    "# ---------\n",
    "# - Create your own classes that use multiple inheritance.\n",
    "# - Experiment with `isinstance()` and `issubclass()` to understand class hierarchies.\n",
    "# - Try adding more methods or attributes to the `Vehicle`, `Car`, or `Electric` classes.\n",
    "\"\"\")"
   ]
  },
  {
   "cell_type": "code",
   "execution_count": null,
   "id": "b936d5a4-f788-4e81-b7b1-2e40b7d6787d",
   "metadata": {},
   "outputs": [],
   "source": []
  }
 ],
 "metadata": {
  "kernelspec": {
   "display_name": "Python@3.10",
   "language": "python",
   "name": "python3"
  },
  "language_info": {
   "codemirror_mode": {
    "name": "ipython",
    "version": 3
   },
   "file_extension": ".py",
   "mimetype": "text/x-python",
   "name": "python",
   "nbconvert_exporter": "python",
   "pygments_lexer": "ipython3",
   "version": "3.10.14"
  }
 },
 "nbformat": 4,
 "nbformat_minor": 5
}
