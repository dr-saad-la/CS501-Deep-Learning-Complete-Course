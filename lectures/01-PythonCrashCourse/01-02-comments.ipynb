{
 "cells": [
  {
   "cell_type": "code",
   "execution_count": 1,
   "id": "72c1fc20-0b22-42b8-b55b-0230da29882b",
   "metadata": {},
   "outputs": [],
   "source": [
    "# =======================================================================\n",
    "# Author: Dr. Saad Laouadi\n",
    "# Lesson: Comments in Python\n",
    "#\n",
    "# Description: This program demonstrates the use of comments in Python.\n",
    "#              Comments are used to explain code and are ignored by the\n",
    "#              Python interpreter. This lesson covers single-line and\n",
    "#              multi-line comments and explains why they are essential.\n",
    "#\n",
    "# =======================================================================\n",
    "#.          Copyright © Dr. Saad Laouadi\n",
    "# ======================================================================="
   ]
  },
  {
   "cell_type": "code",
   "execution_count": 2,
   "id": "9386b101-8711-494c-b0b7-35cfdd1954d1",
   "metadata": {},
   "outputs": [
    {
     "name": "stdout",
     "output_type": "stream",
     "text": [
      "\n",
      "# Single-Line Comments\n",
      "# --------------------\n",
      "# Single-line comments start with the '#' symbol and continue to the end of the line.\n",
      "# Use them to add brief explanations or notes about the code.\n",
      "\n"
     ]
    }
   ],
   "source": [
    "single_line_comment = \"\"\"\n",
    "# Single-Line Comments\n",
    "# --------------------\n",
    "# Single-line comments start with the '#' symbol and continue to the end of the line.\n",
    "# Use them to add brief explanations or notes about the code.\n",
    "\"\"\"\n",
    "print(single_line_comment)"
   ]
  },
  {
   "cell_type": "code",
   "execution_count": 3,
   "id": "24310c1b-0f54-4e3f-b301-9ac1d8461027",
   "metadata": {},
   "outputs": [
    {
     "name": "stdout",
     "output_type": "stream",
     "text": [
      "Single-line comments are used for brief explanations.\n"
     ]
    }
   ],
   "source": [
    "# This is a single-line comment explaining the next line of code\n",
    "print(\"Single-line comments are used for brief explanations.\")"
   ]
  },
  {
   "cell_type": "code",
   "execution_count": 4,
   "id": "32a172e4-97eb-48f4-b8b8-9e595aee968d",
   "metadata": {},
   "outputs": [],
   "source": [
    "# You can also use comments to temporarily disable a line of code\n",
    "# print(\"This line of code will not be executed.\")"
   ]
  },
  {
   "cell_type": "code",
   "execution_count": 5,
   "id": "2a65eb70-1ca5-442b-ad12-00081ad1efd8",
   "metadata": {},
   "outputs": [
    {
     "name": "stdout",
     "output_type": "stream",
     "text": [
      "Multi-line comments can span several lines using multiple '#' symbols.\n"
     ]
    }
   ],
   "source": [
    "# Multi-Line Comments\n",
    "# -------------------\n",
    "# Multi-line comments can be created using multiple '#' symbols\n",
    "# at the beginning of each line. This method is useful for long\n",
    "# explanations or commenting out large sections of code.\n",
    "\n",
    "# This is a multi-line comment\n",
    "# explaining the next block of code\n",
    "# that prints a message to the console.\n",
    "print(\"Multi-line comments can span several lines using multiple '#' symbols.\")"
   ]
  },
  {
   "cell_type": "code",
   "execution_count": 6,
   "id": "fea67fc7-a639-464e-ba45-bf766297a4b9",
   "metadata": {},
   "outputs": [
    {
     "name": "stdout",
     "output_type": "stream",
     "text": [
      "Triple quotes can be used for multi-line comments or documentation.\n"
     ]
    }
   ],
   "source": [
    "# Using Docstrings as Multi-Line Comments\n",
    "# ---------------------------------------\n",
    "# You can also use triple quotes (\"\"\" or ''') to write multi-line comments.\n",
    "# Note: These are actually multi-line strings used for documentation,\n",
    "# but they can also serve as comments if not assigned to a variable or used as a docstring.\n",
    "\n",
    "\"\"\"\n",
    "This is a multi-line comment written\n",
    "using triple quotes. It can span\n",
    "multiple lines and is often used for\n",
    "longer explanations or documentation.\n",
    "\"\"\"\n",
    "print(\"Triple quotes can be used for multi-line comments or documentation.\")"
   ]
  },
  {
   "cell_type": "code",
   "execution_count": 7,
   "id": "4d574e65-7104-4e02-ab1b-392f507b9346",
   "metadata": {},
   "outputs": [
    {
     "name": "stdout",
     "output_type": "stream",
     "text": [
      "x: 5\n"
     ]
    }
   ],
   "source": [
    "# Inline Comments\n",
    "# ---------------\n",
    "# You can write comments at the end of a line of code, but make sure to leave a space before the '#'.\n",
    "x = 5  # This is an inline comment explaining that 'x' is assigned the value 5\n",
    "print(\"x:\", x)  # Printing the value of x"
   ]
  },
  {
   "cell_type": "code",
   "execution_count": 8,
   "id": "08ee14cd-8265-4454-952a-0fe5b84d85f7",
   "metadata": {},
   "outputs": [
    {
     "name": "stdout",
     "output_type": "stream",
     "text": [
      "\n",
      "# Best Practices for Using Comments\n",
      "# ---------------------------------\n",
      "# - Use comments to explain why you wrote the code a certain way, not what the code does.\n",
      "# - Keep comments clear, concise, and relevant.\n",
      "# - Avoid over-commenting; only add comments where necessary.\n",
      "# - Update comments if you make changes to the code.\n",
      "\n",
      "\n",
      "# Summary\n",
      "# -------\n",
      "# Comments are essential for making your code more readable and maintainable.\n",
      "# They help other developers (and your future self) understand the purpose and logic\n",
      "# behind your code.\n",
      "\n"
     ]
    }
   ],
   "source": [
    "print(\"\"\"\n",
    "# Best Practices for Using Comments\n",
    "# ---------------------------------\n",
    "# - Use comments to explain why you wrote the code a certain way, not what the code does.\n",
    "# - Keep comments clear, concise, and relevant.\n",
    "# - Avoid over-commenting; only add comments where necessary.\n",
    "# - Update comments if you make changes to the code.\n",
    "\"\"\")\n",
    "\n",
    "print(\"\"\"\n",
    "# Summary\n",
    "# -------\n",
    "# Comments are essential for making your code more readable and maintainable.\n",
    "# They help other developers (and your future self) understand the purpose and logic\n",
    "# behind your code.\n",
    "\"\"\")"
   ]
  },
  {
   "cell_type": "code",
   "execution_count": null,
   "id": "5d938d85-0e74-498f-af1b-90f8759233d7",
   "metadata": {},
   "outputs": [],
   "source": []
  }
 ],
 "metadata": {
  "kernelspec": {
   "display_name": "Python 3 (ipykernel)",
   "language": "python",
   "name": "python3"
  },
  "language_info": {
   "codemirror_mode": {
    "name": "ipython",
    "version": 3
   },
   "file_extension": ".py",
   "mimetype": "text/x-python",
   "name": "python",
   "nbconvert_exporter": "python",
   "pygments_lexer": "ipython3",
   "version": "3.10.14"
  }
 },
 "nbformat": 4,
 "nbformat_minor": 5
}
