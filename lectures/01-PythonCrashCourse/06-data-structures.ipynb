{
 "cells": [
  {
   "cell_type": "code",
   "execution_count": 1,
   "id": "d53577c8-5b3d-4597-832a-0a04358df628",
   "metadata": {},
   "outputs": [],
   "source": [
    "# =======================================================================\n",
    "# Course: Deep Learning Complete Course (CS-501)\n",
    "# Author: Dr. Saad Laouadi\n",
    "# Lesson: Data Structures in Python\n",
    "#\n",
    "# Description: This program introduces fundamental data structures in Python,\n",
    "#              including lists, tuples, dictionaries, sets, and frozen sets.\n",
    "#              Each data structure is demonstrated with examples to show how\n",
    "#              they work and how to manipulate them.\n",
    "#\n",
    "# ======================================================================="
   ]
  },
  {
   "cell_type": "code",
   "execution_count": 2,
   "id": "0eb026c4-8207-4dae-bae4-9148dd26da97",
   "metadata": {},
   "outputs": [
    {
     "name": "stdout",
     "output_type": "stream",
     "text": [
      "Original List: [1, 2, 3, 4, 5]\n",
      "After Append: [1, 2, 3, 4, 5, 6]\n",
      "After Modification: [1, 2, 10, 4, 5, 6]\n",
      "Sliced List [1:4]: [2, 10, 4]\n",
      "\n"
     ]
    }
   ],
   "source": [
    "# Data Structures in Python\n",
    "# -------------------------\n",
    "\n",
    "# 1. Lists\n",
    "# --------\n",
    "# Lists are ordered, mutable collections of items. They can hold items of any data type\n",
    "# and are defined using square brackets [].\n",
    "my_list = [1, 2, 3, 4, 5]\n",
    "print(\"Original List:\", my_list)  \n",
    "\n",
    "my_list.append(6)  # Adding an element to the list\n",
    "print(\"After Append:\", my_list)   \n",
    "\n",
    "my_list[2] = 10  # Modifying an element at a specific index\n",
    "print(\"After Modification:\", my_list)  \n",
    "\n",
    "print(\"Sliced List [1:4]:\", my_list[1:4])  # Slicing the list: [2, 10, 4]\n",
    "print()  "
   ]
  },
  {
   "cell_type": "code",
   "execution_count": 3,
   "id": "b1b26a3e-1432-4310-9f30-609f4fa5dc93",
   "metadata": {},
   "outputs": [
    {
     "name": "stdout",
     "output_type": "stream",
     "text": [
      "Original Tuple: (1, 2, 3, 4, 5)\n",
      "First Element: 1\n",
      "Sliced Tuple [1:3]: (2, 3)\n",
      "\n"
     ]
    }
   ],
   "source": [
    "# 2. Tuples\n",
    "# ---------\n",
    "# Tuples are ordered, immutable collections of items. They are defined using parentheses ().\n",
    "my_tuple = (1, 2, 3, 4, 5)\n",
    "print(\"Original Tuple:\", my_tuple)  \n",
    "\n",
    "# Accessing elements\n",
    "print(\"First Element:\", my_tuple[0]) \n",
    "print(\"Sliced Tuple [1:3]:\", my_tuple[1:3])  # Output: (2, 3)\n",
    "\n",
    "# Note: Tuples cannot be modified\n",
    "# my_tuple[1] = 10                  # This will raise an error\n",
    "print()  "
   ]
  },
  {
   "cell_type": "code",
   "execution_count": 4,
   "id": "701b763b-b4bc-45ce-ad5d-e8601f8ee7f3",
   "metadata": {},
   "outputs": [
    {
     "name": "stdout",
     "output_type": "stream",
     "text": [
      "Original Dictionary: {'name': 'Amine', 'age': 25, 'location': 'Algeria'}\n",
      "Name: Amine\n",
      "After Modification: {'name': 'Amine', 'age': 30, 'location': 'Algeria'}\n",
      "After Adding Email: {'name': 'Amine', 'age': 30, 'location': 'Algeria', 'email': 'amine@example.com'}\n",
      "\n"
     ]
    }
   ],
   "source": [
    "# 3. Dictionaries\n",
    "# ---------------\n",
    "# Dictionaries are collections of key-value pairs. They are defined using curly braces {}\n",
    "# and are used to store data with meaningful keys.\n",
    "my_dict = {'name': 'Amine', 'age': 25, 'location': 'Algeria'}\n",
    "print(\"Original Dictionary:\", my_dict)\n",
    "\n",
    "# Accessing and modifying values\n",
    "print(\"Name:\", my_dict['name'])  \n",
    "\n",
    "my_dict['age'] = 30  # Modifying a value\n",
    "print(\"After Modification:\", my_dict)  \n",
    "\n",
    "my_dict['email'] = 'amine@example.com'  # Adding a new key-value pair\n",
    "print(\"After Adding Email:\", my_dict) \n",
    "print() "
   ]
  },
  {
   "cell_type": "code",
   "execution_count": 5,
   "id": "70c82324-ca67-4c3b-b033-a2f6a0c88f7e",
   "metadata": {},
   "outputs": [
    {
     "name": "stdout",
     "output_type": "stream",
     "text": [
      "Original Set: {1, 2, 3, 4, 5}\n",
      "After Adding 6: {1, 2, 3, 4, 5, 6}\n",
      "After Adding Duplicate 3: {1, 2, 3, 4, 5, 6}\n",
      "After Removing 2: {1, 3, 4, 5, 6}\n",
      "\n"
     ]
    }
   ],
   "source": [
    "# 4. Sets\n",
    "# -------\n",
    "# Sets are unordered collections of unique elements. They are defined using curly braces {}.\n",
    "my_set = {1, 2, 3, 4, 5}\n",
    "print(\"Original Set:\", my_set)  \n",
    "\n",
    "my_set.add(6)  # Adding an element to the set\n",
    "print(\"After Adding 6:\", my_set)  \n",
    "\n",
    "my_set.add(3)  # Adding a duplicate element (no effect)\n",
    "print(\"After Adding Duplicate 3:\", my_set)  \n",
    "\n",
    "my_set.remove(2)  # Removing an element\n",
    "print(\"After Removing 2:\", my_set)  \n",
    "print()  "
   ]
  },
  {
   "cell_type": "code",
   "execution_count": 6,
   "id": "a9421cb2-09dd-41d8-ad02-2baf57d16e96",
   "metadata": {},
   "outputs": [
    {
     "name": "stdout",
     "output_type": "stream",
     "text": [
      "Frozen Set: frozenset({1, 2, 3, 4, 5})\n"
     ]
    }
   ],
   "source": [
    "# 5. Frozen Sets\n",
    "# --------------\n",
    "# Frozen sets are immutable sets, used when a set of unique elements must remain constant.\n",
    "my_frozen_set = frozenset([1, 2, 3, 4, 5])\n",
    "print(\"Frozen Set:\", my_frozen_set)  \n",
    "\n",
    "# Note: Frozen sets cannot be modified\n",
    "# my_frozen_set.add(6)  # This will raise an error"
   ]
  },
  {
   "cell_type": "code",
   "execution_count": 7,
   "id": "fc5982be-db43-4345-86da-455d3e4d17cb",
   "metadata": {},
   "outputs": [
    {
     "name": "stdout",
     "output_type": "stream",
     "text": [
      "\n",
      "# Notes:\n",
      "# - Lists are commonly used when you need a mutable sequence of elements.\n",
      "# - Tuples are useful when you need an immutable, ordered collection.\n",
      "# - Dictionaries are ideal for associating keys with values and are useful for quick lookups.\n",
      "# - Sets are great for eliminating duplicates and performing set operations like union and intersection.\n",
      "# - Frozen sets provide a way to create immutable sets, suitable for use as keys in dictionaries or \n",
      "# elements in other sets.\n",
      "\n",
      "# Summary\n",
      "# -------\n",
      "# - Lists are mutable, ordered collections.\n",
      "# - Tuples are immutable, ordered collections.\n",
      "# - Dictionaries store key-value pairs and are mutable.\n",
      "# - Sets are unordered collections of unique elements and are mutable.\n",
      "# - Frozen sets are immutable sets, useful for read-only collections.\n",
      "\n"
     ]
    }
   ],
   "source": [
    "print(\"\"\"\n",
    "# Notes:\n",
    "# - Lists are commonly used when you need a mutable sequence of elements.\n",
    "# - Tuples are useful when you need an immutable, ordered collection.\n",
    "# - Dictionaries are ideal for associating keys with values and are useful for quick lookups.\n",
    "# - Sets are great for eliminating duplicates and performing set operations like union and intersection.\n",
    "# - Frozen sets provide a way to create immutable sets, suitable for use as keys in dictionaries or \n",
    "# elements in other sets.\n",
    "\n",
    "# Summary\n",
    "# -------\n",
    "# - Lists are mutable, ordered collections.\n",
    "# - Tuples are immutable, ordered collections.\n",
    "# - Dictionaries store key-value pairs and are mutable.\n",
    "# - Sets are unordered collections of unique elements and are mutable.\n",
    "# - Frozen sets are immutable sets, useful for read-only collections.\n",
    "\"\"\")"
   ]
  }
 ],
 "metadata": {
  "kernelspec": {
   "display_name": "Python3.12",
   "language": "python",
   "name": "python3"
  },
  "language_info": {
   "codemirror_mode": {
    "name": "ipython",
    "version": 3
   },
   "file_extension": ".py",
   "mimetype": "text/x-python",
   "name": "python",
   "nbconvert_exporter": "python",
   "pygments_lexer": "ipython3",
   "version": "3.12.3"
  }
 },
 "nbformat": 4,
 "nbformat_minor": 5
}
