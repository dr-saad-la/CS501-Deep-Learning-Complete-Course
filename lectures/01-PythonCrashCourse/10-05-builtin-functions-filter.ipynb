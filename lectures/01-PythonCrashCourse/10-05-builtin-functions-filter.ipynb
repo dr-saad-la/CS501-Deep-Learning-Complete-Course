{
 "cells": [
  {
   "cell_type": "code",
   "execution_count": 1,
   "id": "d6cfa9e4-77e6-4d90-95ff-345fc93b6642",
   "metadata": {},
   "outputs": [],
   "source": [
    "# ======================================================================= #\n",
    "# Course: Deep Learning Complete Course (CS-501)\n",
    "# Author: Dr. Saad Laouadi\n",
    "# Lesson: Built-in Functions in Python\n",
    "#\n",
    "# Description: This program introduces the built-in function`filter()`.\n",
    "#\n",
    "# Copyright© Dr. Saad Laouadi\n",
    "# ======================================================================= #"
   ]
  },
  {
   "cell_type": "code",
   "execution_count": 2,
   "id": "8823b05f-46b2-4deb-8edf-6a7c2b99eb51",
   "metadata": {},
   "outputs": [
    {
     "name": "stdout",
     "output_type": "stream",
     "text": [
      "\n",
      "# Using filter() in Python\n",
      "# ------------------------\n",
      "# `filter()` is used to filter elements of an iterable that satisfy a given condition.\n",
      "# The function passed to `filter()` should return `True` for the elements that need to be kept.\n",
      "\n",
      "\n",
      "Using filter() to get even numbers from a list:\n",
      "Even Numbers: [2, 4, 6]\n",
      "\n"
     ]
    }
   ],
   "source": [
    "print(\"\"\"\n",
    "# Using filter() in Python\n",
    "# ------------------------\n",
    "# `filter()` is used to filter elements of an iterable that satisfy a given condition.\n",
    "# The function passed to `filter()` should return `True` for the elements that need to be kept.\n",
    "\"\"\")\n",
    "\n",
    "# Case 01: Using filter() with an iterable\n",
    "print(\"\\nUsing filter() to get even numbers from a list:\")\n",
    "numbers = [1, 2, 3, 4, 5, 6]\n",
    "even_numbers = list(filter(lambda x: x % 2 == 0, numbers))  # Filters even numbers\n",
    "print(\"Even Numbers:\", even_numbers) \n",
    "\n",
    "print()  "
   ]
  },
  {
   "cell_type": "code",
   "execution_count": 3,
   "id": "85872ec5-c1c7-462d-9047-79e3920f1b7a",
   "metadata": {},
   "outputs": [
    {
     "name": "stdout",
     "output_type": "stream",
     "text": [
      "Using filter() to get odd numbers from a list:\n",
      "Odd Numbers: [1, 3, 5]\n",
      "\n"
     ]
    }
   ],
   "source": [
    "# Case 02: Filtering odd numbers\n",
    "print(\"Using filter() to get odd numbers from a list:\")\n",
    "odd_numbers = list(filter(lambda x: x % 2 != 0, numbers))  # Filters odd numbers\n",
    "print(\"Odd Numbers:\", odd_numbers)  \n",
    "\n",
    "print()  "
   ]
  },
  {
   "cell_type": "code",
   "execution_count": 4,
   "id": "7880c156-bf05-4bc9-895e-6eb7d37d6229",
   "metadata": {},
   "outputs": [
    {
     "name": "stdout",
     "output_type": "stream",
     "text": [
      "Using filter() to get words with more than 3 characters:\n",
      "Words with more than 3 characters: ['hello', 'world']\n",
      "\n"
     ]
    }
   ],
   "source": [
    "# Case 03: Filtering strings based on length\n",
    "print(\"Using filter() to get words with more than 3 characters:\")\n",
    "words = [\"hi\", \"hello\", \"world\", \"no\", \"yes\"]\n",
    "long_words = list(filter(lambda word: len(word) > 3, words))  # Keeps words longer than 3 characters\n",
    "print(\"Words with more than 3 characters:\", long_words)  \n",
    "\n",
    "print()  "
   ]
  },
  {
   "cell_type": "code",
   "execution_count": 5,
   "id": "4cddac5b-df0b-4f27-bd08-d20bb0bd98f4",
   "metadata": {},
   "outputs": [
    {
     "name": "stdout",
     "output_type": "stream",
     "text": [
      "Using filter() to get positive numbers from a list:\n",
      "Positive Numbers: [2, 7, 4]\n",
      "\n"
     ]
    }
   ],
   "source": [
    "# Case 04: Filtering negative numbers\n",
    "print(\"Using filter() to get positive numbers from a list:\")\n",
    "numbers_with_negatives = [-5, 2, -3, 7, -1, 4]\n",
    "positive_numbers = list(filter(lambda x: x > 0, numbers_with_negatives))  # Filters positive numbers\n",
    "print(\"Positive Numbers:\", positive_numbers)  \n",
    "\n",
    "print()  "
   ]
  },
  {
   "cell_type": "code",
   "execution_count": 6,
   "id": "fbe6cbff-f741-4f24-8ecd-1ff185c6f9e0",
   "metadata": {},
   "outputs": [
    {
     "name": "stdout",
     "output_type": "stream",
     "text": [
      "Using filter() with a custom function to get numbers divisible by 3:\n",
      "Numbers divisible by 3: [3, 6, 9, 12]\n"
     ]
    }
   ],
   "source": [
    "# Case 05: Filtering using a custom function\n",
    "def is_divisible_by_three(number):\n",
    "    return number % 3 == 0\n",
    "\n",
    "print(\"Using filter() with a custom function to get numbers divisible by 3:\")\n",
    "numbers = [1, 3, 6, 7, 9, 12, 14]\n",
    "divisible_by_three = list(filter(is_divisible_by_three, numbers))\n",
    "print(\"Numbers divisible by 3:\", divisible_by_three)  "
   ]
  },
  {
   "cell_type": "code",
   "execution_count": 7,
   "id": "029a17a9-2caa-4334-b969-146aac0e6b54",
   "metadata": {},
   "outputs": [
    {
     "name": "stdout",
     "output_type": "stream",
     "text": [
      "Combining map() and filter() to double only the even numbers in a list:\n",
      "Doubled Even Numbers: [4, 8, 12]\n",
      "\n"
     ]
    }
   ],
   "source": [
    "# Case 06: Combining map() and filter()\n",
    "print(\"Combining map() and filter() to double only the even numbers in a list:\")\n",
    "numbers = [1, 2, 3, 4, 5, 6]\n",
    "doubled_evens = list(map(lambda x: x * 2, filter(lambda x: x % 2 == 0, numbers)))\n",
    "print(\"Doubled Even Numbers:\", doubled_evens) \n",
    "\n",
    "print()  "
   ]
  },
  {
   "cell_type": "code",
   "execution_count": 8,
   "id": "3a6244ae-98b2-4dac-9155-9ac9fa58fed2",
   "metadata": {},
   "outputs": [
    {
     "name": "stdout",
     "output_type": "stream",
     "text": [
      "Using filter() to filter out short words (less than 5 characters):\n",
      "Long Words: ['apple', 'banana']\n",
      "\n"
     ]
    }
   ],
   "source": [
    "# Example with filter() to filter strings\n",
    "print(\"Using filter() to filter out short words (less than 5 characters):\")\n",
    "words = [\"apple\", \"bat\", \"banana\", \"cat\", \"dog\"]\n",
    "long_words = list(filter(lambda word: len(word) >= 5, words))  # Keeps words with 5 or more characters\n",
    "print(\"Long Words:\", long_words) \n",
    "\n",
    "print()  "
   ]
  },
  {
   "cell_type": "code",
   "execution_count": 9,
   "id": "98b2480a-3093-4433-8a13-fab281acb5f7",
   "metadata": {},
   "outputs": [
    {
     "name": "stdout",
     "output_type": "stream",
     "text": [
      "\n",
      "# Note:\n",
      "# -----\n",
      "# - `filter()` is useful for removing unwanted elements from an iterable.\n",
      "# - It returns a filter object, which is then converted to a list or another collection.\n",
      "# - You can use `filter()` with `lambda` functions or with more complex, custom functions.\n",
      "\n"
     ]
    }
   ],
   "source": [
    "print(\"\"\"\n",
    "# Note:\n",
    "# -----\n",
    "# - `filter()` is useful for removing unwanted elements from an iterable.\n",
    "# - It returns a filter object, which is then converted to a list or another collection.\n",
    "# - You can use `filter()` with `lambda` functions or with more complex, custom functions.\n",
    "\"\"\")"
   ]
  },
  {
   "cell_type": "code",
   "execution_count": null,
   "id": "ee67c4fb-63f7-4680-8c1c-077ebf0a3e53",
   "metadata": {},
   "outputs": [],
   "source": []
  }
 ],
 "metadata": {
  "kernelspec": {
   "display_name": "Mamba Base",
   "language": "python",
   "name": "base"
  },
  "language_info": {
   "codemirror_mode": {
    "name": "ipython",
    "version": 3
   },
   "file_extension": ".py",
   "mimetype": "text/x-python",
   "name": "python",
   "nbconvert_exporter": "python",
   "pygments_lexer": "ipython3",
   "version": "3.10.14"
  }
 },
 "nbformat": 4,
 "nbformat_minor": 5
}
