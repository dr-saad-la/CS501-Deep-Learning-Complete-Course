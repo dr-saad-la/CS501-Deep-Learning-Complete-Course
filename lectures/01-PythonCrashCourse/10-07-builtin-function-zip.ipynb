{
 "cells": [
  {
   "cell_type": "code",
   "execution_count": 1,
   "id": "46ae1fde-e924-4a2f-a9b6-2b955fe821b7",
   "metadata": {},
   "outputs": [],
   "source": [
    "# ======================================================================= #\n",
    "# Course: Deep Learning Complete Course (CS-501)\n",
    "# Author: Dr. Saad Laouadi\n",
    "# Lesson: Using the zip() Function in Python\n",
    "#\n",
    "# Description: This program provides an overview of the `zip()` function\n",
    "#              in Python and demonstrates various use cases, including\n",
    "#              combining lists, unpacking zipped objects, and using the\n",
    "#              zip function with loops for more advanced data manipulation.\n",
    "#\n",
    "# =======================================================================\n",
    "#.          Copyright © Dr. Saad Laouadi\n",
    "# ======================================================================="
   ]
  },
  {
   "cell_type": "code",
   "execution_count": 2,
   "id": "58b18d1a-f3f7-47a7-bc49-105666ca923e",
   "metadata": {},
   "outputs": [
    {
     "name": "stdout",
     "output_type": "stream",
     "text": [
      "Zipped List (Names and Ages): [('Alice', 25), ('Bob', 30), ('Charlie', 35)]\n",
      "\n"
     ]
    }
   ],
   "source": [
    "# 1. Basic Use of zip()\n",
    "# ---------------------\n",
    "# The `zip()` function combines two or more iterables (like lists) element-wise.\n",
    "names = [\"Alice\", \"Bob\", \"Charlie\"]\n",
    "ages = [25, 30, 35]\n",
    "\n",
    "zipped_list = list(zip(names, ages))\n",
    "print(\"Zipped List (Names and Ages):\", zipped_list)\n",
    "\n",
    "print() "
   ]
  },
  {
   "cell_type": "code",
   "execution_count": 3,
   "id": "b5df0131-01db-4d70-beff-f671ef8e556b",
   "metadata": {},
   "outputs": [
    {
     "name": "stdout",
     "output_type": "stream",
     "text": [
      "Alice is 25 years old.\n",
      "Bob is 30 years old.\n",
      "Charlie is 35 years old.\n",
      "\n"
     ]
    }
   ],
   "source": [
    "# 2. Using zip() in a Loop\n",
    "# ------------------------\n",
    "# Example: Iterating through two lists simultaneously\n",
    "for name, age in zip(names, ages):\n",
    "    print(f\"{name} is {age} years old.\")\n",
    "\n",
    "print()"
   ]
  },
  {
   "cell_type": "code",
   "execution_count": 4,
   "id": "3b2fc1ad-0f3d-4d64-893d-c176681a7ecc",
   "metadata": {},
   "outputs": [
    {
     "name": "stdout",
     "output_type": "stream",
     "text": [
      "Zipped List (Names, Ages, and Cities): [('Alice', 25, 'New York'), ('Bob', 30, 'Los Angeles'), ('Charlie', 35, 'Chicago')]\n",
      "\n"
     ]
    }
   ],
   "source": [
    "# 3. Zipping Multiple Iterables\n",
    "# -----------------------------\n",
    "# Example: Combining three lists using zip()\n",
    "cities = [\"New York\", \"Los Angeles\", \"Chicago\"]\n",
    "zipped_multiple = list(zip(names, ages, cities))\n",
    "print(\"Zipped List (Names, Ages, and Cities):\", zipped_multiple)\n",
    "\n",
    "print()  "
   ]
  },
  {
   "cell_type": "code",
   "execution_count": 5,
   "id": "557e4717-5d12-4765-8d9a-63d081fcb015",
   "metadata": {},
   "outputs": [
    {
     "name": "stdout",
     "output_type": "stream",
     "text": [
      "Unzipped Names: ('Alice', 'Bob', 'Charlie')\n",
      "Unzipped Ages: (25, 30, 35)\n",
      "\n"
     ]
    }
   ],
   "source": [
    "# 4. Unzipping Using zip() and the * Operator\n",
    "# -------------------------------------------\n",
    "# Example: Unpacking a zipped object back into individual lists\n",
    "zipped_data = zip(names, ages)\n",
    "unzipped_names, unzipped_ages = zip(*zipped_data)\n",
    "print(\"Unzipped Names:\", unzipped_names)  \n",
    "print(\"Unzipped Ages:\", unzipped_ages)    \n",
    "\n",
    "print()  "
   ]
  },
  {
   "cell_type": "code",
   "execution_count": 6,
   "id": "96da73e5-2f64-4fcb-ab7c-ceded5b1bc86",
   "metadata": {},
   "outputs": [
    {
     "name": "stdout",
     "output_type": "stream",
     "text": [
      "Zipped (Short and Long Lists): [(1, 10), (2, 20)]\n",
      "\n"
     ]
    }
   ],
   "source": [
    "# 5. Using zip() with Different Lengths\n",
    "# -------------------------------------\n",
    "# Note: zip() stops combining at the shortest iterable\n",
    "short_list = [1, 2]\n",
    "long_list = [10, 20, 30, 40]\n",
    "\n",
    "zipped_short_long = list(zip(short_list, long_list))\n",
    "print(\"Zipped (Short and Long Lists):\", zipped_short_long)\n",
    "\n",
    "print()  "
   ]
  },
  {
   "cell_type": "code",
   "execution_count": 7,
   "id": "1d15b9fa-3b7e-439d-84e1-be784c26e9ae",
   "metadata": {},
   "outputs": [
    {
     "name": "stdout",
     "output_type": "stream",
     "text": [
      "Dictionary Created Using zip(): {'name': 'Alice', 'age': 25, 'city': 'New York'}\n",
      "\n"
     ]
    }
   ],
   "source": [
    "# 6. Creating a Dictionary Using zip()\n",
    "# ------------------------------------\n",
    "# Example: Creating a dictionary from two lists\n",
    "keys = [\"name\", \"age\", \"city\"]\n",
    "values = [\"Alice\", 25, \"New York\"]\n",
    "\n",
    "dictionary = dict(zip(keys, values))\n",
    "print(\"Dictionary Created Using zip():\", dictionary)\n",
    "\n",
    "print()"
   ]
  },
  {
   "cell_type": "code",
   "execution_count": 8,
   "id": "ce7f9308-61f8-48b6-8932-2a613878769a",
   "metadata": {},
   "outputs": [
    {
     "name": "stdout",
     "output_type": "stream",
     "text": [
      "Sum of Paired Elements: [5, 7, 9]\n"
     ]
    }
   ],
   "source": [
    "# 7. Using zip() for Parallel Iteration\n",
    "# -------------------------------------\n",
    "# Example: Performing operations on paired elements\n",
    "list_a = [1, 2, 3]\n",
    "list_b = [4, 5, 6]\n",
    "\n",
    "sum_list = [a + b for a, b in zip(list_a, list_b)]\n",
    "print(\"Sum of Paired Elements:\", sum_list)"
   ]
  },
  {
   "cell_type": "code",
   "execution_count": 9,
   "id": "8d11e754-4b1d-4971-891f-dce17e464d9b",
   "metadata": {},
   "outputs": [
    {
     "name": "stdout",
     "output_type": "stream",
     "text": [
      "\n",
      "# Notes:\n",
      "# ------\n",
      "# - The `zip()` function is a powerful way to combine multiple iterables.\n",
      "# - It can be used for parallel iteration and data pairing.\n",
      "# - Be cautious when zipping iterables of different lengths, as zip() stops at the shortest.\n",
      "\n",
      "# Practice:\n",
      "# ---------\n",
      "# - Try zipping different data structures and perform operations on the paired elements.\n",
      "# - Experiment with unzipping and creating dictionaries using the zip function.\n",
      "\n"
     ]
    }
   ],
   "source": [
    "print(\"\"\"\n",
    "# Notes:\n",
    "# ------\n",
    "# - The `zip()` function is a powerful way to combine multiple iterables.\n",
    "# - It can be used for parallel iteration and data pairing.\n",
    "# - Be cautious when zipping iterables of different lengths, as zip() stops at the shortest.\n",
    "\n",
    "# Practice:\n",
    "# ---------\n",
    "# - Try zipping different data structures and perform operations on the paired elements.\n",
    "# - Experiment with unzipping and creating dictionaries using the zip function.\n",
    "\"\"\")"
   ]
  },
  {
   "cell_type": "code",
   "execution_count": null,
   "id": "a1ec4554-6e21-441a-8935-4726d8f39a83",
   "metadata": {},
   "outputs": [],
   "source": []
  }
 ],
 "metadata": {
  "kernelspec": {
   "display_name": "Mamba Base",
   "language": "python",
   "name": "base"
  },
  "language_info": {
   "codemirror_mode": {
    "name": "ipython",
    "version": 3
   },
   "file_extension": ".py",
   "mimetype": "text/x-python",
   "name": "python",
   "nbconvert_exporter": "python",
   "pygments_lexer": "ipython3",
   "version": "3.10.14"
  }
 },
 "nbformat": 4,
 "nbformat_minor": 5
}
