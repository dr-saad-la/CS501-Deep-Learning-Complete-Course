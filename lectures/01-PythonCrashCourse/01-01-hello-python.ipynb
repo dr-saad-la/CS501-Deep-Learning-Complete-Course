{
 "cells": [
  {
   "cell_type": "code",
   "execution_count": null,
   "id": "205383ec-a230-49ce-81dd-5ae5471da5fe",
   "metadata": {},
   "outputs": [],
   "source": [
    "# =======================================================================\n",
    "# Author: Dr. Saad Laouadi\n",
    "# Lesson: Hello World Program in Python\n",
    "#\n",
    "# Description: This program covers different ways to write the \"Hello World\"\n",
    "#              program in Python. It demonstrates the basic `print()` function\n",
    "#              and some variations, including printing with escape sequences,\n",
    "#              multi-line strings, and formatted output.\n",
    "#\n",
    "# ======================================================================="
   ]
  },
  {
   "cell_type": "code",
   "execution_count": 1,
   "id": "423a6951-cd80-45fe-b131-310986a1d537",
   "metadata": {},
   "outputs": [
    {
     "name": "stdout",
     "output_type": "stream",
     "text": [
      "Hello, World!\n"
     ]
    }
   ],
   "source": [
    "# Basic \"Hello World\" Program\n",
    "# ---------------------------\n",
    "print(\"Hello, World!\")  # The simplest way to print \"Hello, World!\""
   ]
  },
  {
   "cell_type": "code",
   "execution_count": 2,
   "id": "22c3a733-b9db-4029-b6ec-2d9c0701d356",
   "metadata": {},
   "outputs": [
    {
     "name": "stdout",
     "output_type": "stream",
     "text": [
      "Hello, World!\n",
      "Hello, World!\n"
     ]
    }
   ],
   "source": [
    "# Using Single and Double Quotes\n",
    "# ------------------------------\n",
    "# You can use either single or double quotes for strings in Python.\n",
    "print('Hello, World!')  \n",
    "print(\"Hello, World!\")  "
   ]
  },
  {
   "cell_type": "code",
   "execution_count": 3,
   "id": "312bf0ad-5eb0-400c-ad52-2e447cea5b8a",
   "metadata": {},
   "outputs": [
    {
     "name": "stdout",
     "output_type": "stream",
     "text": [
      "Hello, World!\n",
      "Welcome to Python programming.\n",
      "Hello,\tWorld!\n",
      "Hello, \"World\"!\n"
     ]
    }
   ],
   "source": [
    "# Printing with Escape Sequences\n",
    "# ------------------------------\n",
    "# Using escape characters to include special symbols\n",
    "print(\"Hello, World!\\nWelcome to Python programming.\")  # Newline character\n",
    "print(\"Hello,\\tWorld!\")                                 # Tab character\n",
    "print(\"Hello, \\\"World\\\"!\")                              # Double quote inside a string"
   ]
  },
  {
   "cell_type": "code",
   "execution_count": 4,
   "id": "126e7670-f35a-4504-a737-7087889d5c9b",
   "metadata": {},
   "outputs": [
    {
     "name": "stdout",
     "output_type": "stream",
     "text": [
      "Hello, World!\n",
      "This is a multi-line string.\n",
      "It can span several lines without using escape sequences.\n"
     ]
    }
   ],
   "source": [
    "# Printing Multi-line Strings\n",
    "# ---------------------------\n",
    "# Using triple quotes to print a string spanning multiple lines\n",
    "print(\"\"\"Hello, World!\n",
    "This is a multi-line string.\n",
    "It can span several lines without using escape sequences.\"\"\")"
   ]
  },
  {
   "cell_type": "code",
   "execution_count": 5,
   "id": "4672c2c0-5899-4c85-840d-9894e3d232b2",
   "metadata": {},
   "outputs": [
    {
     "name": "stdout",
     "output_type": "stream",
     "text": [
      "Hello, World!\n",
      "Hello World!\n"
     ]
    }
   ],
   "source": [
    "# Combining Strings in the Print Function\n",
    "# ---------------------------------------\n",
    "# You can combine multiple strings using the `+` operator or by separating them with commas\n",
    "greeting = \"Hello\"\n",
    "target = \"World\"\n",
    "print(greeting + \", \" + target + \"!\")  # Concatenating strings with `+`\n",
    "print(greeting, target + \"!\")          # Combining strings with commas (adds a space)"
   ]
  },
  {
   "cell_type": "code",
   "execution_count": 6,
   "id": "a8e56ec3-abae-437c-9a79-c361c2106233",
   "metadata": {},
   "outputs": [
    {
     "name": "stdout",
     "output_type": "stream",
     "text": [
      "Hello, World!\n"
     ]
    }
   ],
   "source": [
    "# Formatting the Hello World Message\n",
    "# ----------------------------------\n",
    "# Using formatted strings (f-strings) for cleaner and more readable code\n",
    "name = \"World\"\n",
    "print(f\"Hello, {name}!\")  "
   ]
  },
  {
   "cell_type": "code",
   "execution_count": 7,
   "id": "30ddf302-1407-4652-8a13-b6cba23d5b4d",
   "metadata": {},
   "outputs": [
    {
     "name": "stdout",
     "output_type": "stream",
     "text": [
      "Hello, World!\n"
     ]
    }
   ],
   "source": [
    "# Using the `sep` and `end` Parameters in Print\n",
    "# ---------------------------------------------\n",
    "# Customize how values are printed with `sep` (separator) and `end` (ending character)\n",
    "print(\"Hello\", \"World\", sep=\", \", end=\"!\\n\")  # Output: Hello, World!"
   ]
  },
  {
   "cell_type": "code",
   "execution_count": 8,
   "id": "8f8cb1b1-07fb-4e8b-bb53-5ad0e544b76f",
   "metadata": {},
   "outputs": [
    {
     "name": "stdout",
     "output_type": "stream",
     "text": [
      "Hello, World! ☺\n"
     ]
    }
   ],
   "source": [
    "# Printing Unicode Characters\n",
    "# ---------------------------\n",
    "# Use Unicode escape sequences to print special characters\n",
    "print(\"Hello, World! \\u263A\")  # Output: Hello, World! ☺ (smiley face)"
   ]
  },
  {
   "cell_type": "code",
   "execution_count": 9,
   "id": "17cc9b64-3a80-4919-bcd6-fe5f290d16db",
   "metadata": {},
   "outputs": [
    {
     "name": "stdout",
     "output_type": "stream",
     "text": [
      "Hola, Mundo!\n",
      "Bonjour, le Monde!\n",
      "Hallo, Welt!\n",
      "こんにちは、世界！\n",
      "안녕하세요, 세계!\n"
     ]
    }
   ],
   "source": [
    "# Printing in Different Languages\n",
    "# -------------------------------\n",
    "# Examples of \"Hello, World!\" in various languages\n",
    "print(\"Hola, Mundo!\")           # Spanish\n",
    "print(\"Bonjour, le Monde!\")     # French\n",
    "print(\"Hallo, Welt!\")           # German\n",
    "print(\"こんにちは、世界！\")        # Japanese\n",
    "print(\"안녕하세요, 세계!\")          # Korean"
   ]
  },
  {
   "cell_type": "code",
   "execution_count": 10,
   "id": "a0f95fcc-716c-48b5-b5f6-9650ea0ddb59",
   "metadata": {},
   "outputs": [
    {
     "name": "stdout",
     "output_type": "stream",
     "text": [
      "\n",
      "# Summary\n",
      "# -------\n",
      "# The \"Hello World\" program is a simple yet essential introduction to any programming language.\n",
      "# In Python, `print()` is a powerful function that supports formatted strings,\n",
      "# special characters, and customization using `sep` and `end`.\n",
      "\n"
     ]
    }
   ],
   "source": [
    "summary = \"\"\"\n",
    "# Summary\n",
    "# -------\n",
    "# The \"Hello World\" program is a simple yet essential introduction to any programming language.\n",
    "# In Python, `print()` is a powerful function that supports formatted strings,\n",
    "# special characters, and customization using `sep` and `end`.\n",
    "\"\"\"\n",
    "print(summary)"
   ]
  },
  {
   "cell_type": "code",
   "execution_count": null,
   "id": "3ca6c2ef-a699-4ae2-b52c-33a5cb3c655a",
   "metadata": {},
   "outputs": [],
   "source": []
  }
 ],
 "metadata": {
  "kernelspec": {
   "display_name": "Python3.12",
   "language": "python",
   "name": "python3"
  },
  "language_info": {
   "codemirror_mode": {
    "name": "ipython",
    "version": 3
   },
   "file_extension": ".py",
   "mimetype": "text/x-python",
   "name": "python",
   "nbconvert_exporter": "python",
   "pygments_lexer": "ipython3",
   "version": "3.12.3"
  }
 },
 "nbformat": 4,
 "nbformat_minor": 5
}
