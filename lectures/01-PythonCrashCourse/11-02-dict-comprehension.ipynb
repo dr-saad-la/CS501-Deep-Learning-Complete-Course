{
 "cells": [
  {
   "cell_type": "code",
   "execution_count": 1,
   "id": "857d6d61-703a-4b53-9f72-732d5459a8d9",
   "metadata": {},
   "outputs": [],
   "source": [
    "# ======================================================================= #\n",
    "# Course: Deep Learning Complete Course (CS-501)\n",
    "# Author: Dr. Saad Laouadi\n",
    "# Lesson: Dictionary Comprehensions in Python\n",
    "#\n",
    "# Description: This program provides an overview of dictionary comprehensions\n",
    "#              and demonstrates multiple use cases, including transforming\n",
    "#              data, filtering keys and values, and creating dictionaries\n",
    "#              from lists.\n",
    "#\n",
    "# =======================================================================\n",
    "#.          Copyright © Dr. Saad Laouadi\n",
    "# ======================================================================="
   ]
  },
  {
   "cell_type": "code",
   "execution_count": 2,
   "id": "b1448d37-6c1d-454b-a884-13b11180aa13",
   "metadata": {},
   "outputs": [],
   "source": [
    "# 1. Basic Dictionary Comprehension\n",
    "# ---------------------------------\n",
    "# Dictionary comprehensions provide a concise way to create dictionaries."
   ]
  },
  {
   "cell_type": "code",
   "execution_count": 3,
   "id": "6a016459-9d3d-4730-b2d7-d85c4e334ff1",
   "metadata": {},
   "outputs": [
    {
     "name": "stdout",
     "output_type": "stream",
     "text": [
      "Dictionary of Squares: {0: 0, 1: 1, 2: 4, 3: 9, 4: 16, 5: 25, 6: 36, 7: 49, 8: 64, 9: 81}\n",
      "\n"
     ]
    }
   ],
   "source": [
    "# Example: Creating a dictionary of squares\n",
    "squares = {x: x**2 for x in range(10)}\n",
    "print(\"Dictionary of Squares:\", squares)\n",
    "\n",
    "print() "
   ]
  },
  {
   "cell_type": "code",
   "execution_count": 4,
   "id": "375f17a9-3fa4-42ae-9117-63db2118c8a1",
   "metadata": {},
   "outputs": [
    {
     "name": "stdout",
     "output_type": "stream",
     "text": [
      "Dictionary of Even Squares: {0: 0, 2: 4, 4: 16, 6: 36, 8: 64}\n",
      "\n"
     ]
    }
   ],
   "source": [
    "# 2. Dictionary Comprehension with Conditional Logic\n",
    "# --------------------------------------------------\n",
    "# Example: Creating a dictionary of even numbers and their squares\n",
    "even_squares = {x: x**2 for x in range(10) if x % 2 == 0}\n",
    "print(\"Dictionary of Even Squares:\", even_squares)\n",
    "\n",
    "print()  "
   ]
  },
  {
   "cell_type": "code",
   "execution_count": 5,
   "id": "4c1cded3-c4ba-46ad-95cc-eac30da10d14",
   "metadata": {},
   "outputs": [
    {
     "name": "stdout",
     "output_type": "stream",
     "text": [
      "Original Dictionary: {'a': 1, 'b': 2, 'c': 3}\n",
      "Inverted Dictionary: {1: 'a', 2: 'b', 3: 'c'}\n",
      "\n"
     ]
    }
   ],
   "source": [
    "# 3. Transforming Data from an Existing Dictionary\n",
    "# ------------------------------------------------\n",
    "# Example: Inverting keys and values\n",
    "original_dict = {'a': 1, 'b': 2, 'c': 3}\n",
    "inverted_dict = {value: key for key, value in original_dict.items()}\n",
    "print(\"Original Dictionary:\", original_dict)\n",
    "print(\"Inverted Dictionary:\", inverted_dict)\n",
    "\n",
    "print()  "
   ]
  },
  {
   "cell_type": "code",
   "execution_count": 6,
   "id": "105b3bec-6661-4791-8e37-4b02f65a36e7",
   "metadata": {},
   "outputs": [
    {
     "name": "stdout",
     "output_type": "stream",
     "text": [
      "Filtered Dictionary (Values >= 3): {'c': 3}\n",
      "\n"
     ]
    }
   ],
   "source": [
    "# 4. Filtering Dictionary Items\n",
    "# -----------------------------\n",
    "# Example: Filtering out items with values less than 3\n",
    "filtered_dict = {key: value for key, value in original_dict.items() if value >= 3}\n",
    "print(\"Filtered Dictionary (Values >= 3):\", filtered_dict)\n",
    "\n",
    "print()  "
   ]
  },
  {
   "cell_type": "code",
   "execution_count": 7,
   "id": "11c11f26-c995-4828-8dfa-1c2211304fb7",
   "metadata": {},
   "outputs": [
    {
     "name": "stdout",
     "output_type": "stream",
     "text": [
      "Fruit Dictionary: {'AA': 1, 'BB': 2, 'CC': 3}\n",
      "\n"
     ]
    }
   ],
   "source": [
    "# 5. Creating a Dictionary from Two Lists\n",
    "# ---------------------------------------\n",
    "# Example: Zipping two lists to create a dictionary\n",
    "keys = ['AA', 'BB', 'CC']\n",
    "values = [1, 2, 3]\n",
    "fruit_dict = {key: value for key, value in zip(keys, values)}\n",
    "print(\"Fruit Dictionary:\", fruit_dict)\n",
    "\n",
    "print() "
   ]
  },
  {
   "cell_type": "code",
   "execution_count": 8,
   "id": "01f5fdf1-571f-43ff-b593-3fed790233d0",
   "metadata": {},
   "outputs": [
    {
     "name": "stdout",
     "output_type": "stream",
     "text": [
      "Nested Dictionary: {1: {1: 1, 2: 2, 3: 3}, 2: {1: 2, 2: 4, 3: 6}, 3: {1: 3, 2: 6, 3: 9}}\n",
      "\n"
     ]
    }
   ],
   "source": [
    "# 6. Nested Dictionary Comprehension\n",
    "# ----------------------------------\n",
    "# Example: Creating a nested dictionary\n",
    "nested_dict = {x: {y: x * y for y in range(1, 4)} for x in range(1, 4)}\n",
    "print(\"Nested Dictionary:\", nested_dict)\n",
    "\n",
    "print()  "
   ]
  },
  {
   "cell_type": "code",
   "execution_count": 9,
   "id": "c4ccfe96-ff6e-4bab-8df4-836ab0530890",
   "metadata": {},
   "outputs": [
    {
     "name": "stdout",
     "output_type": "stream",
     "text": [
      "Transformed Dictionary (Keys and Values Doubled): {'aa': 2, 'bb': 4, 'cc': 6}\n",
      "\n"
     ]
    }
   ],
   "source": [
    "# 7. Using Functions in Dictionary Comprehensions\n",
    "# -----------------------------------------------\n",
    "# Example: Applying a function to transform keys and values\n",
    "def double(x):\n",
    "    return x * 2\n",
    "\n",
    "transformed_dict = {double(key): double(value) for key, value in original_dict.items()}\n",
    "print(\"Transformed Dictionary (Keys and Values Doubled):\", transformed_dict)\n",
    "\n",
    "print()"
   ]
  },
  {
   "cell_type": "code",
   "execution_count": 10,
   "id": "a53a19df-b2d2-40b2-b226-cba25ea3dec7",
   "metadata": {},
   "outputs": [
    {
     "name": "stdout",
     "output_type": "stream",
     "text": [
      "\n",
      "# Notes:\n",
      "# ------\n",
      "# - Dictionary comprehensions are a powerful way to create and transform dictionaries in Python.\n",
      "# - You can use conditional logic to filter keys and values as needed.\n",
      "# - Nested comprehensions allow for the creation of more complex dictionaries.\n",
      "\n",
      "# Practice:\n",
      "# ---------\n",
      "# - Try creating your own dictionaries using different comprehensions.\n",
      "# - Experiment with filtering and transforming data in various ways.\n",
      "\n"
     ]
    }
   ],
   "source": [
    "print(\"\"\"\n",
    "# Notes:\n",
    "# ------\n",
    "# - Dictionary comprehensions are a powerful way to create and transform dictionaries in Python.\n",
    "# - You can use conditional logic to filter keys and values as needed.\n",
    "# - Nested comprehensions allow for the creation of more complex dictionaries.\n",
    "\n",
    "# Practice:\n",
    "# ---------\n",
    "# - Try creating your own dictionaries using different comprehensions.\n",
    "# - Experiment with filtering and transforming data in various ways.\n",
    "\"\"\")"
   ]
  },
  {
   "cell_type": "code",
   "execution_count": null,
   "id": "1c2e6ec8-97b9-4220-9431-d393a9b956d2",
   "metadata": {},
   "outputs": [],
   "source": []
  }
 ],
 "metadata": {
  "kernelspec": {
   "display_name": "Python 3 (ipykernel)",
   "language": "python",
   "name": "python3"
  },
  "language_info": {
   "codemirror_mode": {
    "name": "ipython",
    "version": 3
   },
   "file_extension": ".py",
   "mimetype": "text/x-python",
   "name": "python",
   "nbconvert_exporter": "python",
   "pygments_lexer": "ipython3",
   "version": "3.10.14"
  }
 },
 "nbformat": 4,
 "nbformat_minor": 5
}
