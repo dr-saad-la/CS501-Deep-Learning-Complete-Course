{
 "cells": [
  {
   "cell_type": "code",
   "execution_count": null,
   "id": "2a7540e8-5d55-461f-bb04-d5ad01d94b12",
   "metadata": {},
   "outputs": [],
   "source": [
    "#===========================================================#\n",
    "#      Project: Deep Learning Complete Course with Python\n",
    "#      Chapter: Python Crash Course\n",
    "#      Lesson: Creating Variables\n",
    "#\n",
    "#      Author: Dr. Saad Laouadi \n",
    "#===========================================================#"
   ]
  },
  {
   "cell_type": "code",
   "execution_count": 7,
   "id": "5c3adf27-453a-40ef-bdb9-117316ee9dc8",
   "metadata": {},
   "outputs": [
    {
     "name": "stdout",
     "output_type": "stream",
     "text": [
      "************************************************************************\n",
      "Age: 25\n",
      "Price: 19.99\n",
      "Grade: A\n",
      "First Name: Ahmad\n",
      "Is Student: True\n",
      "************************************************************************\n"
     ]
    }
   ],
   "source": [
    "#=========================================================#\n",
    "#                Python Variables\n",
    "#=========================================================#\n",
    "# Variables are containers for storing data values.\n",
    "\n",
    "# Creating Variables\n",
    "# In Python, there is no specific command to declare a variable.\n",
    "# A variable is created the moment you assign a value to it.\n",
    "\n",
    "# Example:\n",
    "# --------\n",
    "age = 25                                        # Integer: A variable that holds a whole number\n",
    "price = 19.99                                   # Float: A variable that holds a decimal number\n",
    "grade = 'A'                                     # Character: A single character stored as a string\n",
    "first_name = \"Ahmad\"                            # String: A sequence of characters\n",
    "is_student = True                               # Boolean: A variable that holds either True or False\n",
    "\n",
    "# Print the variables using the print() function\n",
    "print(\"*\"*72)\n",
    "\n",
    "print(\"Age:\", age)  \n",
    "print(\"Price:\", price)  \n",
    "print(\"Grade:\", grade)  \n",
    "print(\"First Name:\", first_name)  \n",
    "print(\"Is Student:\", is_student)  \n",
    "\n",
    "print(\"*\"*72)"
   ]
  },
  {
   "cell_type": "code",
   "execution_count": 16,
   "id": "a4f7c453-80e7-462d-ac73-8cfd7a6afe7c",
   "metadata": {},
   "outputs": [
    {
     "name": "stdout",
     "output_type": "stream",
     "text": [
      "Integer: 10\n",
      "Float: 10.5\n",
      "String: Hello, World!\n",
      "Boolean: True\n"
     ]
    }
   ],
   "source": [
    "# Variables in Python can store different types of data.\n",
    "\n",
    "integer_variable = 10                    # Integer: A whole number, positive or negative, without a decimal point\n",
    "float_variable   = 10.5                  # Float: A number that has a decimal point\n",
    "string_variable  = \"Hello, World!\"       # String: A sequence of characters enclosed in quotes (single or double)\n",
    "boolean_variable = True                  # Boolean: A logical value, either True or False\n",
    "\n",
    "# Output all the variables\n",
    "print(\"Integer:\", integer_variable)\n",
    "print(\"Float:\", float_variable)\n",
    "print(\"String:\", string_variable)\n",
    "print(\"Boolean:\", boolean_variable)\n",
    "\n",
    "# Note: Variables in Python do not require an explicit declaration of data types.\n",
    "#       The data type is automatically assigned based on the value provided."
   ]
  },
  {
   "cell_type": "code",
   "execution_count": null,
   "id": "353ff190-49a8-4f34-aa78-4f03412fb366",
   "metadata": {},
   "outputs": [],
   "source": [
    "# Checking the data type of variables using the `type()` function\n",
    "age = 25\n",
    "price = 19.99\n",
    "first_name = \"John\"\n",
    "is_available = False\n",
    "\n",
    "# Use the type() function to check the data types\n",
    "print(\"Data type of 'age':\", type(age))  \n",
    "print(\"Data type of 'price':\", type(price)) \n",
    "print(\"Data type of 'first_name':\", type(first_name))  \n",
    "print(\"Data type of 'is_available':\", type(is_available))  \n",
    "\n",
    "# Additional examples with type checking\n",
    "x = 5             # Integer\n",
    "y = \"John\"        # String\n",
    "z = 3.14          # Float\n",
    "w = True          # Boolean\n",
    "\n",
    "# Print the types of each variable\n",
    "print(\"\\nType of x (5):\", type(x))   \n",
    "print(\"Type of y ('John'):\", type(y))   \n",
    "print(\"Type of z (3.14):\", type(z))   \n",
    "print(\"Type of w (True):\", type(w))  "
   ]
  },
  {
   "cell_type": "code",
   "execution_count": 19,
   "id": "8299af5f-2300-40c8-9127-60e5f11dfc0e",
   "metadata": {},
   "outputs": [
    {
     "name": "stdout",
     "output_type": "stream",
     "text": [
      "Integer value: 10\n",
      "String value: Now I'm a string\n",
      "****************************************************************************************************\n",
      "Initial value and type: 10 <class 'int'>\n",
      "Updated value and type: 3.14 <class 'float'>\n",
      "Updated value and type: Python <class 'str'>\n",
      "Updated value and type: True <class 'bool'>\n",
      "****************************************************************************************************\n",
      "\n",
      "# Note:\n",
      " ======\n",
      "Python variables are dynamically typed, meaning their data type can change during execution.\n",
      "\n"
     ]
    }
   ],
   "source": [
    "# Reassigning Variables\n",
    "# ---------------------\n",
    "# In Python, variables do not need to be declared with a specific type.\n",
    "# You can change the value and even the data type of a variable at any point in the code.\n",
    "\n",
    "# Example 1: Changing variable values and types\n",
    "variable = 10                          # 'variable' is initially assigned an integer value\n",
    "print(\"Integer value:\", variable)      \n",
    "\n",
    "variable = \"Now I'm a string\"          # 'variable' is reassigned to a string value\n",
    "print(\"String value:\", variable)       \n",
    "\n",
    "print(\"*\"*100)\n",
    "# Example 2: Demonstrating Python's dynamic typing\n",
    "value = 10                                            # 'value' is of type int\n",
    "print(\"Initial value and type:\", value, type(value))  \n",
    "\n",
    "value = 3.14                                          # 'value' is now of type float\n",
    "print(\"Updated value and type:\", value, type(value))  \n",
    "\n",
    "value = \"Python\"                                      # 'value' is now of type str\n",
    "print(\"Updated value and type:\", value, type(value))  \n",
    "\n",
    "value = True                                          # 'value' is now of type bool\n",
    "print(\"Updated value and type:\", value, type(value))  \n",
    "print(\"*\"*100)\n",
    "\n",
    "note = \"\"\"\n",
    "# Note:\n",
    " ======\n",
    "Python variables are dynamically typed, meaning their data type can change during execution.\n",
    "\"\"\"\n",
    "print(note)"
   ]
  },
  {
   "cell_type": "code",
   "execution_count": 9,
   "id": "4f352211-ba9b-4113-abc7-c46e3c9cf184",
   "metadata": {},
   "outputs": [
    {
     "name": "stdout",
     "output_type": "stream",
     "text": [
      "Value of x: 3 | Type of x: <class 'str'>\n",
      "Value of y: 3 | Type of y: <class 'int'>\n",
      "Value of z: 3.0 | Type of z: <class 'float'>\n"
     ]
    }
   ],
   "source": [
    "# Casting in Python\n",
    "# -----------------\n",
    "# Casting is used to explicitly convert one data type into another.\n",
    "# This is particularly useful when you want to ensure a variable has a specific data type.\n",
    "\n",
    "# Example of Casting:\n",
    "# -------------------\n",
    "\n",
    "# Casting to a string\n",
    "x = str(3)                     # 'x' is explicitly converted to a string, so x will be '3'\n",
    "# Casting to an integer\n",
    "y = int(3)                     # 'y' is already an integer, but we explicitly cast it to ensure its type\n",
    "# Casting to a float\n",
    "z = float(3)                   # 'z' is converted to a float, resulting in 3.0\n",
    "\n",
    "# Output the values and their data types for clarity\n",
    "print(\"Value of x:\", x, \"| Type of x:\", type(x))  \n",
    "print(\"Value of y:\", y, \"| Type of y:\", type(y))  \n",
    "print(\"Value of z:\", z, \"| Type of z:\", type(z))  \n",
    "\n",
    "# Explanation:\n",
    "# ------------\n",
    "# - str(3) converts the integer 3 to a string '3'.\n",
    "# - int(3) keeps the value as an integer 3 (useful when converting from other types like float or string).\n",
    "# - float(3) converts the integer 3 to a floating-point number 3.0."
   ]
  },
  {
   "cell_type": "code",
   "execution_count": 20,
   "id": "7307b042-a14d-434e-b7f0-6465b3eb1223",
   "metadata": {},
   "outputs": [
    {
     "name": "stdout",
     "output_type": "stream",
     "text": [
      "John\n",
      "John\n",
      "\n",
      "Note:\n",
      "-----\n",
      "You might choose one over the other to avoid syntax errors when your string contains quotes.\n",
      "For example, if your string includes single quotes, use double quotes to enclose it, and vice versa.\n",
      "\n",
      "It's a beautiful day!\n",
      "He said, \"Hello there!\"\n"
     ]
    }
   ],
   "source": [
    "# Using Single or Double Quotes for Strings\n",
    "# -----------------------------------------\n",
    "# In Python, you can declare string variables using either single quotes (' ') or double quotes (\" \").\n",
    "# Both ways are valid and functionally equivalent, allowing flexibility based on your preference or\n",
    "# the need to include specific characters like quotes within the string.\n",
    "\n",
    "# Example of Declaring Strings:\n",
    "x = \"John\"                       # Using double quotes\n",
    "y = 'John'                       # Using single quotes\n",
    "\n",
    "# Both x and y hold the same string value\n",
    "print(x)  \n",
    "print(y)  \n",
    "\n",
    "note = \"\"\"\n",
    "Note:\n",
    "-----\n",
    "You might choose one over the other to avoid syntax errors when your string contains quotes.\n",
    "For example, if your string includes single quotes, use double quotes to enclose it, and vice versa.\n",
    "\"\"\"\n",
    "print(note)\n",
    "\n",
    "message = \"It's a beautiful day!\"  # Correct use of double quotes\n",
    "quote = 'He said, \"Hello there!\"'  # Correct use of single quotes\n",
    "\n",
    "print(message)\n",
    "print(quote)"
   ]
  },
  {
   "cell_type": "code",
   "execution_count": null,
   "id": "327697af-c613-4f2d-bfcb-ea11962bb0f2",
   "metadata": {},
   "outputs": [],
   "source": []
  }
 ],
 "metadata": {
  "kernelspec": {
   "display_name": "Python3.12",
   "language": "python",
   "name": "python3"
  },
  "language_info": {
   "codemirror_mode": {
    "name": "ipython",
    "version": 3
   },
   "file_extension": ".py",
   "mimetype": "text/x-python",
   "name": "python",
   "nbconvert_exporter": "python",
   "pygments_lexer": "ipython3",
   "version": "3.12.3"
  }
 },
 "nbformat": 4,
 "nbformat_minor": 5
}
