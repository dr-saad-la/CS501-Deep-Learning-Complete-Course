{
 "cells": [
  {
   "cell_type": "code",
   "execution_count": 1,
   "id": "857d6d61-703a-4b53-9f72-732d5459a8d9",
   "metadata": {},
   "outputs": [],
   "source": [
    "# ======================================================================= #\n",
    "# Course: Deep Learning Complete Course (CS-501)\n",
    "# Author: Dr. Saad Laouadi\n",
    "# Lesson: Set Comprehensions in Python\n",
    "#\n",
    "# Description: This program provides an overview of set comprehensions\n",
    "#              and demonstrates multiple use cases, including creating\n",
    "#              sets from lists, filtering unique elements, and performing\n",
    "#              mathematical operations efficiently.\n",
    "#\n",
    "# =======================================================================\n",
    "#.          Copyright © Dr. Saad Laouadi\n",
    "# ======================================================================="
   ]
  },
  {
   "cell_type": "code",
   "execution_count": 2,
   "id": "79395f1f-8b8a-4460-8fc7-177c4f4c0fac",
   "metadata": {},
   "outputs": [],
   "source": [
    "# 1. Basic Set Comprehension\n",
    "# --------------------------\n",
    "# Set comprehensions provide a concise way to create sets."
   ]
  },
  {
   "cell_type": "code",
   "execution_count": 3,
   "id": "23452e69-ad6d-4fbb-9739-21152b2eaa32",
   "metadata": {},
   "outputs": [
    {
     "name": "stdout",
     "output_type": "stream",
     "text": [
      "Set of Squares: {0, 1, 64, 4, 36, 9, 16, 49, 81, 25}\n",
      "\n"
     ]
    }
   ],
   "source": [
    "# Example: Creating a set of squares\n",
    "squares_set = {x**2 for x in range(10)}\n",
    "print(\"Set of Squares:\", squares_set)\n",
    "\n",
    "print()"
   ]
  },
  {
   "cell_type": "code",
   "execution_count": 4,
   "id": "eeb61144-5e4a-4ae3-b8bd-defa71dbbe78",
   "metadata": {},
   "outputs": [
    {
     "name": "stdout",
     "output_type": "stream",
     "text": [
      "Set of Even Numbers: {0, 2, 4, 6, 8, 10, 12, 14, 16, 18}\n",
      "\n"
     ]
    }
   ],
   "source": [
    "# 2. Set Comprehension with Conditional Logic\n",
    "# -------------------------------------------\n",
    "# Example: Creating a set of even numbers\n",
    "even_set = {x for x in range(20) if x % 2 == 0}\n",
    "print(\"Set of Even Numbers:\", even_set)\n",
    "\n",
    "print() "
   ]
  },
  {
   "cell_type": "code",
   "execution_count": 5,
   "id": "cbce42ae-40c9-4177-8636-7cd24f674053",
   "metadata": {},
   "outputs": [
    {
     "name": "stdout",
     "output_type": "stream",
     "text": [
      "Unique Numbers from List: {1, 2, 3, 4, 5}\n",
      "\n"
     ]
    }
   ],
   "source": [
    "# 3. Removing Duplicates from a List\n",
    "# ----------------------------------\n",
    "# Example: Using set comprehension to remove duplicates\n",
    "numbers_list = [1, 2, 2, 3, 4, 4, 5]\n",
    "unique_numbers = {num for num in numbers_list}\n",
    "print(\"Unique Numbers from List:\", unique_numbers)\n",
    "\n",
    "print()"
   ]
  },
  {
   "cell_type": "code",
   "execution_count": 6,
   "id": "6fe7322b-d57a-47a4-b9bd-715cd39c38e9",
   "metadata": {},
   "outputs": [
    {
     "name": "stdout",
     "output_type": "stream",
     "text": [
      "Unique Uppercase Letters: {'E', 'W', 'R', 'H', 'O', 'L', 'D'}\n",
      "\n"
     ]
    }
   ],
   "source": [
    "# 4. Set Comprehension with String Manipulation\n",
    "# ---------------------------------------------\n",
    "# Example: Extracting unique uppercase characters from a string\n",
    "input_string = \"Hello World\"\n",
    "unique_uppercase = {char.upper() for char in input_string if char.isalpha()}\n",
    "print(\"Unique Uppercase Letters:\", unique_uppercase)\n",
    "\n",
    "print()"
   ]
  },
  {
   "cell_type": "code",
   "execution_count": 7,
   "id": "9580120c-8d82-48ed-9de8-a54701930c1e",
   "metadata": {},
   "outputs": [
    {
     "name": "stdout",
     "output_type": "stream",
     "text": [
      "Set of Remainders when Dividing by 3: {0, 1, 2}\n",
      "\n"
     ]
    }
   ],
   "source": [
    "# 5. Set Comprehension with Mathematical Operations\n",
    "# -------------------------------------------------\n",
    "# Example: Creating a set of remainders when dividing by 3\n",
    "remainders_set = {x % 3 for x in range(10)}\n",
    "print(\"Set of Remainders when Dividing by 3:\", remainders_set)\n",
    "\n",
    "print()  "
   ]
  },
  {
   "cell_type": "code",
   "execution_count": 8,
   "id": "47816114-8100-4573-9f3d-f619133bcd2a",
   "metadata": {},
   "outputs": [
    {
     "name": "stdout",
     "output_type": "stream",
     "text": [
      "Filtered Set (Elements >= 5): {5, 6, 7, 8, 9}\n",
      "\n"
     ]
    }
   ],
   "source": [
    "# 6. Set Comprehension to Filter Elements\n",
    "# ---------------------------------------\n",
    "# Example: Filtering out elements less than 5\n",
    "filtered_set = {x for x in range(10) if x >= 5}\n",
    "print(\"Filtered Set (Elements >= 5):\", filtered_set)\n",
    "\n",
    "print()"
   ]
  },
  {
   "cell_type": "code",
   "execution_count": 9,
   "id": "435df081-d5eb-448b-84b0-c27ad9941e39",
   "metadata": {},
   "outputs": [
    {
     "name": "stdout",
     "output_type": "stream",
     "text": [
      "Combined Set from Two Lists: {1, 2, 3, 4, 5, 6}\n",
      "\n"
     ]
    }
   ],
   "source": [
    "# 7. Combining Multiple Sets\n",
    "# --------------------------\n",
    "# Example: Using set comprehension to create a set from multiple lists\n",
    "list_a = [1, 2, 3, 4]\n",
    "list_b = [3, 4, 5, 6]\n",
    "combined_set = {x for x in list_a + list_b}\n",
    "print(\"Combined Set from Two Lists:\", combined_set)\n",
    "\n",
    "print()"
   ]
  },
  {
   "cell_type": "code",
   "execution_count": 10,
   "id": "3e3c04aa-3e03-4dd1-9426-f28b3817b9fb",
   "metadata": {},
   "outputs": [
    {
     "name": "stdout",
     "output_type": "stream",
     "text": [
      "\n",
      "# Notes:\n",
      "# ------\n",
      "# - Set comprehensions are a concise and efficient way to create sets.\n",
      "# - They automatically remove duplicate values, which is useful for ensuring unique elements.\n",
      "# - Use conditional logic within comprehensions to filter elements as needed.\n",
      "\n",
      "# Practice:\n",
      "# ---------\n",
      "# - Try creating your own sets using different comprehensions.\n",
      "# - Experiment with filtering and transforming elements in various ways.\n",
      "\n"
     ]
    }
   ],
   "source": [
    "print(\"\"\"\n",
    "# Notes:\n",
    "# ------\n",
    "# - Set comprehensions are a concise and efficient way to create sets.\n",
    "# - They automatically remove duplicate values, which is useful for ensuring unique elements.\n",
    "# - Use conditional logic within comprehensions to filter elements as needed.\n",
    "\n",
    "# Practice:\n",
    "# ---------\n",
    "# - Try creating your own sets using different comprehensions.\n",
    "# - Experiment with filtering and transforming elements in various ways.\n",
    "\"\"\")"
   ]
  },
  {
   "cell_type": "code",
   "execution_count": null,
   "id": "d2f7d6af-e32d-4ae7-921b-1e928a6015b3",
   "metadata": {},
   "outputs": [],
   "source": []
  }
 ],
 "metadata": {
  "kernelspec": {
   "display_name": "Python@3.10",
   "language": "python",
   "name": "python3"
  },
  "language_info": {
   "codemirror_mode": {
    "name": "ipython",
    "version": 3
   },
   "file_extension": ".py",
   "mimetype": "text/x-python",
   "name": "python",
   "nbconvert_exporter": "python",
   "pygments_lexer": "ipython3",
   "version": "3.10.14"
  }
 },
 "nbformat": 4,
 "nbformat_minor": 5
}
