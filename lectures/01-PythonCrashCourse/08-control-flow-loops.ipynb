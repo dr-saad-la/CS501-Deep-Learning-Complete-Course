{
 "cells": [
  {
   "cell_type": "code",
   "execution_count": 1,
   "id": "9bdfa611-6db5-405f-9342-0bfa7b1258dd",
   "metadata": {},
   "outputs": [],
   "source": [
    "# =======================================================================\n",
    "# Course: Deep Learning Complete Course (CS-501)\n",
    "# Author: Dr. Saad Laouadi\n",
    "# Lesson: Loops in Python\n",
    "#\n",
    "# Description: This program introduces loops in Python, including the\n",
    "#              `for` loop and the `while` loop. It provides examples\n",
    "#              of how to use these loops to iterate over sequences or\n",
    "#              execute code repeatedly based on conditions.\n",
    "#\n",
    "# ======================================================================="
   ]
  },
  {
   "cell_type": "code",
   "execution_count": 1,
   "id": "65630eaa-2c3d-415b-90b7-88c56c7d07dd",
   "metadata": {
    "tags": []
   },
   "outputs": [],
   "source": [
    "# Loops in Python\n",
    "# ---------------\n",
    "\n",
    "# 1. `for` Loop\n",
    "# -------------\n",
    "# The `for` loop is used to iterate over a sequence (like a list, tuple, string, or range).\n",
    "# It is commonly used when the number of iterations is known."
   ]
  },
  {
   "cell_type": "code",
   "execution_count": 5,
   "id": "83026fe1-a2f8-44c8-b473-8b0b8f11378f",
   "metadata": {
    "tags": []
   },
   "outputs": [
    {
     "name": "stdout",
     "output_type": "stream",
     "text": [
      "apple\n",
      "banana\n",
      "cherry\n",
      "\n"
     ]
    }
   ],
   "source": [
    "# Example 1: Iterating over a list\n",
    "fruits = [\"apple\", \"banana\", \"cherry\"]   # Iterable (sequence of elements)\n",
    "\n",
    "for fruit in fruits:    # iterator\n",
    "    print(fruit)\n",
    "\n",
    "# Explanation:\n",
    "# - The `for` loop iterates over each item in the `fruits` list and prints it.\n",
    "\n",
    "print()  "
   ]
  },
  {
   "cell_type": "code",
   "execution_count": 3,
   "id": "487e5769-6961-4a50-b916-4777685ccc04",
   "metadata": {},
   "outputs": [
    {
     "name": "stdout",
     "output_type": "stream",
     "text": [
      "Variable   Type    Data/Info\n",
      "----------------------------\n",
      "elem       str     apple\n",
      "fruits     list    n=3\n"
     ]
    }
   ],
   "source": [
    "%whos"
   ]
  },
  {
   "cell_type": "code",
   "execution_count": 6,
   "id": "29a48279-d2f1-4fbc-a15f-c6612203143b",
   "metadata": {
    "tags": []
   },
   "outputs": [
    {
     "name": "stdout",
     "output_type": "stream",
     "text": [
      "0\n",
      "1\n",
      "2\n",
      "3\n",
      "4\n",
      "\n"
     ]
    }
   ],
   "source": [
    "# Example 2: Using `for` loop with `range()`\n",
    "for i in range(5):  # Iterates from 0 to 4\n",
    "    print(i)\n",
    "# Explanation:\n",
    "# - `range(5)` generates numbers from 0 to 4.\n",
    "# - The `for` loop iterates over these numbers and prints them.\n",
    "\n",
    "print()  "
   ]
  },
  {
   "cell_type": "code",
   "execution_count": 9,
   "id": "7e7d3765-4ba3-4eac-9442-000de89edd55",
   "metadata": {
    "tags": []
   },
   "outputs": [
    {
     "name": "stdout",
     "output_type": "stream",
     "text": [
      "P-y-t-h-o-n-\n"
     ]
    }
   ],
   "source": [
    "# Example 3: Iterating over a string\n",
    "word = \"Python\"\n",
    "for letter in word:\n",
    "    print(letter, end = \"-\")\n",
    "\n",
    "# Explanation:\n",
    "# - The `for` loop iterates over each character in the string `word` and prints it.\n",
    "\n",
    "print() "
   ]
  },
  {
   "cell_type": "code",
   "execution_count": 14,
   "id": "a5589f5c-7940-4f22-b0d5-cb0d8b958810",
   "metadata": {},
   "outputs": [],
   "source": [
    "# for i in 10:\n",
    "#     print(i)"
   ]
  },
  {
   "cell_type": "code",
   "execution_count": 13,
   "id": "6ace9682-5e30-4390-9feb-528110edf2d6",
   "metadata": {},
   "outputs": [],
   "source": [
    "# print(dir(list))"
   ]
  },
  {
   "cell_type": "code",
   "execution_count": 16,
   "id": "ebd61f2e-79ba-490f-9582-ea6b87caff65",
   "metadata": {
    "tags": []
   },
   "outputs": [
    {
     "name": "stdout",
     "output_type": "stream",
     "text": [
      "Count is: 0\n",
      "Count is: 1\n",
      "Count is: 2\n",
      "Count is: 3\n",
      "Count is: 4\n",
      "Count is: 5\n",
      "\n"
     ]
    }
   ],
   "source": [
    "# 2. `while` Loop\n",
    "# ---------------\n",
    "# The `while` loop repeats a block of code as long as the specified condition is `True`.\n",
    "# It is useful when the number of iterations is not known in advance.\n",
    "\n",
    "# Example: Using `while` loop\n",
    "count = 0\n",
    "while count <= 5:\n",
    "    print(\"Count is:\", count)\n",
    "    count += 1                # Increment the count to avoid an infinite loop\n",
    "\n",
    "# Explanation:\n",
    "# - The `while` loop continues to execute until `count` is no longer less than 5.\n",
    "# - The `count` variable is incremented in each iteration to ensure the loop terminates.\n",
    "\n",
    "print()"
   ]
  },
  {
   "cell_type": "code",
   "execution_count": 17,
   "id": "f4f43bb7-cae0-4ec2-929a-93b0232dba89",
   "metadata": {
    "tags": []
   },
   "outputs": [
    {
     "name": "stdout",
     "output_type": "stream",
     "text": [
      "0\n",
      "1\n",
      "2\n",
      "3\n",
      "4\n",
      "\n"
     ]
    }
   ],
   "source": [
    "# 3. Using `break` and `continue` Statements\n",
    "# -------------------------------------------\n",
    "# - `break`: Terminates the loop and exits.\n",
    "# - `continue`: Skips the current iteration and continues with the next one.\n",
    "\n",
    "# Example: Using `break` to exit a loop\n",
    "for number in range(10):\n",
    "    if number == 5:\n",
    "        break  # Exit the loop when number is 5\n",
    "    print(number)\n",
    "\n",
    "print() "
   ]
  },
  {
   "cell_type": "code",
   "execution_count": 19,
   "id": "36e5fa20-7f11-41f5-9f23-4cc4738a55c8",
   "metadata": {
    "tags": []
   },
   "outputs": [
    {
     "name": "stdout",
     "output_type": "stream",
     "text": [
      "0\n",
      "2\n",
      "4\n",
      "6\n",
      "8\n"
     ]
    }
   ],
   "source": [
    "# Example: Using `continue` to skip an iteration\n",
    "for number in range(10):\n",
    "    if number % 2 == 0: \n",
    "        continue  # Skip even numbers\n",
    "    print(number)"
   ]
  },
  {
   "cell_type": "code",
   "execution_count": 8,
   "id": "a2cc3714-b3c5-41bc-a977-1de37291b588",
   "metadata": {
    "jupyter": {
     "source_hidden": true
    },
    "tags": []
   },
   "outputs": [
    {
     "name": "stdout",
     "output_type": "stream",
     "text": [
      "\n",
      "# Notes:\n",
      "# ------\n",
      "# - **`for` Loop**: Ideal for iterating over a sequence or a predefined range of values.\n",
      "# - **`while` Loop**: Suitable when the loop must run until a specific condition is no longer met.\n",
      "# - **`break`**: Use to exit a loop prematurely.\n",
      "# - **`continue`**: Use to skip to the next iteration of the loop.\n",
      "\n",
      "# Practice:\n",
      "# ---------\n",
      "# Try modifying the examples and experimenting with different conditions and sequences.\n",
      "\n"
     ]
    }
   ],
   "source": [
    "print(\"\"\"\n",
    "# Notes:\n",
    "# ------\n",
    "# - **`for` Loop**: Ideal for iterating over a sequence or a predefined range of values.\n",
    "# - **`while` Loop**: Suitable when the loop must run until a specific condition is no longer met.\n",
    "# - **`break`**: Use to exit a loop prematurely.\n",
    "# - **`continue`**: Use to skip to the next iteration of the loop.\n",
    "\n",
    "# Practice:\n",
    "# ---------\n",
    "# Try modifying the examples and experimenting with different conditions and sequences.\n",
    "\"\"\")"
   ]
  },
  {
   "cell_type": "code",
   "execution_count": null,
   "id": "f04f636c-955a-41fa-b5a9-e1dbc0ebf4b8",
   "metadata": {},
   "outputs": [],
   "source": []
  }
 ],
 "metadata": {
  "kernelspec": {
   "display_name": "Python@3.10",
   "language": "python",
   "name": "python3"
  },
  "language_info": {
   "codemirror_mode": {
    "name": "ipython",
    "version": 3
   },
   "file_extension": ".py",
   "mimetype": "text/x-python",
   "name": "python",
   "nbconvert_exporter": "python",
   "pygments_lexer": "ipython3",
   "version": "3.10.14"
  }
 },
 "nbformat": 4,
 "nbformat_minor": 5
}
