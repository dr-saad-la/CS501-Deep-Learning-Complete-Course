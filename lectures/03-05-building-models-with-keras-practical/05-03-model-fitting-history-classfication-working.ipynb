{
 "cells": [
  {
   "cell_type": "markdown",
   "id": "297156c1-7deb-4c1d-b601-7a156476a408",
   "metadata": {},
   "source": [
    "<div style=\"text-align:center;font-size:22pt; font-weight:bold;color:white;border:solid black 1.5pt;background-color:#1e7263;\">\n",
    "    Understanding Model History Object: Classification Task\n",
    "</div>"
   ]
  },
  {
   "cell_type": "code",
   "execution_count": null,
   "id": "131fa24a-96cf-4cc5-a2a7-945b355942c7",
   "metadata": {},
   "outputs": [],
   "source": [
    "# ======================================================================= #\n",
    "# Course: Deep Learning Complete Course (CS-501)\n",
    "# Author: Dr. Saad Laouadi\n",
    "# Institution: Quant Coding Versity Academy\n",
    "# Date: December 25, 2024\n",
    "#\n",
    "# ==========================================================\n",
    "# Lesson: Understanding Model History Object in Keras\n",
    "#         Analyzing and Visualizing Training Progress\n",
    "# ==========================================================\n",
    "# ## Learning Objectives\n",
    "# This guide will enable you to:\n",
    "# 1. Access and interpret the model.fit() history object\n",
    "# 2. Extract and analyze training metrics over epochs\n",
    "# 3. Visualize training and validation metrics\n",
    "# 4. Identify optimal training epochs and model performance\n",
    "# 5. Detect overfitting through history analysis\n",
    "# =======================================================================\n",
    "#          Copyright © Dr. Saad Laouadi 2024\n",
    "# ======================================================================="
   ]
  },
  {
   "cell_type": "code",
   "execution_count": null,
   "id": "c26ca844-8301-46b7-89da-e2dca2248ec4",
   "metadata": {
    "tags": []
   },
   "outputs": [],
   "source": [
    "# ==================================================== #\n",
    "#        Load Required Libraries\n",
    "# ==================================================== #\n",
    "\n",
    "import os  \n",
    "import json\n",
    "\n",
    "# Disable Metal API Validation\n",
    "os.environ[\"METAL_DEVICE_WRAPPER_TYPE\"] = \"0\"  \n",
    "\n",
    "\n",
    "# Load the following libraries\n",
    "# numpy, pandas, matplotlib, seaborn\n",
    " \n",
    "\n",
    "\n",
    "\n",
    "# from sklearn load the next modules\n",
    "# from datasets --> load_breast_cancer\n",
    "#               -->  train_test_split\n",
    "#               --> StandardScaler\n",
    "# Load the next metrix confusion_matrix,\n",
    "#                              classification_report,\n",
    "#                              roc_curve,\n",
    "#                              auc,\n",
    "#                              precision_recall_curve\n",
    "#                             \n",
    "\n",
    "# import tensorflow\n",
    "import tensorflow as tf\n",
    "\n",
    "# Set styling for better visualization\n",
    "plt.style.use('seaborn-v0_8')\n",
    "sns.set_palette(\"husl\")\n",
    "\n",
    "print(\"=\"*72)\n",
    "\n",
    "%reload_ext watermark\n",
    "%watermark -a \"Dr. Saad Laouadi\" -u -d -m\n",
    "\n",
    "print(\"=\"*72)\n",
    "print(\"Imported Packages and Their Versions:\")\n",
    "print(\"=\"*72)\n",
    "\n",
    "%watermark -iv\n",
    "print(\"=\"*72)\n",
    "\n",
    "# Global Config\n",
    "SAVE = False"
   ]
  },
  {
   "cell_type": "code",
   "execution_count": 1,
   "id": "7f6d5a10-c4fe-477c-a5e3-cbacdedd078c",
   "metadata": {
    "tags": []
   },
   "outputs": [],
   "source": [
    "# ==================================================== #\n",
    "#        Load and Explore the data\n",
    "# ==================================================== #\n",
    "# Load Breast Cancer dataset from sklearn\n",
    "\n",
    "# Create X dataframe from the loaded data\n",
    "\n",
    "# Create y target\n",
    "\n",
    "# Perform quick look at the data\n",
    "# Check the shape\n",
    "# Get the statistics of the features\n",
    "\n"
   ]
  },
  {
   "cell_type": "code",
   "execution_count": null,
   "id": "fb30eb4e-40f0-481f-a8b6-f97cec9324d3",
   "metadata": {
    "tags": []
   },
   "outputs": [],
   "source": [
    "# ==================================================== #\n",
    "#        Prepare the data for model\n",
    "# ==================================================== #\n",
    "# Split the data\n",
    "\n"
   ]
  },
  {
   "cell_type": "code",
   "execution_count": null,
   "id": "36ae1b3e-d13b-4802-8d91-ab320346e0e5",
   "metadata": {
    "tags": []
   },
   "outputs": [],
   "source": [
    "# Scale the features\n",
    "\n"
   ]
  },
  {
   "cell_type": "code",
   "execution_count": null,
   "id": "32d40fd3-0af8-435a-bde9-f2420cd07d9a",
   "metadata": {
    "tags": []
   },
   "outputs": [],
   "source": [
    "# ==================================================== #\n",
    "#        Model Definition and Compilation\n",
    "# ==================================================== #\n",
    "# Define a simple model with two hidden layers, the first with \n",
    "# 64 nodes and the second with 32\n",
    "# add output layer\n",
    "\n",
    "\n",
    "\n",
    "\n",
    "# Compile with `adam` and use multiple metrics: 'accuracy', 'Precision', 'Recall', 'AUC'\n",
    "\n"
   ]
  },
  {
   "cell_type": "code",
   "execution_count": null,
   "id": "50e43a93-ac38-4bbe-ade6-7b65d27fc962",
   "metadata": {
    "tags": []
   },
   "outputs": [],
   "source": [
    "# ==================================================== #\n",
    "#        Model Training with History\n",
    "# ==================================================== #\n",
    "# Train the model and store history\n",
    "# use 50 epochs and validation split of 0.2\n",
    "\n",
    "\n"
   ]
  },
  {
   "cell_type": "code",
   "execution_count": null,
   "id": "ec5eabf2-d86b-49bd-9099-4be115894a2b",
   "metadata": {},
   "outputs": [],
   "source": [
    "# ==================================================== #\n",
    "#        Detailed History Object Analysis\n",
    "# ==================================================== #\n",
    "\n",
    "# Understanding the basic structure\n",
    "# Print the type of the history object\n",
    "\n",
    "\n",
    "# List history methods and attributes (properties)\n"
   ]
  },
  {
   "cell_type": "code",
   "execution_count": 2,
   "id": "9f60afcf-41b2-4d05-9dd5-9f0e618c58be",
   "metadata": {},
   "outputs": [],
   "source": [
    "# Get available metrics\n"
   ]
  },
  {
   "cell_type": "code",
   "execution_count": null,
   "id": "7e6d78c5-9328-4579-87fc-f83f5c0d59be",
   "metadata": {},
   "outputs": [],
   "source": [
    "# ==================================================== #\n",
    "#        Analysis of Training History\n",
    "# ==================================================== #\n",
    "# Convert history to DataFrame and print the head of it\n",
    "\n"
   ]
  },
  {
   "cell_type": "code",
   "execution_count": null,
   "id": "3919dfd5-e0e0-4653-9ea1-ed218bd50dc4",
   "metadata": {},
   "outputs": [],
   "source": [
    "# print the epochs\n"
   ]
  },
  {
   "cell_type": "code",
   "execution_count": null,
   "id": "8fe9337a-8d10-4b78-9dd7-9c0462d896bb",
   "metadata": {},
   "outputs": [],
   "source": [
    "# Add epoch numbers to the dataframe\n",
    "\n"
   ]
  },
  {
   "cell_type": "code",
   "execution_count": null,
   "id": "a0896d23-2376-419f-bac4-8eebd7b1d168",
   "metadata": {},
   "outputs": [],
   "source": [
    "# Find best epochs for different metrics\n",
    "best_acc_epoch = history_df['val_accuracy'].idxmax() + 1\n",
    "best_loss_epoch = history_df['val_loss'].idxmin() + 1\n",
    "\n",
    "print(\"\\nBest Performance:\")\n",
    "print(f\"Best validation accuracy at epoch {best_acc_epoch}\")\n",
    "print(f\"Best validation loss at epoch {best_loss_epoch}\")"
   ]
  },
  {
   "cell_type": "code",
   "execution_count": null,
   "id": "ef801d7f-6505-4505-aef2-b69ac6f1addb",
   "metadata": {},
   "outputs": [],
   "source": [
    "# ==================================================== #\n",
    "#        Advanced Metrics Visualization\n",
    "# ==================================================== #\n",
    "# Create subplots for all metrics\n",
    "metrics = ['loss', 'accuracy', 'Precision', 'Recall', 'AUC']\n",
    "n_metrics = len(metrics)\n",
    "fig, axes = plt.subplots(2, 3, figsize=(15, 10))\n",
    "axes = axes.ravel()\n",
    "\n",
    "for idx, metric in enumerate(metrics):\n",
    "    ax = axes[idx]\n",
    "    ax.plot(history_df['epoch'], history_df[metric], \n",
    "            label=f'Training {metric}', linewidth=2)\n",
    "    ax.plot(history_df['epoch'], history_df[f'val_{metric}'], \n",
    "            label=f'Validation {metric}', linewidth=2)\n",
    "    ax.set_title(f'Model {metric.capitalize()} over Time')\n",
    "    ax.set_xlabel('Epoch')\n",
    "    ax.set_ylabel(metric.capitalize())\n",
    "    ax.legend()\n",
    "    \n",
    "    # Mark best epoch\n",
    "    if metric == 'loss':\n",
    "        best_epoch = history_df[f'val_{metric}'].idxmin() + 1\n",
    "        best_value = history_df[f'val_{metric}'].min()\n",
    "    else:\n",
    "        best_epoch = history_df[f'val_{metric}'].idxmax() + 1\n",
    "        best_value = history_df[f'val_{metric}'].max()\n",
    "        \n",
    "    ax.axvline(x=best_epoch, color='r', linestyle='--', alpha=0.3)\n",
    "    ax.plot(best_epoch, best_value, 'ro')\n",
    "    ax.text(best_epoch, best_value, f'Best: {best_value:.3f}',\n",
    "            horizontalalignment='right', verticalalignment='bottom')\n",
    "\n",
    "plt.tight_layout()\n",
    "plt.show()"
   ]
  },
  {
   "cell_type": "code",
   "execution_count": null,
   "id": "c4363afa-80ab-4495-ae65-e05fa271a1fc",
   "metadata": {},
   "outputs": [],
   "source": [
    "# ==================================================== #\n",
    "#        Training-Validation Gap Analysis\n",
    "# ==================================================== #\n",
    "# Calculate gaps between training and validation\n",
    "for metric in metrics:\n",
    "    history_df[f'{metric}_gap'] = (history_df[metric] - \n",
    "                                  history_df[f'val_{metric}']).abs()\n",
    "    \n",
    "plt.figure(figsize=(12, 6))\n",
    "for metric in metrics:\n",
    "    plt.plot(history_df['epoch'], history_df[f'{metric}_gap'], \n",
    "             label=f'{metric} gap')\n",
    "plt.title('Training-Validation Gaps Over Time')\n",
    "plt.xlabel('Epoch')\n",
    "plt.ylabel('Absolute Gap')\n",
    "plt.legend()\n",
    "plt.grid(True)\n",
    "plt.show()"
   ]
  },
  {
   "cell_type": "code",
   "execution_count": null,
   "id": "96947820-63cd-434c-a970-966dc27f898f",
   "metadata": {},
   "outputs": [],
   "source": [
    "# ==================================================== #\n",
    "#        Learning Rate Analysis\n",
    "# ==================================================== #\n",
    "# Plot loss vs learning rate\n",
    "plt.figure(figsize=(10, 6))\n",
    "plt.plot(history_df['loss'].diff(), label='Loss change')\n",
    "plt.plot(history_df['val_loss'].diff(), label='Val loss change')\n",
    "plt.title('Rate of Loss Change')\n",
    "plt.xlabel('Epoch')\n",
    "plt.ylabel('Loss Difference')\n",
    "plt.legend()\n",
    "plt.grid(True)\n",
    "plt.show()"
   ]
  },
  {
   "cell_type": "code",
   "execution_count": null,
   "id": "aaf17d0a-3590-43de-984c-8af33bc45769",
   "metadata": {},
   "outputs": [],
   "source": [
    "# ==================================================== #\n",
    "#        Export Training History\n",
    "# ==================================================== #\n",
    "# Save history to CSV for further analysis\n",
    "history_df.to_csv('training_history.csv', index=False)\n",
    "\n",
    "# Create training summary\n",
    "training_summary = {\n",
    "    'total_epochs': len(history_df),\n",
    "    'best_val_accuracy': history_df['val_accuracy'].max(),\n",
    "    'best_val_loss': history_df['val_loss'].min(),\n",
    "    'final_val_accuracy': history_df['val_accuracy'].iloc[-1],\n",
    "    'final_val_loss': history_df['val_loss'].iloc[-1],\n",
    "    'best_accuracy_epoch': best_acc_epoch,\n",
    "    'best_loss_epoch': best_loss_epoch\n",
    "}\n",
    "\n",
    "print(\"\\nTraining Summary:\")\n",
    "for metric, value in training_summary.items():\n",
    "    print(f\"{metric}: {value}\")"
   ]
  },
  {
   "cell_type": "code",
   "execution_count": null,
   "id": "468f67d3-594f-42e5-8f49-480ce4a5d0f1",
   "metadata": {
    "tags": []
   },
   "outputs": [],
   "source": [
    "# ============================================================== #\n",
    "#          Advanced Analysis of History Object\n",
    "# ============================================================== #\n",
    "\n",
    "\n",
    "# ==================================================== #\n",
    "#        Epoch Information\n",
    "# ==================================================== #\n",
    "# Number of epochs trained\n",
    "print(\"\\nNumber of epochs trained:\", len(history.epoch))\n",
    "print(\"Epoch numbers:\", history.epoch)  # 0-based indexing"
   ]
  },
  {
   "cell_type": "code",
   "execution_count": null,
   "id": "5905b5e6-d37f-4142-96d7-71014c52a7ac",
   "metadata": {
    "tags": []
   },
   "outputs": [],
   "source": [
    "# ==================================================== #\n",
    "#        Model Configuration\n",
    "# ==================================================== #\n",
    "# Access model configuration from history\n",
    "print(\"\\nModel Configuration:\")\n",
    "print(\"Model used:\", history.model)\n",
    "print(\"\\nModel Parameters:\", history.model.count_params())\n",
    "print(\"\\nModel Architecture:\")\n",
    "history.model.summary()"
   ]
  },
  {
   "cell_type": "code",
   "execution_count": null,
   "id": "3c64c685-5600-4923-9b75-08d19213115c",
   "metadata": {
    "tags": []
   },
   "outputs": [],
   "source": [
    "# ==================================================== #\n",
    "#        Training Params\n",
    "# ==================================================== #\n",
    "# Extract training parameters\n",
    "print(\"\\nTraining Parameters:\", history.params.keys())\n",
    "print()\n",
    "print(\"Batch Size:\", history.params.get('batch_size'))\n",
    "print(\"Number of Epochs:\", history.params.get('epochs'))\n",
    "print(\"Steps per Epoch:\", history.params.get('steps'))\n",
    "print(\"Samples:\", history.params.get('samples'))\n",
    "print(\"Validation Steps:\", history.params.get('validation_steps'))"
   ]
  },
  {
   "cell_type": "code",
   "execution_count": null,
   "id": "a2181343-3e65-4c4f-9543-a2bbdd8ad70b",
   "metadata": {
    "tags": []
   },
   "outputs": [],
   "source": [
    "# ==================================================== #\n",
    "#        Metric Trends Analysis\n",
    "# ==================================================== #\n",
    "# Calculate trend statistics\n",
    "for metric in history.history.keys():\n",
    "    if 'val' not in metric:               # Only for training metrics\n",
    "        values = history.history[metric]\n",
    "        print(f\"\\n{metric.capitalize()} Trends:\")\n",
    "        print(f\"\\t{'Starting value:':<20} {values[0]:.4f}\")\n",
    "        print(f\"\\t{'Ending value:':<20} {values[-1]:.4f}\")\n",
    "        print(f\"\\t{'Improvement:':<20} {values[-1] - values[0]:.4f}\")\n",
    "        print(f\"\\t{'Best value:':<20} {max(values):.4f}\")\n",
    "        print(f\"\\t{'Worst value:':<20} {min(values):.4f}\")"
   ]
  },
  {
   "cell_type": "code",
   "execution_count": null,
   "id": "caf09fd6-6cbe-46e6-9a92-affdb77778c4",
   "metadata": {
    "tags": []
   },
   "outputs": [],
   "source": [
    "# ==================================================== #\n",
    "#        Learning Rate Tracking\n",
    "# ==================================================== #\n",
    "# If learning rate was tracked\n",
    "if 'lr' in history.history:\n",
    "    plt.figure(figsize=(10, 5))\n",
    "    plt.plot(history.history['lr'])\n",
    "    plt.title('Learning Rate over Time')\n",
    "    plt.xlabel('Epoch')\n",
    "    plt.ylabel('Learning Rate')\n",
    "    plt.grid(True)\n",
    "    plt.show()"
   ]
  },
  {
   "cell_type": "code",
   "execution_count": null,
   "id": "f6efb6f5-b878-493a-a118-12e5112ac449",
   "metadata": {
    "tags": []
   },
   "outputs": [],
   "source": [
    "# ==================================================== #\n",
    "#        Stop Reason Analysis\n",
    "# ==================================================== #\n",
    "# If early stopping was used\n",
    "if hasattr(history, 'stop_training'):\n",
    "    print(\"\\nEarly Stopping Information:\")\n",
    "    print(\"Training stopped early:\", history.stop_training)"
   ]
  },
  {
   "cell_type": "code",
   "execution_count": null,
   "id": "b9d52aaa-336a-471e-9137-f0b71bfe014f",
   "metadata": {
    "tags": []
   },
   "outputs": [],
   "source": [
    "# ==================================================== #\n",
    "#        Custom Metrics Storage\n",
    "# ==================================================== #\n",
    "# Store specific metrics for later use\n",
    "best_performance = {\n",
    "    'best_accuracy': max(history.history['accuracy']),\n",
    "    'best_val_accuracy': max(history.history['val_accuracy']),\n",
    "    'best_loss': min(history.history['loss']),\n",
    "    'best_val_loss': min(history.history['val_loss']),\n",
    "    'final_accuracy': history.history['accuracy'][-1],\n",
    "    'final_val_accuracy': history.history['val_accuracy'][-1]\n",
    "}"
   ]
  },
  {
   "cell_type": "code",
   "execution_count": null,
   "id": "d2b07849-f980-4de4-afe5-a333a69f9500",
   "metadata": {
    "tags": []
   },
   "outputs": [],
   "source": [
    "# Save to file\n",
    "if SAVE:\n",
    "    with open('training_metrics.json', 'w') as f:\n",
    "        json.dump(best_performance, f, indent=4)"
   ]
  },
  {
   "cell_type": "code",
   "execution_count": null,
   "id": "005b6880-3c4d-49cf-b829-ef48a60844ee",
   "metadata": {
    "tags": []
   },
   "outputs": [],
   "source": [
    "# ==================================================== #\n",
    "#        Convergence Analysis\n",
    "# ==================================================== #\n",
    "# Check if model converged\n",
    "def check_convergence(history, threshold=0.001):\n",
    "    \"\"\"Check if training has converged based on loss improvement\"\"\"\n",
    "    losses = history.history['loss']\n",
    "    if len(losses) < 5:  # Need at least 5 epochs to check\n",
    "        return False\n",
    "    \n",
    "    # Check last 5 epochs for improvement\n",
    "    recent_improvement = abs(losses[-1] - losses[-5])\n",
    "    return recent_improvement < threshold\n",
    "\n",
    "converged = check_convergence(history)\n",
    "print(\"\\nConvergence Analysis:\")\n",
    "print(f\"Model converged: {converged}\")"
   ]
  },
  {
   "cell_type": "code",
   "execution_count": null,
   "id": "5fc4de6e-a104-4fa4-b8d7-cb44cebbb94f",
   "metadata": {},
   "outputs": [],
   "source": []
  }
 ],
 "metadata": {
  "kernelspec": {
   "display_name": "TF-GPU:2.16",
   "language": "python",
   "name": "tf-gpu"
  },
  "language_info": {
   "codemirror_mode": {
    "name": "ipython",
    "version": 3
   },
   "file_extension": ".py",
   "mimetype": "text/x-python",
   "name": "python",
   "nbconvert_exporter": "python",
   "pygments_lexer": "ipython3",
   "version": "3.11.10"
  }
 },
 "nbformat": 4,
 "nbformat_minor": 5
}
