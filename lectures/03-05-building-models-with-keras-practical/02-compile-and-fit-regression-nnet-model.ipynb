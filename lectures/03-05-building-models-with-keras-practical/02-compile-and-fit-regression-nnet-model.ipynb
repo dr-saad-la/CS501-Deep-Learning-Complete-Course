{
 "cells": [
  {
   "cell_type": "markdown",
   "id": "705e576a-0aff-4990-815d-51c560554d47",
   "metadata": {},
   "source": [
    "<div style=\"text-align:center;font-size:22pt; font-weight:bold;color:white;border:solid black 1.5pt;background-color:#1e7263;\">\n",
    "    Compiling and Fitting Neural Network Regression Model\n",
    "</div>"
   ]
  },
  {
   "cell_type": "code",
   "execution_count": 1,
   "id": "236698d3-f2a1-4c33-932f-20160545d146",
   "metadata": {
    "tags": []
   },
   "outputs": [],
   "source": [
    "# ======================================================================= #\n",
    "# Course: Deep Learning Complete Course (CS-501)\n",
    "# Author: Dr. Saad Laouadi\n",
    "# \n",
    "#\n",
    "# ==========================================================\n",
    "# Lesson: Model Specification for Neural Network with Keras \n",
    "#         API Implementation\n",
    "# ==========================================================\n",
    "# ## Learning Objectives\n",
    "# This guide will enable you to:\n",
    "# 1. Compile a nnet model\n",
    "# 2. fit regression model\n",
    "# 3. understand the fitting output\n",
    "# =======================================================================\n",
    "#.          Copyright © Dr. Saad Laouadi 2024\n",
    "# ======================================================================="
   ]
  },
  {
   "cell_type": "code",
   "execution_count": 2,
   "id": "db57ed38-1f44-448f-9bcf-c9edd08a64a8",
   "metadata": {
    "tags": []
   },
   "outputs": [
    {
     "name": "stdout",
     "output_type": "stream",
     "text": [
      "========================================================================\n",
      "Author: Dr. Saad Laouadi\n",
      "\n",
      "Last updated: 2024-12-07\n",
      "\n",
      "Compiler    : Clang 14.0.6 \n",
      "OS          : Darwin\n",
      "Release     : 24.1.0\n",
      "Machine     : arm64\n",
      "Processor   : arm\n",
      "CPU cores   : 16\n",
      "Architecture: 64bit\n",
      "\n",
      "========================================================================\n",
      "Imported Packages and Their Versions:\n",
      "========================================================================\n",
      "matplotlib: 3.9.2\n",
      "pandas    : 2.2.2\n",
      "keras     : 3.6.0\n",
      "numpy     : 1.26.4\n",
      "\n",
      "========================================================================\n"
     ]
    }
   ],
   "source": [
    "# 1. Environment Setup\n",
    "# ------------------\n",
    "import os  \n",
    "from pathlib import Path\n",
    "from pprint import pprint                     # This will be used for printing dicts in a nicer format\n",
    "# Disable Metal API Validation\n",
    "os.environ[\"METAL_DEVICE_WRAPPER_TYPE\"] = \"0\"   # if you have GPU\n",
    "\n",
    "# Import necessary modules\n",
    "\n",
    "import numpy as np\n",
    "import pandas as pd\n",
    "import matplotlib.pyplot as plt\n",
    "\n",
    "# from layers import the Input and Dense\n",
    "from tensorflow.keras.layers import Input, Dense\n",
    "\n",
    "# Import the Sequential Model\n",
    "from tensorflow.keras.models import Sequential\n",
    "\n",
    "print(\"=\"*72)\n",
    "\n",
    "%reload_ext watermark\n",
    "%watermark -a \"Dr. Saad Laouadi\" -u -d -m\n",
    "\n",
    "print(\"=\"*72)\n",
    "print(\"Imported Packages and Their Versions:\")\n",
    "print(\"=\"*72)\n",
    "\n",
    "%watermark -iv\n",
    "print(\"=\"*72)\n",
    "\n",
    "# Configuration\n",
    "DATA_PATH = Path(\"../../datasets/regression/wages.csv\").resolve()"
   ]
  },
  {
   "cell_type": "markdown",
   "id": "4dafc586-5344-45a2-bea9-fa2f175a651d",
   "metadata": {},
   "source": [
    "## Objectives\n",
    "\n",
    "1. Import necessary tools\n",
    "2. Read data\n",
    "3. build Neural Network model architecture\n",
    "   - Set the input\n",
    "   - Set the hidden layers\n",
    "   - set the output layer\n",
    "   - Understand the model componens\n",
    "4. Compile the model\n",
    "    - Choose the optimizer\n",
    "    - Choose the loss function\n",
    "5. Fit the model\n",
    "    - Train the model using the data\n",
    "    - Understand the output"
   ]
  },
  {
   "cell_type": "code",
   "execution_count": 3,
   "id": "d39ec7f3-f204-4ec3-8e56-92427b2013b6",
   "metadata": {
    "tags": []
   },
   "outputs": [
    {
     "name": "stdout",
     "output_type": "stream",
     "text": [
      "<class 'pandas.core.frame.DataFrame'>\n",
      "RangeIndex: 534 entries, 0 to 533\n",
      "Data columns (total 10 columns):\n",
      " #   Column          Non-Null Count  Dtype  \n",
      "---  ------          --------------  -----  \n",
      " 0   wage_per_hour   534 non-null    float64\n",
      " 1   union           534 non-null    int64  \n",
      " 2   education_yrs   534 non-null    int64  \n",
      " 3   experience_yrs  534 non-null    int64  \n",
      " 4   age             534 non-null    int64  \n",
      " 5   female          534 non-null    int64  \n",
      " 6   marr            534 non-null    int64  \n",
      " 7   south           534 non-null    int64  \n",
      " 8   manufacturing   534 non-null    int64  \n",
      " 9   construction    534 non-null    int64  \n",
      "dtypes: float64(1), int64(9)\n",
      "memory usage: 41.8 KB\n"
     ]
    }
   ],
   "source": [
    "# Read the data using pandas \n",
    "data = pd.read_csv(DATA_PATH)\n",
    "\n",
    "# Check the Data Info\n",
    "data.info()"
   ]
  },
  {
   "cell_type": "code",
   "execution_count": null,
   "id": "0bde0f0b-5ab1-4e10-8a42-bcfb5edfb9b6",
   "metadata": {},
   "outputs": [],
   "source": []
  },
  {
   "cell_type": "code",
   "execution_count": 4,
   "id": "14217618-6bcc-4edf-affd-d7022a4bbe1e",
   "metadata": {
    "tags": []
   },
   "outputs": [],
   "source": [
    "# Create a function that sets up the model architecture\n",
    "def create_wage_model(n_features: int) -> Sequential:\n",
    "    \"\"\"\n",
    "    Create a sequential model for wage prediction.\n",
    "\n",
    "    Parameters\n",
    "    ----------\n",
    "    n_features : int\n",
    "        The number of features in the input data.\n",
    "\n",
    "    Returns\n",
    "    -------\n",
    "    model : Sequential\n",
    "        The compiled Sequential model.\n",
    "    \"\"\"\n",
    "    # Instantiate the sequential model\n",
    "    model = Sequential(name=\"WageModel\")\n",
    "    \n",
    "    # Add the input layer\n",
    "    model.add(Input(shape=(n_features, )))\n",
    "    \n",
    "    # Add a fully connected layer with 64 hidden nodes and relu activation function\n",
    "    model.add(Dense(units=64, activation=\"relu\"))\n",
    "    \n",
    "    # Add the second layer with 32 nodes\n",
    "    model.add(Dense(units=32, activation=\"relu\"))\n",
    "    \n",
    "    # Add the output layer\n",
    "    model.add(Dense(units=1))\n",
    "    \n",
    "    # Return the model\n",
    "    return model"
   ]
  },
  {
   "cell_type": "markdown",
   "id": "387d640b-66e3-405d-a6ef-38a448a874c6",
   "metadata": {},
   "source": [
    "## Compiling the model\n",
    "\n",
    "- Now it is time to compile the specified model. To compile the model we need to Specify:\n",
    "    1. The optimizer\n",
    "    2. The loss function to use. \n",
    "    \n",
    "> **Note**\n",
    ">> Adam optimizer is an excellent choice to start with.\n",
    ">> You can read more about it as well as other Keras optimizers [here](https://keras.io/api/optimizers/)\n",
    ">> You can read the [original paper](https://arxiv.org/abs/1412.6980v8) that introduced the Adam optimizer."
   ]
  },
  {
   "cell_type": "code",
   "execution_count": 5,
   "id": "09a7a591-9a35-4a7f-9a2e-1392829f6bbd",
   "metadata": {
    "tags": []
   },
   "outputs": [
    {
     "data": {
      "text/html": [
       "<pre style=\"white-space:pre;overflow-x:auto;line-height:normal;font-family:Menlo,'DejaVu Sans Mono',consolas,'Courier New',monospace\"><span style=\"font-weight: bold\">Model: \"WageModel\"</span>\n",
       "</pre>\n"
      ],
      "text/plain": [
       "\u001b[1mModel: \"WageModel\"\u001b[0m\n"
      ]
     },
     "metadata": {},
     "output_type": "display_data"
    },
    {
     "data": {
      "text/html": [
       "<pre style=\"white-space:pre;overflow-x:auto;line-height:normal;font-family:Menlo,'DejaVu Sans Mono',consolas,'Courier New',monospace\">┏━━━━━━━━━━━━━━━━━━━━━━━━━━━━━━━━━┳━━━━━━━━━━━━━━━━━━━━━━━━┳━━━━━━━━━━━━━━━┓\n",
       "┃<span style=\"font-weight: bold\"> Layer (type)                    </span>┃<span style=\"font-weight: bold\"> Output Shape           </span>┃<span style=\"font-weight: bold\">       Param # </span>┃\n",
       "┡━━━━━━━━━━━━━━━━━━━━━━━━━━━━━━━━━╇━━━━━━━━━━━━━━━━━━━━━━━━╇━━━━━━━━━━━━━━━┩\n",
       "│ dense (<span style=\"color: #0087ff; text-decoration-color: #0087ff\">Dense</span>)                   │ (<span style=\"color: #00d7ff; text-decoration-color: #00d7ff\">None</span>, <span style=\"color: #00af00; text-decoration-color: #00af00\">64</span>)             │           <span style=\"color: #00af00; text-decoration-color: #00af00\">640</span> │\n",
       "├─────────────────────────────────┼────────────────────────┼───────────────┤\n",
       "│ dense_1 (<span style=\"color: #0087ff; text-decoration-color: #0087ff\">Dense</span>)                 │ (<span style=\"color: #00d7ff; text-decoration-color: #00d7ff\">None</span>, <span style=\"color: #00af00; text-decoration-color: #00af00\">32</span>)             │         <span style=\"color: #00af00; text-decoration-color: #00af00\">2,080</span> │\n",
       "├─────────────────────────────────┼────────────────────────┼───────────────┤\n",
       "│ dense_2 (<span style=\"color: #0087ff; text-decoration-color: #0087ff\">Dense</span>)                 │ (<span style=\"color: #00d7ff; text-decoration-color: #00d7ff\">None</span>, <span style=\"color: #00af00; text-decoration-color: #00af00\">1</span>)              │            <span style=\"color: #00af00; text-decoration-color: #00af00\">33</span> │\n",
       "└─────────────────────────────────┴────────────────────────┴───────────────┘\n",
       "</pre>\n"
      ],
      "text/plain": [
       "┏━━━━━━━━━━━━━━━━━━━━━━━━━━━━━━━━━┳━━━━━━━━━━━━━━━━━━━━━━━━┳━━━━━━━━━━━━━━━┓\n",
       "┃\u001b[1m \u001b[0m\u001b[1mLayer (type)                   \u001b[0m\u001b[1m \u001b[0m┃\u001b[1m \u001b[0m\u001b[1mOutput Shape          \u001b[0m\u001b[1m \u001b[0m┃\u001b[1m \u001b[0m\u001b[1m      Param #\u001b[0m\u001b[1m \u001b[0m┃\n",
       "┡━━━━━━━━━━━━━━━━━━━━━━━━━━━━━━━━━╇━━━━━━━━━━━━━━━━━━━━━━━━╇━━━━━━━━━━━━━━━┩\n",
       "│ dense (\u001b[38;5;33mDense\u001b[0m)                   │ (\u001b[38;5;45mNone\u001b[0m, \u001b[38;5;34m64\u001b[0m)             │           \u001b[38;5;34m640\u001b[0m │\n",
       "├─────────────────────────────────┼────────────────────────┼───────────────┤\n",
       "│ dense_1 (\u001b[38;5;33mDense\u001b[0m)                 │ (\u001b[38;5;45mNone\u001b[0m, \u001b[38;5;34m32\u001b[0m)             │         \u001b[38;5;34m2,080\u001b[0m │\n",
       "├─────────────────────────────────┼────────────────────────┼───────────────┤\n",
       "│ dense_2 (\u001b[38;5;33mDense\u001b[0m)                 │ (\u001b[38;5;45mNone\u001b[0m, \u001b[38;5;34m1\u001b[0m)              │            \u001b[38;5;34m33\u001b[0m │\n",
       "└─────────────────────────────────┴────────────────────────┴───────────────┘\n"
      ]
     },
     "metadata": {},
     "output_type": "display_data"
    },
    {
     "data": {
      "text/html": [
       "<pre style=\"white-space:pre;overflow-x:auto;line-height:normal;font-family:Menlo,'DejaVu Sans Mono',consolas,'Courier New',monospace\"><span style=\"font-weight: bold\"> Total params: </span><span style=\"color: #00af00; text-decoration-color: #00af00\">2,753</span> (10.75 KB)\n",
       "</pre>\n"
      ],
      "text/plain": [
       "\u001b[1m Total params: \u001b[0m\u001b[38;5;34m2,753\u001b[0m (10.75 KB)\n"
      ]
     },
     "metadata": {},
     "output_type": "display_data"
    },
    {
     "data": {
      "text/html": [
       "<pre style=\"white-space:pre;overflow-x:auto;line-height:normal;font-family:Menlo,'DejaVu Sans Mono',consolas,'Courier New',monospace\"><span style=\"font-weight: bold\"> Trainable params: </span><span style=\"color: #00af00; text-decoration-color: #00af00\">2,753</span> (10.75 KB)\n",
       "</pre>\n"
      ],
      "text/plain": [
       "\u001b[1m Trainable params: \u001b[0m\u001b[38;5;34m2,753\u001b[0m (10.75 KB)\n"
      ]
     },
     "metadata": {},
     "output_type": "display_data"
    },
    {
     "data": {
      "text/html": [
       "<pre style=\"white-space:pre;overflow-x:auto;line-height:normal;font-family:Menlo,'DejaVu Sans Mono',consolas,'Courier New',monospace\"><span style=\"font-weight: bold\"> Non-trainable params: </span><span style=\"color: #00af00; text-decoration-color: #00af00\">0</span> (0.00 B)\n",
       "</pre>\n"
      ],
      "text/plain": [
       "\u001b[1m Non-trainable params: \u001b[0m\u001b[38;5;34m0\u001b[0m (0.00 B)\n"
      ]
     },
     "metadata": {},
     "output_type": "display_data"
    },
    {
     "name": "stdout",
     "output_type": "stream",
     "text": [
      "None\n"
     ]
    }
   ],
   "source": [
    "# Create the model \n",
    "model = create_wage_model(data.shape[1]-1)\n",
    "\n",
    "# Check the model summary\n",
    "print(model.summary())"
   ]
  },
  {
   "cell_type": "code",
   "execution_count": 6,
   "id": "64f4b8fc-9b84-4c53-ac99-4a5b9f3ba075",
   "metadata": {
    "tags": []
   },
   "outputs": [],
   "source": [
    "# Compile the model\n",
    "model.compile(optimizer = 'adam',\n",
    "              loss = 'mean_squared_error')"
   ]
  },
  {
   "cell_type": "code",
   "execution_count": 7,
   "id": "e3bb6f7d-539e-43ed-a626-f55023a122bd",
   "metadata": {
    "tags": []
   },
   "outputs": [
    {
     "name": "stdout",
     "output_type": "stream",
     "text": [
      "Loss function: mean_squared_error\n",
      "The optimizer:  <keras.src.optimizers.adam.Adam object at 0x30d24c5d0>\n",
      "The model layer:  [<Dense name=dense, built=True>, <Dense name=dense_1, built=True>, <Dense name=dense_2, built=True>]\n",
      "The model number of layers:  3\n",
      "['loss']\n"
     ]
    }
   ],
   "source": [
    "# Verify that model contains information from compiling\n",
    "print(\"Loss function: \" + model.loss)\n",
    "print(\"The optimizer: \", model.optimizer)\n",
    "print(\"The model layer: \", model.layers)\n",
    "print(\"The model number of layers: \", len(model.layers))\n",
    "print(model.metrics_names)"
   ]
  },
  {
   "cell_type": "markdown",
   "id": "a2bd35e1-7dfb-4af7-a19a-b29b4117eedb",
   "metadata": {},
   "source": [
    "## Fitting the model\n",
    "\n",
    "This is actually where you pass the data and train or fit the model.  "
   ]
  },
  {
   "cell_type": "code",
   "execution_count": 8,
   "id": "20faf371-ad92-46e1-a424-c855d4af5574",
   "metadata": {
    "tags": []
   },
   "outputs": [
    {
     "name": "stdout",
     "output_type": "stream",
     "text": [
      "(534,)\n",
      "(534, 9)\n"
     ]
    }
   ],
   "source": [
    "# set the target variable\n",
    "target = data['wage_per_hour'].values\n",
    "\n",
    "# chech the shape\n",
    "print(target.shape)\n",
    "\n",
    "# Set the predictors\n",
    "predictors = data.drop(columns='wage_per_hour').values\n",
    "\n",
    "# Check the shape\n",
    "print(predictors.shape)"
   ]
  },
  {
   "cell_type": "code",
   "execution_count": 9,
   "id": "9e95ec12-690d-4783-a3d7-5c5efb4f7679",
   "metadata": {
    "tags": []
   },
   "outputs": [
    {
     "name": "stdout",
     "output_type": "stream",
     "text": [
      "Epoch 1/5\n",
      "\u001b[1m17/17\u001b[0m \u001b[32m━━━━━━━━━━━━━━━━━━━━\u001b[0m\u001b[37m\u001b[0m \u001b[1m1s\u001b[0m 8ms/step - loss: 92.5900\n",
      "Epoch 2/5\n",
      "\u001b[1m17/17\u001b[0m \u001b[32m━━━━━━━━━━━━━━━━━━━━\u001b[0m\u001b[37m\u001b[0m \u001b[1m0s\u001b[0m 5ms/step - loss: 31.8556\n",
      "Epoch 3/5\n",
      "\u001b[1m17/17\u001b[0m \u001b[32m━━━━━━━━━━━━━━━━━━━━\u001b[0m\u001b[37m\u001b[0m \u001b[1m0s\u001b[0m 5ms/step - loss: 31.6731\n",
      "Epoch 4/5\n",
      "\u001b[1m17/17\u001b[0m \u001b[32m━━━━━━━━━━━━━━━━━━━━\u001b[0m\u001b[37m\u001b[0m \u001b[1m0s\u001b[0m 5ms/step - loss: 30.2061\n",
      "Epoch 5/5\n",
      "\u001b[1m17/17\u001b[0m \u001b[32m━━━━━━━━━━━━━━━━━━━━\u001b[0m\u001b[37m\u001b[0m \u001b[1m0s\u001b[0m 5ms/step - loss: 19.8653\n"
     ]
    },
    {
     "data": {
      "text/plain": [
       "<keras.src.callbacks.history.History at 0x30d2cc690>"
      ]
     },
     "execution_count": 9,
     "metadata": {},
     "output_type": "execute_result"
    }
   ],
   "source": [
    "# Fit the model\n",
    "model.fit(\n",
    "    x = predictors,\n",
    "    y = target,\n",
    "    epochs = 5,\n",
    "    verbose = 1\n",
    ")"
   ]
  },
  {
   "cell_type": "markdown",
   "id": "146b21b5-e19d-4847-bdd7-e06b5b045794",
   "metadata": {},
   "source": [
    "### Monitoring Model Training\n",
    "\n",
    "You can actually monitor the model training process by saving the fitting process in an object usually named `history`."
   ]
  },
  {
   "cell_type": "code",
   "execution_count": 10,
   "id": "ad91433e-9d75-49b9-83a7-d9a6dc546188",
   "metadata": {
    "tags": []
   },
   "outputs": [],
   "source": [
    "# Create the model \n",
    "model = create_wage_model(data.shape[1]-1)\n",
    "\n",
    "# Compile the model\n",
    "model.compile(optimizer = 'adam',\n",
    "              loss = 'mean_squared_error')\n",
    "\n",
    "\n",
    "# fit the model with 150 epochs\n",
    "history = model.fit(\n",
    "    x = predictors,\n",
    "    y = target,\n",
    "    epochs = 150,\n",
    "    verbose = 0\n",
    ")"
   ]
  },
  {
   "cell_type": "code",
   "execution_count": 11,
   "id": "6304a879-9906-4e65-ae67-5892db4189e9",
   "metadata": {
    "tags": []
   },
   "outputs": [
    {
     "data": {
      "image/png": "[encoded data removed]",
      "text/plain": [
       "<Figure size 640x480 with 1 Axes>"
      ]
     },
     "metadata": {},
     "output_type": "display_data"
    }
   ],
   "source": [
    "# Plot the loss metric\n",
    "plt.plot(history.history['loss'], color = \"red\")\n",
    "plt.show()"
   ]
  },
  {
   "cell_type": "code",
   "execution_count": null,
   "id": "7467703b-4efe-4449-81d4-1d1a6e1f7c23",
   "metadata": {},
   "outputs": [],
   "source": []
  }
 ],
 "metadata": {
  "kernelspec": {
   "display_name": "TF-GPU:2.16",
   "language": "python",
   "name": "tf-gpu"
  },
  "language_info": {
   "codemirror_mode": {
    "name": "ipython",
    "version": 3
   },
   "file_extension": ".py",
   "mimetype": "text/x-python",
   "name": "python",
   "nbconvert_exporter": "python",
   "pygments_lexer": "ipython3",
   "version": "3.11.10"
  }
 },
 "nbformat": 4,
 "nbformat_minor": 5
}
