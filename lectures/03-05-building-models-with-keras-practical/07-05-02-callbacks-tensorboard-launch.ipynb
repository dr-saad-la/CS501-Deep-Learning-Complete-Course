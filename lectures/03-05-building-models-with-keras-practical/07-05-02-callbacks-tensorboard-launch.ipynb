{
 "cells": [
  {
   "cell_type": "markdown",
   "id": "297156c1-7deb-4c1d-b601-7a156476a408",
   "metadata": {},
   "source": [
    "<div style=\"text-align:center;font-size:22pt; font-weight:bold;color:white;border:solid black 1.5pt;background-color:#1e7263;\">\n",
    "    TensorBoard Callback Overview\n",
    "</div>"
   ]
  },
  {
   "cell_type": "code",
   "execution_count": 1,
   "id": "131fa24a-96cf-4cc5-a2a7-945b355942c7",
   "metadata": {},
   "outputs": [],
   "source": [
    "# ======================================================================= #\n",
    "# Course: Deep Learning Complete Course (CS-501)\n",
    "# Author: Dr. Saad Laouadi\n",
    "# Institution: Quant Coding Versity Academy\n",
    "# Date: December 25, 2024\n",
    "#\n",
    "# ==========================================================\n",
    "# Lesson: Learning Rate Adaptation with ReduceLROnPlateau\n",
    "#         Synthetic Data Example\n",
    "# ==========================================================\n",
    "# ## Learning Objectives\n",
    "# This example will enable you to:\n",
    "# 1. Create synthetic data for learning rate adaptation\n",
    "# 2. Implement ReduceLROnPlateau callback\n",
    "# 3. Monitor learning rate changes during training\n",
    "# 4. Visualize the impact of learning rate reduction\n",
    "# 5. Compare training with and without adaptive learning rates\n",
    "# =======================================================================\n",
    "#          Copyright © Dr. Saad Laouadi 2024\n",
    "# ======================================================================="
   ]
  },
  {
   "cell_type": "code",
   "execution_count": 2,
   "id": "c26ca844-8301-46b7-89da-e2dca2248ec4",
   "metadata": {
    "tags": []
   },
   "outputs": [
    {
     "name": "stdout",
     "output_type": "stream",
     "text": [
      "========================================================================\n",
      "Author: Dr. Saad Laouadi\n",
      "\n",
      "Last updated: 2025-01-09\n",
      "\n",
      "Compiler    : Clang 14.0.6 \n",
      "OS          : Darwin\n",
      "Release     : 24.1.0\n",
      "Machine     : arm64\n",
      "Processor   : arm\n",
      "CPU cores   : 16\n",
      "Architecture: 64bit\n",
      "\n",
      "========================================================================\n",
      "Imported Packages and Their Versions:\n",
      "========================================================================\n",
      "numpy     : 1.26.4\n",
      "seaborn   : 0.13.2\n",
      "sklearn   : 1.5.1\n",
      "matplotlib: 3.9.2\n",
      "tensorflow: 2.16.2\n",
      "pandas    : 2.2.2\n",
      "keras     : 3.6.0\n",
      "\n",
      "========================================================================\n"
     ]
    }
   ],
   "source": [
    "# ==================================================== #\n",
    "#        Load Required Libraries\n",
    "# ==================================================== #\n",
    "\n",
    "import os  \n",
    "import shutil\n",
    "from datetime import datetime\n",
    "import io\n",
    "\n",
    "\n",
    "# Disable Metal API Validation\n",
    "os.environ[\"METAL_DEVICE_WRAPPER_TYPE\"] = \"0\"  \n",
    "\n",
    "import numpy as np\n",
    "import pandas as pd\n",
    "import matplotlib.pyplot as plt\n",
    "import seaborn as sns\n",
    "\n",
    "from sklearn.datasets import make_regression\n",
    "from sklearn.model_selection import train_test_split\n",
    "from sklearn.preprocessing import StandardScaler\n",
    "\n",
    "# import tensorflow\n",
    "import tensorflow as tf\n",
    "\n",
    "from tensorflow.keras.callbacks import ReduceLROnPlateau\n",
    "\n",
    "# Set styling for better visualization\n",
    "plt.style.use('seaborn-v0_8')\n",
    "sns.set_palette(\"husl\")\n",
    "\n",
    "print(\"=\"*72)\n",
    "\n",
    "%reload_ext watermark\n",
    "%watermark -a \"Dr. Saad Laouadi\" -u -d -m\n",
    "\n",
    "print(\"=\"*72)\n",
    "print(\"Imported Packages and Their Versions:\")\n",
    "print(\"=\"*72)\n",
    "\n",
    "%watermark -iv\n",
    "print(\"=\"*72)\n",
    "\n",
    "# Global Config\n",
    "RANDOM_STATE = 101"
   ]
  },
  {
   "cell_type": "code",
   "execution_count": 3,
   "id": "c6c8eaaf-b126-43b5-9e7b-adb49555c48d",
   "metadata": {
    "tags": []
   },
   "outputs": [],
   "source": [
    "# ============================================================================ #\n",
    "#                         Environment Path Configuration                       #\n",
    "# ============================================================================ #\n",
    "#\n",
    "# Purpose:\n",
    "#   Configure the system PATH to use Python executables from the active virtual \n",
    "#   environment instead of global installations.\n",
    "#\n",
    "# Usage:\n",
    "#   1. First verify if configuration is needed by running: !which python\n",
    "#   2. If the output shows the global Python installation rather than your \n",
    "#      virtual environment, execute this configuration block\n",
    "#\n",
    "# Note:\n",
    "#   This configuration is typically only needed for JupyterLab Desktop or \n",
    "#   similar standalone installations. Web-based JupyterLab or properly \n",
    "#   configured environments should not require this adjustment.\n",
    "# ============================================================================ #\n",
    "\n",
    "import os\n",
    "import sys\n",
    "\n",
    "env_path = os.path.dirname(sys.executable)\n",
    "os.environ['PATH'] = f\"{env_path}:{os.environ['PATH']}\""
   ]
  },
  {
   "cell_type": "code",
   "execution_count": 4,
   "id": "44fbc7b1-be5c-496b-a1b4-2bd697016faf",
   "metadata": {
    "tags": []
   },
   "outputs": [],
   "source": [
    "# tensorboard cleanup   \n",
    "import psutil\n",
    "def cleanup_tensorboard():\n",
    "    \"\"\"\n",
    "    Cleanup TensorBoard processes professionally\n",
    "    \"\"\"\n",
    "    # Find and terminate TensorBoard processes\n",
    "    for proc in psutil.process_iter(['pid', 'name']):\n",
    "        try:\n",
    "            # Look for tensorboard processes\n",
    "            if 'tensorboard' in proc.info['name'].lower():\n",
    "                # Terminate gracefully\n",
    "                process = psutil.Process(proc.info['pid'])\n",
    "                process.terminate()\n",
    "                print(f\"TensorBoard process {proc.info['pid']} terminated gracefully\")\n",
    "        except (psutil.NoSuchProcess, psutil.AccessDenied, psutil.ZombieProcess):\n",
    "            pass"
   ]
  },
  {
   "cell_type": "markdown",
   "id": "fd874e58-88b9-4010-8c71-9cf1ad67d093",
   "metadata": {},
   "source": [
    "### Notebook Roadmap\n",
    "\n",
    "1. Create data\n",
    "2. Train simple deep learning model with `tensorboard` callback\n",
    "3. Use tensorboard tool to visualize training process\n",
    "4. Stop tensorboard"
   ]
  },
  {
   "cell_type": "code",
   "execution_count": 5,
   "id": "65e64a3f-7310-4095-8d11-8b7ad4177738",
   "metadata": {
    "tags": []
   },
   "outputs": [],
   "source": [
    "# ================================================================= #\n",
    "#          Test TensorBoard with Synthetic Data\n",
    "# ================================================================= #\n",
    "\n",
    "def generate_synthetic_data(n_samples=1000, random_state=42):\n",
    "    \"\"\"\n",
    "    Generate synthetic regression data with two features.\n",
    "    \n",
    "    Parameters:\n",
    "        n_samples (int): Number of samples to generate\n",
    "        random_state (int): Random seed for reproducibility\n",
    "        \n",
    "    Returns:\n",
    "        tuple: (X_train, X_test, y_train, y_test)\n",
    "    \"\"\"\n",
    "    # Generate synthetic data\n",
    "    X, y = make_regression(\n",
    "        n_samples=n_samples,\n",
    "        n_features=2,\n",
    "        n_informative=2,\n",
    "        noise=0.1,\n",
    "        random_state=random_state\n",
    "    )\n",
    "    \n",
    "    # Reshape y to be (n_samples, 1)\n",
    "    y = y.reshape(-1, 1)\n",
    "    \n",
    "    # Split the data\n",
    "    X_train, X_test, y_train, y_test = train_test_split(\n",
    "        X, y, test_size=0.2, random_state=random_state\n",
    "    )\n",
    "    \n",
    "    # Scale the features\n",
    "    scaler = StandardScaler()\n",
    "    X_train = scaler.fit_transform(X_train)\n",
    "    X_test = scaler.transform(X_test)\n",
    "    \n",
    "    return X_train, X_test, y_train, y_test\n",
    "\n",
    "def create_simple_model():\n",
    "    \"\"\"\n",
    "    Create a simple neural network for regression.\n",
    "    \n",
    "    Returns:\n",
    "        tf.keras.Model: Compiled model\n",
    "    \"\"\"\n",
    "    model = tf.keras.Sequential([\n",
    "        tf.keras.layers.Input(shape=(2,)),\n",
    "        tf.keras.layers.Dense(16, activation='relu'),\n",
    "        tf.keras.layers.Dense(8, activation='relu'),\n",
    "        tf.keras.layers.Dense(1)\n",
    "    ])\n",
    "    \n",
    "    model.compile(\n",
    "        optimizer='adam',\n",
    "        loss='mse',\n",
    "        metrics=['mae', tf.keras.metrics.RootMeanSquaredError(name='rmse')]\n",
    "    )\n",
    "    \n",
    "    return model"
   ]
  },
  {
   "cell_type": "code",
   "execution_count": 6,
   "id": "eadf8c8e-e83b-416b-adce-f68bf2148f7e",
   "metadata": {
    "tags": []
   },
   "outputs": [],
   "source": [
    "# Generate synthetic data\n",
    "X_train, X_test, y_train, y_test = generate_synthetic_data()\n",
    "\n",
    "# Create the model\n",
    "model = create_simple_model()\n",
    "\n",
    "# Set up TensorBoard\n",
    "model_name=\"test_tensorboard\"\n",
    "\n",
    "# Create directory for logs\n",
    "log_dir = os.path.join(\"logs\", \"fit\", model_name, datetime.now().strftime('%Y%m%d-%H%M%S'))\n",
    "os.makedirs(log_dir, exist_ok=True)\n",
    "\n",
    "# Create TensorBoard callback\n",
    "tensorboard_callback = tf.keras.callbacks.TensorBoard(\n",
    "    log_dir=log_dir,\n",
    "    histogram_freq=1,\n",
    "    write_graph=True,\n",
    "    write_images=False,\n",
    "    update_freq='epoch',\n",
    "    profile_batch=(5, 10)\n",
    ")"
   ]
  },
  {
   "cell_type": "code",
   "execution_count": 7,
   "id": "ea5e3968-1341-4fd9-b63e-33b2ae144aab",
   "metadata": {
    "tags": []
   },
   "outputs": [],
   "source": [
    "# Load TensorBoard extension\n",
    "%load_ext tensorboard"
   ]
  },
  {
   "cell_type": "code",
   "execution_count": 8,
   "id": "7df59daa-041e-48f8-ae01-af7e48e3a8dd",
   "metadata": {
    "tags": []
   },
   "outputs": [
    {
     "name": "stdout",
     "output_type": "stream",
     "text": [
      "Epoch 1/50\n",
      "\u001b[1m20/20\u001b[0m \u001b[32m━━━━━━━━━━━━━━━━━━━━\u001b[0m\u001b[37m\u001b[0m \u001b[1m1s\u001b[0m 16ms/step - loss: 1433.7357 - mae: 29.8445 - rmse: 37.8161 - val_loss: 1621.5215 - val_mae: 31.6053 - val_rmse: 40.2681\n",
      "Epoch 2/50\n",
      "\u001b[1m20/20\u001b[0m \u001b[32m━━━━━━━━━━━━━━━━━━━━\u001b[0m\u001b[37m\u001b[0m \u001b[1m0s\u001b[0m 9ms/step - loss: 1487.3281 - mae: 30.5533 - rmse: 38.5363 - val_loss: 1613.1566 - val_mae: 31.5205 - val_rmse: 40.1641\n",
      "Epoch 3/50\n",
      "\u001b[1m20/20\u001b[0m \u001b[32m━━━━━━━━━━━━━━━━━━━━\u001b[0m\u001b[37m\u001b[0m \u001b[1m0s\u001b[0m 10ms/step - loss: 1600.1937 - mae: 30.7971 - rmse: 39.9787 - val_loss: 1604.5652 - val_mae: 31.4333 - val_rmse: 40.0570\n",
      "Epoch 4/50\n",
      "\u001b[1m20/20\u001b[0m \u001b[32m━━━━━━━━━━━━━━━━━━━━\u001b[0m\u001b[37m\u001b[0m \u001b[1m0s\u001b[0m 10ms/step - loss: 1546.8121 - mae: 31.1174 - rmse: 39.3012 - val_loss: 1595.1746 - val_mae: 31.3328 - val_rmse: 39.9396\n",
      "Epoch 5/50\n",
      "\u001b[1m20/20\u001b[0m \u001b[32m━━━━━━━━━━━━━━━━━━━━\u001b[0m\u001b[37m\u001b[0m \u001b[1m0s\u001b[0m 10ms/step - loss: 1495.8247 - mae: 30.4601 - rmse: 38.6527 - val_loss: 1582.7705 - val_mae: 31.1979 - val_rmse: 39.7840\n",
      "Epoch 6/50\n",
      "\u001b[1m20/20\u001b[0m \u001b[32m━━━━━━━━━━━━━━━━━━━━\u001b[0m\u001b[37m\u001b[0m \u001b[1m0s\u001b[0m 10ms/step - loss: 1536.9329 - mae: 31.0749 - rmse: 39.1974 - val_loss: 1566.3914 - val_mae: 31.0196 - val_rmse: 39.5777\n",
      "Epoch 7/50\n",
      "\u001b[1m20/20\u001b[0m \u001b[32m━━━━━━━━━━━━━━━━━━━━\u001b[0m\u001b[37m\u001b[0m \u001b[1m0s\u001b[0m 9ms/step - loss: 1345.4298 - mae: 28.4297 - rmse: 36.6547 - val_loss: 1546.1450 - val_mae: 30.7990 - val_rmse: 39.3210\n",
      "Epoch 8/50\n",
      "\u001b[1m20/20\u001b[0m \u001b[32m━━━━━━━━━━━━━━━━━━━━\u001b[0m\u001b[37m\u001b[0m \u001b[1m0s\u001b[0m 9ms/step - loss: 1423.9330 - mae: 30.1739 - rmse: 37.7292 - val_loss: 1519.6066 - val_mae: 30.5051 - val_rmse: 38.9821\n",
      "Epoch 9/50\n",
      "\u001b[1m20/20\u001b[0m \u001b[32m━━━━━━━━━━━━━━━━━━━━\u001b[0m\u001b[37m\u001b[0m \u001b[1m0s\u001b[0m 8ms/step - loss: 1564.5574 - mae: 30.9717 - rmse: 39.4051 - val_loss: 1485.9541 - val_mae: 30.1296 - val_rmse: 38.5481\n",
      "Epoch 10/50\n",
      "\u001b[1m20/20\u001b[0m \u001b[32m━━━━━━━━━━━━━━━━━━━━\u001b[0m\u001b[37m\u001b[0m \u001b[1m0s\u001b[0m 9ms/step - loss: 1465.6570 - mae: 30.3882 - rmse: 38.2457 - val_loss: 1445.0736 - val_mae: 29.6667 - val_rmse: 38.0141\n",
      "Epoch 11/50\n",
      "\u001b[1m20/20\u001b[0m \u001b[32m━━━━━━━━━━━━━━━━━━━━\u001b[0m\u001b[37m\u001b[0m \u001b[1m0s\u001b[0m 11ms/step - loss: 1388.3624 - mae: 29.5218 - rmse: 37.2147 - val_loss: 1397.7654 - val_mae: 29.1123 - val_rmse: 37.3867\n",
      "Epoch 12/50\n",
      "\u001b[1m20/20\u001b[0m \u001b[32m━━━━━━━━━━━━━━━━━━━━\u001b[0m\u001b[37m\u001b[0m \u001b[1m0s\u001b[0m 9ms/step - loss: 1311.1982 - mae: 28.0611 - rmse: 36.2054 - val_loss: 1341.9719 - val_mae: 28.4424 - val_rmse: 36.6329\n",
      "Epoch 13/50\n",
      "\u001b[1m20/20\u001b[0m \u001b[32m━━━━━━━━━━━━━━━━━━━━\u001b[0m\u001b[37m\u001b[0m \u001b[1m0s\u001b[0m 9ms/step - loss: 1288.5653 - mae: 27.7262 - rmse: 35.8469 - val_loss: 1281.0404 - val_mae: 27.6836 - val_rmse: 35.7916\n",
      "Epoch 14/50\n",
      "\u001b[1m20/20\u001b[0m \u001b[32m━━━━━━━━━━━━━━━━━━━━\u001b[0m\u001b[37m\u001b[0m \u001b[1m0s\u001b[0m 10ms/step - loss: 1181.5778 - mae: 26.5487 - rmse: 34.3653 - val_loss: 1213.1305 - val_mae: 26.8133 - val_rmse: 34.8300\n",
      "Epoch 15/50\n",
      "\u001b[1m20/20\u001b[0m \u001b[32m━━━━━━━━━━━━━━━━━━━━\u001b[0m\u001b[37m\u001b[0m \u001b[1m0s\u001b[0m 9ms/step - loss: 1152.6965 - mae: 26.6692 - rmse: 33.9475 - val_loss: 1140.1051 - val_mae: 25.8268 - val_rmse: 33.7654\n",
      "Epoch 16/50\n",
      "\u001b[1m20/20\u001b[0m \u001b[32m━━━━━━━━━━━━━━━━━━━━\u001b[0m\u001b[37m\u001b[0m \u001b[1m0s\u001b[0m 9ms/step - loss: 1024.1989 - mae: 24.9059 - rmse: 31.9896 - val_loss: 1066.8533 - val_mae: 24.7888 - val_rmse: 32.6627\n",
      "Epoch 17/50\n",
      "\u001b[1m20/20\u001b[0m \u001b[32m━━━━━━━━━━━━━━━━━━━━\u001b[0m\u001b[37m\u001b[0m \u001b[1m0s\u001b[0m 9ms/step - loss: 1019.4711 - mae: 24.6101 - rmse: 31.9003 - val_loss: 988.1250 - val_mae: 23.6216 - val_rmse: 31.4345\n",
      "Epoch 18/50\n",
      "\u001b[1m20/20\u001b[0m \u001b[32m━━━━━━━━━━━━━━━━━━━━\u001b[0m\u001b[37m\u001b[0m \u001b[1m0s\u001b[0m 10ms/step - loss: 836.0714 - mae: 21.9699 - rmse: 28.9132 - val_loss: 911.7280 - val_mae: 22.4431 - val_rmse: 30.1948\n",
      "Epoch 19/50\n",
      "\u001b[1m20/20\u001b[0m \u001b[32m━━━━━━━━━━━━━━━━━━━━\u001b[0m\u001b[37m\u001b[0m \u001b[1m0s\u001b[0m 9ms/step - loss: 811.6626 - mae: 21.3344 - rmse: 28.4769 - val_loss: 835.1110 - val_mae: 21.1893 - val_rmse: 28.8983\n",
      "Epoch 20/50\n",
      "\u001b[1m20/20\u001b[0m \u001b[32m━━━━━━━━━━━━━━━━━━━━\u001b[0m\u001b[37m\u001b[0m \u001b[1m0s\u001b[0m 8ms/step - loss: 681.0225 - mae: 19.0966 - rmse: 26.0854 - val_loss: 762.6089 - val_mae: 19.9311 - val_rmse: 27.6154\n",
      "Epoch 21/50\n",
      "\u001b[1m20/20\u001b[0m \u001b[32m━━━━━━━━━━━━━━━━━━━━\u001b[0m\u001b[37m\u001b[0m \u001b[1m0s\u001b[0m 9ms/step - loss: 598.2234 - mae: 18.1845 - rmse: 24.4442 - val_loss: 692.7322 - val_mae: 18.6638 - val_rmse: 26.3198\n",
      "Epoch 22/50\n",
      "\u001b[1m20/20\u001b[0m \u001b[32m━━━━━━━━━━━━━━━━━━━━\u001b[0m\u001b[37m\u001b[0m \u001b[1m0s\u001b[0m 9ms/step - loss: 537.7635 - mae: 16.5427 - rmse: 23.1698 - val_loss: 627.7541 - val_mae: 17.3920 - val_rmse: 25.0550\n",
      "Epoch 23/50\n",
      "\u001b[1m20/20\u001b[0m \u001b[32m━━━━━━━━━━━━━━━━━━━━\u001b[0m\u001b[37m\u001b[0m \u001b[1m0s\u001b[0m 9ms/step - loss: 528.9254 - mae: 15.8016 - rmse: 22.9714 - val_loss: 566.4220 - val_mae: 16.1256 - val_rmse: 23.7996\n",
      "Epoch 24/50\n",
      "\u001b[1m20/20\u001b[0m \u001b[32m━━━━━━━━━━━━━━━━━━━━\u001b[0m\u001b[37m\u001b[0m \u001b[1m0s\u001b[0m 10ms/step - loss: 468.5197 - mae: 14.8804 - rmse: 21.6389 - val_loss: 510.9068 - val_mae: 14.9188 - val_rmse: 22.6032\n",
      "Epoch 25/50\n",
      "\u001b[1m20/20\u001b[0m \u001b[32m━━━━━━━━━━━━━━━━━━━━\u001b[0m\u001b[37m\u001b[0m \u001b[1m0s\u001b[0m 10ms/step - loss: 453.0285 - mae: 13.5512 - rmse: 21.2538 - val_loss: 459.6221 - val_mae: 13.6969 - val_rmse: 21.4388\n",
      "Epoch 26/50\n",
      "\u001b[1m20/20\u001b[0m \u001b[32m━━━━━━━━━━━━━━━━━━━━\u001b[0m\u001b[37m\u001b[0m \u001b[1m0s\u001b[0m 9ms/step - loss: 325.3919 - mae: 11.5237 - rmse: 18.0257 - val_loss: 415.5574 - val_mae: 12.6081 - val_rmse: 20.3852\n",
      "Epoch 27/50\n",
      "\u001b[1m20/20\u001b[0m \u001b[32m━━━━━━━━━━━━━━━━━━━━\u001b[0m\u001b[37m\u001b[0m \u001b[1m0s\u001b[0m 8ms/step - loss: 314.0181 - mae: 11.1099 - rmse: 17.7105 - val_loss: 371.7813 - val_mae: 11.4784 - val_rmse: 19.2816\n",
      "Epoch 28/50\n",
      "\u001b[1m20/20\u001b[0m \u001b[32m━━━━━━━━━━━━━━━━━━━━\u001b[0m\u001b[37m\u001b[0m \u001b[1m0s\u001b[0m 9ms/step - loss: 248.9328 - mae: 9.3693 - rmse: 15.7417 - val_loss: 333.8153 - val_mae: 10.4882 - val_rmse: 18.2706\n",
      "Epoch 29/50\n",
      "\u001b[1m20/20\u001b[0m \u001b[32m━━━━━━━━━━━━━━━━━━━━\u001b[0m\u001b[37m\u001b[0m \u001b[1m0s\u001b[0m 9ms/step - loss: 230.5893 - mae: 9.1714 - rmse: 15.1764 - val_loss: 298.5132 - val_mae: 9.6510 - val_rmse: 17.2775\n",
      "Epoch 30/50\n",
      "\u001b[1m20/20\u001b[0m \u001b[32m━━━━━━━━━━━━━━━━━━━━\u001b[0m\u001b[37m\u001b[0m \u001b[1m0s\u001b[0m 9ms/step - loss: 235.9776 - mae: 8.6258 - rmse: 15.3290 - val_loss: 266.2110 - val_mae: 9.0092 - val_rmse: 16.3160\n",
      "Epoch 31/50\n",
      "\u001b[1m20/20\u001b[0m \u001b[32m━━━━━━━━━━━━━━━━━━━━\u001b[0m\u001b[37m\u001b[0m \u001b[1m0s\u001b[0m 9ms/step - loss: 181.0992 - mae: 7.7978 - rmse: 13.4378 - val_loss: 237.8011 - val_mae: 8.5420 - val_rmse: 15.4208\n",
      "Epoch 32/50\n",
      "\u001b[1m20/20\u001b[0m \u001b[32m━━━━━━━━━━━━━━━━━━━━\u001b[0m\u001b[37m\u001b[0m \u001b[1m0s\u001b[0m 9ms/step - loss: 168.1605 - mae: 7.0195 - rmse: 12.9346 - val_loss: 212.5443 - val_mae: 8.1608 - val_rmse: 14.5789\n",
      "Epoch 33/50\n",
      "\u001b[1m20/20\u001b[0m \u001b[32m━━━━━━━━━━━━━━━━━━━━\u001b[0m\u001b[37m\u001b[0m \u001b[1m0s\u001b[0m 10ms/step - loss: 126.0833 - mae: 6.5089 - rmse: 11.1488 - val_loss: 190.0827 - val_mae: 7.8240 - val_rmse: 13.7870\n",
      "Epoch 34/50\n",
      "\u001b[1m20/20\u001b[0m \u001b[32m━━━━━━━━━━━━━━━━━━━━\u001b[0m\u001b[37m\u001b[0m \u001b[1m0s\u001b[0m 9ms/step - loss: 133.6757 - mae: 6.7659 - rmse: 11.5548 - val_loss: 169.5055 - val_mae: 7.5099 - val_rmse: 13.0194\n",
      "Epoch 35/50\n",
      "\u001b[1m20/20\u001b[0m \u001b[32m━━━━━━━━━━━━━━━━━━━━\u001b[0m\u001b[37m\u001b[0m \u001b[1m0s\u001b[0m 9ms/step - loss: 102.2449 - mae: 5.9962 - rmse: 10.0625 - val_loss: 151.5340 - val_mae: 7.2103 - val_rmse: 12.3099\n",
      "Epoch 36/50\n",
      "\u001b[1m20/20\u001b[0m \u001b[32m━━━━━━━━━━━━━━━━━━━━\u001b[0m\u001b[37m\u001b[0m \u001b[1m0s\u001b[0m 9ms/step - loss: 123.4574 - mae: 6.6723 - rmse: 11.0730 - val_loss: 135.0568 - val_mae: 6.9166 - val_rmse: 11.6214\n",
      "Epoch 37/50\n",
      "\u001b[1m20/20\u001b[0m \u001b[32m━━━━━━━━━━━━━━━━━━━━\u001b[0m\u001b[37m\u001b[0m \u001b[1m0s\u001b[0m 10ms/step - loss: 97.3290 - mae: 6.0733 - rmse: 9.8519 - val_loss: 121.7743 - val_mae: 6.6258 - val_rmse: 11.0351\n",
      "Epoch 38/50\n",
      "\u001b[1m20/20\u001b[0m \u001b[32m━━━━━━━━━━━━━━━━━━━━\u001b[0m\u001b[37m\u001b[0m \u001b[1m0s\u001b[0m 9ms/step - loss: 93.7095 - mae: 6.0843 - rmse: 9.6685 - val_loss: 109.5545 - val_mae: 6.3276 - val_rmse: 10.4668\n",
      "Epoch 39/50\n",
      "\u001b[1m20/20\u001b[0m \u001b[32m━━━━━━━━━━━━━━━━━━━━\u001b[0m\u001b[37m\u001b[0m \u001b[1m0s\u001b[0m 9ms/step - loss: 81.8103 - mae: 5.9620 - rmse: 9.0322 - val_loss: 99.2359 - val_mae: 6.0885 - val_rmse: 9.9617\n",
      "Epoch 40/50\n",
      "\u001b[1m20/20\u001b[0m \u001b[32m━━━━━━━━━━━━━━━━━━━━\u001b[0m\u001b[37m\u001b[0m \u001b[1m0s\u001b[0m 9ms/step - loss: 67.8372 - mae: 5.3230 - rmse: 8.2161 - val_loss: 90.0644 - val_mae: 5.8540 - val_rmse: 9.4902\n",
      "Epoch 41/50\n",
      "\u001b[1m20/20\u001b[0m \u001b[32m━━━━━━━━━━━━━━━━━━━━\u001b[0m\u001b[37m\u001b[0m \u001b[1m0s\u001b[0m 9ms/step - loss: 65.7595 - mae: 5.5322 - rmse: 8.0863 - val_loss: 81.5911 - val_mae: 5.6551 - val_rmse: 9.0328\n",
      "Epoch 42/50\n",
      "\u001b[1m20/20\u001b[0m \u001b[32m━━━━━━━━━━━━━━━━━━━━\u001b[0m\u001b[37m\u001b[0m \u001b[1m0s\u001b[0m 9ms/step - loss: 55.4699 - mae: 5.1397 - rmse: 7.4339 - val_loss: 74.7546 - val_mae: 5.4685 - val_rmse: 8.6461\n",
      "Epoch 43/50\n",
      "\u001b[1m20/20\u001b[0m \u001b[32m━━━━━━━━━━━━━━━━━━━━\u001b[0m\u001b[37m\u001b[0m \u001b[1m0s\u001b[0m 9ms/step - loss: 61.3248 - mae: 5.3322 - rmse: 7.8244 - val_loss: 67.6626 - val_mae: 5.2775 - val_rmse: 8.2257\n",
      "Epoch 44/50\n",
      "\u001b[1m20/20\u001b[0m \u001b[32m━━━━━━━━━━━━━━━━━━━━\u001b[0m\u001b[37m\u001b[0m \u001b[1m0s\u001b[0m 9ms/step - loss: 56.1605 - mae: 4.9764 - rmse: 7.4322 - val_loss: 62.0495 - val_mae: 5.0644 - val_rmse: 7.8771\n",
      "Epoch 45/50\n",
      "\u001b[1m20/20\u001b[0m \u001b[32m━━━━━━━━━━━━━━━━━━━━\u001b[0m\u001b[37m\u001b[0m \u001b[1m0s\u001b[0m 9ms/step - loss: 44.6909 - mae: 4.6156 - rmse: 6.6767 - val_loss: 56.9894 - val_mae: 4.8763 - val_rmse: 7.5491\n",
      "Epoch 46/50\n",
      "\u001b[1m20/20\u001b[0m \u001b[32m━━━━━━━━━━━━━━━━━━━━\u001b[0m\u001b[37m\u001b[0m \u001b[1m0s\u001b[0m 9ms/step - loss: 43.8081 - mae: 4.6839 - rmse: 6.5834 - val_loss: 52.5220 - val_mae: 4.7278 - val_rmse: 7.2472\n",
      "Epoch 47/50\n",
      "\u001b[1m20/20\u001b[0m \u001b[32m━━━━━━━━━━━━━━━━━━━━\u001b[0m\u001b[37m\u001b[0m \u001b[1m0s\u001b[0m 9ms/step - loss: 52.1800 - mae: 4.8160 - rmse: 7.1699 - val_loss: 48.5858 - val_mae: 4.5946 - val_rmse: 6.9704\n",
      "Epoch 48/50\n",
      "\u001b[1m20/20\u001b[0m \u001b[32m━━━━━━━━━━━━━━━━━━━━\u001b[0m\u001b[37m\u001b[0m \u001b[1m0s\u001b[0m 9ms/step - loss: 37.6045 - mae: 4.4110 - rmse: 6.1085 - val_loss: 45.4153 - val_mae: 4.4969 - val_rmse: 6.7391\n",
      "Epoch 49/50\n",
      "\u001b[1m20/20\u001b[0m \u001b[32m━━━━━━━━━━━━━━━━━━━━\u001b[0m\u001b[37m\u001b[0m \u001b[1m0s\u001b[0m 8ms/step - loss: 42.3636 - mae: 4.4508 - rmse: 6.4621 - val_loss: 42.4106 - val_mae: 4.3686 - val_rmse: 6.5123\n",
      "Epoch 50/50\n",
      "\u001b[1m20/20\u001b[0m \u001b[32m━━━━━━━━━━━━━━━━━━━━\u001b[0m\u001b[37m\u001b[0m \u001b[1m0s\u001b[0m 9ms/step - loss: 33.3006 - mae: 4.2100 - rmse: 5.7648 - val_loss: 40.0318 - val_mae: 4.2770 - val_rmse: 6.3271\n"
     ]
    },
    {
     "data": {
      "text/html": [
       "\n",
       "      <iframe id=\"tensorboard-frame-c9c861485a5ab4c3\" width=\"100%\" height=\"800\" frameborder=\"0\">\n",
       "      </iframe>\n",
       "      <script>\n",
       "        (function() {\n",
       "          const frame = document.getElementById(\"tensorboard-frame-c9c861485a5ab4c3\");\n",
       "          const url = new URL(\"/\", window.location);\n",
       "          const port = 6006;\n",
       "          if (port) {\n",
       "            url.port = port;\n",
       "          }\n",
       "          frame.src = url;\n",
       "        })();\n",
       "      </script>\n",
       "    "
      ],
      "text/plain": [
       "<IPython.core.display.HTML object>"
      ]
     },
     "metadata": {},
     "output_type": "display_data"
    }
   ],
   "source": [
    "# Train the model\n",
    "history = model.fit(\n",
    "    X_train, y_train,\n",
    "    epochs=50,\n",
    "    batch_size=32,\n",
    "    validation_split=0.2,\n",
    "    callbacks=[tensorboard_callback],\n",
    "    verbose=1\n",
    ")\n",
    "\n",
    "# Launch TensorBoard\n",
    "%tensorboard --logdir logs/fit"
   ]
  },
  {
   "cell_type": "code",
   "execution_count": 9,
   "id": "7b2b7617-74b9-4096-b1dc-9589f81c5aab",
   "metadata": {
    "tags": []
   },
   "outputs": [
    {
     "name": "stdout",
     "output_type": "stream",
     "text": [
      "\n",
      "Test Results:\n",
      "loss: 28.8859\n",
      "compile_metrics: 4.1993\n"
     ]
    }
   ],
   "source": [
    "# Evaluate the model on test set\n",
    "test_results = model.evaluate(X_test, y_test, verbose=0)\n",
    "print(\"\\nTest Results:\")\n",
    "for metric_name, value in zip(model.metrics_names, test_results):\n",
    "    print(f\"{metric_name}: {value:.4f}\")"
   ]
  },
  {
   "cell_type": "code",
   "execution_count": 10,
   "id": "d942285e-559e-407f-8296-0ae28a04be5b",
   "metadata": {
    "tags": []
   },
   "outputs": [],
   "source": [
    "# Use before starting a new TensorBoard session\n",
    "cleanup_tensorboard()"
   ]
  },
  {
   "cell_type": "code",
   "execution_count": 13,
   "id": "6431c2dc-df6f-4348-85b4-298eedb4d8cd",
   "metadata": {
    "tags": []
   },
   "outputs": [],
   "source": [
    "# Start fresh TensorBoard\n",
    "%reload_ext tensorboard\n",
    "\n",
    "# Clear any previous logs (optional)\n",
    "!rm -rf logs/fit\n",
    "\n",
    "# !rm -rf logs (to remove the entire logs directory)"
   ]
  },
  {
   "cell_type": "code",
   "execution_count": 14,
   "id": "b09a99e8-ee9c-4d8f-bf7f-469c3c1ceb94",
   "metadata": {
    "tags": []
   },
   "outputs": [
    {
     "data": {
      "text/plain": [
       "Reusing TensorBoard on port 6006 (pid 99236), started 0:01:15 ago. (Use '!kill 99236' to kill it.)"
      ]
     },
     "metadata": {},
     "output_type": "display_data"
    },
    {
     "data": {
      "text/html": [
       "\n",
       "      <iframe id=\"tensorboard-frame-4f3ef4eca94ba517\" width=\"100%\" height=\"800\" frameborder=\"0\">\n",
       "      </iframe>\n",
       "      <script>\n",
       "        (function() {\n",
       "          const frame = document.getElementById(\"tensorboard-frame-4f3ef4eca94ba517\");\n",
       "          const url = new URL(\"/\", window.location);\n",
       "          const port = 6006;\n",
       "          if (port) {\n",
       "            url.port = port;\n",
       "          }\n",
       "          frame.src = url;\n",
       "        })();\n",
       "      </script>\n",
       "    "
      ],
      "text/plain": [
       "<IPython.core.display.HTML object>"
      ]
     },
     "metadata": {},
     "output_type": "display_data"
    }
   ],
   "source": [
    "# Use tensorboar\n",
    "%tensorboard --logdir logs/fit"
   ]
  },
  {
   "cell_type": "code",
   "execution_count": null,
   "id": "fb093f33-ad7d-4a7f-afb2-3c546e90c68b",
   "metadata": {
    "tags": []
   },
   "outputs": [],
   "source": []
  },
  {
   "cell_type": "code",
   "execution_count": null,
   "id": "2f0eba04-e274-4fd8-98f3-70dc0d673e4a",
   "metadata": {},
   "outputs": [],
   "source": []
  }
 ],
 "metadata": {
  "kernelspec": {
   "display_name": "TF-GPU:2.16",
   "language": "python",
   "name": "tf-gpu"
  },
  "language_info": {
   "codemirror_mode": {
    "name": "ipython",
    "version": 3
   },
   "file_extension": ".py",
   "mimetype": "text/x-python",
   "name": "python",
   "nbconvert_exporter": "python",
   "pygments_lexer": "ipython3",
   "version": "3.11.10"
  }
 },
 "nbformat": 4,
 "nbformat_minor": 5
}
