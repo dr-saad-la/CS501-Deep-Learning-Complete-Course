{
 "cells": [
  {
   "cell_type": "markdown",
   "id": "7d0b2c9a-3b34-4341-a7e6-4f3d6c764bcc",
   "metadata": {},
   "source": [
    "<div style=\"text-align:center;font-size:22pt; font-weight:bold;color:white;border:solid black 1.5pt;background-color:#1e7263;\">\n",
    "    Understanding Model Architecture Through Regression Practical Example\n",
    "</div>"
   ]
  },
  {
   "cell_type": "code",
   "execution_count": null,
   "id": "e4683217-02ea-46a1-97d2-dd92376b5749",
   "metadata": {},
   "outputs": [],
   "source": [
    "# ======================================================================= #\n",
    "# Course: Deep Learning Complete Course (CS-501)\n",
    "# Author: Dr. Saad Laouadi\n",
    "# \n",
    "#\n",
    "# ==========================================================\n",
    "# Lesson: Model Specification for Neural Network with Keras \n",
    "#         API Implementation\n",
    "# ==========================================================\n",
    "# ## Learning Objectives\n",
    "# This guide will enable you to:\n",
    "# 1. Read Data\n",
    "# 2. Build Regression Model Architecture\n",
    "# 3. Understand the ins and out of Keras Model\n",
    "# =======================================================================\n",
    "#.          Copyright © Dr. Saad Laouadi 2024\n",
    "# ======================================================================="
   ]
  },
  {
   "cell_type": "code",
   "execution_count": null,
   "id": "4ed9de9e-ac69-4de6-89b0-9f8792b3846d",
   "metadata": {
    "tags": []
   },
   "outputs": [],
   "source": [
    "# 1. Environment Setup\n",
    "# ------------------\n",
    "import os  \n",
    "from pathlib import Path\n",
    "from pprint import pprint                     # This will be used for printing dicts in a nicer format\n",
    "# Disable Metal API Validation\n",
    "# os.environ[\"METAL_DEVICE_WRAPPER_TYPE\"] = \"0\"   if you have GPU\n",
    "\n",
    "# Import necessary modules\n",
    "\n",
    "import numpy as np\n",
    "import pandas as pd\n",
    "\n",
    "\n",
    "# from layers import the Input and Dense\n",
    "\n",
    "\n",
    "# Import the Sequential Model\n",
    "\n",
    "\n",
    "print(\"=\"*72)\n",
    "\n",
    "%reload_ext watermark\n",
    "%watermark -a \"Dr. Saad Laouadi\" -u -d -m\n",
    "\n",
    "print(\"=\"*72)\n",
    "print(\"Imported Packages and Their Versions:\")\n",
    "print(\"=\"*72)\n",
    "\n",
    "%watermark -iv\n",
    "print(\"=\"*72)\n",
    "\n",
    "# Configuration\n",
    "DATA_PATH = Path(\"../../datasets/regression/wages.csv\").resolve()"
   ]
  },
  {
   "cell_type": "markdown",
   "id": "2b167faf-075d-4e9d-a12c-5f8273b635ee",
   "metadata": {},
   "source": [
    "## Objectives\n",
    "\n",
    "1. Import necessary tools\n",
    "2. Read data\n",
    "3. build Neural Network model architecture\n",
    "   - Set the input\n",
    "   - Set the hidden layers\n",
    "   - set the output layer\n",
    "   - Understand the model componens"
   ]
  },
  {
   "cell_type": "code",
   "execution_count": null,
   "id": "97b59160-8231-44ca-be00-574366520e5c",
   "metadata": {
    "tags": []
   },
   "outputs": [],
   "source": [
    "# Read the data using pandas \n",
    "\n",
    "\n",
    "# Check the Data Info\n"
   ]
  },
  {
   "cell_type": "code",
   "execution_count": null,
   "id": "45889344-5c49-4c1a-a57f-c4b0c3cdb83b",
   "metadata": {
    "tags": []
   },
   "outputs": [],
   "source": [
    "# Check the data shape\n"
   ]
  },
  {
   "cell_type": "code",
   "execution_count": null,
   "id": "74be172d-9805-4695-ab56-1e6a4033387e",
   "metadata": {
    "tags": []
   },
   "outputs": [],
   "source": [
    "# Save the number of columns in predictors: n_features\n",
    "\n",
    "\n",
    "# Instantiate a sequential model\n",
    "\n",
    "\n",
    "# Add the input layer using the add method\n",
    "\n",
    "\n",
    "# Add a fully connected layer with 64 hidden nodes and relu activation function\n",
    "\n",
    "\n",
    "\n",
    "# Add the second layer with 32 nodes\n",
    "\n",
    "\n",
    "# Add the output layer\n",
    "\n",
    "\n",
    "\n",
    "# check the model summary\n",
    "\n",
    "\n",
    "# check the model configuration\n",
    "\n",
    "\n",
    "# Check the first hidden node model weights\n",
    "\n",
    "\n",
    "# Get the number of layers\n",
    "\n",
    "\n",
    "# Plot the model \n",
    "from tensorflow.keras.utils import plot_model\n",
    "plot_model(model, \n",
    "          show_shapes=True,\n",
    "           show_dtype=True,\n",
    "           show_layer_names=True,\n",
    "           expand_nested=True,\n",
    "           show_layer_activations=True\n",
    "          )"
   ]
  },
  {
   "cell_type": "code",
   "execution_count": null,
   "id": "d8beacf6-1a4d-481b-b89a-b33b1437672f",
   "metadata": {
    "tags": []
   },
   "outputs": [],
   "source": [
    "# =============================================================== #  \n",
    "#              Get Model Information\n",
    "# =============================================================== # \n",
    "\n",
    "# Get the model input shape\n",
    "\n",
    "\n",
    "# Check the model whether it is built\n",
    "\n",
    "\n",
    "# Get the number of model weights\n",
    "\n",
    "\n",
    "# Check the initialized weights of the first layer\n",
    "\n",
    "\n",
    "# Check the shape of weights of the second hidden layer\n",
    "\n",
    "\n",
    "# Get the biases of the first hidden layer\n"
   ]
  },
  {
   "cell_type": "code",
   "execution_count": null,
   "id": "7beaed42-04be-4f18-a71c-ba8a70663dfc",
   "metadata": {},
   "outputs": [],
   "source": []
  }
 ],
 "metadata": {
  "kernelspec": {
   "display_name": "TF-GPU:2.16",
   "language": "python",
   "name": "tf-gpu"
  },
  "language_info": {
   "codemirror_mode": {
    "name": "ipython",
    "version": 3
   },
   "file_extension": ".py",
   "mimetype": "text/x-python",
   "name": "python",
   "nbconvert_exporter": "python",
   "pygments_lexer": "ipython3",
   "version": "3.11.10"
  }
 },
 "nbformat": 4,
 "nbformat_minor": 5
}
