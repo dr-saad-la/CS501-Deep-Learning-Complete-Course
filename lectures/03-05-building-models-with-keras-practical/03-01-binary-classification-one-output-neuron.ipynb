{
 "cells": [
  {
   "cell_type": "markdown",
   "id": "297156c1-7deb-4c1d-b601-7a156476a408",
   "metadata": {},
   "source": [
    "<div style=\"text-align:center;font-size:22pt; font-weight:bold;color:white;border:solid black 1.5pt;background-color:#1e7263;\">\n",
    "    Binary Classification with Deep Learning: Titanic Survival Prediction\n",
    "</div>"
   ]
  },
  {
   "cell_type": "code",
   "execution_count": 1,
   "id": "131fa24a-96cf-4cc5-a2a7-945b355942c7",
   "metadata": {},
   "outputs": [],
   "source": [
    "# ======================================================================= \n",
    "# Course: Deep Learning Complete Course (CS-501)\n",
    "# Author: Dr. Saad Laouadi\n",
    "# \n",
    "# \n",
    "# =======================================================================\n",
    "# Module: Binary Classification with Neural Networks\n",
    "# Topic: Implementation using Keras API\n",
    "# =======================================================================\n",
    "# Learning Objectives:\n",
    "# 1. Design and implement neural network architecture for binary classification\n",
    "# 2. Configure model compilation with appropriate loss functions and metrics\n",
    "# 3. Train and evaluate classification models using the Titanic dataset\n",
    "# 4. Understand the differences between regression and classification tasks\n",
    "# =======================================================================\n",
    "# Prerequisites:\n",
    "# - Basic understanding of Python programming\n",
    "# - Familiarity with neural network concepts\n",
    "# - Knowledge of data preprocessing techniques\n",
    "# =======================================================================\n",
    "#          Copyright © Dr. Saad Laouadi 2024\n",
    "# ======================================================================="
   ]
  },
  {
   "cell_type": "code",
   "execution_count": 2,
   "id": "c26ca844-8301-46b7-89da-e2dca2248ec4",
   "metadata": {
    "tags": []
   },
   "outputs": [
    {
     "name": "stdout",
     "output_type": "stream",
     "text": [
      "========================================================================\n",
      "Author: Dr. Saad Laouadi\n",
      "\n",
      "Last updated: 2024-12-10\n",
      "\n",
      "Compiler    : Clang 14.0.6 \n",
      "OS          : Darwin\n",
      "Release     : 24.1.0\n",
      "Machine     : arm64\n",
      "Processor   : arm\n",
      "CPU cores   : 16\n",
      "Architecture: 64bit\n",
      "\n",
      "========================================================================\n",
      "Imported Packages and Their Versions:\n",
      "========================================================================\n",
      "matplotlib: 3.9.2\n",
      "pandas    : 2.2.2\n",
      "numpy     : 1.26.4\n",
      "keras     : 3.6.0\n",
      "\n",
      "========================================================================\n"
     ]
    }
   ],
   "source": [
    "# 1. Environment Setup\n",
    "# ------------------\n",
    "import os  \n",
    "from pathlib import Path\n",
    "from pprint import pprint                     # This will be used for printing dicts in a nicer format\n",
    "# Disable Metal API Validation\n",
    "os.environ[\"METAL_DEVICE_WRAPPER_TYPE\"] = \"0\"   # if you have GPU\n",
    "\n",
    "# Import necessary modules\n",
    "\n",
    "import numpy as np\n",
    "import pandas as pd\n",
    "import matplotlib.pyplot as plt\n",
    "\n",
    "# from layers import the Input and Dense\n",
    "from tensorflow.keras.layers import Input, Dense\n",
    "\n",
    "# Import the Sequential Model\n",
    "from tensorflow.keras.models import Sequential\n",
    "\n",
    "# import utils from the keras\n",
    "from tensorflow.keras.utils import to_categorical\n",
    "\n",
    "print(\"=\"*72)\n",
    "\n",
    "%reload_ext watermark\n",
    "%watermark -a \"Dr. Saad Laouadi\" -u -d -m\n",
    "\n",
    "print(\"=\"*72)\n",
    "print(\"Imported Packages and Their Versions:\")\n",
    "print(\"=\"*72)\n",
    "\n",
    "%watermark -iv\n",
    "print(\"=\"*72)\n",
    "\n",
    "# Configuration\n",
    "DATA_PATH = Path(\"../../datasets/classification/titanic.csv\").resolve()"
   ]
  },
  {
   "cell_type": "markdown",
   "id": "0cb01030-b3f0-4a3c-8c8b-a662fe9a6c7d",
   "metadata": {},
   "source": [
    "## Project Overview\n",
    "\n",
    "In this hands-on project, we will develop a deep learning classification model to predict passenger survival from the historic Titanic disaster. This project serves as an excellent introduction to binary classification problems, one of the fundamental tasks in machine learning and deep learning.\n",
    "\n",
    "## Dataset Description\n",
    "We will work with the famous Titanic dataset, which contains detailed information about passengers including:\n",
    "- Demographic information (age, gender)\n",
    "- Socio-economic features (passenger class, fare)\n",
    "- Travel information (cabin, port of embarkation)\n",
    "- Family relationships (siblings/spouses aboard, parents/children aboard)\n",
    "\n",
    "Our target variable is binary:\n",
    "    - Survived (1)\n",
    "    - Did not survive (0)\n",
    "\n",
    "## Technical Implementation\n",
    "The project will utilize:\n",
    "- Keras Sequential model development\n",
    "- **Binary Cross-entropy** loss function\n",
    "- **Stochastic Gradient Descent (SGD)** optimizer\n",
    "\n",
    "## Model Architecture\n",
    "We will construct a neural network with:\n",
    "- An input layer matching our feature dimensions\n",
    "- A hidden layer with `ReLU` activation\n",
    "- An output layer with `sigmoid` activation for binary classification\n",
    "\n",
    "## Learning Objectives\n",
    "\n",
    "Through this project, you will learn:\n",
    "1. How to prepare data for binary classification\n",
    "2. Designing appropriate neural network architecture\n",
    "3. Configuring loss functions and optimizers\n",
    "4. Training and evaluating classification models\n",
    "\n",
    "## Key Metrics\n",
    "We will evaluate our model using:\n",
    "- `Accuracy`: Percentage of correct predictions\n",
    "- `Loss`: Categorical cross-entropy loss"
   ]
  },
  {
   "cell_type": "code",
   "execution_count": 3,
   "id": "8feb99e8-9594-48f4-80f7-614e6eb37931",
   "metadata": {
    "tags": []
   },
   "outputs": [
    {
     "name": "stdout",
     "output_type": "stream",
     "text": [
      "<class 'pandas.core.frame.DataFrame'>\n",
      "RangeIndex: 891 entries, 0 to 890\n",
      "Data columns (total 11 columns):\n",
      " #   Column                     Non-Null Count  Dtype  \n",
      "---  ------                     --------------  -----  \n",
      " 0   survived                   891 non-null    int64  \n",
      " 1   pclass                     891 non-null    int64  \n",
      " 2   age                        891 non-null    float64\n",
      " 3   sibsp                      891 non-null    int64  \n",
      " 4   parch                      891 non-null    int64  \n",
      " 5   fare                       891 non-null    float64\n",
      " 6   male                       891 non-null    int64  \n",
      " 7   age_was_missing            891 non-null    bool   \n",
      " 8   embarked_from_cherbourg    891 non-null    int64  \n",
      " 9   embarked_from_queenstown   891 non-null    int64  \n",
      " 10  embarked_from_southampton  891 non-null    int64  \n",
      "dtypes: bool(1), float64(2), int64(8)\n",
      "memory usage: 70.6 KB\n"
     ]
    }
   ],
   "source": [
    "# ==================================================== #\n",
    "#        Load and Explore the data\n",
    "# ==================================================== #\n",
    "# Load the dataset\n",
    "data = pd.read_csv(DATA_PATH)\n",
    "\n",
    "# Display basic information about the dataset\n",
    "data.info()"
   ]
  },
  {
   "cell_type": "code",
   "execution_count": 4,
   "id": "afea170a-2ca1-478e-a751-8543532a68b5",
   "metadata": {
    "tags": []
   },
   "outputs": [
    {
     "name": "stdout",
     "output_type": "stream",
     "text": [
      "Features shape: (891, 10)\n",
      "Target shape: (891,)\n",
      "Sample of target data:\n",
      "[0 1 1 1 0]\n",
      "Number of input features: 10\n"
     ]
    }
   ],
   "source": [
    "# ==================================================== #\n",
    "#        Prepare the data for model\n",
    "# ==================================================== #\n",
    "# Separate features (predictors) from the target variable\n",
    "predictors = data.drop(columns=\"survived\").values\n",
    "predictors = predictors.astype('float64')         # Convert to float64 for numerical stability\n",
    "\n",
    "# Prepare the target variable\n",
    "target = data['survived'].values\n",
    "\n",
    "# Reshape the target to be 2d array\n",
    "# target = target.reshape(-1, 1)\n",
    "\n",
    "# Print shapes to verify the data structure\n",
    "print(f\"Features shape: {predictors.shape}\")\n",
    "print(f\"Target shape: {target.shape}\")\n",
    "print(f\"Sample of target data:\\n{target[:5]}\")\n",
    "\n",
    "# Get the number of input features\n",
    "n_cols = predictors.shape[1]\n",
    "print(f\"Number of input features: {n_cols}\")"
   ]
  },
  {
   "cell_type": "code",
   "execution_count": 5,
   "id": "0deefa35-a7cf-40bf-bd4b-2617a15847b0",
   "metadata": {
    "tags": []
   },
   "outputs": [
    {
     "data": {
      "text/html": [
       "<pre style=\"white-space:pre;overflow-x:auto;line-height:normal;font-family:Menlo,'DejaVu Sans Mono',consolas,'Courier New',monospace\"><span style=\"font-weight: bold\">Model: \"sequential\"</span>\n",
       "</pre>\n"
      ],
      "text/plain": [
       "\u001b[1mModel: \"sequential\"\u001b[0m\n"
      ]
     },
     "metadata": {},
     "output_type": "display_data"
    },
    {
     "data": {
      "text/html": [
       "<pre style=\"white-space:pre;overflow-x:auto;line-height:normal;font-family:Menlo,'DejaVu Sans Mono',consolas,'Courier New',monospace\">┏━━━━━━━━━━━━━━━━━━━━━━━━━━━━━━━━━┳━━━━━━━━━━━━━━━━━━━━━━━━┳━━━━━━━━━━━━━━━┓\n",
       "┃<span style=\"font-weight: bold\"> Layer (type)                    </span>┃<span style=\"font-weight: bold\"> Output Shape           </span>┃<span style=\"font-weight: bold\">       Param # </span>┃\n",
       "┡━━━━━━━━━━━━━━━━━━━━━━━━━━━━━━━━━╇━━━━━━━━━━━━━━━━━━━━━━━━╇━━━━━━━━━━━━━━━┩\n",
       "│ dense (<span style=\"color: #0087ff; text-decoration-color: #0087ff\">Dense</span>)                   │ (<span style=\"color: #00d7ff; text-decoration-color: #00d7ff\">None</span>, <span style=\"color: #00af00; text-decoration-color: #00af00\">32</span>)             │           <span style=\"color: #00af00; text-decoration-color: #00af00\">352</span> │\n",
       "├─────────────────────────────────┼────────────────────────┼───────────────┤\n",
       "│ dense_1 (<span style=\"color: #0087ff; text-decoration-color: #0087ff\">Dense</span>)                 │ (<span style=\"color: #00d7ff; text-decoration-color: #00d7ff\">None</span>, <span style=\"color: #00af00; text-decoration-color: #00af00\">1</span>)              │            <span style=\"color: #00af00; text-decoration-color: #00af00\">33</span> │\n",
       "└─────────────────────────────────┴────────────────────────┴───────────────┘\n",
       "</pre>\n"
      ],
      "text/plain": [
       "┏━━━━━━━━━━━━━━━━━━━━━━━━━━━━━━━━━┳━━━━━━━━━━━━━━━━━━━━━━━━┳━━━━━━━━━━━━━━━┓\n",
       "┃\u001b[1m \u001b[0m\u001b[1mLayer (type)                   \u001b[0m\u001b[1m \u001b[0m┃\u001b[1m \u001b[0m\u001b[1mOutput Shape          \u001b[0m\u001b[1m \u001b[0m┃\u001b[1m \u001b[0m\u001b[1m      Param #\u001b[0m\u001b[1m \u001b[0m┃\n",
       "┡━━━━━━━━━━━━━━━━━━━━━━━━━━━━━━━━━╇━━━━━━━━━━━━━━━━━━━━━━━━╇━━━━━━━━━━━━━━━┩\n",
       "│ dense (\u001b[38;5;33mDense\u001b[0m)                   │ (\u001b[38;5;45mNone\u001b[0m, \u001b[38;5;34m32\u001b[0m)             │           \u001b[38;5;34m352\u001b[0m │\n",
       "├─────────────────────────────────┼────────────────────────┼───────────────┤\n",
       "│ dense_1 (\u001b[38;5;33mDense\u001b[0m)                 │ (\u001b[38;5;45mNone\u001b[0m, \u001b[38;5;34m1\u001b[0m)              │            \u001b[38;5;34m33\u001b[0m │\n",
       "└─────────────────────────────────┴────────────────────────┴───────────────┘\n"
      ]
     },
     "metadata": {},
     "output_type": "display_data"
    },
    {
     "data": {
      "text/html": [
       "<pre style=\"white-space:pre;overflow-x:auto;line-height:normal;font-family:Menlo,'DejaVu Sans Mono',consolas,'Courier New',monospace\"><span style=\"font-weight: bold\"> Total params: </span><span style=\"color: #00af00; text-decoration-color: #00af00\">385</span> (1.50 KB)\n",
       "</pre>\n"
      ],
      "text/plain": [
       "\u001b[1m Total params: \u001b[0m\u001b[38;5;34m385\u001b[0m (1.50 KB)\n"
      ]
     },
     "metadata": {},
     "output_type": "display_data"
    },
    {
     "data": {
      "text/html": [
       "<pre style=\"white-space:pre;overflow-x:auto;line-height:normal;font-family:Menlo,'DejaVu Sans Mono',consolas,'Courier New',monospace\"><span style=\"font-weight: bold\"> Trainable params: </span><span style=\"color: #00af00; text-decoration-color: #00af00\">385</span> (1.50 KB)\n",
       "</pre>\n"
      ],
      "text/plain": [
       "\u001b[1m Trainable params: \u001b[0m\u001b[38;5;34m385\u001b[0m (1.50 KB)\n"
      ]
     },
     "metadata": {},
     "output_type": "display_data"
    },
    {
     "data": {
      "text/html": [
       "<pre style=\"white-space:pre;overflow-x:auto;line-height:normal;font-family:Menlo,'DejaVu Sans Mono',consolas,'Courier New',monospace\"><span style=\"font-weight: bold\"> Non-trainable params: </span><span style=\"color: #00af00; text-decoration-color: #00af00\">0</span> (0.00 B)\n",
       "</pre>\n"
      ],
      "text/plain": [
       "\u001b[1m Non-trainable params: \u001b[0m\u001b[38;5;34m0\u001b[0m (0.00 B)\n"
      ]
     },
     "metadata": {},
     "output_type": "display_data"
    }
   ],
   "source": [
    "# ==================================================== #\n",
    "#        Build Model Architecture\n",
    "# ==================================================== #\n",
    "# Initialize the sequential model\n",
    "model = Sequential()\n",
    "\n",
    "# Add the input layer with shape matching our features\n",
    "model.add(Input(shape=(n_cols,)))\n",
    "\n",
    "# Add hidden layer with 32 neurons and ReLU activation\n",
    "model.add(Dense(32, activation='relu'))\n",
    "\n",
    "# Add output layer with 2 neurons (binary classification) and softmax activation\n",
    "model.add(Dense(1, activation='sigmoid'))\n",
    "\n",
    "# Display model architecture\n",
    "model.summary()"
   ]
  },
  {
   "cell_type": "code",
   "execution_count": 6,
   "id": "58e1eff3-04bd-4135-a9b7-469fbd9f6a48",
   "metadata": {
    "tags": []
   },
   "outputs": [
    {
     "name": "stdout",
     "output_type": "stream",
     "text": [
      "Epoch 1/25\n",
      "\u001b[1m45/45\u001b[0m \u001b[32m━━━━━━━━━━━━━━━━━━━━\u001b[0m\u001b[37m\u001b[0m \u001b[1m1s\u001b[0m 8ms/step - accuracy: 0.5512 - loss: 3.0066 - val_accuracy: 0.7821 - val_loss: 0.5993\n",
      "Epoch 2/25\n",
      "\u001b[1m45/45\u001b[0m \u001b[32m━━━━━━━━━━━━━━━━━━━━\u001b[0m\u001b[37m\u001b[0m \u001b[1m0s\u001b[0m 4ms/step - accuracy: 0.6512 - loss: 0.7488 - val_accuracy: 0.7430 - val_loss: 0.5674\n",
      "Epoch 3/25\n",
      "\u001b[1m45/45\u001b[0m \u001b[32m━━━━━━━━━━━━━━━━━━━━\u001b[0m\u001b[37m\u001b[0m \u001b[1m0s\u001b[0m 4ms/step - accuracy: 0.5920 - loss: 0.7983 - val_accuracy: 0.6425 - val_loss: 0.7129\n",
      "Epoch 4/25\n",
      "\u001b[1m45/45\u001b[0m \u001b[32m━━━━━━━━━━━━━━━━━━━━\u001b[0m\u001b[37m\u001b[0m \u001b[1m0s\u001b[0m 4ms/step - accuracy: 0.6618 - loss: 0.6354 - val_accuracy: 0.6872 - val_loss: 0.5536\n",
      "Epoch 5/25\n",
      "\u001b[1m45/45\u001b[0m \u001b[32m━━━━━━━━━━━━━━━━━━━━\u001b[0m\u001b[37m\u001b[0m \u001b[1m0s\u001b[0m 4ms/step - accuracy: 0.6646 - loss: 0.6084 - val_accuracy: 0.7430 - val_loss: 0.5055\n",
      "Epoch 6/25\n",
      "\u001b[1m45/45\u001b[0m \u001b[32m━━━━━━━━━━━━━━━━━━━━\u001b[0m\u001b[37m\u001b[0m \u001b[1m0s\u001b[0m 4ms/step - accuracy: 0.6840 - loss: 0.6154 - val_accuracy: 0.7542 - val_loss: 0.5298\n",
      "Epoch 7/25\n",
      "\u001b[1m45/45\u001b[0m \u001b[32m━━━━━━━━━━━━━━━━━━━━\u001b[0m\u001b[37m\u001b[0m \u001b[1m0s\u001b[0m 4ms/step - accuracy: 0.6897 - loss: 0.6110 - val_accuracy: 0.7374 - val_loss: 0.5023\n",
      "Epoch 8/25\n",
      "\u001b[1m45/45\u001b[0m \u001b[32m━━━━━━━━━━━━━━━━━━━━\u001b[0m\u001b[37m\u001b[0m \u001b[1m0s\u001b[0m 4ms/step - accuracy: 0.6938 - loss: 0.6087 - val_accuracy: 0.6425 - val_loss: 0.7049\n",
      "Epoch 9/25\n",
      "\u001b[1m45/45\u001b[0m \u001b[32m━━━━━━━━━━━━━━━━━━━━\u001b[0m\u001b[37m\u001b[0m \u001b[1m0s\u001b[0m 4ms/step - accuracy: 0.6708 - loss: 0.6202 - val_accuracy: 0.7207 - val_loss: 0.4994\n",
      "Epoch 10/25\n",
      "\u001b[1m45/45\u001b[0m \u001b[32m━━━━━━━━━━━━━━━━━━━━\u001b[0m\u001b[37m\u001b[0m \u001b[1m0s\u001b[0m 4ms/step - accuracy: 0.6867 - loss: 0.6173 - val_accuracy: 0.7598 - val_loss: 0.5989\n",
      "Epoch 11/25\n",
      "\u001b[1m45/45\u001b[0m \u001b[32m━━━━━━━━━━━━━━━━━━━━\u001b[0m\u001b[37m\u001b[0m \u001b[1m0s\u001b[0m 4ms/step - accuracy: 0.6842 - loss: 0.6143 - val_accuracy: 0.7598 - val_loss: 0.5938\n",
      "Epoch 12/25\n",
      "\u001b[1m45/45\u001b[0m \u001b[32m━━━━━━━━━━━━━━━━━━━━\u001b[0m\u001b[37m\u001b[0m \u001b[1m0s\u001b[0m 4ms/step - accuracy: 0.7109 - loss: 0.5780 - val_accuracy: 0.7542 - val_loss: 0.5245\n",
      "Epoch 13/25\n",
      "\u001b[1m45/45\u001b[0m \u001b[32m━━━━━━━━━━━━━━━━━━━━\u001b[0m\u001b[37m\u001b[0m \u001b[1m0s\u001b[0m 4ms/step - accuracy: 0.6932 - loss: 0.5969 - val_accuracy: 0.4190 - val_loss: 0.7547\n",
      "Epoch 14/25\n",
      "\u001b[1m45/45\u001b[0m \u001b[32m━━━━━━━━━━━━━━━━━━━━\u001b[0m\u001b[37m\u001b[0m \u001b[1m0s\u001b[0m 4ms/step - accuracy: 0.6935 - loss: 0.6036 - val_accuracy: 0.7598 - val_loss: 0.5057\n",
      "Epoch 15/25\n",
      "\u001b[1m45/45\u001b[0m \u001b[32m━━━━━━━━━━━━━━━━━━━━\u001b[0m\u001b[37m\u001b[0m \u001b[1m0s\u001b[0m 4ms/step - accuracy: 0.7146 - loss: 0.5885 - val_accuracy: 0.7654 - val_loss: 0.5274\n",
      "Epoch 16/25\n",
      "\u001b[1m45/45\u001b[0m \u001b[32m━━━━━━━━━━━━━━━━━━━━\u001b[0m\u001b[37m\u001b[0m \u001b[1m0s\u001b[0m 4ms/step - accuracy: 0.6961 - loss: 0.5770 - val_accuracy: 0.7709 - val_loss: 0.5043\n",
      "Epoch 17/25\n",
      "\u001b[1m45/45\u001b[0m \u001b[32m━━━━━━━━━━━━━━━━━━━━\u001b[0m\u001b[37m\u001b[0m \u001b[1m0s\u001b[0m 4ms/step - accuracy: 0.6965 - loss: 0.6116 - val_accuracy: 0.7709 - val_loss: 0.5007\n",
      "Epoch 18/25\n",
      "\u001b[1m45/45\u001b[0m \u001b[32m━━━━━━━━━━━━━━━━━━━━\u001b[0m\u001b[37m\u001b[0m \u001b[1m0s\u001b[0m 4ms/step - accuracy: 0.7333 - loss: 0.5675 - val_accuracy: 0.7598 - val_loss: 0.5066\n",
      "Epoch 19/25\n",
      "\u001b[1m45/45\u001b[0m \u001b[32m━━━━━━━━━━━━━━━━━━━━\u001b[0m\u001b[37m\u001b[0m \u001b[1m0s\u001b[0m 4ms/step - accuracy: 0.6842 - loss: 0.6092 - val_accuracy: 0.7598 - val_loss: 0.4982\n",
      "Epoch 20/25\n",
      "\u001b[1m45/45\u001b[0m \u001b[32m━━━━━━━━━━━━━━━━━━━━\u001b[0m\u001b[37m\u001b[0m \u001b[1m0s\u001b[0m 4ms/step - accuracy: 0.6540 - loss: 0.6052 - val_accuracy: 0.7542 - val_loss: 0.5132\n",
      "Epoch 21/25\n",
      "\u001b[1m45/45\u001b[0m \u001b[32m━━━━━━━━━━━━━━━━━━━━\u001b[0m\u001b[37m\u001b[0m \u001b[1m0s\u001b[0m 4ms/step - accuracy: 0.7110 - loss: 0.5726 - val_accuracy: 0.7765 - val_loss: 0.5784\n",
      "Epoch 22/25\n",
      "\u001b[1m45/45\u001b[0m \u001b[32m━━━━━━━━━━━━━━━━━━━━\u001b[0m\u001b[37m\u001b[0m \u001b[1m0s\u001b[0m 4ms/step - accuracy: 0.6770 - loss: 0.6076 - val_accuracy: 0.7318 - val_loss: 0.5158\n",
      "Epoch 23/25\n",
      "\u001b[1m45/45\u001b[0m \u001b[32m━━━━━━━━━━━━━━━━━━━━\u001b[0m\u001b[37m\u001b[0m \u001b[1m0s\u001b[0m 4ms/step - accuracy: 0.6946 - loss: 0.5960 - val_accuracy: 0.7709 - val_loss: 0.5305\n",
      "Epoch 24/25\n",
      "\u001b[1m45/45\u001b[0m \u001b[32m━━━━━━━━━━━━━━━━━━━━\u001b[0m\u001b[37m\u001b[0m \u001b[1m0s\u001b[0m 4ms/step - accuracy: 0.7283 - loss: 0.5743 - val_accuracy: 0.7821 - val_loss: 0.5201\n",
      "Epoch 25/25\n",
      "\u001b[1m45/45\u001b[0m \u001b[32m━━━━━━━━━━━━━━━━━━━━\u001b[0m\u001b[37m\u001b[0m \u001b[1m0s\u001b[0m 4ms/step - accuracy: 0.7285 - loss: 0.5782 - val_accuracy: 0.6425 - val_loss: 0.5948\n"
     ]
    },
    {
     "data": {
      "text/plain": [
       "<keras.src.callbacks.history.History at 0x341c48c10>"
      ]
     },
     "execution_count": 6,
     "metadata": {},
     "output_type": "execute_result"
    }
   ],
   "source": [
    "# ==================================================== #\n",
    "#        Train the model\n",
    "# ==================================================== #\n",
    "\n",
    "# Configure the model with optimizer, loss function, and metrics\n",
    "model.compile(\n",
    "    optimizer='sgd',                       # Stochastic Gradient Descent optimizer\n",
    "    loss='binary_crossentropy',            # Standard loss for classification\n",
    "    metrics=['accuracy']                   # Track accuracy during training\n",
    ")\n",
    "\n",
    "# Train the model\n",
    "model.fit(\n",
    "    predictors,                            # Input features\n",
    "    target,                                # Target variable\n",
    "    epochs=25,                             # Number of training cycles\n",
    "    batch_size=16,                         # Number of samples per gradient update\n",
    "    validation_split=0.2                   # Use 20% of data for validation\n",
    ")"
   ]
  },
  {
   "cell_type": "code",
   "execution_count": null,
   "id": "497cbed3-f4fc-4b69-bde1-833dc5f46ee8",
   "metadata": {},
   "outputs": [],
   "source": []
  }
 ],
 "metadata": {
  "kernelspec": {
   "display_name": "TF-GPU:2.16",
   "language": "python",
   "name": "tf-gpu"
  },
  "language_info": {
   "codemirror_mode": {
    "name": "ipython",
    "version": 3
   },
   "file_extension": ".py",
   "mimetype": "text/x-python",
   "name": "python",
   "nbconvert_exporter": "python",
   "pygments_lexer": "ipython3",
   "version": "3.11.10"
  }
 },
 "nbformat": 4,
 "nbformat_minor": 5
}
