{
 "cells": [
  {
   "cell_type": "markdown",
   "id": "7d0b2c9a-3b34-4341-a7e6-4f3d6c764bcc",
   "metadata": {},
   "source": [
    "<div style=\"text-align:center;font-size:22pt; font-weight:bold;color:white;border:solid black 1.5pt;background-color:#1e7263;\">\n",
    "    Understand the Input and First Hidden Dense Layer \n",
    "</div>"
   ]
  },
  {
   "cell_type": "code",
   "execution_count": null,
   "id": "bdc0d326-5351-4455-bda7-6a6e471a9f90",
   "metadata": {},
   "outputs": [],
   "source": [
    "# ======================================================================= #\n",
    "# Course: Deep Learning Complete Course (CS-501)\n",
    "# Author: Dr. Saad Laouadi\n",
    "# Lesson: Impelementing Feed Forward Propagation\n",
    "#\n",
    "# ==========================================================\n",
    "# Neural Network Fundamentals: From Theory to Implementation\n",
    "# ==========================================================\n",
    "## Core Concepts\n",
    "# - **Neural network architecture**\n",
    "# - **Feed-forward propagation**\n",
    "# - **Dense layer mechanics**\n",
    "# - **Weight/bias initialization**\n",
    "\n",
    "# ## Mathematical Framework\n",
    "# - **Matrix operations**\n",
    "# - **Layer computations**\n",
    "# - **Activation functions**\n",
    "# - **Vectorized implementation**\n",
    "\n",
    "# ## Implementation Methods\n",
    "# - **NumPy**: Low-level understanding\n",
    "# - **TensorFlow**: Performance optimization\n",
    "# - **Keras**: Production-ready code\n",
    "\n",
    "# ## Prerequisites\n",
    "# - Python programming\n",
    "# - Basic linear algebra\n",
    "# - Elementary calculus\n",
    "\n",
    "# ## Learning Objectives\n",
    "# This guide will enable you to:\n",
    "# 1. Implement neural networks from scratch.\n",
    "# 2. Understand the input and dense layers.\n",
    "# 3. Understand keras implementation\n",
    "# =======================================================================\n",
    "#.          Copyright © Dr. Saad Laouadi 2024\n",
    "# ======================================================================="
   ]
  },
  {
   "cell_type": "code",
   "execution_count": 1,
   "id": "a82baf19-bb1f-4f25-be55-38e635f91b63",
   "metadata": {},
   "outputs": [],
   "source": []
  },
  {
   "cell_type": "code",
   "execution_count": 1,
   "id": "4ed9de9e-ac69-4de6-89b0-9f8792b3846d",
   "metadata": {
    "tags": []
   },
   "outputs": [
    {
     "name": "stdout",
     "output_type": "stream",
     "text": [
      "========================================================================\n",
      "Author: Dr. Saad Laouadi\n",
      "\n",
      "Last updated: 2024-12-03\n",
      "\n",
      "Compiler    : Clang 14.0.6 \n",
      "OS          : Darwin\n",
      "Release     : 24.1.0\n",
      "Machine     : arm64\n",
      "Processor   : arm\n",
      "CPU cores   : 16\n",
      "Architecture: 64bit\n",
      "\n",
      "========================================================================\n",
      "Imported Packages and Their Versions:\n",
      "========================================================================\n",
      "sympy     : 1.13.3\n",
      "numpy     : 1.26.4\n",
      "pandas    : 2.2.2\n",
      "keras     : 3.6.0\n",
      "tensorflow: 2.16.2\n",
      "\n",
      "========================================================================\n"
     ]
    }
   ],
   "source": [
    "# 1. Environment Setup\n",
    "# ------------------\n",
    "import os  \n",
    "from pprint import pprint                     # This will be used for printing dicts in a nicer format\n",
    "# Disable Metal API Validation\n",
    "os.environ[\"METAL_DEVICE_WRAPPER_TYPE\"] = \"0\"\n",
    "\n",
    "import numpy as np\n",
    "import pandas as pd\n",
    "\n",
    "# Import sympy of symbolic python\n",
    "import sympy as sp\n",
    "\n",
    "import tensorflow as tf\n",
    "from tensorflow import keras\n",
    "\n",
    "\n",
    "print(\"=\"*72)\n",
    "\n",
    "%reload_ext watermark\n",
    "%watermark -a \"Dr. Saad Laouadi\" -u -d -m\n",
    "\n",
    "print(\"=\"*72)\n",
    "print(\"Imported Packages and Their Versions:\")\n",
    "print(\"=\"*72)\n",
    "\n",
    "%watermark -iv\n",
    "print(\"=\"*72)"
   ]
  },
  {
   "cell_type": "markdown",
   "id": "cdc37866-8c76-4da2-8ec6-d6d79b8b6813",
   "metadata": {},
   "source": [
    "## Introduction\n",
    "\n",
    "In this notebook, we'll learn how neural networks process information by examining their key building blocks. We'll start with the basics: how data enters the network, how weights and biases shape the learning process, and how layers work together to generate outputs.\n",
    "\n",
    "\n",
    "You'll get hands-on experience building neural networks in three ways:\n",
    "  - Using NumPy to understand the core mathematics\n",
    "  - Using TensorFlow for efficient computation\n",
    "  - Using Keras for rapid development\n",
    "\n",
    "By implementing neural networks from scratch and with frameworks, you'll gain both deep understanding and practical skills. Let's begin by exploring how data flows through a neural network!"
   ]
  },
  {
   "cell_type": "markdown",
   "id": "8c623dd7-acf7-468f-a4d9-e4466a7e710f",
   "metadata": {},
   "source": [
    "## Understanding Model Architecture\n",
    "\n",
    "![Multi-layer perceptron](../../_Assets/Networks/MLP.png)"
   ]
  },
  {
   "cell_type": "markdown",
   "id": "e8e61da3-4ab4-4e36-bae3-b8300e941e9f",
   "metadata": {},
   "source": [
    "# Understanding Neural Network Layers and Implementation\n",
    "\n",
    "### Input Layer\n",
    "The input layer is your neural network's data entry point. It's designed to match your dataset's structure:\n",
    " - Number of neurons = Number of features in your data\n",
    " - Each neuron receives one feature value\n",
    " - No data transformation occurs here\n",
    "\n",
    "Simple implementation with Keras:\n",
    "\n",
    "```python\n",
    "from tensorflow.keras.layers import Input\n",
    "Input(shape = (nfeatures, ))\n",
    "```\n",
    "\n",
    "## Dense Layer (Fully Connected)\n",
    "Dense layers learn patterns by connecting every neuron to all neurons in the next layer:\n",
    " - **units**: Number of neurons in the layer, determining its learning capacity\n",
    " - Each connection has a trainable weight\n",
    " - Each neuron has a bias term\n",
    " - Activation functions transform outputs\n",
    "\n",
    "So, when you configure a Dense layer in a neural network, you're specifying the complexity of that layer in terms of neurons, which is independent of the number of features in your input data. The connection between the input layer and the first hidden layer (a Dense layer, in this case) involves weights that map each input neuron to each neuron in the Dense layer, forming a fully connected network structure.\n",
    "\n",
    "Basic implementation:\n",
    "\n",
    "```python\n",
    "from tensorflow.keras.layers import Dense\n",
    "dense_layer = Dense(units=64, activation='relu')  # 64 neurons with ReLU activation\n",
    "```\n",
    "\n",
    "In the coming sections, we'll implement these layers using different approaches to understand their inner workings.\n",
    "\n",
    "## Understanding the Weights Matrix\n",
    "\n",
    "The weights matrix defines connections between layers in a neural network:\n",
    "\n",
    "#### Matrix Structure\n",
    " - Rows: Number of input features\n",
    " - Columns: Number of neurons in current layer\n",
    " - Shape Example: 3 input features → 4 neurons = [3,4] matrix\n",
    "\n",
    "### Implementation Example\n",
    "\n",
    "For a dense layer with 3 inputs and 4 neurons:\n",
    "```python\n",
    "weights_matrix = np.random.randn(3, 4)  # Shape: [n_inputs, n_neurons]\n",
    "input_data = np.array([x1, x2, x3])     # 3 features\n",
    "output = np.dot(input_data, weights_matrix)  # Matrix multiplication\n",
    "```\n",
    "\n",
    "### Matrix Operations\n",
    "Each neuron's output is calculated by:\n",
    "\n",
    " 1. Multiplying each input by its corresponding weight\n",
    " 2. Summing these weighted values\n",
    " 3. Adding a bias term\n",
    " 4. Applying an activation function\n",
    "\n",
    "This structure enables the network to learn complex patterns by adjusting weights during training."
   ]
  },
  {
   "cell_type": "markdown",
   "id": "ba4b44fa-15b9-4c38-9d7c-121c3ceca463",
   "metadata": {},
   "source": [
    "## Manual Example \n",
    "\n",
    "In this example we will generate input data, weights and biases randomly, and perform the feed forward propagation to computer the hidden layer output. "
   ]
  },
  {
   "cell_type": "code",
   "execution_count": 2,
   "id": "0d0c865c-f5d7-42de-b607-11daef32c038",
   "metadata": {
    "tags": []
   },
   "outputs": [
    {
     "data": {
      "text/latex": [
       "$\\displaystyle \\left[\\begin{matrix}12 & 15 & 0\\\\3 & 3 & 7\\\\9 & 19 & 18\\\\4 & 6 & 12\\\\1 & 6 & 7\\end{matrix}\\right]$"
      ],
      "text/plain": [
       "Matrix([\n",
       "[12, 15,  0],\n",
       "[ 3,  3,  7],\n",
       "[ 9, 19, 18],\n",
       "[ 4,  6, 12],\n",
       "[ 1,  6,  7]])"
      ]
     },
     "execution_count": 2,
     "metadata": {},
     "output_type": "execute_result"
    }
   ],
   "source": [
    "# Create random input data of shape (5, 3) - 5 samples with 3 features each\n",
    "\n",
    "# Set the seed for reproducibility\n",
    "np.random.seed(0)\n",
    "\n",
    "# Generate random integer data\n",
    "input_data = np.random.choice([*range(21)], size = (5,3))  \n",
    "\n",
    "\n",
    "# Display the data in the symbolic form\n",
    "sp.Matrix(input_data)"
   ]
  },
  {
   "cell_type": "code",
   "execution_count": 3,
   "id": "7c99bebb-d9f1-4366-b748-cc885963c783",
   "metadata": {
    "tags": []
   },
   "outputs": [
    {
     "data": {
      "text/latex": [
       "$\\displaystyle \\left[\\begin{matrix}4 & 0 & 3 & 3\\\\3 & 1 & 3 & 2\\\\4 & 0 & 0 & 4\\end{matrix}\\right]$"
      ],
      "text/plain": [
       "Matrix([\n",
       "[4, 0, 3, 3],\n",
       "[3, 1, 3, 2],\n",
       "[4, 0, 0, 4]])"
      ]
     },
     "execution_count": 3,
     "metadata": {},
     "output_type": "execute_result"
    }
   ],
   "source": [
    "# Define random weights for 4 nodes in the hidded layer, each connecting to 3 input features\n",
    "np.random.seed(0)\n",
    "\n",
    "weights = np.random.choice([*range(5)], size = (3,4))  # 3 input features, 4 units in Dense layer\n",
    "\n",
    "# Display the weights Matrix\n",
    "sp.Matrix(weights)"
   ]
  },
  {
   "cell_type": "code",
   "execution_count": 4,
   "id": "60087b30-0dac-4677-b4b8-7e022f4c88a6",
   "metadata": {
    "tags": []
   },
   "outputs": [
    {
     "name": "stdout",
     "output_type": "stream",
     "text": [
      "(4,)\n"
     ]
    },
    {
     "data": {
      "text/latex": [
       "$\\displaystyle \\left[\\begin{matrix}4\\\\0\\\\3\\\\3\\end{matrix}\\right]$"
      ],
      "text/plain": [
       "Matrix([\n",
       "[4],\n",
       "[0],\n",
       "[3],\n",
       "[3]])"
      ]
     },
     "execution_count": 4,
     "metadata": {},
     "output_type": "execute_result"
    }
   ],
   "source": [
    "# Define random biases for each of the 4 nodes\n",
    "np.random.seed(0)\n",
    "\n",
    "biases = np.random.choice([*range(5)], size = 4)  # 4 units in Dense layer\n",
    "print(biases.shape)\n",
    "\n",
    "# Display the biases Vector\n",
    "sp.Matrix(biases)"
   ]
  },
  {
   "cell_type": "markdown",
   "id": "b24cb671-860e-4f65-b802-eba35bca5463",
   "metadata": {},
   "source": [
    "## How the Calculations is Performed (Manually)\n",
    "\n",
    "Here's how the first row of the output matrix is calculated step by step:\n",
    "\n",
    "1. **Input Data (First Row)**: \n",
    "\n",
    "$$\n",
    "\\displaystyle \\left[\\begin{matrix}12 & 15 & 0\\\\3 & 3 & 7\\\\9 & 19 & 18\\\\4 & 6 & 12\\\\1 & 6 & 7\\end{matrix}\\right]\n",
    "$$\n",
    "\n",
    "2. **Weights Matrix**:\n",
    "   $$\n",
    " \\displaystyle \\left[\\begin{matrix}4 & 0 & 3 & 3\\\\3 & 1 & 3 & 2\\\\4 & 0 & 0 & 4\\end{matrix}\\right]\n",
    "   $$\n",
    "\n",
    "3. **Biases Vector**: $$\\displaystyle \\left[\\begin{matrix}4\\\\0\\\\3\\\\3\\end{matrix}\\right]$$\n",
    "\n",
    "4. **Calculation of Output for the First Row**: The output is calculated as the **dot product** of the input row and the weights matrix, plus the biases.\n",
    "\n",
    "   $$\n",
    "   \\text{First Output} = \\begin{bmatrix} 12 & 15 & 0 \\end{bmatrix}\n",
    "   \\begin{bmatrix}\n",
    "   4 & 0 & 3 & 3 \\\\\n",
    "   3 & 1 & 3 & 2 \\\\\n",
    "   4 & 0 & 0 & 4\n",
    "   \\end{bmatrix} + \\displaystyle \\left[\\begin{matrix}4\\\\0\\\\3\\\\3\\end{matrix}\\right]\n",
    "   $$\n",
    "\n",
    "   This results in:\n",
    "   $$\n",
    "   \\begin{bmatrix} (12 \\times 4) + (15 \\times 3) + (0 \\times 4) + 4, & (12 \\times 0) + (15 \\times 1) + (0 \\times 0) + 0, & (12 \\times 3) + (15 \\times 3) + (0 \\times 0) + 3, & (12 \\times 3) + (15 \\times 2) + (0 \\times) 4 + 3 \\end{bmatrix}\n",
    "   $$\n",
    "\n",
    "   Which simplifies to:\n",
    "   $$\n",
    "   \\begin{bmatrix} 97, & 15, & 84, & 69 \\end{bmatrix}\n",
    "   $$"
   ]
  },
  {
   "cell_type": "markdown",
   "id": "73c10222-dcd8-4abe-9a06-775634dbed22",
   "metadata": {},
   "source": [
    "1. **First Row of Input**: `[12, 15, 0]`\n",
    "   - Output Calculation:\n",
    "     $$\n",
    "     \\begin{align*}\n",
    "     (12 \\times 4) + (15 \\times 3) + (0 \\times 4) + 4 &= 48 + 45 + 0 + 4 &= 97 \\\\\n",
    "     (12 \\times 0) + (15 \\times 1) + (0 \\times 0) + 0 &= 0 + 15 + 0 + 0 &= 15 \\\\\n",
    "     (12 \\times 3) + (15 \\times 3) + (0 \\times 0) + 3 &= 36 + 45 + 0 + 3 &= 84 \\\\\n",
    "     (12 \\times 3) + (15 \\times 2) + (0 \\times 4) + 3 &= 36 + 30 + 0 + 3 &= 69\n",
    "     \\end{align*}\n",
    "     $$\n",
    "   - First Row of Output: `[97, 15, 84, 69]`\n",
    "\n",
    "2. **Second Row of Input**: `[3, 3, 7]`\n",
    "   - Output Calculation:\n",
    "     $$\n",
    "     \\begin{align*}\n",
    "     (3 \\times 4) + (3 \\times 3) + (7 \\times 4) + 4 &= 12 + 9 + 28 + 4 &= 53 \\\\\n",
    "     (3 \\times 0) + (3 \\times 1) + (7 \\times 0) + 0 &= 0 + 3 + 0 + 0 &= 3 \\\\\n",
    "     (3 \\times 3) + (3 \\times 3) + (7 \\times 0) + 3 &= 9 + 9 + 0 + 3 &= 21 \\\\\n",
    "     (3 \\times 3) + (3 \\times 2) + (7 \\times 4) + 3 &= 9 + 6 + 28 + 3 &= 46\n",
    "     \\end{align*}\n",
    "     $$\n",
    "   - Second Row of Output: `[53, 3, 21, 46]`\n",
    "\n",
    "3. **Third Row of Input**: `[9, 19, 18]`\n",
    "   - Output Calculation:\n",
    "     $$\n",
    "     \\begin{align*}\n",
    "     (9 \\times 4) + (19 \\times 3) + (18 \\times 4) + 4 &= 36 + 57 + 72 + 4 &= 169 \\\\\n",
    "     (9 \\times 0) + (19 \\times 1) + (18 \\times 0) + 0 &= 0 + 19 + 0 + 0 &= 19 \\\\\n",
    "     (9 \\times 3) + (19 \\times 3) + (18 \\times 0) + 3 &= 27 + 57 + 0 + 3 &= 87 \\\\\n",
    "     (9 \\times 3) + (19 \\times 2) + (18 \\times 4) + 3 &= 27 + 38 + 72 + 3 &= 140\n",
    "     \\end{align*}\n",
    "     $$\n",
    "   - Third Row of Output: `[169, 19, 87, 140]`\n",
    "\n",
    "4. **Fourth Row of Input**: `[4, 6, 12]`\n",
    "   - Output Calculation:\n",
    "     $$\n",
    "     \\begin{align*}\n",
    "     (4 \\times 4) + (6 \\times 3) + (12 \\times 4) + 4 &= 16 + 18 + 48 + 4 &= 86 \\\\\n",
    "     (4 \\times 0) + (6 \\times 1) + (12 \\times 0) + 0 &= 0 + 6 + 0 + 0 &= 6 \\\\\n",
    "     (4 \\times 3) + (6 \\times 3) + (12 \\times 0) + 3 &= 12 + 18 + 0 + 3 &= 33 \\\\\n",
    "     (4 \\times 3) + (6 \\times 2) + (12 \\times 4) + 3 &= 12 + 12 + 48 + 3 &= 75\n",
    "     \\end{align*}\n",
    "     $$\n",
    "   - Fourth Row of Output: `[86, 6, 33, 75]`\n",
    "\n",
    "5. **Fifth Row of Input**: `[1, 6, 7]`\n",
    "   - Output Calculation:\n",
    "     $$\n",
    "     \\begin{align*}\n",
    "     (1 \\times 4) + (6 \\times 3) + (7 \\times 4) + 4 &= 4 + 18 + 28 + 4 &= 54 \\\\\n",
    "     (1 \\times 0) + (6 \\times 1) + (7 \\times 0) + 0 &= 0 + 6 + 0 + 0 &= 6 \\\\\n",
    "     (1 \\times 3) + (6 \\times 3) + (7 \\times 0) + 3 &= 3 + 18 + 0 + 3 &= 24 \\\\\n",
    "     (1 \\times 3) + (6 \\times 2) + (7 \\times 4) + 3 &= 3 + 12 + 28 + 3 &= 46\n",
    "     \\end{align*}\n",
    "     $$\n",
    "   - Fifth Row of Output: `[54, 6, 24, 46]`\n",
    "   \n",
    "## The Result Matrix\n",
    "\n",
    "$$\n",
    "\\displaystyle \\left[\\begin{matrix}97 & 15 & 84 & 69\\\\53 & 3 & 21 & 46\\\\169 & 19 & 87 & 140\\\\86 & 6 & 33 & 75\\\\54 & 6 & 24 & 46\\end{matrix}\\right]\n",
    "$$"
   ]
  },
  {
   "cell_type": "markdown",
   "id": "aafd0bec-02b5-41b3-a4f5-5550bc9fd149",
   "metadata": {},
   "source": [
    "## Confirm the Results Pythonically "
   ]
  },
  {
   "cell_type": "code",
   "execution_count": 5,
   "id": "bf4f612c-ce77-4d9c-846e-838dafa27d26",
   "metadata": {
    "tags": []
   },
   "outputs": [
    {
     "name": "stdout",
     "output_type": "stream",
     "text": [
      "This is the input for sample 1: [12 15  0]\n",
      "Output from the 4 nodes for this sample: [97 15 84 69]\n",
      "\n",
      "This is the input for sample 2: [3 3 7]\n",
      "Output from the 4 nodes for this sample: [53  3 21 46]\n",
      "\n",
      "This is the input for sample 3: [ 9 19 18]\n",
      "Output from the 4 nodes for this sample: [169  19  87 140]\n",
      "\n",
      "This is the input for sample 4: [ 4  6 12]\n",
      "Output from the 4 nodes for this sample: [86  6 33 75]\n",
      "\n",
      "This is the input for sample 5: [1 6 7]\n",
      "Output from the 4 nodes for this sample: [54  6 24 46]\n",
      "\n"
     ]
    },
    {
     "data": {
      "text/plain": [
       "array([[ 97,  15,  84,  69],\n",
       "       [ 53,   3,  21,  46],\n",
       "       [169,  19,  87, 140],\n",
       "       [ 86,   6,  33,  75],\n",
       "       [ 54,   6,  24,  46]])"
      ]
     },
     "execution_count": 5,
     "metadata": {},
     "output_type": "execute_result"
    }
   ],
   "source": [
    "# Define a function to process each sample through the hidden layer\n",
    "def process_data(sample, weights, biases):\n",
    "    return np.dot(sample, weights) + biases\n",
    "\n",
    "# Process each sample and print the results\n",
    "for i, sample in enumerate(input_data):\n",
    "    print(f\"This is the input for sample {i + 1}: {sample}\")\n",
    "    output = process_data(sample, weights, biases)\n",
    "    print(f\"Output from the 4 nodes for this sample: {output}\\n\")\n",
    "    \n",
    "# The entire dataset in one step\n",
    "process_data(input_data, weights, biases)"
   ]
  },
  {
   "cell_type": "markdown",
   "id": "cd1c06dd-9f7b-4f39-950e-9eece740f546",
   "metadata": {},
   "source": [
    "## Keras Calculation Confirmation\n",
    "\n",
    "Here we will confirm the previous calculations using Keras API. In the next section, I will walk you through each step in detail. Now, have faith in me:"
   ]
  },
  {
   "cell_type": "code",
   "execution_count": 6,
   "id": "3042d683-dc43-453f-aa12-139ae06cfbca",
   "metadata": {
    "tags": []
   },
   "outputs": [
    {
     "name": "stdout",
     "output_type": "stream",
     "text": [
      "\u001b[1m1/1\u001b[0m \u001b[32m━━━━━━━━━━━━━━━━━━━━\u001b[0m\u001b[37m\u001b[0m \u001b[1m0s\u001b[0m 21ms/step\n",
      "[[ 97.  15.  84.  69.]\n",
      " [ 53.   3.  21.  46.]\n",
      " [169.  19.  87. 140.]\n",
      " [ 86.   6.  33.  75.]\n",
      " [ 54.   6.  24.  46.]]\n"
     ]
    }
   ],
   "source": [
    "# Input necessary Tools\n",
    "from keras.models import Sequential\n",
    "from keras.layers import Input, Dense\n",
    "\n",
    "# Create the Keras model\n",
    "model = Sequential()\n",
    "\n",
    "# Declare the input layer\n",
    "model.add(Input(shape = (3, )))\n",
    "\n",
    "# Add the hidden layer\n",
    "model.add(Dense(units=4, activation=\"linear\"))\n",
    "\n",
    "# Set the dummy weights and biases generated in the example above\n",
    "model.layers[0].set_weights([weights, biases])\n",
    "\n",
    "# Use the model to predict the output\n",
    "keras_outputs = model.predict(input_data)\n",
    "\n",
    "# print the keras results\n",
    "print(keras_outputs)"
   ]
  },
  {
   "cell_type": "code",
   "execution_count": 7,
   "id": "5651fbea-369e-4484-b384-cd3260e2fe00",
   "metadata": {
    "tags": []
   },
   "outputs": [
    {
     "name": "stdout",
     "output_type": "stream",
     "text": [
      "Manual Outputs:\n",
      "[[ 97  15  84  69]\n",
      " [ 53   3  21  46]\n",
      " [169  19  87 140]\n",
      " [ 86   6  33  75]\n",
      " [ 54   6  24  46]]\n",
      "\n",
      "Keras Outputs:\n",
      "[[ 97.  15.  84.  69.]\n",
      " [ 53.   3.  21.  46.]\n",
      " [169.  19.  87. 140.]\n",
      " [ 86.   6.  33.  75.]\n",
      " [ 54.   6.  24.  46.]]\n"
     ]
    }
   ],
   "source": [
    "# Compare the results now\n",
    "manual_outputs = np.dot(input_data, weights) + biases\n",
    "# Compare the results\n",
    "print(\"Manual Outputs:\")\n",
    "print(manual_outputs)\n",
    "\n",
    "print(\"\\nKeras Outputs:\")\n",
    "print(keras_outputs)"
   ]
  },
  {
   "cell_type": "code",
   "execution_count": 8,
   "id": "846f5a8a-ca08-4fd0-8e05-ad6cd32616a0",
   "metadata": {
    "tags": []
   },
   "outputs": [
    {
     "data": {
      "image/png": "[encoded data removed]",
      "text/plain": [
       "<IPython.core.display.Image object>"
      ]
     },
     "execution_count": 8,
     "metadata": {},
     "output_type": "execute_result"
    }
   ],
   "source": [
    "# Plot the model\n",
    "from tensorflow.keras import utils\n",
    "# Plot the model\n",
    "utils.plot_model(model, to_file='model_plot.png', show_shapes=True, show_layer_names=True)"
   ]
  },
  {
   "cell_type": "markdown",
   "id": "d44a817d-ef97-43b3-909c-8c1645620fbf",
   "metadata": {
    "tags": []
   },
   "source": [
    "## Example with Keras API\n",
    "\n",
    "We can go through a simple example step by step to understand how Keras processes data. In this tutorial, I'll guide you through the process and demonstrate how you can perform this example.\n",
    "\n",
    "Here are the steps we will follow:\n",
    "\n",
    "1. **Create Random Input Data:** We'll generate a random data array of shape (5, 3) - meaning 5 samples, each with 3 features.\n",
    "2. **Define a Keras Model:** We'll create a Keras model with a single Dense layer. This layer will have 4 nodes (neurons), and we'll use a linear activation function for simplicity.\n",
    "3. **Initialize Random Weights:** We'll initialize the weights and biases for this layer randomly. In Keras, this is usually handled automatically, but you can also set custom weights.\n",
    "4. **Perform a Forward Pass:** We'll pass the input data through the network to see how the data is transformed.\n",
    "5. **Output the Results:** Finally, we'll observe the output of the network.\n",
    "\n",
    "Here's how you can implement this:"
   ]
  },
  {
   "cell_type": "markdown",
   "id": "bbb2c5fe-12ab-45b1-8d48-eef17e6fb4d2",
   "metadata": {},
   "source": [
    "## Step 1: Create Random Input Data\n",
    "We will use tensorflow to generate the random input data:"
   ]
  },
  {
   "cell_type": "code",
   "execution_count": 10,
   "id": "a18a9339-b40b-4f92-9e6a-921b906e168f",
   "metadata": {
    "tags": []
   },
   "outputs": [
    {
     "name": "stdout",
     "output_type": "stream",
     "text": [
      "tf.Tensor(\n",
      "[[-2. -3.  0.]\n",
      " [ 1. -1.  3.]\n",
      " [-0.  5.  2.]\n",
      " [-4.  2.  2.]\n",
      " [ 1. -1. -1.]], shape=(5, 3), dtype=float32)\n",
      "\n",
      "Print Tensorflow values as numpy arrays\n",
      "[[-2. -3.  0.]\n",
      " [ 1. -1.  3.]\n",
      " [-0.  5.  2.]\n",
      " [-4.  2.  2.]\n",
      " [ 1. -1. -1.]]\n"
     ]
    }
   ],
   "source": [
    "# Create random input data of shape (5, 3)\n",
    "# ========================================\n",
    "\n",
    "#1. Set the seed to reproducibitity\n",
    "tf.random.set_seed(0)\n",
    "\n",
    "input_data = tf.round(tf.random.uniform(shape = (5, 3),\n",
    "                      minval=-5, maxval=5))\n",
    "\n",
    "# print the data\n",
    "print(input_data)\n",
    "\n",
    "# you can print the results from numpy\n",
    "print()\n",
    "print(\"Print Tensorflow values as numpy arrays\")\n",
    "print(input_data.numpy())"
   ]
  },
  {
   "cell_type": "markdown",
   "id": "7330f119-dc56-467e-89c0-1b12936e69fe",
   "metadata": {},
   "source": [
    "## Step 2: Define a Keras Model\n",
    "Create a simple Keras model with one Dense layer:"
   ]
  },
  {
   "cell_type": "code",
   "execution_count": 11,
   "id": "5956cb91-cd5a-4ab6-b4fb-2ded516e73d0",
   "metadata": {
    "tags": []
   },
   "outputs": [],
   "source": [
    "# ========================================================== #\n",
    "# Note: This should be imported at the top of this notebook  #\n",
    "#.      I am importing them here for educational purposese   #\n",
    "# ========================================================== #\n",
    "# Import the Sequential model\n",
    "from tensorflow.keras.models import Sequential\n",
    "\n",
    "# Import the Input, and Dense Layers\n",
    "from tensorflow.keras.layers import Input, Dense"
   ]
  },
  {
   "cell_type": "code",
   "execution_count": 12,
   "id": "299fe6cc-7fa0-4aba-8b33-4d441b18d4d9",
   "metadata": {
    "tags": []
   },
   "outputs": [
    {
     "name": "stdout",
     "output_type": "stream",
     "text": [
      "{'dtype': {'class_name': 'DTypePolicy',\n",
      "           'config': {'name': 'float32'},\n",
      "           'module': 'keras',\n",
      "           'registered_name': None},\n",
      " 'layers': [{'class_name': 'InputLayer',\n",
      "             'config': {'batch_shape': (None, 3),\n",
      "                        'dtype': 'float32',\n",
      "                        'name': 'input_layer_1',\n",
      "                        'sparse': False},\n",
      "             'module': 'keras.layers',\n",
      "             'registered_name': None}],\n",
      " 'name': 'SimpleSeqModel',\n",
      " 'trainable': True}\n"
     ]
    },
    {
     "data": {
      "text/html": [
       "<pre style=\"white-space:pre;overflow-x:auto;line-height:normal;font-family:Menlo,'DejaVu Sans Mono',consolas,'Courier New',monospace\"><span style=\"font-weight: bold\">Model: \"SimpleSeqModel\"</span>\n",
       "</pre>\n"
      ],
      "text/plain": [
       "\u001b[1mModel: \"SimpleSeqModel\"\u001b[0m\n"
      ]
     },
     "metadata": {},
     "output_type": "display_data"
    },
    {
     "data": {
      "text/html": [
       "<pre style=\"white-space:pre;overflow-x:auto;line-height:normal;font-family:Menlo,'DejaVu Sans Mono',consolas,'Courier New',monospace\">┏━━━━━━━━━━━━━━━━━━━━━━━━━━━━━━━━━┳━━━━━━━━━━━━━━━━━━━━━━━━┳━━━━━━━━━━━━━━━┓\n",
       "┃<span style=\"font-weight: bold\"> Layer (type)                    </span>┃<span style=\"font-weight: bold\"> Output Shape           </span>┃<span style=\"font-weight: bold\">       Param # </span>┃\n",
       "┡━━━━━━━━━━━━━━━━━━━━━━━━━━━━━━━━━╇━━━━━━━━━━━━━━━━━━━━━━━━╇━━━━━━━━━━━━━━━┩\n",
       "└─────────────────────────────────┴────────────────────────┴───────────────┘\n",
       "</pre>\n"
      ],
      "text/plain": [
       "┏━━━━━━━━━━━━━━━━━━━━━━━━━━━━━━━━━┳━━━━━━━━━━━━━━━━━━━━━━━━┳━━━━━━━━━━━━━━━┓\n",
       "┃\u001b[1m \u001b[0m\u001b[1mLayer (type)                   \u001b[0m\u001b[1m \u001b[0m┃\u001b[1m \u001b[0m\u001b[1mOutput Shape          \u001b[0m\u001b[1m \u001b[0m┃\u001b[1m \u001b[0m\u001b[1m      Param #\u001b[0m\u001b[1m \u001b[0m┃\n",
       "┡━━━━━━━━━━━━━━━━━━━━━━━━━━━━━━━━━╇━━━━━━━━━━━━━━━━━━━━━━━━╇━━━━━━━━━━━━━━━┩\n",
       "└─────────────────────────────────┴────────────────────────┴───────────────┘\n"
      ]
     },
     "metadata": {},
     "output_type": "display_data"
    },
    {
     "data": {
      "text/html": [
       "<pre style=\"white-space:pre;overflow-x:auto;line-height:normal;font-family:Menlo,'DejaVu Sans Mono',consolas,'Courier New',monospace\"><span style=\"font-weight: bold\"> Total params: </span><span style=\"color: #00af00; text-decoration-color: #00af00\">0</span> (0.00 B)\n",
       "</pre>\n"
      ],
      "text/plain": [
       "\u001b[1m Total params: \u001b[0m\u001b[38;5;34m0\u001b[0m (0.00 B)\n"
      ]
     },
     "metadata": {},
     "output_type": "display_data"
    },
    {
     "data": {
      "text/html": [
       "<pre style=\"white-space:pre;overflow-x:auto;line-height:normal;font-family:Menlo,'DejaVu Sans Mono',consolas,'Courier New',monospace\"><span style=\"font-weight: bold\"> Trainable params: </span><span style=\"color: #00af00; text-decoration-color: #00af00\">0</span> (0.00 B)\n",
       "</pre>\n"
      ],
      "text/plain": [
       "\u001b[1m Trainable params: \u001b[0m\u001b[38;5;34m0\u001b[0m (0.00 B)\n"
      ]
     },
     "metadata": {},
     "output_type": "display_data"
    },
    {
     "data": {
      "text/html": [
       "<pre style=\"white-space:pre;overflow-x:auto;line-height:normal;font-family:Menlo,'DejaVu Sans Mono',consolas,'Courier New',monospace\"><span style=\"font-weight: bold\"> Non-trainable params: </span><span style=\"color: #00af00; text-decoration-color: #00af00\">0</span> (0.00 B)\n",
       "</pre>\n"
      ],
      "text/plain": [
       "\u001b[1m Non-trainable params: \u001b[0m\u001b[38;5;34m0\u001b[0m (0.00 B)\n"
      ]
     },
     "metadata": {},
     "output_type": "display_data"
    },
    {
     "name": "stdout",
     "output_type": "stream",
     "text": [
      "None\n",
      "[]\n",
      "[]\n"
     ]
    }
   ],
   "source": [
    "# Define the sequential model\n",
    "model = Sequential(name = \"SimpleSeqModel\")           \n",
    "\n",
    "# Add the input layere with shape (3, ) `(3 input features, )`\n",
    "model.add(Input(shape=(3, )))\n",
    "\n",
    "# Check the model config\n",
    "pprint(model.get_config())\n",
    "\n",
    "# Chech the model summary()\n",
    "print(model.summary())\n",
    "\n",
    "# Check the model weights\n",
    "print(model.get_weights())\n",
    "\n",
    "# check the model layers \n",
    "print(model.layers)"
   ]
  },
  {
   "cell_type": "code",
   "execution_count": 13,
   "id": "a745d7c3-194e-4f14-8eb8-1694affb0a46",
   "metadata": {
    "tags": []
   },
   "outputs": [
    {
     "data": {
      "text/html": [
       "<pre style=\"white-space:pre;overflow-x:auto;line-height:normal;font-family:Menlo,'DejaVu Sans Mono',consolas,'Courier New',monospace\"><span style=\"font-weight: bold\">Model: \"SimpleSeqModel\"</span>\n",
       "</pre>\n"
      ],
      "text/plain": [
       "\u001b[1mModel: \"SimpleSeqModel\"\u001b[0m\n"
      ]
     },
     "metadata": {},
     "output_type": "display_data"
    },
    {
     "data": {
      "text/html": [
       "<pre style=\"white-space:pre;overflow-x:auto;line-height:normal;font-family:Menlo,'DejaVu Sans Mono',consolas,'Courier New',monospace\">┏━━━━━━━━━━━━━━━━━━━━━━━━━━━━━━━━━┳━━━━━━━━━━━━━━━━━━━━━━━━┳━━━━━━━━━━━━━━━┓\n",
       "┃<span style=\"font-weight: bold\"> Layer (type)                    </span>┃<span style=\"font-weight: bold\"> Output Shape           </span>┃<span style=\"font-weight: bold\">       Param # </span>┃\n",
       "┡━━━━━━━━━━━━━━━━━━━━━━━━━━━━━━━━━╇━━━━━━━━━━━━━━━━━━━━━━━━╇━━━━━━━━━━━━━━━┩\n",
       "│ DenseHiddenLayer (<span style=\"color: #0087ff; text-decoration-color: #0087ff\">Dense</span>)        │ (<span style=\"color: #00d7ff; text-decoration-color: #00d7ff\">None</span>, <span style=\"color: #00af00; text-decoration-color: #00af00\">4</span>)              │            <span style=\"color: #00af00; text-decoration-color: #00af00\">16</span> │\n",
       "└─────────────────────────────────┴────────────────────────┴───────────────┘\n",
       "</pre>\n"
      ],
      "text/plain": [
       "┏━━━━━━━━━━━━━━━━━━━━━━━━━━━━━━━━━┳━━━━━━━━━━━━━━━━━━━━━━━━┳━━━━━━━━━━━━━━━┓\n",
       "┃\u001b[1m \u001b[0m\u001b[1mLayer (type)                   \u001b[0m\u001b[1m \u001b[0m┃\u001b[1m \u001b[0m\u001b[1mOutput Shape          \u001b[0m\u001b[1m \u001b[0m┃\u001b[1m \u001b[0m\u001b[1m      Param #\u001b[0m\u001b[1m \u001b[0m┃\n",
       "┡━━━━━━━━━━━━━━━━━━━━━━━━━━━━━━━━━╇━━━━━━━━━━━━━━━━━━━━━━━━╇━━━━━━━━━━━━━━━┩\n",
       "│ DenseHiddenLayer (\u001b[38;5;33mDense\u001b[0m)        │ (\u001b[38;5;45mNone\u001b[0m, \u001b[38;5;34m4\u001b[0m)              │            \u001b[38;5;34m16\u001b[0m │\n",
       "└─────────────────────────────────┴────────────────────────┴───────────────┘\n"
      ]
     },
     "metadata": {},
     "output_type": "display_data"
    },
    {
     "data": {
      "text/html": [
       "<pre style=\"white-space:pre;overflow-x:auto;line-height:normal;font-family:Menlo,'DejaVu Sans Mono',consolas,'Courier New',monospace\"><span style=\"font-weight: bold\"> Total params: </span><span style=\"color: #00af00; text-decoration-color: #00af00\">16</span> (64.00 B)\n",
       "</pre>\n"
      ],
      "text/plain": [
       "\u001b[1m Total params: \u001b[0m\u001b[38;5;34m16\u001b[0m (64.00 B)\n"
      ]
     },
     "metadata": {},
     "output_type": "display_data"
    },
    {
     "data": {
      "text/html": [
       "<pre style=\"white-space:pre;overflow-x:auto;line-height:normal;font-family:Menlo,'DejaVu Sans Mono',consolas,'Courier New',monospace\"><span style=\"font-weight: bold\"> Trainable params: </span><span style=\"color: #00af00; text-decoration-color: #00af00\">16</span> (64.00 B)\n",
       "</pre>\n"
      ],
      "text/plain": [
       "\u001b[1m Trainable params: \u001b[0m\u001b[38;5;34m16\u001b[0m (64.00 B)\n"
      ]
     },
     "metadata": {},
     "output_type": "display_data"
    },
    {
     "data": {
      "text/html": [
       "<pre style=\"white-space:pre;overflow-x:auto;line-height:normal;font-family:Menlo,'DejaVu Sans Mono',consolas,'Courier New',monospace\"><span style=\"font-weight: bold\"> Non-trainable params: </span><span style=\"color: #00af00; text-decoration-color: #00af00\">0</span> (0.00 B)\n",
       "</pre>\n"
      ],
      "text/plain": [
       "\u001b[1m Non-trainable params: \u001b[0m\u001b[38;5;34m0\u001b[0m (0.00 B)\n"
      ]
     },
     "metadata": {},
     "output_type": "display_data"
    },
    {
     "name": "stdout",
     "output_type": "stream",
     "text": [
      "None\n"
     ]
    }
   ],
   "source": [
    "# Add a `Dense (fully connected)` hidden layer \n",
    "model.add(Dense(units=4, activation = 'relu', name = \"DenseHiddenLayer\"))\n",
    "# Get the model summary \n",
    "print(model.summary())"
   ]
  },
  {
   "cell_type": "code",
   "execution_count": 14,
   "id": "44c8078c-3861-45c5-ac45-f4e088e2de2f",
   "metadata": {
    "tags": []
   },
   "outputs": [
    {
     "name": "stdout",
     "output_type": "stream",
     "text": [
      "[array([[-0.27734601, -0.38029772,  0.6721395 , -0.08188719],\n",
      "       [-0.4336716 , -0.41975152,  0.7950572 ,  0.46018624],\n",
      "       [-0.12449813, -0.02797145,  0.8630729 , -0.07730216]],\n",
      "      dtype=float32), array([0., 0., 0., 0.], dtype=float32)]\n"
     ]
    }
   ],
   "source": [
    "# Get the model weights\n",
    "print(model.get_weights())"
   ]
  },
  {
   "cell_type": "code",
   "execution_count": 15,
   "id": "cb2eaadf-7f49-498a-a2ae-888c988f0ccd",
   "metadata": {
    "tags": []
   },
   "outputs": [
    {
     "name": "stdout",
     "output_type": "stream",
     "text": [
      "The model's weights shape is: (3, 4)\n",
      "[<Dense name=DenseHiddenLayer, built=True>]\n"
     ]
    }
   ],
   "source": [
    "# Check the model weights shape\n",
    "print(\"The model's weights shape is:\", model.get_weights()[0].shape)\n",
    "\n",
    "# Get the layers\n",
    "print(model.layers)"
   ]
  },
  {
   "cell_type": "code",
   "execution_count": 16,
   "id": "077f0a28-d83b-4c72-8716-3cbc8d3fe40b",
   "metadata": {
    "tags": []
   },
   "outputs": [
    {
     "name": "stdout",
     "output_type": "stream",
     "text": [
      "{'input_shape': (None, 3)}\n"
     ]
    }
   ],
   "source": [
    "# Get the model build configuration\n",
    "print(model.get_build_config())"
   ]
  },
  {
   "cell_type": "code",
   "execution_count": 17,
   "id": "197b9b85-65ce-4217-baef-10ceefecf901",
   "metadata": {
    "tags": []
   },
   "outputs": [
    {
     "name": "stdout",
     "output_type": "stream",
     "text": [
      "{'build_input_shape': (None, 3),\n",
      " 'dtype': {'class_name': 'DTypePolicy',\n",
      "           'config': {'name': 'float32'},\n",
      "           'module': 'keras',\n",
      "           'registered_name': None},\n",
      " 'layers': [{'class_name': 'InputLayer',\n",
      "             'config': {'batch_shape': (None, 3),\n",
      "                        'dtype': 'float32',\n",
      "                        'name': 'input_layer_1',\n",
      "                        'sparse': False},\n",
      "             'module': 'keras.layers',\n",
      "             'registered_name': None},\n",
      "            {'build_config': {'input_shape': (None, 3)},\n",
      "             'class_name': 'Dense',\n",
      "             'config': {'activation': 'relu',\n",
      "                        'bias_constraint': None,\n",
      "                        'bias_initializer': {'class_name': 'Zeros',\n",
      "                                             'config': {},\n",
      "                                             'module': 'keras.initializers',\n",
      "                                             'registered_name': None},\n",
      "                        'bias_regularizer': None,\n",
      "                        'dtype': {'class_name': 'DTypePolicy',\n",
      "                                  'config': {'name': 'float32'},\n",
      "                                  'module': 'keras',\n",
      "                                  'registered_name': None},\n",
      "                        'kernel_constraint': None,\n",
      "                        'kernel_initializer': {'class_name': 'GlorotUniform',\n",
      "                                               'config': {'seed': None},\n",
      "                                               'module': 'keras.initializers',\n",
      "                                               'registered_name': None},\n",
      "                        'kernel_regularizer': None,\n",
      "                        'name': 'DenseHiddenLayer',\n",
      "                        'trainable': True,\n",
      "                        'units': 4,\n",
      "                        'use_bias': True},\n",
      "             'module': 'keras.layers',\n",
      "             'registered_name': None}],\n",
      " 'name': 'SimpleSeqModel',\n",
      " 'trainable': True}\n"
     ]
    }
   ],
   "source": [
    "# Check the model configuration again\n",
    "pprint(model.get_config())"
   ]
  },
  {
   "cell_type": "code",
   "execution_count": 18,
   "id": "7db6c3e3-c042-46b0-aba3-8715a0b0eb9e",
   "metadata": {
    "tags": []
   },
   "outputs": [
    {
     "data": {
      "text/plain": [
       "'SimpleSeqModel'"
      ]
     },
     "execution_count": 18,
     "metadata": {},
     "output_type": "execute_result"
    }
   ],
   "source": [
    "# Get the model name\n",
    "model.name"
   ]
  },
  {
   "cell_type": "markdown",
   "id": "7baa9f5b-9d14-42e9-8dea-3c73e4d2ad4c",
   "metadata": {},
   "source": [
    "## Step 3: Initialize Random Weights (Optional)\n",
    "Keras automatically initializes weights and biases, but if you want to set them manually:"
   ]
  },
  {
   "cell_type": "code",
   "execution_count": 19,
   "id": "948ebeba-d69f-4bed-a6c3-cbbc06c5aa7f",
   "metadata": {
    "tags": []
   },
   "outputs": [
    {
     "name": "stdout",
     "output_type": "stream",
     "text": [
      "[[0.51639863 0.57066759 0.02847423 0.17152166]\n",
      " [0.68527698 0.83389686 0.30696622 0.89361308]\n",
      " [0.72154386 0.18993895 0.55422759 0.35213195]]\n",
      "[0.1818924  0.78560176 0.96548322 0.23235366]\n"
     ]
    }
   ],
   "source": [
    "# Example of setting custom weights (optional)\n",
    "np.random.seed(101)\n",
    "weights = np.random.rand(3, 4)                  # Random weights (input features, output nodes)\n",
    "biases = np.random.rand(4)                      # Random biases (one for each output node)\n",
    "model.layers[0].set_weights([weights, biases])\n",
    "\n",
    "# print the weights\n",
    "print(weights)\n",
    "print(biases)"
   ]
  },
  {
   "cell_type": "code",
   "execution_count": 20,
   "id": "05aea193-c295-411a-8b38-b4bc6410a6d8",
   "metadata": {
    "tags": []
   },
   "outputs": [
    {
     "data": {
      "text/plain": [
       "[array([[0.5163986 , 0.57066756, 0.02847423, 0.17152166],\n",
       "        [0.685277  , 0.8338969 , 0.30696622, 0.8936131 ],\n",
       "        [0.72154385, 0.18993895, 0.5542276 , 0.35213196]], dtype=float32),\n",
       " array([0.18189241, 0.78560174, 0.96548325, 0.23235366], dtype=float32)]"
      ]
     },
     "execution_count": 20,
     "metadata": {},
     "output_type": "execute_result"
    }
   ],
   "source": [
    "model.get_weights()"
   ]
  },
  {
   "cell_type": "markdown",
   "id": "439b14a1-6953-4410-89a7-4a45205367b6",
   "metadata": {},
   "source": [
    "## Step 4: Perform a Forward Pass\n",
    "Pass the input data through the network:"
   ]
  },
  {
   "cell_type": "code",
   "execution_count": 21,
   "id": "0a0fde9e-3c66-4746-ad3c-077a0135b02b",
   "metadata": {
    "tags": []
   },
   "outputs": [
    {
     "name": "stdout",
     "output_type": "stream",
     "text": [
      "[[0.         0.         0.         0.        ]\n",
      " [2.1776457  1.0921893  2.349674   0.56665814]\n",
      " [5.051365   5.334964   3.6087694  5.404683  ]\n",
      " [0.9299395  0.55060303 2.573974   2.0377572 ]\n",
      " [0.         0.33243352 0.13276368 0.        ]]\n",
      "(5, 4)\n"
     ]
    }
   ],
   "source": [
    "# Perform a forward pass by calling model directly on the input data\n",
    "hidden_layer_values = model(input_data, training = False)\n",
    "\n",
    "# Display the values\n",
    "print(hidden_layer_values.numpy())\n",
    "\n",
    "# Display the shape of the hidden layer result\n",
    "print(hidden_layer_values.numpy().shape)"
   ]
  },
  {
   "cell_type": "code",
   "execution_count": 22,
   "id": "193c417a-8c44-423f-ae11-7874f89e079b",
   "metadata": {
    "tags": []
   },
   "outputs": [
    {
     "name": "stdout",
     "output_type": "stream",
     "text": [
      "\u001b[1m1/1\u001b[0m \u001b[32m━━━━━━━━━━━━━━━━━━━━\u001b[0m\u001b[37m\u001b[0m \u001b[1m0s\u001b[0m 18ms/step\n",
      "[[0.         0.         0.         0.        ]\n",
      " [2.1776457  1.0921893  2.349674   0.56665814]\n",
      " [5.051365   5.334964   3.6087694  5.404683  ]\n",
      " [0.9299395  0.55060303 2.573974   2.0377572 ]\n",
      " [0.         0.33243352 0.13276368 0.        ]]\n"
     ]
    }
   ],
   "source": [
    "# Perform a forward pass using the predict method\n",
    "output = model.predict(input_data)\n",
    "print(output)"
   ]
  },
  {
   "cell_type": "markdown",
   "id": "c171d15a-f526-48b2-9257-d8b43a2ba452",
   "metadata": {},
   "source": [
    "## Step 5: Output the Results\n",
    "Print the output to see the transformed data:"
   ]
  },
  {
   "cell_type": "code",
   "execution_count": 23,
   "id": "53285bc1-e737-47a8-8c4e-bcbea74e6143",
   "metadata": {},
   "outputs": [
    {
     "name": "stdout",
     "output_type": "stream",
     "text": [
      "Output of the network:\n",
      "[[0.         0.         0.         0.        ]\n",
      " [2.1776457  1.0921893  2.349674   0.56665814]\n",
      " [5.051365   5.334964   3.6087694  5.404683  ]\n",
      " [0.9299395  0.55060303 2.573974   2.0377572 ]\n",
      " [0.         0.33243352 0.13276368 0.        ]]\n"
     ]
    }
   ],
   "source": [
    "print(\"Output of the network:\")\n",
    "print(output)"
   ]
  },
  {
   "cell_type": "markdown",
   "id": "de08182a-889d-4195-a773-1764828344f6",
   "metadata": {},
   "source": [
    "In these steps, you'll see how Keras processes the input data through the Dense layer, applying the weights and biases, and producing the output. Remember, this is a linear model for simplicity; in real-world scenarios, you would typically use non-linear activation functions and multiple layers."
   ]
  },
  {
   "cell_type": "code",
   "execution_count": 24,
   "id": "57549827-b611-4e4f-b33c-b673b8635516",
   "metadata": {
    "tags": []
   },
   "outputs": [
    {
     "data": {
      "image/png": "[encoded data removed]",
      "text/plain": [
       "<IPython.core.display.Image object>"
      ]
     },
     "execution_count": 24,
     "metadata": {},
     "output_type": "execute_result"
    }
   ],
   "source": [
    "# print the model \n",
    "utils.plot_model(model, to_file='model_plot.png', \n",
    "                 show_shapes=True,\n",
    "                 show_layer_names=True,\n",
    "                 show_layer_activations=True\n",
    "                )"
   ]
  },
  {
   "cell_type": "markdown",
   "id": "df835730-2a0d-4678-9116-b306bbae32be",
   "metadata": {},
   "source": [
    "---"
   ]
  },
  {
   "cell_type": "markdown",
   "id": "cede4f45-afa6-416d-8776-2b83f4cec3fa",
   "metadata": {},
   "source": [
    "## Advanced Example \n",
    "\n",
    "In this example we will follow the same the steps as above, but with more data and with bigger model. Here is the network configuaration:\n",
    "\n",
    "1. Input layer: 10 features with 1000 samples\n",
    "2. Dense hidden layer with 100 nodes."
   ]
  },
  {
   "cell_type": "code",
   "execution_count": 25,
   "id": "657eac33-07f5-4065-aac2-123e6470be7b",
   "metadata": {
    "tags": []
   },
   "outputs": [
    {
     "name": "stdout",
     "output_type": "stream",
     "text": [
      "This is the input for sample 1: [0.5488135  0.71518937 0.60276338 0.54488318 0.4236548  0.64589411\n",
      " 0.43758721 0.891773   0.96366276 0.38344152]\n",
      "Output from the 4 nodes for this sample: [3.14585254 3.86917582 3.09394383 3.06000465 3.23363556 3.70250576\n",
      " 3.60458634 2.85380978 4.01084342 3.83518449 3.67084524 3.30971872\n",
      " 4.09839471 3.74513591 2.1849296  2.32573017 2.23359749 3.74509344\n",
      " 4.63906382 5.33232747 4.87044616 4.13752373 2.68712338 4.40399998\n",
      " 2.20737271 5.08432455 3.22066661 4.83895466 4.28962303 2.50785725\n",
      " 2.62575056 3.13542464 2.99658233 3.06494679 3.08610459 4.11705437\n",
      " 3.62805143 3.09635217 3.92054494 4.12539377 2.94490182 3.41608501\n",
      " 3.29780098 2.6272798  4.51803891 3.08797366 3.88452739 3.53078952\n",
      " 4.01917525 3.99847541 3.61848713 4.19758599 3.73702704 3.02697738\n",
      " 3.66951276 3.06065596 3.40461387 2.22965872 3.40278196 3.4713028\n",
      " 3.4459553  3.20767586 3.39419411 3.4449069  3.97607364 4.64209944\n",
      " 3.89016909 2.71831962 5.28486383 3.46342537 5.5876086  2.54798637\n",
      " 3.98888868 3.18227042 4.86755005 2.44683924 3.43074087 3.96792588\n",
      " 4.04235671 3.69536996 2.74372381 3.5073283  3.35123102 3.80800656\n",
      " 3.967383   2.77595321 4.07435452 2.73456652 3.52292509 4.35431855\n",
      " 2.94499925 3.15346117 3.0741808  3.8991385  3.71481795 3.56083498\n",
      " 3.21606011 2.5903812  3.19480844 3.30609193]\n",
      "\n",
      "This is the input for sample 2: [0.79172504 0.52889492 0.56804456 0.92559664 0.07103606 0.0871293\n",
      " 0.0202184  0.83261985 0.77815675 0.87001215]\n",
      "Output from the 4 nodes for this sample: [3.46442089 3.62766804 2.6270811  2.21247195 2.96100367 3.27174872\n",
      " 2.77760682 2.85317623 3.80279422 3.172453   4.14630632 2.72140141\n",
      " 3.64851729 3.27247953 2.22977604 1.93492407 1.93541737 3.62821338\n",
      " 4.59623286 4.54524118 4.44487452 3.64651191 2.36079482 4.14073427\n",
      " 1.82141715 4.69228058 2.79596754 4.24102689 4.08454833 2.33808822\n",
      " 2.8076184  2.98757401 2.47638159 2.71817086 2.70291972 4.09363565\n",
      " 3.14744403 2.74964066 3.47106172 3.56046533 2.48174449 2.50141577\n",
      " 2.48446955 2.15728626 4.09897347 2.92404736 3.29391018 2.4698888\n",
      " 3.4189073  3.97373755 3.13157499 3.78110668 3.67135105 2.68878546\n",
      " 2.68919671 3.02527508 3.1112115  2.08004547 3.13425775 3.00360435\n",
      " 2.68129507 3.02937954 2.87219567 2.7348151  3.61474943 3.89614917\n",
      " 3.7609067  2.32442044 4.45130478 3.09867203 5.25326905 2.2503091\n",
      " 4.23292246 3.15803503 4.14896542 1.73339231 3.21924482 3.14671033\n",
      " 3.42164979 3.17917425 3.12823626 3.34291351 3.48321336 3.73212181\n",
      " 4.04524338 2.62899717 4.19162815 2.34222747 3.02594112 4.11651636\n",
      " 1.97746071 2.7626143  2.21940782 3.7405006  3.24427976 2.96542399\n",
      " 3.07212362 2.56696364 2.86456354 2.40959649]\n",
      "\n",
      "This is the input for sample 3: [0.97861834 0.79915856 0.46147936 0.78052918 0.11827443 0.63992102\n",
      " 0.14335329 0.94466892 0.52184832 0.41466194]\n",
      "Output from the 4 nodes for this sample: [3.45983115 3.64076658 3.03661172 2.89659353 2.76437168 3.50967086\n",
      " 3.18525966 2.95057479 3.81078614 3.54370597 3.82938243 3.1364912\n",
      " 3.95960255 3.67241464 2.32490263 2.0989327  2.10853512 3.88982899\n",
      " 4.72390581 5.14854334 4.76727697 3.97936637 2.45618017 4.50606987\n",
      " 1.79305924 4.62972655 2.78152461 4.84708015 3.87344792 2.51849909\n",
      " 2.49295096 3.35448785 2.64625426 2.87160609 2.59188486 3.99289394\n",
      " 3.36004865 3.32630358 3.97399173 3.80232153 2.60250107 3.11437582\n",
      " 3.0490875  2.25507763 4.60651997 2.87168053 3.31628418 3.07829476\n",
      " 3.68657188 3.91332589 3.36613022 3.59369333 4.07091984 2.78169097\n",
      " 2.83438361 3.00423554 3.34649358 2.08249645 3.21043007 3.08936019\n",
      " 3.00961886 2.75907091 3.610101   3.12175945 3.85271144 4.32826579\n",
      " 4.03911312 2.53074231 5.10638369 3.1986852  5.46295315 2.22876678\n",
      " 3.98601503 3.05047557 4.68114199 1.78714954 3.05697386 3.62906279\n",
      " 3.55524295 3.24205257 2.62776167 3.45717633 3.31825735 3.63101471\n",
      " 4.03986115 2.64187394 3.77642427 2.03878408 3.29819824 4.22783012\n",
      " 2.57002204 3.15192653 2.49662716 3.98441616 3.31245104 3.51097511\n",
      " 3.01368192 2.21627664 3.034803   2.70679009]\n",
      "\n",
      "This is the input for sample 4: [0.26455561 0.77423369 0.45615033 0.56843395 0.0187898  0.6176355\n",
      " 0.61209572 0.616934   0.94374808 0.6818203 ]\n",
      "Output from the 4 nodes for this sample: [3.00332473 3.29831598 3.01486525 2.5313628  3.06280986 3.65436396\n",
      " 3.25558332 2.58945486 3.53877144 3.47336653 3.63236032 2.90722156\n",
      " 4.07799878 3.25107363 2.34860241 2.26624879 2.2742812  3.54908637\n",
      " 4.52249972 4.78891289 4.18084835 3.43157267 2.64666676 4.18753942\n",
      " 2.14271336 4.74225311 2.8365521  4.36542014 3.79296715 2.16779595\n",
      " 2.58628187 2.59932065 2.74310581 2.69260944 3.01130421 3.97252023\n",
      " 3.21334065 2.68313063 3.52221654 3.99742529 2.80038388 2.90809534\n",
      " 2.85771578 2.82422718 4.17489089 2.81967297 3.48729709 3.11572128\n",
      " 3.65188873 3.6397084  3.33742547 3.80900632 3.08479516 2.83831988\n",
      " 3.20486203 2.82963152 3.02613461 2.23939361 3.11262543 3.34534822\n",
      " 3.168184   3.24345885 3.00732761 3.08861314 3.70250579 4.2731577\n",
      " 3.42163666 2.65529621 4.6007468  3.41411285 5.06987955 1.97156029\n",
      " 3.74703439 2.63446319 4.45031512 2.0842452  3.11691677 3.51445762\n",
      " 3.38085813 3.34109698 2.90012876 3.34853787 3.20286396 3.52080193\n",
      " 4.00742869 2.68774731 3.96088843 2.63636002 3.06230251 3.97846109\n",
      " 2.68322182 2.72486739 2.54018883 3.74199079 3.40067073 3.21586576\n",
      " 2.9241168  2.51001442 2.79091258 3.16937344]\n",
      "\n",
      "This is the input for sample 5: [0.3595079  0.43703195 0.6976312  0.06022547 0.66676672 0.67063787\n",
      " 0.21038256 0.1289263  0.31542835 0.36371077]\n",
      "Output from the 4 nodes for this sample: [2.18254769 2.91866615 2.20206001 2.59007432 2.26004237 2.78451346\n",
      " 2.57035816 2.26138393 2.86903934 2.3579811  2.64661597 2.12865131\n",
      " 2.83858616 2.5996156  1.4616237  1.85194034 1.25766556 2.38267524\n",
      " 3.07518419 3.70262809 3.68044885 3.23182491 1.98085092 3.1368571\n",
      " 1.44592995 3.29929568 2.32129847 2.82922971 2.96113549 1.89494041\n",
      " 1.59242242 2.25928334 2.11437128 1.97495967 1.60753525 2.54042662\n",
      " 2.57416977 2.28836568 3.07055618 3.15322036 2.11518668 2.29448518\n",
      " 2.81319273 1.61362609 3.05988091 2.17693371 2.51647201 2.40862285\n",
      " 2.55325104 2.70167297 2.35862277 3.14038179 2.66880655 1.80751036\n",
      " 2.67101753 1.38092833 2.63273032 1.68963453 2.89466438 2.49060383\n",
      " 1.87236575 1.57215359 2.37100905 2.70086421 2.21482477 2.80869918\n",
      " 2.51533638 2.0122543  3.24882257 2.10537756 3.95300607 2.18986581\n",
      " 2.90353882 2.70197294 3.5489223  1.91296278 2.3565569  2.81904804\n",
      " 2.66307882 2.3708104  1.58300608 2.6000926  1.7851945  2.12868261\n",
      " 2.64756868 1.7913961  2.70947118 2.0447773  2.55216317 3.43248571\n",
      " 1.94680988 2.42602872 2.31301412 2.65973857 2.3476878  1.91775054\n",
      " 2.08428806 1.91951925 2.60240843 2.48925175]\n",
      "\n",
      "This is the input for sample 6: [0.57019677 0.43860151 0.98837384 0.10204481 0.20887676 0.16130952\n",
      " 0.65310833 0.2532916  0.46631077 0.24442559]\n",
      "Output from the 4 nodes for this sample: [2.11903999 2.91700022 2.48858053 2.03530584 2.1199039  2.49342473\n",
      " 2.56611431 2.57992315 3.19867944 2.83079945 3.24271213 2.24281731\n",
      " 3.19978861 2.64969997 1.06960626 1.76517603 1.50879574 2.89176318\n",
      " 3.29167936 4.00959978 3.60330168 3.43581623 2.25093614 3.48399238\n",
      " 1.68623303 3.8620656  2.2270802  3.17775577 3.22708361 1.98119077\n",
      " 1.68131644 2.20645539 2.24099982 2.03260619 1.83129363 3.05810906\n",
      " 2.46462888 2.1862568  2.99039501 3.16701246 2.72019836 2.25449941\n",
      " 2.84501659 1.5854033  3.11545847 2.44112817 2.45697522 2.03967556\n",
      " 2.45514017 2.46417806 2.43671113 3.32597375 2.98258025 1.96529314\n",
      " 2.74258947 1.51683829 2.73596526 1.74563674 2.79010511 2.23316094\n",
      " 1.95439379 1.92304363 2.00372351 2.39219719 2.46490105 2.98882823\n",
      " 2.70438833 1.76195562 3.23567864 2.04471993 4.08323596 2.33582529\n",
      " 3.12762247 2.58077777 3.27521778 2.0774659  2.7010842  2.5420969\n",
      " 2.4938058  2.32970619 1.85385428 2.62641308 1.84395743 2.55175826\n",
      " 2.56021183 1.80785487 3.30589768 2.07268526 2.84460894 3.21638149\n",
      " 2.14137652 1.97439294 2.1889983  2.66600479 2.51128761 1.77089431\n",
      " 2.06096454 1.78745286 3.04813636 2.46282778]\n",
      "\n"
     ]
    }
   ],
   "source": [
    "# Create random input data of shape (1000, 10) - 1000 samples with 10 features each\n",
    "np.random.seed(0)\n",
    "input_data = np.random.rand(1000, 10)\n",
    "\n",
    "# Define random weights for 100 nodes in the hidden layer, each connecting to 10 input features\n",
    "np.random.seed(0)\n",
    "weights = np.random.rand(10, 100)  # 10 input features, 100 nodes\n",
    "\n",
    "# Define random biases for each of the 4 nodes\n",
    "np.random.seed(0)\n",
    "biases = np.random.rand(100)\n",
    "\n",
    "# Function to process each sample through the input layer\n",
    "def process_sample(sample, weights, biases):\n",
    "    return np.dot(sample, weights) + biases\n",
    "\n",
    "# Process each sample and print the results\n",
    "for i, sample in enumerate(input_data):\n",
    "    print(f\"This is the input for sample {i + 1}: {sample}\")\n",
    "    output = process_sample(sample, weights, biases)\n",
    "    print(f\"Output from the 4 nodes for this sample: {output}\\n\")\n",
    "    # stop after 5 iterations\n",
    "    if i >= 5:\n",
    "        break"
   ]
  },
  {
   "cell_type": "code",
   "execution_count": 26,
   "id": "64b5bed4-d971-4e13-8911-20885678cb72",
   "metadata": {
    "tags": []
   },
   "outputs": [
    {
     "name": "stdout",
     "output_type": "stream",
     "text": [
      "tf.Tensor(\n",
      "[[3.1458528 3.869176  3.0939436 ... 2.5903811 3.194808  3.3060915]\n",
      " [3.464421  3.627668  2.6270812 ... 2.5669637 2.8645635 2.4095964]\n",
      " [3.459831  3.6407661 3.0366118 ... 2.2162766 3.034803  2.70679  ]\n",
      " ...\n",
      " [3.4097826 3.5450325 2.8534663 ... 2.4602275 2.3702006 2.8370848]\n",
      " [4.2145224 4.584774  3.4791    ... 3.0798218 3.3190851 3.9857569]\n",
      " [2.814345  3.0336947 2.1704092 ... 1.7996008 2.5137367 2.4240122]], shape=(1000, 100), dtype=float32)\n"
     ]
    }
   ],
   "source": [
    "# Perform the previous network with Keras\n",
    "\n",
    "# Define the model\n",
    "model = Sequential()\n",
    "\n",
    "# Declare the input layer\n",
    "model.add(Input(shape = (10, )))    # 10 features\n",
    "\n",
    "# Define the Dense layer\n",
    "model.add(Dense(units=100, activation=\"linear\"))\n",
    "\n",
    "# Set the weights and biases for the model \n",
    "model.set_weights([weights, biases])\n",
    "\n",
    "# Perform the calculation\n",
    "output = model(input_data, training = False)\n",
    "\n",
    "# Print the output\n",
    "print(output)"
   ]
  },
  {
   "cell_type": "code",
   "execution_count": 27,
   "id": "f046fbc8-6a7b-4cac-85aa-de55d7ee0a9a",
   "metadata": {
    "tags": []
   },
   "outputs": [
    {
     "data": {
      "image/png": "[encoded data removed]",
      "text/plain": [
       "<IPython.core.display.Image object>"
      ]
     },
     "execution_count": 27,
     "metadata": {},
     "output_type": "execute_result"
    }
   ],
   "source": [
    "# plot the model\n",
    "utils.plot_model(model,\n",
    "                 show_shapes=True,\n",
    "                 show_layer_names=True)"
   ]
  },
  {
   "cell_type": "code",
   "execution_count": 28,
   "id": "58e1d262-e249-426c-a71e-ba50ddf1455d",
   "metadata": {
    "tags": []
   },
   "outputs": [],
   "source": [
    "# Save the model\n",
    "# model.save(\"my_keras_model.keras\")"
   ]
  },
  {
   "cell_type": "markdown",
   "id": "65564b6a-494f-49b8-821e-9a5f090ca1e0",
   "metadata": {},
   "source": [
    "## Plotting the Model with Netron\n",
    "\n",
    "url = https://github.com/lutzroeder/netron"
   ]
  }
 ],
 "metadata": {
  "kernelspec": {
   "display_name": "TF-GPU:2.16",
   "language": "python",
   "name": "tf-gpu"
  },
  "language_info": {
   "codemirror_mode": {
    "name": "ipython",
    "version": 3
   },
   "file_extension": ".py",
   "mimetype": "text/x-python",
   "name": "python",
   "nbconvert_exporter": "python",
   "pygments_lexer": "ipython3",
   "version": "3.11.10"
  }
 },
 "nbformat": 4,
 "nbformat_minor": 5
}
