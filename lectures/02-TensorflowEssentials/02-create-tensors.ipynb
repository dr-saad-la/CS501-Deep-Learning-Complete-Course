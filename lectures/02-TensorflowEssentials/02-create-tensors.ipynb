{
 "cells": [
  {
   "cell_type": "code",
   "execution_count": null,
   "id": "08a11677-50b9-4e0b-8a95-2b2fd0014aea",
   "metadata": {},
   "outputs": [],
   "source": [
    "# =======================================================================\n",
    "# Course: Deep Learning Complete Course (CS-501)\n",
    "# Author: Dr. Saad Laouadi\n",
    "# Lesson: Introduction to TensorFlow\n",
    "#\n",
    "# Description: This program provides a beginner-friendly introduction to\n",
    "#              TensorFlow, a powerful library for numerical computation and\n",
    "#              machine learning. It covers the basics of importing TensorFlow,\n",
    "#              checking for GPU availability, and creating simple TensorFlow\n",
    "#              constants and operations.\n",
    "#\n",
    "# ======================================================================="
   ]
  },
  {
   "cell_type": "code",
   "execution_count": 1,
   "id": "9d0da288-3ce5-4958-94d9-4ea2f6e033cf",
   "metadata": {},
   "outputs": [
    {
     "name": "stdout",
     "output_type": "stream",
     "text": [
      "TensorFlow Version: 2.16.2\n",
      "\n",
      "========================================================================\n",
      "Author: Dr. Saad Laouadi\n",
      "\n",
      "Last updated: 2025-01-02\n",
      "\n",
      "Compiler    : Clang 14.0.6 \n",
      "OS          : Darwin\n",
      "Release     : 24.1.0\n",
      "Machine     : arm64\n",
      "Processor   : arm\n",
      "CPU cores   : 16\n",
      "Architecture: 64bit\n",
      "\n",
      "========================================================================\n",
      "Imported Packages and Their Versions:\n",
      "========================================================================\n",
      "tensorflow: 2.16.2\n",
      "\n",
      "========================================================================\n"
     ]
    }
   ],
   "source": [
    "# ==================================================== #\n",
    "#        Load Required Libraries\n",
    "# ==================================================== #\n",
    "\n",
    "import os\n",
    "\n",
    "# Disable Metal API Validation\n",
    "os.environ[\"METAL_DEVICE_WRAPPER_TYPE\"] = \"0\"  \n",
    "\n",
    "# Importing TensorFlow\n",
    "# --------------------\n",
    "# TensorFlow is a popular open-source framework for building and training\n",
    "# machine learning models. First, let's import TensorFlow and check its version.\n",
    "import tensorflow as tf\n",
    "\n",
    "# 1. Checking TensorFlow Version\n",
    "# ------------------------------\n",
    "print(\"TensorFlow Version:\", tf.__version__)  \n",
    "print()\n",
    "\n",
    "\n",
    "print(\"=\"*72)\n",
    "\n",
    "%reload_ext watermark\n",
    "%watermark -a \"Dr. Saad Laouadi\" -u -d -m\n",
    "\n",
    "print(\"=\"*72)\n",
    "print(\"Imported Packages and Their Versions:\")\n",
    "print(\"=\"*72)\n",
    "\n",
    "%watermark -iv\n",
    "print(\"=\"*72)"
   ]
  },
  {
   "cell_type": "code",
   "execution_count": 2,
   "id": "bed90def-b85a-4a68-8679-d6143fd6a6f1",
   "metadata": {},
   "outputs": [
    {
     "name": "stdout",
     "output_type": "stream",
     "text": [
      "Is GPU Available: True\n",
      "\n"
     ]
    }
   ],
   "source": [
    "# 2. Checking for GPU Availability\n",
    "# --------------------------------\n",
    "# To harness the power of your GPU for faster computations, you can check\n",
    "# if TensorFlow can access your GPU.\n",
    "gpu_available = len(tf.config.list_physical_devices('GPU')) > 0\n",
    "print(\"Is GPU Available:\", gpu_available)                 # Output: True if GPU is available, otherwise False\n",
    "\n",
    "print() "
   ]
  },
  {
   "cell_type": "code",
   "execution_count": 5,
   "id": "d0133678-88bd-444e-bf2e-8bd35f621dfc",
   "metadata": {},
   "outputs": [
    {
     "name": "stdout",
     "output_type": "stream",
     "text": [
      "Constant A: 5\n",
      "Constant B: 10\n",
      "\n",
      "The Type is: <class 'tensorflow.python.framework.ops.EagerTensor'>\n",
      "The type is: <class 'tensorflow.python.framework.ops.EagerTensor'>\n"
     ]
    }
   ],
   "source": [
    "# 3. Creating TensorFlow Constants\n",
    "# --------------------------------\n",
    "# TensorFlow allows you to create constants, which are immutable tensors.\n",
    "const_a = tf.constant(5)\n",
    "const_b = tf.constant(10)\n",
    "\n",
    "print(\"Constant A:\", const_a.numpy())         \n",
    "print(\"Constant B:\", const_b.numpy())         \n",
    "\n",
    "print() \n",
    "\n",
    "# Check the type\n",
    "print(f\"{'The Type is:':<10} {type(const_a)}\")\n",
    "print(f\"{'The type is:':<10} {type(const_b)}\")"
   ]
  },
  {
   "cell_type": "code",
   "execution_count": null,
   "id": "c643fd67-3570-438d-b9a9-44f961e5c7f4",
   "metadata": {},
   "outputs": [],
   "source": [
    "# 4. Performing Basic Operations\n",
    "# ------------------------------\n",
    "# You can perform arithmetic operations on tensors using TensorFlow.\n",
    "sum_result = tf.add(const_a, const_b)         # Addition\n",
    "diff_result = tf.subtract(const_a, const_b)   # Subtraction\n",
    "prod_result = tf.multiply(const_a, const_b)   # Multiplication\n",
    "\n",
    "print(\"Sum (A + B):\", sum_result.numpy())     # Output: Sum (A + B): 15\n",
    "print(\"Difference (A - B):\", diff_result.numpy())  # Output: Difference (A - B): -5\n",
    "print(\"Product (A * B):\", prod_result.numpy())     # Output: Product (A * B): 50\n",
    "\n",
    "print() "
   ]
  },
  {
   "cell_type": "code",
   "execution_count": 6,
   "id": "fe2ace8a-d8e6-45f7-901e-3529a1005e21",
   "metadata": {},
   "outputs": [
    {
     "name": "stdout",
     "output_type": "stream",
     "text": [
      "Initial Value of Variable X: 3.0\n",
      "Initial Value of Variable Y: 4.0\n",
      "Updated Value of Variable X: 5.0\n",
      "\n"
     ]
    }
   ],
   "source": [
    "# 5. Using TensorFlow Variables\n",
    "# -----------------------------\n",
    "# Variables are used to hold and update mutable tensors.\n",
    "var_x = tf.Variable(3.0)\n",
    "var_y = tf.Variable(4.0)\n",
    "\n",
    "print(\"Initial Value of Variable X:\", var_x.numpy())  # Output: Initial Value of Variable X: 3.0\n",
    "print(\"Initial Value of Variable Y:\", var_y.numpy())  # Output: Initial Value of Variable Y: 4.0\n",
    "\n",
    "# Updating Variables\n",
    "var_x.assign(5.0)  # Change the value of var_x to 5.0\n",
    "print(\"Updated Value of Variable X:\", var_x.numpy())  # Output: Updated Value of Variable X: 5.0\n",
    "\n",
    "print()"
   ]
  },
  {
   "cell_type": "code",
   "execution_count": 7,
   "id": "32c2fe49-45a7-47df-8d4f-d1f6f2afc90b",
   "metadata": {},
   "outputs": [],
   "source": [
    "# Summary:\n",
    "# --------\n",
    "# - TensorFlow is a powerful library for numerical computation and machine learning.\n",
    "# - You can check the TensorFlow version and GPU availability for performance optimization.\n",
    "# - Use TensorFlow constants for immutable values and variables for mutable tensors.\n",
    "# - Basic arithmetic operations are easily performed using TensorFlow functions.\n",
    "\n",
    "# Practice:\n",
    "# ---------\n",
    "# - Experiment with creating different tensors and performing operations.\n",
    "# - Check if TensorFlow can utilize your GPU for faster computations.\n",
    "# - Explore more TensorFlow features in upcoming lessons!"
   ]
  },
  {
   "cell_type": "code",
   "execution_count": null,
   "id": "51da3b9e-f8ac-4887-923f-bc38639241b9",
   "metadata": {},
   "outputs": [],
   "source": []
  }
 ],
 "metadata": {
  "kernelspec": {
   "display_name": "TF-GPU:2.16",
   "language": "python",
   "name": "tf-gpu"
  },
  "language_info": {
   "codemirror_mode": {
    "name": "ipython",
    "version": 3
   },
   "file_extension": ".py",
   "mimetype": "text/x-python",
   "name": "python",
   "nbconvert_exporter": "python",
   "pygments_lexer": "ipython3",
   "version": "3.11.10"
  }
 },
 "nbformat": 4,
 "nbformat_minor": 5
}
