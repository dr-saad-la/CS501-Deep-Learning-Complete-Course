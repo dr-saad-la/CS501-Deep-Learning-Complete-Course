{
 "cells": [
  {
   "cell_type": "code",
   "execution_count": null,
   "id": "113dc5b4-8b51-4594-bfc1-72a8f1e7de3a",
   "metadata": {},
   "outputs": [],
   "source": [
    "# ======================================================================= #\n",
    "# Course: Deep Learning Complete Course (CS-501)\n",
    "# Author: Dr. Saad Laouadi\n",
    "# Lesson: Feed Forward Propagation: Numerical Example\n",
    "#\n",
    "# Description: This program provides an overview of dictionary comprehensions\n",
    "#              and demonstrates multiple use cases, including transforming\n",
    "#              data, filtering keys and values, and creating dictionaries\n",
    "#              from lists.\n",
    "#\n",
    "# =======================================================================\n",
    "#.          Copyright © Dr. Saad Laouadi\n",
    "# ======================================================================="
   ]
  },
  {
   "cell_type": "code",
   "execution_count": 2,
   "id": "fb13308a-b25e-422f-ae1a-23253409da26",
   "metadata": {
    "tags": []
   },
   "outputs": [],
   "source": [
    "# Impport necessary modules\n",
    "import numpy as np"
   ]
  },
  {
   "cell_type": "code",
   "execution_count": 3,
   "id": "014f6bf2-173f-4862-ba60-73ff7c1ad67a",
   "metadata": {
    "tags": []
   },
   "outputs": [],
   "source": [
    "def sigmoid(x):\n",
    "    \"\"\"\n",
    "    The sigmoid function. # docstring\n",
    "    \"\"\"\n",
    "    return 1 / (1 + np.exp(-x))"
   ]
  },
  {
   "cell_type": "code",
   "execution_count": 4,
   "id": "554b2fac-d11b-48cd-b2c9-a7b89c10c339",
   "metadata": {
    "tags": []
   },
   "outputs": [
    {
     "name": "stdout",
     "output_type": "stream",
     "text": [
      "[0.3 0.5 0.2]\n",
      "(3,)\n"
     ]
    }
   ],
   "source": [
    "# Input\n",
    "x = np.array([0.3, 0.5, 0.2])\n",
    "print(x)\n",
    "print(x.shape)"
   ]
  },
  {
   "cell_type": "code",
   "execution_count": 5,
   "id": "14ea36df-c268-4831-ac29-e895a0dc3823",
   "metadata": {
    "tags": []
   },
   "outputs": [
    {
     "name": "stdout",
     "output_type": "stream",
     "text": [
      "[[0.5 0.4 0.3]\n",
      " [0.4 0.3 0.2]]\n",
      "[[0.6 0.7]]\n"
     ]
    }
   ],
   "source": [
    "# Weights and biases\n",
    "W1 = np.array([[0.5, 0.4, 0.3],\n",
    "               [0.4, 0.3, 0.2]])\n",
    "\n",
    "b1 = np.array([0.4, 0.4])\n",
    "\n",
    "W2 = np.array([[0.6, 0.7]])\n",
    "b2 = np.array([0.3])\n",
    "\n",
    "print(W1)\n",
    "print(W2)"
   ]
  },
  {
   "cell_type": "code",
   "execution_count": 6,
   "id": "b9ec8b76-81c5-4616-8250-1eebe4256701",
   "metadata": {
    "tags": []
   },
   "outputs": [
    {
     "name": "stdout",
     "output_type": "stream",
     "text": [
      "Forward Propagation:\n",
      "--------------------------------------------------\n",
      "Hidden Layer Computation:\n",
      "z1 = np.dot(W1, x) + b1 =\n",
      "[0.81 0.71]\n"
     ]
    }
   ],
   "source": [
    "# Forward propagation\n",
    "print(\"Forward Propagation:\")\n",
    "print(\"-\" * 50)\n",
    "\n",
    "# Hidden layer\n",
    "print(\"Hidden Layer Computation:\")\n",
    "z1 = np.dot(W1, x) + b1\n",
    "print(f\"z1 = np.dot(W1, x) + b1 =\\n{z1}\")"
   ]
  },
  {
   "cell_type": "code",
   "execution_count": 7,
   "id": "519d74f5-27b1-4602-813b-9ab497115006",
   "metadata": {
    "tags": []
   },
   "outputs": [
    {
     "name": "stdout",
     "output_type": "stream",
     "text": [
      "\n",
      "a1 = sigmoid(z1) =\n",
      "[0.6921095  0.67040116]\n"
     ]
    }
   ],
   "source": [
    "a1 = sigmoid(z1)\n",
    "print(f\"\\na1 = sigmoid(z1) =\\n{a1}\")"
   ]
  },
  {
   "cell_type": "code",
   "execution_count": 8,
   "id": "25033514-01dd-47e7-8882-47b1b322fe84",
   "metadata": {
    "tags": []
   },
   "outputs": [
    {
     "name": "stdout",
     "output_type": "stream",
     "text": [
      "\n",
      "--------------------------------------------------\n",
      "Output Layer Computation:\n",
      "z2 = np.dot(W2, a1) + b2 =\n",
      "[1.18454651]\n"
     ]
    }
   ],
   "source": [
    "print(\"\\n\" + \"-\" * 50)\n",
    "\n",
    "# Output layer\n",
    "print(\"Output Layer Computation:\")\n",
    "z2 = np.dot(W2, a1) + b2\n",
    "print(f\"z2 = np.dot(W2, a1) + b2 =\\n{z2}\")"
   ]
  },
  {
   "cell_type": "code",
   "execution_count": 9,
   "id": "6d159cc5-96cf-46e4-b92d-7375538434fa",
   "metadata": {
    "tags": []
   },
   "outputs": [
    {
     "name": "stdout",
     "output_type": "stream",
     "text": [
      "\n",
      "y = sigmoid(z2) =\n",
      "0.7657642942190436\n"
     ]
    }
   ],
   "source": [
    "y = sigmoid(z2)\n",
    "print(f\"\\ny = sigmoid(z2) =\\n{y[0]}\")"
   ]
  },
  {
   "cell_type": "code",
   "execution_count": 10,
   "id": "c4554992-0b8c-4449-ba61-8347f405a456",
   "metadata": {
    "tags": []
   },
   "outputs": [
    {
     "name": "stdout",
     "output_type": "stream",
     "text": [
      "\n",
      "==================================================\n",
      "Final Output: 0.765764\n",
      "==================================================\n",
      "\n",
      "Detailed Calculations:\n",
      "--------------------------------------------------\n",
      "First Hidden Neuron:\n",
      "z1_1 = 0.5*0.3 + 0.4*0.5 + 0.3*0.2 + 0.4 = 0.810000\n",
      "a1_1 = sigmoid(0.810000) = 0.692110\n",
      "\n",
      "Second Hidden Neuron:\n",
      "z1_2 = 0.4*0.3 + 0.3*0.5 + 0.2*0.2 + 0.4 = 0.710000\n",
      "a1_2 = sigmoid(0.710000) = 0.670401\n",
      "\n",
      "Output Neuron:\n",
      "z2_1 = 0.6*0.692110 + 0.7*0.670401 + 0.3 = 1.184547\n",
      "y = sigmoid(1.184547) = 0.765764\n"
     ]
    }
   ],
   "source": [
    "print(\"\\n\" + \"=\" * 50)\n",
    "print(f\"Final Output: {y[0]:.6f}\")\n",
    "print(\"=\" * 50)\n",
    "\n",
    "# Detailed calculations\n",
    "print(\"\\nDetailed Calculations:\")\n",
    "print(\"-\" * 50)\n",
    "\n",
    "print(\"First Hidden Neuron:\")\n",
    "z1_1 = W1[0,0]*x[0] + W1[0,1]*x[1] + W1[0,2]*x[2] + b1[0]\n",
    "print(f\"z1_1 = {W1[0,0]}*{x[0]} + {W1[0,1]}*{x[1]} + {W1[0,2]}*{x[2]} + {b1[0]} = {z1_1:.6f}\")\n",
    "a1_1 = sigmoid(z1_1)\n",
    "print(f\"a1_1 = sigmoid({z1_1:.6f}) = {a1_1:.6f}\")\n",
    "\n",
    "print(\"\\nSecond Hidden Neuron:\")\n",
    "z1_2 = W1[1,0]*x[0] + W1[1,1]*x[1] + W1[1,2]*x[2] + b1[1]\n",
    "print(f\"z1_2 = {W1[1,0]}*{x[0]} + {W1[1,1]}*{x[1]} + {W1[1,2]}*{x[2]} + {b1[1]} = {z1_2:.6f}\")\n",
    "a1_2 = sigmoid(z1_2)\n",
    "print(f\"a1_2 = sigmoid({z1_2:.6f}) = {a1_2:.6f}\")\n",
    "\n",
    "print(\"\\nOutput Neuron:\")\n",
    "z2_1 = W2[0,0]*a1_1 + W2[0,1]*a1_2 + b2[0]\n",
    "print(f\"z2_1 = {W2[0,0]}*{a1_1:.6f} + {W2[0,1]}*{a1_2:.6f} + {b2[0]} = {z2_1:.6f}\")\n",
    "y = sigmoid(z2_1)\n",
    "print(f\"y = sigmoid({z2_1:.6f}) = {y:.6f}\")"
   ]
  },
  {
   "cell_type": "code",
   "execution_count": null,
   "id": "3da6a30d-8b44-49fc-92b4-e5f6287923e4",
   "metadata": {
    "tags": []
   },
   "outputs": [],
   "source": [
    "import numpy as np\n",
    "\n",
    "def sigmoid(x):\n",
    "    \"\"\"Sigmoid activation function\"\"\"\n",
    "    return 1 / (1 + np.exp(-x))\n",
    "\n",
    "def relu(x):\n",
    "    \"\"\"ReLU activation function\"\"\"\n",
    "    return np.maximum(0, x)\n",
    "\n",
    "# Network architecture\n",
    "input_size = 3\n",
    "hidden_size = 3\n",
    "output_size = 1\n",
    "\n",
    "# Input\n",
    "x = np.array([0.1, 0.2, 0.3])\n",
    "\n",
    "# Weights and biases\n",
    "np.random.seed(42)  # For reproducibility\n",
    "W1 = np.random.randn(hidden_size, input_size)\n",
    "b1 = np.random.randn(hidden_size)\n",
    "W2 = np.random.randn(output_size, hidden_size)\n",
    "b2 = np.random.randn(output_size)\n",
    "\n",
    "def forward_propagation(x, W1, b1, W2, b2):\n",
    "    \"\"\"Perform forward propagation\"\"\"\n",
    "    # Hidden layer\n",
    "    z1 = np.dot(W1, x) + b1\n",
    "    a1 = relu(z1)\n",
    "    \n",
    "    # Output layer\n",
    "    z2 = np.dot(W2, a1) + b2\n",
    "    y = sigmoid(z2)\n",
    "    \n",
    "    return z1, a1, z2, y\n",
    "\n",
    "def print_layer_info(name, W, b, z, a, activation_name):\n",
    "    \"\"\"Print detailed information for a layer\"\"\"\n",
    "    print(f\"\\n{name} Layer:\")\n",
    "    print(\"-\" * 50)\n",
    "    print(f\"Weights:\\n{W}\")\n",
    "    print(f\"\\nBiases:\\n{b}\")\n",
    "    print(f\"\\nWeighted sum (z):\\n{z}\")\n",
    "    print(f\"\\n{activation_name} activation (a):\\n{a}\")\n",
    "\n",
    "def print_detailed_calculations(x, W1, b1, W2, b2, z1, a1, z2, y):\n",
    "    \"\"\"Print detailed calculations for each neuron\"\"\"\n",
    "    print(\"\\nDetailed Calculations:\")\n",
    "    print(\"=\" * 50)\n",
    "    \n",
    "    print(\"Hidden Layer Neurons:\")\n",
    "    for i in range(hidden_size):\n",
    "        z = np.dot(W1[i], x) + b1[i]\n",
    "        a = relu(z)\n",
    "        print(f\"Neuron {i+1}:\")\n",
    "        print(f\"  z = {W1[i,0]:.4f}*{x[0]:.4f} + {W1[i,1]:.4f}*{x[1]:.4f} + {W1[i,2]:.4f}*{x[2]:.4f} + {b1[i]:.4f} = {z:.4f}\")\n",
    "        print(f\"  a = ReLU({z:.4f}) = {a:.4f}\\n\")\n",
    "    \n",
    "    print(\"Output Neuron:\")\n",
    "    z = np.dot(W2[0], a1) + b2[0]\n",
    "    print(f\"  z = {W2[0,0]:.4f}*{a1[0]:.4f} + {W2[0,1]:.4f}*{a1[1]:.4f} + {W2[0,2]:.4f}*{a1[2]:.4f} + {b2[0]:.4f} = {z:.4f}\")\n",
    "    print(f\"  y = sigmoid({z:.4f}) = {y[0]:.4f}\")\n",
    "\n",
    "# Perform forward propagation\n",
    "z1, a1, z2, y = forward_propagation(x, W1, b1, W2, b2)\n",
    "\n",
    "# Print network architecture\n",
    "print(\"Neural Network Architecture: 3-3-1\")\n",
    "print(\"=\" * 50)\n",
    "print(f\"Input: {x}\")\n",
    "\n",
    "# Print layer information\n",
    "print_layer_info(\"Hidden\", W1, b1, z1, a1, \"ReLU\")\n",
    "print_layer_info(\"Output\", W2, b2, z2, y, \"Sigmoid\")\n",
    "\n",
    "# Print final output\n",
    "print(\"\\nFinal Output:\")\n",
    "print(\"-\" * 50)\n",
    "print(f\"y = {y[0]:.6f}\")\n",
    "\n",
    "# Print detailed calculations\n",
    "print_detailed_calculations(x, W1, b1, W2, b2, z1, a1, z2, y)"
   ]
  },
  {
   "cell_type": "code",
   "execution_count": null,
   "id": "679327d3-513b-4aaf-a8e1-0bd8880ccc15",
   "metadata": {},
   "outputs": [],
   "source": []
  }
 ],
 "metadata": {
  "kernelspec": {
   "display_name": "TF-GPU:2.16",
   "language": "python",
   "name": "tf-gpu"
  },
  "language_info": {
   "codemirror_mode": {
    "name": "ipython",
    "version": 3
   },
   "file_extension": ".py",
   "mimetype": "text/x-python",
   "name": "python",
   "nbconvert_exporter": "python",
   "pygments_lexer": "ipython3",
   "version": "3.11.10"
  }
 },
 "nbformat": 4,
 "nbformat_minor": 5
}
