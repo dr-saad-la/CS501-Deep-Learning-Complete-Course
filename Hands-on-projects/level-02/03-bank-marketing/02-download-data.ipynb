{
 "cells": [
  {
   "cell_type": "markdown",
   "id": "297156c1-7deb-4c1d-b601-7a156476a408",
   "metadata": {},
   "source": [
    "<div style=\"text-align:center;font-size:22pt; font-weight:bold;color:white;border:solid black 1.5pt;background-color:#1e7263;\">\n",
    "     Binary Classification Practical Project: Bank Marketing Prediction\n",
    "</div>"
   ]
  },
  {
   "cell_type": "code",
   "execution_count": 1,
   "id": "131fa24a-96cf-4cc5-a2a7-945b355942c7",
   "metadata": {},
   "outputs": [],
   "source": [
    "# ======================================================================= #\n",
    "# Course: Deep Learning Complete Course (CS-501)\n",
    "# Author: Dr. Saad Laouadi\n",
    "# Institution: Quant Coding Versity Academy\n",
    "#\n",
    "# ==========================================================\n",
    "# Project:            Bank Marketing Project\n",
    "# Type:               Binary Classification\n",
    "# Algorithm Used:     Feed Forword Neural Network\n",
    "# \n",
    "# NotebookObjective: Download Data\n",
    "# ==========================================================\n",
    "\n",
    "# =======================================================================\n",
    "#          Copyright © Dr. Saad Laouadi 2025\n",
    "# ======================================================================="
   ]
  },
  {
   "cell_type": "code",
   "execution_count": 2,
   "id": "5db04498-44c4-434f-8e8b-cec78e0419b0",
   "metadata": {},
   "outputs": [],
   "source": [
    "# ============================================================================ #\n",
    "#                         Environment Path Configuration                       #\n",
    "# ============================================================================ #\n",
    "\n",
    "import os\n",
    "import sys\n",
    "\n",
    "env_path = os.path.dirname(sys.executable)\n",
    "os.environ['PATH'] = f\"{env_path}:{os.environ['PATH']}\""
   ]
  },
  {
   "cell_type": "code",
   "execution_count": 3,
   "id": "c26ca844-8301-46b7-89da-e2dca2248ec4",
   "metadata": {
    "tags": []
   },
   "outputs": [
    {
     "name": "stdout",
     "output_type": "stream",
     "text": [
      "Author: Dr. Saad Laouadi\n",
      "\n",
      "Last updated: 2025-01-21\n",
      "\n",
      "Compiler    : Clang 14.0.6 \n",
      "OS          : Darwin\n",
      "Release     : 24.1.0\n",
      "Machine     : arm64\n",
      "Processor   : arm\n",
      "CPU cores   : 16\n",
      "Architecture: 64bit\n",
      "\n",
      "========================================================================\n",
      "Imported Packages and Their Versions:\n",
      "========================================================================\n",
      "sys: 3.11.10 (main, Oct  3 2024, 02:26:51) [Clang 14.0.6 ]\n",
      "\n",
      "========================================================================\n"
     ]
    }
   ],
   "source": [
    "# ==================================================== #\n",
    "#        Load Required Libraries\n",
    "# ==================================================== #\n",
    "\n",
    "%load_ext autoreload\n",
    "%autoreload 2\n",
    "\n",
    "%reload_ext watermark\n",
    "%watermark -a \"Dr. Saad Laouadi\" -u -d -m\n",
    "\n",
    "print(\"=\"*72)\n",
    "print(\"Imported Packages and Their Versions:\")\n",
    "print(\"=\"*72)\n",
    "\n",
    "%watermark -iv\n",
    "print(\"=\"*72)"
   ]
  },
  {
   "cell_type": "code",
   "execution_count": 4,
   "id": "79ac5786-30a5-440f-9f09-f523e6521fa7",
   "metadata": {
    "tags": []
   },
   "outputs": [],
   "source": [
    "# ========================================================================= #\n",
    "#       Bank Marketing Project\n",
    "#.      Download the dataset\n",
    "# ========================================================================= #\n",
    "from data_downloader import *"
   ]
  },
  {
   "cell_type": "code",
   "execution_count": 5,
   "id": "31b9afde-4488-4cc6-a964-9bfb43259f22",
   "metadata": {
    "tags": []
   },
   "outputs": [
    {
     "name": "stdout",
     "output_type": "stream",
     "text": [
      "Downloading from https://archive.ics.uci.edu/static/public/222/bank+marketing.zip...\n"
     ]
    },
    {
     "name": "stderr",
     "output_type": "stream",
     "text": [
      "Downloading: 1.02MiB [00:04, 219kiB/s] \n"
     ]
    },
    {
     "name": "stdout",
     "output_type": "stream",
     "text": [
      "\n",
      "Extracting files...\n"
     ]
    },
    {
     "name": "stderr",
     "output_type": "stream",
     "text": [
      "Extracting:   0%|          | 0/2 [00:00<?, ?it/s]\n",
      "Extracting: 100%|██████████| 3/3 [00:00<00:00, 395.51it/s]\n",
      "\n",
      "Extracting: 100%|██████████| 10/10 [00:00<00:00, 1299.39it/s]\n",
      "Extracting: 100%|██████████| 2/2 [00:00<00:00, 104.62it/s]"
     ]
    },
    {
     "name": "stdout",
     "output_type": "stream",
     "text": [
      "\n",
      "Extracted contents:\n",
      "bank/bank-names.txt (3.8KB)\n",
      "bank/bank.csv (450.7KB)\n",
      "bank/bank-full.csv (4.4MB)\n",
      "bank-additional/bank-additional/.Rhistory (3.9KB)\n",
      "bank-additional/bank-additional/.DS_Store (6.0KB)\n",
      "bank-additional/bank-additional/bank-additional-names.txt (5.3KB)\n",
      "bank-additional/bank-additional/bank-additional.csv (570.2KB)\n",
      "bank-additional/bank-additional/bank-additional-full.csv (5.6MB)\n",
      "bank-additional/__MACOSX/._bank-additional (205.0B)\n",
      "bank-additional/__MACOSX/bank-additional/._.DS_Store (82.0B)\n",
      "\n",
      "Files extracted successfully to data\n",
      "\u001b[1;36mdata\u001b[0m\n",
      "├── \u001b[1;36mbank\u001b[0m\n",
      "│   ├── bank-full.csv\n",
      "│   ├── bank-names.txt\n",
      "│   └── bank.csv\n",
      "└── \u001b[1;36mbank-additional\u001b[0m\n",
      "    ├── \u001b[1;36m__MACOSX\u001b[0m\n",
      "    │   ├── ._bank-additional\n",
      "    │   └── \u001b[1;36mbank-additional\u001b[0m\n",
      "    │       └── ._.DS_Store\n",
      "    └── \u001b[1;36mbank-additional\u001b[0m\n",
      "        ├── .DS_Store\n",
      "        ├── .Rhistory\n",
      "        ├── bank-additional-full.csv\n",
      "        ├── bank-additional-names.txt\n",
      "        └── bank-additional.csv\n",
      "\n",
      "6 directories, 10 files\n",
      "\n",
      "Successfully removed macOS artifact directory: data/bank-additional/__MACOSX\n",
      "Removed hidden file: data/bank-additional/bank-additional/.Rhistory\n",
      "Removed hidden file: data/bank-additional/bank-additional/.DS_Store\n",
      "\u001b[1;36mdata\u001b[0m\n",
      "├── \u001b[1;36mbank\u001b[0m\n",
      "│   ├── bank-full.csv\n",
      "│   ├── bank-names.txt\n",
      "│   └── bank.csv\n",
      "└── \u001b[1;36mbank-additional\u001b[0m\n",
      "    └── \u001b[1;36mbank-additional\u001b[0m\n",
      "        ├── bank-additional-full.csv\n",
      "        ├── bank-additional-names.txt\n",
      "        └── bank-additional.csv\n",
      "\n",
      "4 directories, 6 files\n",
      "\n",
      "Downloading has been successful\n"
     ]
    },
    {
     "name": "stderr",
     "output_type": "stream",
     "text": [
      "\n"
     ]
    }
   ],
   "source": [
    "if __name__ == \"__main__\":\n",
    "    \n",
    "    # The dataset URL\n",
    "    bank_dataset_url = \"https://archive.ics.uci.edu/static/public/222/bank+marketing.zip\"\n",
    "\n",
    "    # Download the data\n",
    "    success, extract_path = download_zip_data(bank_dataset_url, save_path=\"data\")\n",
    "    if success:\n",
    "        print(f\"\\nFiles extracted successfully to {extract_path}\")\n",
    "    else:\n",
    "        print(\"\\nDownload or extraction failed\")\n",
    "        \n",
    "    # Check the downloaded directory content\n",
    "    run_tree_command(extract_path)\n",
    "    \n",
    "    # Remove MACOS Artifacts\n",
    "    data_path = extract_path\n",
    "    remove_macosx_artifacts(str(data_path))\n",
    "    \n",
    "    # Remove the hidden files\n",
    "    try:\n",
    "        remove_hidden_files(data_path)\n",
    "    except (OSError, ValueError) as e:\n",
    "        print(f\"Error: {e}\")\n",
    "        \n",
    "    # Check the directory content again\n",
    "    run_tree_command(extract_path)\n",
    "    \n",
    "    print(\"Downloading has been successful\")"
   ]
  },
  {
   "cell_type": "code",
   "execution_count": null,
   "id": "0adcdf5f-4c79-44b3-af2e-a7323c5ef629",
   "metadata": {},
   "outputs": [],
   "source": []
  }
 ],
 "metadata": {
  "kernelspec": {
   "display_name": "TF-GPU:2.16",
   "language": "python",
   "name": "tf-gpu"
  },
  "language_info": {
   "codemirror_mode": {
    "name": "ipython",
    "version": 3
   },
   "file_extension": ".py",
   "mimetype": "text/x-python",
   "name": "python",
   "nbconvert_exporter": "python",
   "pygments_lexer": "ipython3",
   "version": "3.11.10"
  }
 },
 "nbformat": 4,
 "nbformat_minor": 5
}
